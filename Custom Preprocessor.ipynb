{
  "cells": [
    {
      "attachments": {},
      "cell_type": "markdown",
      "metadata": {
        "id": "Yjgn2ntxoOVk"
      },
      "source": [
        "# <font color = 'pickle'> **Customized Pre-processor** </font>\n",
        "- In this notebook, we will use a custom pre-processor. \n",
        "- We have used spacy and created a class which we can use in this and future notebooks. The pre-processor is compatible with sklearn and can be used in sklearn pipelines. \n",
        "- We wil also learn how to import functions/classes from .py files."
      ]
    },
    {
      "cell_type": "code",
      "execution_count": 1,
      "metadata": {
        "id": "Ve7OCXwHm0Tu"
      },
      "outputs": [],
      "source": [
        "%load_ext autoreload\n",
        "%autoreload 2"
      ]
    },
    {
      "cell_type": "markdown",
      "metadata": {
        "id": "MXvWfOFhyOE7"
      },
      "source": [
        "Code explanation:\n",
        "- The code is using the Jupyter magic commands to set up the environment for the execution of the code.\n",
        "\n",
        "- The `%load_ext` autoreload line is loading the autoreload extension, which reloads modules automatically before executing the code in a Jupyter Notebook.\n",
        "\n",
        "- The`%autoreload 2` line sets the autoreload option to 2, which means that all modules imported into the environment are reloaded before execution. \n",
        "\n",
        "<font color = 'indianred'> **This is useful when working with modules that change frequently during development, as it ensures that the latest version of the module is always used.**"
      ]
    },
    {
      "cell_type": "code",
      "execution_count": 2,
      "metadata": {
        "collapsed": true,
        "id": "h1_ysi7k9q2Y",
        "jupyter": {
          "outputs_hidden": true
        },
        "tags": []
      },
      "outputs": [],
      "source": [
        "import sys"
      ]
    },
    {
      "attachments": {},
      "cell_type": "markdown",
      "metadata": {
        "id": "8LHeOOQO9WD5"
      },
      "source": [
        "- The `\"sys.path\"` list is a list of directories that the Python interpreter searches for modules to import. "
      ]
    },
    {
      "cell_type": "code",
      "execution_count": 3,
      "metadata": {
        "colab": {
          "base_uri": "https://localhost:8080/"
        },
        "id": "xJBvI4cL9M9-",
        "outputId": "129d9761-6863-401d-de0c-b431189bccf2"
      },
      "outputs": [
        {
          "name": "stdout",
          "output_type": "stream",
          "text": [
            "Not Running on Colab\n",
            "Base Folder is C:\\Users\\abdul\\OneDrive\\Documents\\MSBA\n",
            "Data Folder is C:\\Users\\abdul\\OneDrive\\Documents\\MSBA\\data_sets\n",
            "Archive Folder is C:\\Users\\abdul\\OneDrive\\Documents\\MSBA\\archive\n",
            "Output Folder is C:\\Users\\abdul\\OneDrive\\Documents\\MSBA\\output\n",
            "The path to the custom functions is C:/Users/abdul/OneDrive/Documents/MSBA/custom_functions\n",
            "The working directory is c:\\Users\\abdul\\OneDrive\\Documents\\MSBA\\notebooks\\NLP\n"
          ]
        }
      ],
      "source": [
        "from basic import basic_functions as bf\n",
        "base_folder,data,archive,output = bf.set_folders()"
      ]
    },
    {
      "cell_type": "code",
      "execution_count": null,
      "metadata": {
        "colab": {
          "base_uri": "https://localhost:8080/"
        },
        "id": "tFXH0_MG9hmc",
        "outputId": "06fbb8de-d3bb-4071-df48-7d501e12ac05"
      },
      "outputs": [
        {
          "data": {
            "text/plain": [
              "['c:\\\\Users\\\\abdul\\\\OneDrive\\\\Documents\\\\MSBA\\\\notebooks\\\\NLP',\n",
              " 'c:\\\\Users\\\\abdul\\\\anaconda3\\\\python310.zip',\n",
              " 'c:\\\\Users\\\\abdul\\\\anaconda3\\\\DLLs',\n",
              " 'c:\\\\Users\\\\abdul\\\\anaconda3\\\\lib',\n",
              " 'c:\\\\Users\\\\abdul\\\\anaconda3',\n",
              " '',\n",
              " 'c:\\\\Users\\\\abdul\\\\anaconda3\\\\lib\\\\site-packages',\n",
              " 'c:\\\\users\\\\abdul\\\\onedrive\\\\documents\\\\msba\\\\custom_functions',\n",
              " 'c:\\\\users\\\\abdul\\\\onedrive\\\\documents\\\\msba\\\\custom_functions\\\\basic',\n",
              " 'c:\\\\Users\\\\abdul\\\\anaconda3\\\\lib\\\\site-packages\\\\win32',\n",
              " 'c:\\\\Users\\\\abdul\\\\anaconda3\\\\lib\\\\site-packages\\\\win32\\\\lib',\n",
              " 'c:\\\\Users\\\\abdul\\\\anaconda3\\\\lib\\\\site-packages\\\\Pythonwin',\n",
              " 'C:/Users/abdul/OneDrive/Documents/MSBA/custom_functions']"
            ]
          },
          "execution_count": 5,
          "metadata": {},
          "output_type": "execute_result"
        }
      ],
      "source": [
        "sys.path"
      ]
    },
    {
      "attachments": {},
      "cell_type": "markdown",
      "metadata": {
        "id": "NMmb-7tw9nPX"
      },
      "source": [
        "- As you can see above, we have added `'C:/Users/abdul/OneDrive/Documents/MSBA/custom_functions'` to `sys.path`. We can now import modules from this folder.\n",
        "- We can now create `.py` files and import functions/Classes from the file."
      ]
    },
    {
      "cell_type": "code",
      "execution_count": 4,
      "metadata": {
        "colab": {
          "base_uri": "https://localhost:8080/"
        },
        "id": "BtpXVC3PqgNR",
        "outputId": "306f0da8-b003-4026-8427-58c643e2d50d"
      },
      "outputs": [],
      "source": [
        "# we will be able to use the function and classes from file custom_preprocessor.py located in folder added to sys.path\n",
        "import custom_preprocessor_mod as cp"
      ]
    },
    {
      "cell_type": "code",
      "execution_count": 5,
      "metadata": {
        "colab": {
          "base_uri": "https://localhost:8080/"
        },
        "collapsed": true,
        "execution": {
          "iopub.execute_input": "2021-09-12T15:20:11.660416Z",
          "iopub.status.busy": "2021-09-12T15:20:11.660225Z",
          "iopub.status.idle": "2021-09-12T15:20:11.662673Z",
          "shell.execute_reply": "2021-09-12T15:20:11.662325Z",
          "shell.execute_reply.started": "2021-09-12T15:20:11.660403Z"
        },
        "id": "PJb4Z2rt-MZz",
        "jupyter": {
          "outputs_hidden": true
        },
        "outputId": "9ee2c592-1a57-4364-93ab-b9231fb34665",
        "tags": []
      },
      "outputs": [
        {
          "name": "stdout",
          "output_type": "stream",
          "text": [
            "\u001b[38;5;2m✔ Download and installation successful\u001b[0m\n",
            "You can now load the package via spacy.load('en_core_web_sm')\n"
          ]
        }
      ],
      "source": [
        "!python -m spacy download en_core_web_sm -qq"
      ]
    },
    {
      "cell_type": "code",
      "execution_count": 6,
      "metadata": {
        "execution": {
          "iopub.execute_input": "2022-08-28T23:42:07.506446Z",
          "iopub.status.busy": "2022-08-28T23:42:07.506202Z",
          "iopub.status.idle": "2022-08-28T23:42:07.510097Z",
          "shell.execute_reply": "2022-08-28T23:42:07.509581Z",
          "shell.execute_reply.started": "2022-08-28T23:42:07.506429Z"
        },
        "id": "nQakHF3V3ajb",
        "tags": []
      },
      "outputs": [],
      "source": [
        "text = [\"\"\"New version of operation system is iOS 11. It is better than iOS 9.\n",
        "The new version of iPhone X seems cool.\"\"\", \"\"\" <p> The video of iphone x released. I liked iOS 9 but I like iOS 11 more.\n",
        "You may not like my like @Tech_Guru #Iphone #IOS harpreet@utdallas.edu  https://jindal.utdallas.edu/\"\"\", \n",
        "\"\"\"</p><p>The concept of regular expressions began in the 1950s, when the American mathematician <a href=\"/wiki/Stephen_Cole_Kleene\" title=\"Stephen Cole Kleene\">Stephen Cole Kleene</a> formalized the description of a <i><a href=\"/wiki/Regular_language\" title=\"Regular language\">regular language</a></i>. They came into common use with <a href=\"/wiki/Unix\" title=\"Unix\">Unix</a> text-processing utilities. Different <a href=\"/wiki/Syntax_(programming_languages)\" title=\"Syntax (programming languages)\">syntaxes</a> for writing regular expressions have existed since the 1980s, one being the <a href=\"/wiki/POSIX\" title=\"POSIX\">POSIX</a> standard and another, widely used, being the <a href=\"/wiki/Perl\" title=\"Perl\">Perl</a> syntax.\n",
        "</p><p>Regular expressions are used in <a href=\"/wiki/Search_engine\" title=\"Search engine\">search engines</a>, search and replace dialogs of <a href=\"/wiki/Word_processor\" title=\"Word processor\">word processors</a> and <a href=\"/wiki/Text_editor\" title=\"Text editor\">text editors</a>, in <a href=\"/wiki/Text_processing\" title=\"Text processing\">text processing</a> utilities such as <a href=\"/wiki/Sed\" title=\"Sed\">sed</a> and <a href=\"/wiki/AWK\" title=\"AWK\">AWK</a> and in <a href=\"/wiki/Lexical_analysis\" title=\"Lexical analysis\">lexical analysis</a>. Many <a href=\"/wiki/Programming_language\" title=\"Programming language\">programming languages</a> provide regex capabilities either built-in or via <a href=\"/wiki/Library_(computing)\" title=\"Library (computing)\">libraries</a>, as it has uses in many situations.\n",
        "</p> \"\"\"]"
      ]
    },
    {
      "cell_type": "code",
      "execution_count": 7,
      "metadata": {
        "execution": {
          "iopub.execute_input": "2022-08-28T23:42:11.457086Z",
          "iopub.status.busy": "2022-08-28T23:42:11.456876Z",
          "iopub.status.idle": "2022-08-28T23:42:11.460167Z",
          "shell.execute_reply": "2022-08-28T23:42:11.459815Z",
          "shell.execute_reply.started": "2022-08-28T23:42:11.457059Z"
        },
        "id": "e8kfn7sWrueG",
        "tags": []
      },
      "outputs": [],
      "source": [
        "import textwrap as tw"
      ]
    },
    {
      "cell_type": "markdown",
      "metadata": {
        "id": "BW3K6Zpz_8Vc"
      },
      "source": [
        "The `textwrap` module in Python provides a simple and convenient way to format and wrap text. The `textwrap` module provides two functions for wrapping text: `wrap()` and `fill()`.\n",
        "\n",
        "- `textwrap.wrap()` takes a string of text and returns a list of strings, each of which is a single line of the wrapped text.\n",
        "\n",
        "- `textwrap.fill()` takes a string of text and returns a single string that contains the wrapped text with line breaks inserted.\n",
        "\n",
        "The difference between `textwrap.wrap()` and `textwrap.fill()` is the format in which the wrapped text is returned. `wrap()` returns the wrapped text as a list of strings, each of which is a separate line. `fill()` returns the wrapped text as a single string, with line breaks inserted to wrap the text to the specified width.\n",
        "\n",
        "- You might use `wrap()` if you need to process the wrapped text line by line, for example, to display the lines in a GUI or to write the lines to a file. \n",
        "- You might use `fill()` if you need to return the wrapped text as a single string, for example, to display the text in a console or to insert it into an HTML document."
      ]
    },
    {
      "cell_type": "code",
      "execution_count": 8,
      "metadata": {
        "colab": {
          "base_uri": "https://localhost:8080/"
        },
        "id": "WwaWzxLW_7lr",
        "outputId": "7ed4f036-109e-4841-dcc2-638975071faf"
      },
      "outputs": [
        {
          "name": "stdout",
          "output_type": "stream",
          "text": [
            "\n",
            "New version of operation system is iOS 11. It is better than iOS 9. The new version of iPhone X\n",
            "seems cool.\n",
            "\n",
            " <p> The video of iphone x released. I liked iOS 9 but I like iOS 11 more. You may not like my like\n",
            "@Tech_Guru #Iphone #IOS harpreet@utdallas.edu  https://jindal.utdallas.edu/\n",
            "\n",
            "</p><p>The concept of regular expressions began in the 1950s, when the American mathematician <a\n",
            "href=\"/wiki/Stephen_Cole_Kleene\" title=\"Stephen Cole Kleene\">Stephen Cole Kleene</a> formalized the\n",
            "description of a <i><a href=\"/wiki/Regular_language\" title=\"Regular language\">regular\n",
            "language</a></i>. They came into common use with <a href=\"/wiki/Unix\" title=\"Unix\">Unix</a> text-\n",
            "processing utilities. Different <a href=\"/wiki/Syntax_(programming_languages)\" title=\"Syntax\n",
            "(programming languages)\">syntaxes</a> for writing regular expressions have existed since the 1980s,\n",
            "one being the <a href=\"/wiki/POSIX\" title=\"POSIX\">POSIX</a> standard and another, widely used, being\n",
            "the <a href=\"/wiki/Perl\" title=\"Perl\">Perl</a> syntax. </p><p>Regular expressions are used in <a\n",
            "href=\"/wiki/Search_engine\" title=\"Search engine\">search engines</a>, search and replace dialogs of\n",
            "<a href=\"/wiki/Word_processor\" title=\"Word processor\">word processors</a> and <a\n",
            "href=\"/wiki/Text_editor\" title=\"Text editor\">text editors</a>, in <a href=\"/wiki/Text_processing\"\n",
            "title=\"Text processing\">text processing</a> utilities such as <a href=\"/wiki/Sed\"\n",
            "title=\"Sed\">sed</a> and <a href=\"/wiki/AWK\" title=\"AWK\">AWK</a> and in <a\n",
            "href=\"/wiki/Lexical_analysis\" title=\"Lexical analysis\">lexical analysis</a>. Many <a\n",
            "href=\"/wiki/Programming_language\" title=\"Programming language\">programming languages</a> provide\n",
            "regex capabilities either built-in or via <a href=\"/wiki/Library_(computing)\" title=\"Library\n",
            "(computing)\">libraries</a>, as it has uses in many situations. </p>\n"
          ]
        }
      ],
      "source": [
        "for item in text:\n",
        "  print()\n",
        "  print(tw.fill(item, width =100))"
      ]
    },
    {
      "cell_type": "code",
      "execution_count": 9,
      "metadata": {
        "colab": {
          "base_uri": "https://localhost:8080/"
        },
        "id": "NJxJkiO3B1Xe",
        "outputId": "63a70a26-7229-4dee-a20d-73f3c438a096"
      },
      "outputs": [
        {
          "name": "stdout",
          "output_type": "stream",
          "text": [
            "\u001b[1;31mInit signature:\u001b[0m\n",
            "\u001b[0mcp\u001b[0m\u001b[1;33m.\u001b[0m\u001b[0mSpacyPreprocessor\u001b[0m\u001b[1;33m(\u001b[0m\u001b[1;33m\n",
            "\u001b[0m    \u001b[0mmodel\u001b[0m\u001b[1;33m,\u001b[0m\u001b[1;33m\n",
            "\u001b[0m    \u001b[1;33m*\u001b[0m\u001b[1;33m,\u001b[0m\u001b[1;33m\n",
            "\u001b[0m    \u001b[0mbatch_size\u001b[0m\u001b[1;33m=\u001b[0m\u001b[1;36m64\u001b[0m\u001b[1;33m,\u001b[0m\u001b[1;33m\n",
            "\u001b[0m    \u001b[0mlemmatize\u001b[0m\u001b[1;33m=\u001b[0m\u001b[1;32mTrue\u001b[0m\u001b[1;33m,\u001b[0m\u001b[1;33m\n",
            "\u001b[0m    \u001b[0mlower\u001b[0m\u001b[1;33m=\u001b[0m\u001b[1;32mTrue\u001b[0m\u001b[1;33m,\u001b[0m\u001b[1;33m\n",
            "\u001b[0m    \u001b[0mremove_stop\u001b[0m\u001b[1;33m=\u001b[0m\u001b[1;32mTrue\u001b[0m\u001b[1;33m,\u001b[0m\u001b[1;33m\n",
            "\u001b[0m    \u001b[0mremove_punct\u001b[0m\u001b[1;33m=\u001b[0m\u001b[1;32mTrue\u001b[0m\u001b[1;33m,\u001b[0m\u001b[1;33m\n",
            "\u001b[0m    \u001b[0mremove_email\u001b[0m\u001b[1;33m=\u001b[0m\u001b[1;32mTrue\u001b[0m\u001b[1;33m,\u001b[0m\u001b[1;33m\n",
            "\u001b[0m    \u001b[0mremove_url\u001b[0m\u001b[1;33m=\u001b[0m\u001b[1;32mTrue\u001b[0m\u001b[1;33m,\u001b[0m\u001b[1;33m\n",
            "\u001b[0m    \u001b[0mremove_num\u001b[0m\u001b[1;33m=\u001b[0m\u001b[1;32mFalse\u001b[0m\u001b[1;33m,\u001b[0m\u001b[1;33m\n",
            "\u001b[0m    \u001b[0mstemming\u001b[0m\u001b[1;33m=\u001b[0m\u001b[1;32mFalse\u001b[0m\u001b[1;33m,\u001b[0m\u001b[1;33m\n",
            "\u001b[0m    \u001b[0madd_user_mention_prefix\u001b[0m\u001b[1;33m=\u001b[0m\u001b[1;32mTrue\u001b[0m\u001b[1;33m,\u001b[0m\u001b[1;33m\n",
            "\u001b[0m    \u001b[0mremove_hashtag_prefix\u001b[0m\u001b[1;33m=\u001b[0m\u001b[1;32mFalse\u001b[0m\u001b[1;33m,\u001b[0m\u001b[1;33m\n",
            "\u001b[0m\u001b[1;33m)\u001b[0m\u001b[1;33m\u001b[0m\u001b[1;33m\u001b[0m\u001b[0m\n",
            "\u001b[1;31mDocstring:\u001b[0m     \n",
            "A transformer class for preprocessing text data using spaCy.\n",
            "\n",
            "This class is designed to be used in a sklearn pipeline. It uses the spaCy library to \n",
            "preprocess text data by performing a series of operations such as tokenization, lowercasing, \n",
            "stop word removal, punctuation removal, email and URL removal, stemming, lemmatization.\n",
            "\u001b[1;31mInit docstring:\u001b[0m\n",
            "Initialize the preprocessor.\n",
            "\n",
            "Parameters\n",
            "----------\n",
            "model : spaCy model\n",
            "    The spaCy model to use for preprocessing the text data.\n",
            "batch_size : int, optional (default=64)\n",
            "    The batch size to use when processing the text data in batches.\n",
            "lemmatize : bool, optional (default=True)\n",
            "    Whether to perform lemmatization on the text data.\n",
            "lower : bool, optional (default=True)\n",
            "    Whether to lowercase the text data.\n",
            "remove_stop : bool, optional (default=True)\n",
            "    Whether to remove stop words from the text data.\n",
            "remove_punct : bool, optional (default=True)\n",
            "    Whether to remove punctuation from the text data.\n",
            "remove_email : bool, optional (default=True)\n",
            "    Whether to remove email addresses from the text data.\n",
            "remove_url : bool, optional (default=True)\n",
            "    Whether to remove URL addresses from the text data.\n",
            "remove_num : bool, optional (default=False)\n",
            "    Whether to remove numbers from the text data.\n",
            "stemming : bool, optional (default=False)\n",
            "    Whether to perform stemming on the text data.\n",
            "add_user_mention_prefix : bool, optional (default=True)\n",
            "    Whether to change the behavior of the spaCy \n",
            "    tokenizer to treat the @ symbol as a prefix.\n",
            "remove_hashtag_prefix : bool, optional (default=False)\n",
            "    Whether to change the behavior of the spaCy \n",
            "    tokenizer to no longer treat the # symbol as a prefix.\n",
            "\u001b[1;31mFile:\u001b[0m           c:\\users\\abdul\\onedrive\\documents\\msba\\custom_functions\\custom_preprocessor_mod.py\n",
            "\u001b[1;31mType:\u001b[0m           type\n",
            "\u001b[1;31mSubclasses:\u001b[0m     "
          ]
        }
      ],
      "source": [
        "# let us look at the custom preprocessor from the custom module we imported earlier\n",
        "cp.SpacyPreprocessor?"
      ]
    },
    {
      "cell_type": "code",
      "execution_count": 10,
      "metadata": {
        "id": "Q0RCYoPfCDyO"
      },
      "outputs": [],
      "source": [
        "# start with only lammetize = True\n",
        "# add_user_mention_prefix= True\n",
        "# remove_hashtag_prefix= False\n",
        "# make both the above as True and see what happens\n",
        "# remove punctuation \n",
        "# lowercase (note lammetization converts everything to lower case except proper nouns)\n",
        "# make stemming = True (nothing should change)\n",
        "# to do stemming we  have to make lammetization = False, stemming = True\n",
        "# remove stop words\n",
        "# remove emails\n",
        "# remove urls\n",
        "# remove num (spacy did not remove 1950, 1980)\n",
        "# change both lemmatization and stemming to False\n",
        "# we see that the text was 1950s and 1980s - lemmas were 1950 and 1980 - but spacy does not treat these as numbers\n",
        "# We will have to write regular expression if we want to remove these."
      ]
    },
    {
      "cell_type": "code",
      "execution_count": 13,
      "metadata": {
        "id": "fy2DJXlOBqwm"
      },
      "outputs": [],
      "source": [
        "# import spacy pre-processor from custom module\n",
        "preprocessor = cp.SpacyPreprocessor(model = 'en_core_web_sm', batch_size=64, lemmatize=False, lower=False, remove_stop=False, \n",
        "                remove_punct=False, remove_email=False, remove_url=False, remove_num=False, stemming = False,\n",
        "                add_user_mention_prefix=False, remove_hashtag_prefix=False)"
      ]
    },
    {
      "cell_type": "code",
      "execution_count": 14,
      "metadata": {
        "colab": {
          "base_uri": "https://localhost:8080/"
        },
        "execution": {
          "iopub.execute_input": "2022-08-28T23:42:23.735761Z",
          "iopub.status.busy": "2022-08-28T23:42:23.735552Z",
          "iopub.status.idle": "2022-08-28T23:42:24.164599Z",
          "shell.execute_reply": "2022-08-28T23:42:24.164092Z",
          "shell.execute_reply.started": "2022-08-28T23:42:23.735748Z"
        },
        "id": "cArQxBJ-ECoY",
        "outputId": "3768a1b7-bb58-465f-861d-3c4eae5ba4cf",
        "tags": []
      },
      "outputs": [
        {
          "name": "stdout",
          "output_type": "stream",
          "text": [
            "\n",
            "New version of operation system is iOS 11 . It is better than iOS 9 . The new version of iPhone X\n",
            "seems cool .\n",
            "\n",
            "   The video of iphone x released . I liked iOS 9 but I like iOS 11 more . You may not like my like\n",
            "@Tech_Guru # Iphone # IOS harpreet@utdallas.edu   https://jindal.utdallas.edu/\n",
            "\n",
            "The concept of regular expressions began in the 1950s , when the American mathematician Stephen Cole\n",
            "Kleene formalized the description of a regular language . They came into common use with Unix text -\n",
            "processing utilities . Different syntaxes for writing regular expressions have existed since the\n",
            "1980s , one being the POSIX standard and another , widely used , being the Perl syntax . Regular\n",
            "expressions are used in search engines , search and replace dialogs of word processors and text\n",
            "editors , in text processing utilities such as sed and AWK and in lexical analysis . Many\n",
            "programming languages provide regex capabilities either built - in or via libraries , as it has uses\n",
            "in many situations .\n"
          ]
        },
        {
          "name": "stderr",
          "output_type": "stream",
          "text": [
            "c:\\users\\abdul\\onedrive\\documents\\msba\\custom_functions\\custom_preprocessor_mod.py:165: UserWarning: [W036] The component 'matcher' does not have any patterns defined.\n",
            "  matches = matcher(doc)\n"
          ]
        }
      ],
      "source": [
        "cleaned_text = preprocessor.fit_transform(text)\n",
        "\n",
        "for item in cleaned_text:\n",
        "  print()\n",
        "  print(tw.fill(item, width =100))"
      ]
    },
    {
      "cell_type": "code",
      "execution_count": 17,
      "metadata": {
        "colab": {
          "base_uri": "https://localhost:8080/"
        },
        "id": "A4i3fIHfukJL",
        "outputId": "8a857e77-7b62-49d6-9927-80312c59feef"
      },
      "outputs": [
        {
          "name": "stdout",
          "output_type": "stream",
          "text": [
            "\n",
            "new version oper system io 11 better io 9 new version iphon x cool\n",
            "\n",
            "   video iphon x releas like io 9 like io 11 like like @tech_guru #iphon #io\n",
            "\n",
            "concept regular express began 1950 american mathematician stephen cole kleen formal descript regular\n",
            "languag came common use unix text process util differ syntax write regular express exist 1980 posix\n",
            "standard wide perl syntax regular express search engin search replac dialog word processor text\n",
            "editor text process util sed awk lexic analysi program languag provid regex capabl built librari use\n",
            "situat\n"
          ]
        }
      ],
      "source": [
        "preprocessor = cp.SpacyPreprocessor(model = 'en_core_web_sm', batch_size=64, lemmatize=False, lower=True, remove_stop=True, \n",
        "                remove_punct=True, remove_email=True, remove_url=True, remove_num=False, stemming = True,\n",
        "                add_user_mention_prefix=False, remove_hashtag_prefix=True)\n",
        "cleaned_text = preprocessor.fit_transform(text)\n",
        "\n",
        "for item in cleaned_text:\n",
        "  print()\n",
        "  print(tw.fill(item, width =100))"
      ]
    },
    {
      "cell_type": "code",
      "execution_count": 18,
      "metadata": {
        "colab": {
          "base_uri": "https://localhost:8080/",
          "height": 143
        },
        "execution": {
          "iopub.execute_input": "2022-08-28T23:42:29.282231Z",
          "iopub.status.busy": "2022-08-28T23:42:29.282034Z",
          "iopub.status.idle": "2022-08-28T23:42:29.292352Z",
          "shell.execute_reply": "2022-08-28T23:42:29.291775Z",
          "shell.execute_reply.started": "2022-08-28T23:42:29.282217Z"
        },
        "id": "pUPHdmf824L-",
        "outputId": "f6c5cedf-4509-432b-d4f5-8309ff7747fa",
        "tags": []
      },
      "outputs": [
        {
          "data": {
            "text/html": [
              "<div>\n",
              "<style scoped>\n",
              "    .dataframe tbody tr th:only-of-type {\n",
              "        vertical-align: middle;\n",
              "    }\n",
              "\n",
              "    .dataframe tbody tr th {\n",
              "        vertical-align: top;\n",
              "    }\n",
              "\n",
              "    .dataframe thead th {\n",
              "        text-align: right;\n",
              "    }\n",
              "</style>\n",
              "<table border=\"1\" class=\"dataframe\">\n",
              "  <thead>\n",
              "    <tr style=\"text-align: right;\">\n",
              "      <th></th>\n",
              "      <th>text</th>\n",
              "    </tr>\n",
              "  </thead>\n",
              "  <tbody>\n",
              "    <tr>\n",
              "      <th>0</th>\n",
              "      <td>New version of operation system is iOS 11. It ...</td>\n",
              "    </tr>\n",
              "    <tr>\n",
              "      <th>1</th>\n",
              "      <td>&lt;p&gt; The video of iphone x released. I liked i...</td>\n",
              "    </tr>\n",
              "    <tr>\n",
              "      <th>2</th>\n",
              "      <td>&lt;/p&gt;&lt;p&gt;The concept of regular expressions bega...</td>\n",
              "    </tr>\n",
              "  </tbody>\n",
              "</table>\n",
              "</div>"
            ],
            "text/plain": [
              "                                                text\n",
              "0  New version of operation system is iOS 11. It ...\n",
              "1   <p> The video of iphone x released. I liked i...\n",
              "2  </p><p>The concept of regular expressions bega..."
            ]
          },
          "execution_count": 18,
          "metadata": {},
          "output_type": "execute_result"
        }
      ],
      "source": [
        "import pandas as pd\n",
        "my_data = pd.DataFrame(text, columns=['text'])\n",
        "my_data"
      ]
    },
    {
      "cell_type": "code",
      "execution_count": 19,
      "metadata": {
        "colab": {
          "base_uri": "https://localhost:8080/",
          "height": 143
        },
        "execution": {
          "iopub.execute_input": "2022-08-28T23:42:42.268322Z",
          "iopub.status.busy": "2022-08-28T23:42:42.268113Z",
          "iopub.status.idle": "2022-08-28T23:42:42.273378Z",
          "shell.execute_reply": "2022-08-28T23:42:42.272818Z",
          "shell.execute_reply.started": "2022-08-28T23:42:42.268308Z"
        },
        "id": "QG8vvN49oSuI",
        "outputId": "e66b7d1e-4fb5-4ee6-ee30-f52546cbad86"
      },
      "outputs": [
        {
          "data": {
            "text/html": [
              "<div>\n",
              "<style scoped>\n",
              "    .dataframe tbody tr th:only-of-type {\n",
              "        vertical-align: middle;\n",
              "    }\n",
              "\n",
              "    .dataframe tbody tr th {\n",
              "        vertical-align: top;\n",
              "    }\n",
              "\n",
              "    .dataframe thead th {\n",
              "        text-align: right;\n",
              "    }\n",
              "</style>\n",
              "<table border=\"1\" class=\"dataframe\">\n",
              "  <thead>\n",
              "    <tr style=\"text-align: right;\">\n",
              "      <th></th>\n",
              "      <th>text</th>\n",
              "      <th>cleaned_text</th>\n",
              "    </tr>\n",
              "  </thead>\n",
              "  <tbody>\n",
              "    <tr>\n",
              "      <th>0</th>\n",
              "      <td>New version of operation system is iOS 11. It ...</td>\n",
              "      <td>new version oper system io 11 better io 9 new ...</td>\n",
              "    </tr>\n",
              "    <tr>\n",
              "      <th>1</th>\n",
              "      <td>&lt;p&gt; The video of iphone x released. I liked i...</td>\n",
              "      <td>video iphon x releas like io 9 like io 11 l...</td>\n",
              "    </tr>\n",
              "    <tr>\n",
              "      <th>2</th>\n",
              "      <td>&lt;/p&gt;&lt;p&gt;The concept of regular expressions bega...</td>\n",
              "      <td>concept regular express began 1950 american ma...</td>\n",
              "    </tr>\n",
              "  </tbody>\n",
              "</table>\n",
              "</div>"
            ],
            "text/plain": [
              "                                                text  \\\n",
              "0  New version of operation system is iOS 11. It ...   \n",
              "1   <p> The video of iphone x released. I liked i...   \n",
              "2  </p><p>The concept of regular expressions bega...   \n",
              "\n",
              "                                        cleaned_text  \n",
              "0  new version oper system io 11 better io 9 new ...  \n",
              "1     video iphon x releas like io 9 like io 11 l...  \n",
              "2  concept regular express began 1950 american ma...  "
            ]
          },
          "execution_count": 19,
          "metadata": {},
          "output_type": "execute_result"
        }
      ],
      "source": [
        "my_data['cleaned_text'] = cleaned_text\n",
        "my_data"
      ]
    }
  ],
  "metadata": {
    "colab": {
      "provenance": []
    },
    "kernelspec": {
      "display_name": "Python 3 (ipykernel)",
      "language": "python",
      "name": "python3"
    },
    "language_info": {
      "codemirror_mode": {
        "name": "ipython",
        "version": 3
      },
      "file_extension": ".py",
      "mimetype": "text/x-python",
      "name": "python",
      "nbconvert_exporter": "python",
      "pygments_lexer": "ipython3",
      "version": "3.10.9"
    }
  },
  "nbformat": 4,
  "nbformat_minor": 0
}
