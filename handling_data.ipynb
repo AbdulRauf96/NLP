{
  "cells": [
    {
      "cell_type": "markdown",
      "metadata": {
        "id": "view-in-github",
        "colab_type": "text"
      },
      "source": [
        "<a href=\"https://colab.research.google.com/github/AbdulRauf96/NLP/blob/main/handling_data.ipynb\" target=\"_parent\"><img src=\"https://colab.research.google.com/assets/colab-badge.svg\" alt=\"Open In Colab\"/></a>"
      ]
    },
    {
      "cell_type": "markdown",
      "metadata": {
        "id": "rz4ucT2slrgg"
      },
      "source": [
        "# <font color = 'dodgerblue'>**Handling Text Data**\n",
        "\n",
        " Objective: Learn to import text data into Pandas data frame. A lot of time we get text data from online resources. The data is available in compressed format (like zip, tar). We need to understand how to get the data from online resources and convert the data into a  dataframe so that we can start pre-processing the data.\n",
        "\n",
        "**Typical Steps**\n",
        "- Step1: use !wget to download data files from URl\n",
        "- Step2: check content of folder where data was downloaded\n",
        "- Step3: Check content of zipped/tar folder\n",
        "- Step 4: unzip/untar files\n",
        "- Step 4a: Understand the structure of unzipped folder/files (only required if data is stored in multiple folders and files).\n",
        "- Step 5: Check content of the main file using !head command.\n",
        "- Step 6a: combine data from multiple files ( if data is stored in multiple files).\n",
        "- Step6: Create a dataframe\n",
        "\n"
      ]
    },
    {
      "cell_type": "markdown",
      "metadata": {
        "id": "-VgjEXST5Mxb"
      },
      "source": [
        "We will use the pandas library to read files from sources and filepaths. Let us import the pandas library"
      ]
    },
    {
      "cell_type": "markdown",
      "metadata": {
        "id": "etC5PdJxFbPq"
      },
      "source": [
        "# <font color = 'dodgerblue'>**Import libraries**"
      ]
    },
    {
      "cell_type": "code",
      "execution_count": null,
      "metadata": {
        "id": "ACy_LO395tuE"
      },
      "outputs": [],
      "source": [
        "# Importing the pandas library for data manipulation\n",
        "import pandas as pd\n",
        "\n",
        "# Importing the Path module from the pathlib library for working with file paths\n",
        "from pathlib import Path\n",
        "\n",
        "# Importing the zipfile module for working with zip files\n",
        "import zipfile\n",
        "\n",
        "# Importing the tarfile module for working with tar files\n",
        "import tarfile"
      ]
    },
    {
      "cell_type": "markdown",
      "metadata": {
        "id": "WxGN2l2ZAp22"
      },
      "source": [
        "Code explanation:\n",
        "- We have already explained Pandas and Pathlib libraries in previous lecture. \n",
        "\n",
        "Here is brief discription of the other modules:\n",
        "\n",
        "- zipfile is a module in the Python standard library for working with ZIP files. It can be used to create, read, and extract ZIP files. ere are a few examples of how the zipfile module can be used:\n",
        "\n",
        "- tarfile is a module in the Python standard library for working with tar files, which is a type of archive file that is commonly used on Unix-like operating systems. It can be used to create, read, and extract tar files."
      ]
    },
    {
      "cell_type": "markdown",
      "metadata": {
        "id": "L4irHqIdFTRc"
      },
      "source": [
        "# <font color = 'dodgerblue'>**Mount Google drive and Specify folder paths**"
      ]
    },
    {
      "cell_type": "code",
      "execution_count": null,
      "metadata": {
        "colab": {
          "base_uri": "https://localhost:8080/"
        },
        "id": "2_4UPFbXFX8l",
        "outputId": "f70d0efd-5eb9-457a-8ec2-1b83a10191f5"
      },
      "outputs": [
        {
          "output_type": "stream",
          "name": "stdout",
          "text": [
            "Drive already mounted at /content/drive; to attempt to forcibly remount, call drive.mount(\"/content/drive\", force_remount=True).\n"
          ]
        }
      ],
      "source": [
        "from pathlib import Path\n",
        "import os\n",
        "if 'google.colab' in str(get_ipython()):\n",
        "  from google.colab import drive\n",
        "  drive.mount('/content/drive') \n",
        "  !pip install swifter -qq\n",
        "  base_folder = Path('/content/drive/MyDrive/colab_notebooks/')\n",
        "  subject = 'nlp'\n",
        "  data_folder = base_folder/subject/'data/'\n",
        "  archive_folder = base_folder/subject/'archive/'\n",
        "  output = base_folder/subject/'output'\n",
        "else:\n",
        "  base_folder = Path('C:/Users/Abdul Rauf Maroof/OneDrive/Documents/MSBA')\n",
        "  data_folder = base_folder/subject/'data/'\n",
        "  archive_folder = base_folder/subject/'archive/'\n",
        "  output = base_folder/subject/'output'"
      ]
    },
    {
      "cell_type": "markdown",
      "metadata": {
        "id": "GTg-WEpWlrgj"
      },
      "source": [
        "# <font color = 'dodgerblue'>**Task 1: Get Data from a CSV file**\n",
        "\n",
        "Task : Read data from a csv file. <br>\n",
        "We can download the data from following source: Sentiment 140 dataset:\n",
        "http://help.sentiment140.com/for-students\n",
        "\n",
        "Url for data: http://cs.stanford.edu/people/alecmgo/trainingandtestdata.zip\n",
        "\n",
        "Data Columns:\n",
        "- 0 - the polarity of the tweet (0 = negative, 2 = neutral, 4 = positive)\n",
        "- 1 - the id of the tweet (2087)\n",
        "- 2 - the date of the tweet (Sat May 16 23:58:44 UTC 2009)\n",
        "- 3 - the query (lyx). If there is no query, then this value is NO_QUERY.\n",
        "- 4 - the user that tweeted (robotickilldozr)\n",
        "- 5 - the text of the tweet (Lyx is cool)"
      ]
    },
    {
      "cell_type": "markdown",
      "metadata": {
        "id": "FKOReQ5C4ArS"
      },
      "source": [
        "## <font color = 'dodgerblue'>**Step1: use wget to download data files from URl**"
      ]
    },
    {
      "cell_type": "markdown",
      "metadata": {
        "id": "NyfsctZ_tQuc"
      },
      "source": [
        "Download a  file to the filesystem from a url using the wget commmand <br>\n",
        "URL = http://cs.stanford.edu/people/alecmgo/trainingandtestdata.zip <br>\n",
        "\n",
        "**Syntax** <br> !wget {url} -P {path_to_save_file} -O filename <br>\n",
        "\n",
        "- The !wget {URL} -P {archive_folder} -O {file} is a shell command that is being executed. \n",
        "- The ! at the beginning of the line indicates that this is a shell command, not Python code. \n",
        "- wget is a command-line utility for downloading files from the web. \n",
        "- The -P option is used to specify the directory where the file will be saved, in this case, the archive_folder variable. \n",
        "- if we do not specify -P , files will be saved in current direcory \n",
        "- The -O option is used to specify the file name to save the file as, in this case, the file variable. Use O if you want to overwrite existing file with same name.\n",
        "- To use variables in bash commands , we have to use {} brackets \n",
        "\n",
        "In summary, this code is downloading a file from a specified URL and saving it to a specified location on the file system and naming it as specified."
      ]
    },
    {
      "cell_type": "code",
      "execution_count": null,
      "metadata": {
        "id": "yAbrXS1WJYv6"
      },
      "outputs": [],
      "source": [
        "# use wget to download the data\n",
        "file = archive_folder/'trainingandtestdata.zip'\n",
        "URL = 'http://cs.stanford.edu/people/alecmgo/trainingandtestdata.zip'\n",
        "!wget {URL} -P {archive_folder} -O {file}"
      ]
    },
    {
      "cell_type": "markdown",
      "metadata": {
        "id": "lj3bS5zp4unS"
      },
      "source": [
        "## <font color = 'dodgerblue'>**Step2: check content of folder where data was downloaded**"
      ]
    },
    {
      "cell_type": "code",
      "execution_count": null,
      "metadata": {
        "id": "xPVaMAS28sio"
      },
      "outputs": [],
      "source": [
        "# step 2: check teh content of the folder where file was downloaded\n",
        "# We can iterate over this folder using .iterdir()\n",
        "for entries in archive_folder.iterdir():\n",
        "  if 'zip' in entries.name:\n",
        "    print(entries.name)"
      ]
    },
    {
      "cell_type": "markdown",
      "metadata": {
        "id": "ncJcbJSDyF23"
      },
      "source": [
        "- `iterdir()` is a method of the Path class in the `pathlib` module in Python. It returns an iterator that yields the names of the files and subdirectories in a directory.\n",
        "\n",
        "- The `iterdir()` method is useful for processing a directory's contents one file or directory at a time, rather than loading all the names into memory at once. This can be more memory-efficient for large directories, or for directories that contain many subdirectories.\n",
        "\n",
        "- In the code above, `iterdir()` is used to loop through the entries in the `archive_folder` directory. The `for` loop iterates over each entry, and the `if` statement checks if the entry name contains the string '.zip'. If the condition is true, the entry name is printed."
      ]
    },
    {
      "cell_type": "code",
      "execution_count": null,
      "metadata": {
        "id": "JngaIZqOTnWk"
      },
      "outputs": [],
      "source": [
        "# alternatively we can check directly if the file exists in the archive folder:\n",
        "(archive_folder/'trainingandtestdata.zip').exists()"
      ]
    },
    {
      "cell_type": "markdown",
      "metadata": {
        "id": "5H5pXmwoIKBo"
      },
      "source": [
        "## <font color = 'dodgerblue'>**Step3: Check content of zipped/tar folder**"
      ]
    },
    {
      "cell_type": "markdown",
      "metadata": {
        "id": "zf9m5rj4yoxl"
      },
      "source": [
        "We can construct a path to the file by joining the parts using the special operator /. The / can join several paths or a mix of paths and strings given, atleast one of those paths should be an instance of class `Path` from `pathlib` library (as shown below).\n"
      ]
    },
    {
      "cell_type": "code",
      "execution_count": null,
      "metadata": {
        "id": "F5OEhoCGOe6x"
      },
      "outputs": [],
      "source": [
        "# path for zipfile\n",
        "file = archive_folder / 'trainingandtestdata.zip'"
      ]
    },
    {
      "cell_type": "markdown",
      "metadata": {
        "id": "5wueTWBXOjFu"
      },
      "source": [
        "We will open and read the zip file using \n",
        "```python\n",
        "with zipfile.ZipFile(file, mode)\n",
        "``` \n",
        "here `file` is the file to open and we can specify the mode (read, write etc,)\n",
        "In below command we have used `'r'` to specify that we can open the file in reading mode.\n",
        "Finally we use namelist() method to list the content of zipped folder."
      ]
    },
    {
      "cell_type": "code",
      "execution_count": null,
      "metadata": {
        "id": "ELciGJCrO6sY"
      },
      "outputs": [],
      "source": [
        "# list the content of the zipped folder\n",
        "with zipfile.ZipFile(file, 'r') as f:\n",
        "  print(f.namelist())"
      ]
    },
    {
      "cell_type": "markdown",
      "metadata": {
        "id": "qmUGWUxlJ0v8"
      },
      "source": [
        "## <font color = 'dodgerblue'>**Step 4: unzip/untar files**"
      ]
    },
    {
      "cell_type": "markdown",
      "metadata": {
        "id": "LRyJq4zIQGKS"
      },
      "source": [
        "We will open the file using \n",
        "```python\n",
        "with zipfile.ZipFile(file, mode)\n",
        "``` \n",
        "Finally  we will use file.extract to extarct a particular file from zipped folder\n",
        "```python\n",
        "file.extract(file_to_extract, path)\n",
        "```\n",
        "In the above command file_to_extract is the file from zipped folder that we want to extract, and path is where we want to save the extracted file."
      ]
    },
    {
      "cell_type": "code",
      "execution_count": null,
      "metadata": {
        "id": "NXPaIj0yJsJf"
      },
      "outputs": [],
      "source": [
        "# %%timeit will tell us the time it takes to execute this cell\n",
        "# unzip the file \n",
        "\n",
        "file = archive_folder / 'trainingandtestdata.zip' \n",
        "with zipfile.ZipFile(file, 'r') as f:\n",
        "  f.extract('training.1600000.processed.noemoticon.csv', path = data_folder)"
      ]
    },
    {
      "cell_type": "code",
      "execution_count": null,
      "metadata": {
        "id": "p6jdsbojzL9v"
      },
      "outputs": [],
      "source": [
        "# we can also use bash !unzip command\n",
        "# Syntax !unzip {file} -d {location}\n",
        "# if we do not specify -d option, files will be saved in current directory\n",
        "# here file is the file to unzip and location is where we ant to extract files\n",
        "# you can uncomment the lines below if you want to compare  zipfile and !unzip commands\n",
        "\n",
        "# file = archive_folder / 'trainingandtestdata.zip'\n",
        "# !unzip -o {str(file)} -d {str(data_folder)} "
      ]
    },
    {
      "cell_type": "markdown",
      "metadata": {
        "id": "G5dL8IbW02x2"
      },
      "source": [
        "## <font color = 'dodgerblue'>**Step 5: Check content of the main file using head command**"
      ]
    },
    {
      "cell_type": "code",
      "execution_count": null,
      "metadata": {
        "id": "aY3YXcBr5B5C"
      },
      "outputs": [],
      "source": [
        "# before importing the file let us see how it looks like\n",
        "file_csv = data_folder / 'training.1600000.processed.noemoticon.csv'\n",
        "\n",
        "# the bash command head helps us to see the content of the file\n",
        "# We need to pass the path to the file as a string. We use Python's str function to convert the Path to string\n",
        "# We can specify no.of lines to be printed using the option -n.\n",
        "!head -n 5 {str(file_csv)}"
      ]
    },
    {
      "cell_type": "markdown",
      "metadata": {
        "id": "ddbzitlq40s7"
      },
      "source": [
        "## <font color = 'dodgerblue'>**Step6: Create pandas dataframe**"
      ]
    },
    {
      "cell_type": "code",
      "execution_count": null,
      "metadata": {
        "id": "cSmjtW-Ix06h"
      },
      "outputs": [],
      "source": [
        "# Create a Pandas Dataframe object by specifying the file name with path and other arguments\n",
        "# pd.read_csv('<filename_with_path>', header=<names of columns>,delimiter=','(for csv files))\n",
        "# The encoding argument can contain UTF-8, ISO-8859-1 or unicode-escape. \n",
        "# It is difficult to detect the type of encoding to use for a file from an external source. \n",
        "# Usually, this argument is not invoked, on the off-case that the default encoding does not work, \n",
        "# use either of the options mentioned.\n",
        "# We can add column names if it doesn't exist using the 'names=' argument.\n",
        "\n",
        "df = pd.read_csv(file_csv, names = ['polarity', 'id', 'date', 'query', 'user', 'text'],\n",
        "                 encoding = 'ISO-8859-1', header = None)\n",
        "df"
      ]
    },
    {
      "cell_type": "markdown",
      "metadata": {
        "id": "u-7Puu_VlrhS"
      },
      "source": [
        "# <font color = 'dodgerblue'>**Task 2: Get Data from a text file** \n",
        "Task : Read data from a text file. <br>\n",
        "We can download the data from following source: https://norvig.com/big.txt"
      ]
    },
    {
      "cell_type": "markdown",
      "metadata": {
        "id": "dxj367sR49I_"
      },
      "source": [
        "## <font color = 'dodgerblue'>**Step1: use wget to download data files from URL**"
      ]
    },
    {
      "cell_type": "code",
      "execution_count": null,
      "metadata": {
        "colab": {
          "base_uri": "https://localhost:8080/"
        },
        "id": "i1mvivb3xz1A",
        "outputId": "7080c0c6-7fce-46c9-f774-b71642f8bf6b"
      },
      "outputs": [
        {
          "output_type": "stream",
          "name": "stdout",
          "text": [
            "--2023-03-01 17:23:25--  https://norvig.com/big.txt\n",
            "Resolving norvig.com (norvig.com)... 158.106.138.13\n",
            "Connecting to norvig.com (norvig.com)|158.106.138.13|:443... connected.\n",
            "HTTP request sent, awaiting response... 200 OK\n",
            "Length: 6488666 (6.2M) [text/plain]\n",
            "Saving to: ‘/content/drive/MyDrive/colab_notebooks/nlp/data/big.txt’\n",
            "\n",
            "big.txt             100%[===================>]   6.19M  15.8MB/s    in 0.4s    \n",
            "\n",
            "2023-03-01 17:23:26 (15.8 MB/s) - ‘/content/drive/MyDrive/colab_notebooks/nlp/data/big.txt’ saved [6488666/6488666]\n",
            "\n"
          ]
        }
      ],
      "source": [
        "# Download a  file to the filesystem from a url using the wget commmand\n",
        "# syntax  !wget {url} -P {path_to_save_file}\n",
        "# if we do not specify -P , files will be saved in current direcory\n",
        "\n",
        "file = data_folder/'big.txt'\n",
        "url = \"https://norvig.com/big.txt\"\n",
        "!wget {url} -P {data_folder} -O {file}"
      ]
    },
    {
      "cell_type": "markdown",
      "metadata": {
        "id": "RO6UF8Cn5K4c"
      },
      "source": [
        "## <font color = 'dodgerblue'>**Step2: Check content of folder where data was downloaded**"
      ]
    },
    {
      "cell_type": "code",
      "execution_count": null,
      "metadata": {
        "colab": {
          "base_uri": "https://localhost:8080/"
        },
        "id": "XJs5lvESOkAt",
        "outputId": "bbb8b276-2fc2-4f57-9e6d-73d75f7a8a70"
      },
      "outputs": [
        {
          "output_type": "stream",
          "name": "stdout",
          "text": [
            "scaledata.README.1.0.txt\n",
            "big.txt\n"
          ]
        }
      ],
      "source": [
        "# List the content of  directory\n",
        "for entries in data_folder.iterdir():\n",
        "  if 'txt' in entries.name: \n",
        "    print(entries.name)"
      ]
    },
    {
      "cell_type": "code",
      "execution_count": null,
      "metadata": {
        "colab": {
          "base_uri": "https://localhost:8080/"
        },
        "id": "pFHdtCowT9GP",
        "outputId": "ff487e2a-b8c4-42ea-86b3-740de82e1bc2"
      },
      "outputs": [
        {
          "output_type": "execute_result",
          "data": {
            "text/plain": [
              "True"
            ]
          },
          "metadata": {},
          "execution_count": 51
        }
      ],
      "source": [
        "# alternatively we can check directly if the file exists in the data folder:\n",
        "(data_folder/'big.txt').exists()"
      ]
    },
    {
      "cell_type": "markdown",
      "metadata": {
        "id": "xybat8RX1hnl"
      },
      "source": [
        "## <font color = 'dodgerblue'>**Step 5: Check content of the main file using head command**"
      ]
    },
    {
      "cell_type": "code",
      "execution_count": null,
      "metadata": {
        "colab": {
          "base_uri": "https://localhost:8080/"
        },
        "id": "fDp0rzu98XS6",
        "outputId": "48e25272-cae9-4040-aca5-3ed5db1597eb"
      },
      "outputs": [
        {
          "output_type": "stream",
          "name": "stdout",
          "text": [
            "The Project Gutenberg EBook of The Adventures of Sherlock Holmes\n",
            "by Sir Arthur Conan Doyle\n",
            "(#15 in our series by Sir Arthur Conan Doyle)\n",
            "\n",
            "Copyright laws are changing all over the world. Be sure to check the\n"
          ]
        }
      ],
      "source": [
        "# Look at the first kilobyte of the .txt file \n",
        "file_text = data_folder / 'big.txt'\n",
        "!head {str(file_text)} -n 5"
      ]
    },
    {
      "cell_type": "markdown",
      "metadata": {
        "id": "pvcR6r-D5R1k"
      },
      "source": [
        "## <font color = 'dodgerblue'>**Use open to retrieve data**"
      ]
    },
    {
      "cell_type": "code",
      "execution_count": null,
      "metadata": {
        "colab": {
          "base_uri": "https://localhost:8080/"
        },
        "id": "MUakoSmAx0Nx",
        "outputId": "1e0d1c2e-8457-4c57-e082-023117e856ce"
      },
      "outputs": [
        {
          "output_type": "execute_result",
          "data": {
            "text/plain": [
              "'The Project Gutenberg EBook of The Adventures of Sherlock Holmes\\nby Sir Arthur Conan Doyle\\n(#15 in o'"
            ],
            "application/vnd.google.colaboratory.intrinsic+json": {
              "type": "string"
            }
          },
          "metadata": {},
          "execution_count": 53
        }
      ],
      "source": [
        "# Open and read the file using open(filename, 'r') function\n",
        "# We will use with open as it closes the file as well\n",
        "# This is a recommended way to open a text file \n",
        "\n",
        "with open(file_text, 'r') as file:\n",
        "  text = file.read()\n",
        "\n",
        "# The text variable now contains the contents of the text file.\n",
        "text[0:100]"
      ]
    },
    {
      "cell_type": "markdown",
      "metadata": {
        "id": "2xhOXe4Wlrhw"
      },
      "source": [
        "# <font color = 'dodgerblue'>**Task 3: Get Data from a JSON File**"
      ]
    },
    {
      "cell_type": "markdown",
      "metadata": {
        "id": "M2nrVvir5dpR"
      },
      "source": [
        "## <font color = 'dodgerblue'>**Example 1 - small file**\n",
        "Task : Read data from a JSON file. <br>\n",
        "We can download the data from following source: https://filesamples.com/samples/code/json/sample4.json"
      ]
    },
    {
      "cell_type": "markdown",
      "metadata": {
        "id": "L14x74uc5zh1"
      },
      "source": [
        "### <font color = 'dodgerblue'>**Step1: use wget to download data files from URl**"
      ]
    },
    {
      "cell_type": "code",
      "execution_count": null,
      "metadata": {
        "colab": {
          "base_uri": "https://localhost:8080/"
        },
        "id": "NT23E5c2x2TH",
        "outputId": "74fa5d32-2928-4fe5-8cd3-e6eef7f212fa"
      },
      "outputs": [
        {
          "output_type": "stream",
          "name": "stdout",
          "text": [
            "--2023-03-01 17:23:27--  https://filesamples.com/samples/code/json/sample4.json\n",
            "Resolving filesamples.com (filesamples.com)... 172.67.178.244, 104.21.17.252, 2606:4700:3035::6815:11fc, ...\n",
            "Connecting to filesamples.com (filesamples.com)|172.67.178.244|:443... connected.\n",
            "HTTP request sent, awaiting response... 200 OK\n",
            "Length: 451 [application/json]\n",
            "Saving to: ‘/content/drive/MyDrive/colab_notebooks/nlp/data/sample4.json’\n",
            "\n",
            "\rsample4.json          0%[                    ]       0  --.-KB/s               \rsample4.json        100%[===================>]     451  --.-KB/s    in 0.001s  \n",
            "\n",
            "2023-03-01 17:23:27 (417 KB/s) - ‘/content/drive/MyDrive/colab_notebooks/nlp/data/sample4.json’ saved [451/451]\n",
            "\n"
          ]
        }
      ],
      "source": [
        "# Download a  file to the filesystem from a url using the wget commmand\n",
        "# syntax  !wget {url} -P {path_to_save_file}\n",
        "# if we do not specify -P , files will be saved in current direcory\n",
        "\n",
        "url = 'https://filesamples.com/samples/code/json/sample4.json'\n",
        "file = data_folder/'sample4.json'\n",
        "# we can specify variables using {}\n",
        "!wget {url} -P {data_folder} -O {file}"
      ]
    },
    {
      "cell_type": "markdown",
      "metadata": {
        "id": "_B0iJtiX552t"
      },
      "source": [
        "### <font color = 'dodgerblue'>**Step2: Check content of folder where data was downloaded**"
      ]
    },
    {
      "cell_type": "code",
      "execution_count": null,
      "metadata": {
        "colab": {
          "base_uri": "https://localhost:8080/"
        },
        "id": "ICQ-epRkKOIt",
        "outputId": "3de5d771-faf7-4090-fce0-9a0f07e9e644"
      },
      "outputs": [
        {
          "output_type": "stream",
          "name": "stdout",
          "text": [
            "countries.json\n",
            "sample4.json\n"
          ]
        }
      ],
      "source": [
        "# check content of basepath\n",
        "for entries in data_folder.iterdir():\n",
        "  if 'json' in entries.name:\n",
        "    print(entries.name)"
      ]
    },
    {
      "cell_type": "code",
      "execution_count": null,
      "metadata": {
        "colab": {
          "base_uri": "https://localhost:8080/"
        },
        "id": "JToe2o1XUIwx",
        "outputId": "9b952d8c-49a5-44e8-9cce-d183eab22558"
      },
      "outputs": [
        {
          "output_type": "execute_result",
          "data": {
            "text/plain": [
              "True"
            ]
          },
          "metadata": {},
          "execution_count": 56
        }
      ],
      "source": [
        "# alternatively we can check directly if the file exists in the data folder:\n",
        "(data_folder/'sample4.json').exists()"
      ]
    },
    {
      "cell_type": "markdown",
      "metadata": {
        "id": "Gq1RNzCz2-Ik"
      },
      "source": [
        "### <font color = 'dodgerblue'>**Step 5: Check content of main file using head command**"
      ]
    },
    {
      "cell_type": "code",
      "execution_count": null,
      "metadata": {
        "colab": {
          "base_uri": "https://localhost:8080/"
        },
        "id": "AYrGsk1W4rkD",
        "outputId": "69b7a8ea-78da-4124-e31c-2b9b17ce94aa"
      },
      "outputs": [
        {
          "output_type": "stream",
          "name": "stdout",
          "text": [
            "{\n",
            "  \"people\" : [\n",
            "    {\n",
            "       \"firstName\": \"Joe\",\n",
            "       \"lastName\": \"Jackson\",\n",
            "       \"gender\": \"male\",\n",
            "       \"age\": 28,\n",
            "       \"number\": \"7349282382\"\n",
            "    },\n",
            "    {\n"
          ]
        }
      ],
      "source": [
        "# let us see how the file looks like\n",
        "file_json1 = data_folder / 'sample4.json'\n",
        "!head {file_json1}"
      ]
    },
    {
      "cell_type": "markdown",
      "metadata": {
        "id": "XDfdqr5J5-KS"
      },
      "source": [
        "### <font color = 'dodgerblue'>**Step6: Create pandas dataframe**"
      ]
    },
    {
      "cell_type": "code",
      "execution_count": null,
      "metadata": {
        "colab": {
          "base_uri": "https://localhost:8080/"
        },
        "id": "pTyJzgGsx2eZ",
        "outputId": "fdc407f9-3349-46a6-869b-5abb24435762"
      },
      "outputs": [
        {
          "output_type": "execute_result",
          "data": {
            "text/plain": [
              "                                              people\n",
              "0  {'firstName': 'Joe', 'lastName': 'Jackson', 'g...\n",
              "1  {'firstName': 'James', 'lastName': 'Smith', 'g...\n",
              "2  {'firstName': 'Emily', 'lastName': 'Jones', 'g..."
            ],
            "text/html": [
              "\n",
              "  <div id=\"df-b2509561-2eb0-4f39-8244-f8f0266b2841\">\n",
              "    <div class=\"colab-df-container\">\n",
              "      <div>\n",
              "<style scoped>\n",
              "    .dataframe tbody tr th:only-of-type {\n",
              "        vertical-align: middle;\n",
              "    }\n",
              "\n",
              "    .dataframe tbody tr th {\n",
              "        vertical-align: top;\n",
              "    }\n",
              "\n",
              "    .dataframe thead th {\n",
              "        text-align: right;\n",
              "    }\n",
              "</style>\n",
              "<table border=\"1\" class=\"dataframe\">\n",
              "  <thead>\n",
              "    <tr style=\"text-align: right;\">\n",
              "      <th></th>\n",
              "      <th>people</th>\n",
              "    </tr>\n",
              "  </thead>\n",
              "  <tbody>\n",
              "    <tr>\n",
              "      <th>0</th>\n",
              "      <td>{'firstName': 'Joe', 'lastName': 'Jackson', 'g...</td>\n",
              "    </tr>\n",
              "    <tr>\n",
              "      <th>1</th>\n",
              "      <td>{'firstName': 'James', 'lastName': 'Smith', 'g...</td>\n",
              "    </tr>\n",
              "    <tr>\n",
              "      <th>2</th>\n",
              "      <td>{'firstName': 'Emily', 'lastName': 'Jones', 'g...</td>\n",
              "    </tr>\n",
              "  </tbody>\n",
              "</table>\n",
              "</div>\n",
              "      <button class=\"colab-df-convert\" onclick=\"convertToInteractive('df-b2509561-2eb0-4f39-8244-f8f0266b2841')\"\n",
              "              title=\"Convert this dataframe to an interactive table.\"\n",
              "              style=\"display:none;\">\n",
              "        \n",
              "  <svg xmlns=\"http://www.w3.org/2000/svg\" height=\"24px\"viewBox=\"0 0 24 24\"\n",
              "       width=\"24px\">\n",
              "    <path d=\"M0 0h24v24H0V0z\" fill=\"none\"/>\n",
              "    <path d=\"M18.56 5.44l.94 2.06.94-2.06 2.06-.94-2.06-.94-.94-2.06-.94 2.06-2.06.94zm-11 1L8.5 8.5l.94-2.06 2.06-.94-2.06-.94L8.5 2.5l-.94 2.06-2.06.94zm10 10l.94 2.06.94-2.06 2.06-.94-2.06-.94-.94-2.06-.94 2.06-2.06.94z\"/><path d=\"M17.41 7.96l-1.37-1.37c-.4-.4-.92-.59-1.43-.59-.52 0-1.04.2-1.43.59L10.3 9.45l-7.72 7.72c-.78.78-.78 2.05 0 2.83L4 21.41c.39.39.9.59 1.41.59.51 0 1.02-.2 1.41-.59l7.78-7.78 2.81-2.81c.8-.78.8-2.07 0-2.86zM5.41 20L4 18.59l7.72-7.72 1.47 1.35L5.41 20z\"/>\n",
              "  </svg>\n",
              "      </button>\n",
              "      \n",
              "  <style>\n",
              "    .colab-df-container {\n",
              "      display:flex;\n",
              "      flex-wrap:wrap;\n",
              "      gap: 12px;\n",
              "    }\n",
              "\n",
              "    .colab-df-convert {\n",
              "      background-color: #E8F0FE;\n",
              "      border: none;\n",
              "      border-radius: 50%;\n",
              "      cursor: pointer;\n",
              "      display: none;\n",
              "      fill: #1967D2;\n",
              "      height: 32px;\n",
              "      padding: 0 0 0 0;\n",
              "      width: 32px;\n",
              "    }\n",
              "\n",
              "    .colab-df-convert:hover {\n",
              "      background-color: #E2EBFA;\n",
              "      box-shadow: 0px 1px 2px rgba(60, 64, 67, 0.3), 0px 1px 3px 1px rgba(60, 64, 67, 0.15);\n",
              "      fill: #174EA6;\n",
              "    }\n",
              "\n",
              "    [theme=dark] .colab-df-convert {\n",
              "      background-color: #3B4455;\n",
              "      fill: #D2E3FC;\n",
              "    }\n",
              "\n",
              "    [theme=dark] .colab-df-convert:hover {\n",
              "      background-color: #434B5C;\n",
              "      box-shadow: 0px 1px 3px 1px rgba(0, 0, 0, 0.15);\n",
              "      filter: drop-shadow(0px 1px 2px rgba(0, 0, 0, 0.3));\n",
              "      fill: #FFFFFF;\n",
              "    }\n",
              "  </style>\n",
              "\n",
              "      <script>\n",
              "        const buttonEl =\n",
              "          document.querySelector('#df-b2509561-2eb0-4f39-8244-f8f0266b2841 button.colab-df-convert');\n",
              "        buttonEl.style.display =\n",
              "          google.colab.kernel.accessAllowed ? 'block' : 'none';\n",
              "\n",
              "        async function convertToInteractive(key) {\n",
              "          const element = document.querySelector('#df-b2509561-2eb0-4f39-8244-f8f0266b2841');\n",
              "          const dataTable =\n",
              "            await google.colab.kernel.invokeFunction('convertToInteractive',\n",
              "                                                     [key], {});\n",
              "          if (!dataTable) return;\n",
              "\n",
              "          const docLinkHtml = 'Like what you see? Visit the ' +\n",
              "            '<a target=\"_blank\" href=https://colab.research.google.com/notebooks/data_table.ipynb>data table notebook</a>'\n",
              "            + ' to learn more about interactive tables.';\n",
              "          element.innerHTML = '';\n",
              "          dataTable['output_type'] = 'display_data';\n",
              "          await google.colab.output.renderOutput(dataTable, element);\n",
              "          const docLink = document.createElement('div');\n",
              "          docLink.innerHTML = docLinkHtml;\n",
              "          element.appendChild(docLink);\n",
              "        }\n",
              "      </script>\n",
              "    </div>\n",
              "  </div>\n",
              "  "
            ]
          },
          "metadata": {},
          "execution_count": 58
        }
      ],
      "source": [
        "# read json file using pd.read_json which returns pandas DataFrame object\n",
        "json = pd.read_json(file_json1)\n",
        "json"
      ]
    },
    {
      "cell_type": "code",
      "execution_count": null,
      "metadata": {
        "colab": {
          "base_uri": "https://localhost:8080/"
        },
        "id": "4z18pHecBQ0P",
        "outputId": "82a83279-8f12-4591-9ca3-7858fddbbf8f"
      },
      "outputs": [
        {
          "output_type": "execute_result",
          "data": {
            "text/plain": [
              "0    {'firstName': 'Joe', 'lastName': 'Jackson', 'g...\n",
              "1    {'firstName': 'James', 'lastName': 'Smith', 'g...\n",
              "2    {'firstName': 'Emily', 'lastName': 'Jones', 'g...\n",
              "Name: people, dtype: object"
            ]
          },
          "metadata": {},
          "execution_count": 59
        }
      ],
      "source": [
        "# check the column \n",
        "json.people"
      ]
    },
    {
      "cell_type": "code",
      "execution_count": null,
      "metadata": {
        "colab": {
          "base_uri": "https://localhost:8080/"
        },
        "id": "W13W3g9ABtgD",
        "outputId": "72d4d895-111e-406f-c22e-faa23eafa336"
      },
      "outputs": [
        {
          "output_type": "stream",
          "name": "stdout",
          "text": [
            "{'firstName': 'Joe', 'lastName': 'Jackson', 'gender': 'male', 'age': 28, 'number': '7349282382'}\n",
            "{'firstName': 'James', 'lastName': 'Smith', 'gender': 'male', 'age': 32, 'number': '5678568567'}\n",
            "{'firstName': 'Emily', 'lastName': 'Jones', 'gender': 'female', 'age': 24, 'number': '456754675'}\n"
          ]
        }
      ],
      "source": [
        "# iterate over rows\n",
        "for row in json.people:\n",
        "  print(row)"
      ]
    },
    {
      "cell_type": "code",
      "execution_count": null,
      "metadata": {
        "colab": {
          "base_uri": "https://localhost:8080/"
        },
        "id": "P4WXdaD3CCfJ",
        "outputId": "763efce7-d6ae-4325-dc25-a467527714fc"
      },
      "outputs": [
        {
          "output_type": "execute_result",
          "data": {
            "text/plain": [
              "[{'firstName': 'Joe',\n",
              "  'lastName': 'Jackson',\n",
              "  'gender': 'male',\n",
              "  'age': 28,\n",
              "  'number': '7349282382'},\n",
              " {'firstName': 'James',\n",
              "  'lastName': 'Smith',\n",
              "  'gender': 'male',\n",
              "  'age': 32,\n",
              "  'number': '5678568567'},\n",
              " {'firstName': 'Emily',\n",
              "  'lastName': 'Jones',\n",
              "  'gender': 'female',\n",
              "  'age': 24,\n",
              "  'number': '456754675'}]"
            ]
          },
          "metadata": {},
          "execution_count": 61
        }
      ],
      "source": [
        "# we can easily create a dataframe from list of dictionaries\n",
        "# first create list of dictionaries using list comprehension\n",
        "list_of_dict = [row for row in json.people]\n",
        "list_of_dict"
      ]
    },
    {
      "cell_type": "code",
      "execution_count": null,
      "metadata": {
        "colab": {
          "base_uri": "https://localhost:8080/"
        },
        "id": "spJC_CwnCasH",
        "outputId": "f29192bf-1aa1-440a-f5e8-779849b00070"
      },
      "outputs": [
        {
          "output_type": "execute_result",
          "data": {
            "text/plain": [
              "  firstName lastName  gender  age      number\n",
              "0       Joe  Jackson    male   28  7349282382\n",
              "1     James    Smith    male   32  5678568567\n",
              "2     Emily    Jones  female   24   456754675"
            ],
            "text/html": [
              "\n",
              "  <div id=\"df-ad78166c-ffb3-4db7-87de-6391c5542073\">\n",
              "    <div class=\"colab-df-container\">\n",
              "      <div>\n",
              "<style scoped>\n",
              "    .dataframe tbody tr th:only-of-type {\n",
              "        vertical-align: middle;\n",
              "    }\n",
              "\n",
              "    .dataframe tbody tr th {\n",
              "        vertical-align: top;\n",
              "    }\n",
              "\n",
              "    .dataframe thead th {\n",
              "        text-align: right;\n",
              "    }\n",
              "</style>\n",
              "<table border=\"1\" class=\"dataframe\">\n",
              "  <thead>\n",
              "    <tr style=\"text-align: right;\">\n",
              "      <th></th>\n",
              "      <th>firstName</th>\n",
              "      <th>lastName</th>\n",
              "      <th>gender</th>\n",
              "      <th>age</th>\n",
              "      <th>number</th>\n",
              "    </tr>\n",
              "  </thead>\n",
              "  <tbody>\n",
              "    <tr>\n",
              "      <th>0</th>\n",
              "      <td>Joe</td>\n",
              "      <td>Jackson</td>\n",
              "      <td>male</td>\n",
              "      <td>28</td>\n",
              "      <td>7349282382</td>\n",
              "    </tr>\n",
              "    <tr>\n",
              "      <th>1</th>\n",
              "      <td>James</td>\n",
              "      <td>Smith</td>\n",
              "      <td>male</td>\n",
              "      <td>32</td>\n",
              "      <td>5678568567</td>\n",
              "    </tr>\n",
              "    <tr>\n",
              "      <th>2</th>\n",
              "      <td>Emily</td>\n",
              "      <td>Jones</td>\n",
              "      <td>female</td>\n",
              "      <td>24</td>\n",
              "      <td>456754675</td>\n",
              "    </tr>\n",
              "  </tbody>\n",
              "</table>\n",
              "</div>\n",
              "      <button class=\"colab-df-convert\" onclick=\"convertToInteractive('df-ad78166c-ffb3-4db7-87de-6391c5542073')\"\n",
              "              title=\"Convert this dataframe to an interactive table.\"\n",
              "              style=\"display:none;\">\n",
              "        \n",
              "  <svg xmlns=\"http://www.w3.org/2000/svg\" height=\"24px\"viewBox=\"0 0 24 24\"\n",
              "       width=\"24px\">\n",
              "    <path d=\"M0 0h24v24H0V0z\" fill=\"none\"/>\n",
              "    <path d=\"M18.56 5.44l.94 2.06.94-2.06 2.06-.94-2.06-.94-.94-2.06-.94 2.06-2.06.94zm-11 1L8.5 8.5l.94-2.06 2.06-.94-2.06-.94L8.5 2.5l-.94 2.06-2.06.94zm10 10l.94 2.06.94-2.06 2.06-.94-2.06-.94-.94-2.06-.94 2.06-2.06.94z\"/><path d=\"M17.41 7.96l-1.37-1.37c-.4-.4-.92-.59-1.43-.59-.52 0-1.04.2-1.43.59L10.3 9.45l-7.72 7.72c-.78.78-.78 2.05 0 2.83L4 21.41c.39.39.9.59 1.41.59.51 0 1.02-.2 1.41-.59l7.78-7.78 2.81-2.81c.8-.78.8-2.07 0-2.86zM5.41 20L4 18.59l7.72-7.72 1.47 1.35L5.41 20z\"/>\n",
              "  </svg>\n",
              "      </button>\n",
              "      \n",
              "  <style>\n",
              "    .colab-df-container {\n",
              "      display:flex;\n",
              "      flex-wrap:wrap;\n",
              "      gap: 12px;\n",
              "    }\n",
              "\n",
              "    .colab-df-convert {\n",
              "      background-color: #E8F0FE;\n",
              "      border: none;\n",
              "      border-radius: 50%;\n",
              "      cursor: pointer;\n",
              "      display: none;\n",
              "      fill: #1967D2;\n",
              "      height: 32px;\n",
              "      padding: 0 0 0 0;\n",
              "      width: 32px;\n",
              "    }\n",
              "\n",
              "    .colab-df-convert:hover {\n",
              "      background-color: #E2EBFA;\n",
              "      box-shadow: 0px 1px 2px rgba(60, 64, 67, 0.3), 0px 1px 3px 1px rgba(60, 64, 67, 0.15);\n",
              "      fill: #174EA6;\n",
              "    }\n",
              "\n",
              "    [theme=dark] .colab-df-convert {\n",
              "      background-color: #3B4455;\n",
              "      fill: #D2E3FC;\n",
              "    }\n",
              "\n",
              "    [theme=dark] .colab-df-convert:hover {\n",
              "      background-color: #434B5C;\n",
              "      box-shadow: 0px 1px 3px 1px rgba(0, 0, 0, 0.15);\n",
              "      filter: drop-shadow(0px 1px 2px rgba(0, 0, 0, 0.3));\n",
              "      fill: #FFFFFF;\n",
              "    }\n",
              "  </style>\n",
              "\n",
              "      <script>\n",
              "        const buttonEl =\n",
              "          document.querySelector('#df-ad78166c-ffb3-4db7-87de-6391c5542073 button.colab-df-convert');\n",
              "        buttonEl.style.display =\n",
              "          google.colab.kernel.accessAllowed ? 'block' : 'none';\n",
              "\n",
              "        async function convertToInteractive(key) {\n",
              "          const element = document.querySelector('#df-ad78166c-ffb3-4db7-87de-6391c5542073');\n",
              "          const dataTable =\n",
              "            await google.colab.kernel.invokeFunction('convertToInteractive',\n",
              "                                                     [key], {});\n",
              "          if (!dataTable) return;\n",
              "\n",
              "          const docLinkHtml = 'Like what you see? Visit the ' +\n",
              "            '<a target=\"_blank\" href=https://colab.research.google.com/notebooks/data_table.ipynb>data table notebook</a>'\n",
              "            + ' to learn more about interactive tables.';\n",
              "          element.innerHTML = '';\n",
              "          dataTable['output_type'] = 'display_data';\n",
              "          await google.colab.output.renderOutput(dataTable, element);\n",
              "          const docLink = document.createElement('div');\n",
              "          docLink.innerHTML = docLinkHtml;\n",
              "          element.appendChild(docLink);\n",
              "        }\n",
              "      </script>\n",
              "    </div>\n",
              "  </div>\n",
              "  "
            ]
          },
          "metadata": {},
          "execution_count": 62
        }
      ],
      "source": [
        "# now we can create datafreme from list of dictionaries\n",
        "df_json = pd.DataFrame(list_of_dict)\n",
        "df_json"
      ]
    },
    {
      "cell_type": "code",
      "execution_count": null,
      "metadata": {
        "id": "vy9q-wmD4PAF"
      },
      "outputs": [],
      "source": [
        "# we can do this in one step as follows\n",
        "df_json = pd.DataFrame([row for row in json.people])"
      ]
    },
    {
      "cell_type": "code",
      "execution_count": null,
      "metadata": {
        "colab": {
          "base_uri": "https://localhost:8080/"
        },
        "id": "yqv_1p4D4f0h",
        "outputId": "9f6852b4-25b4-47cf-b038-a8e305aba6c2"
      },
      "outputs": [
        {
          "output_type": "execute_result",
          "data": {
            "text/plain": [
              "  firstName lastName  gender  age      number\n",
              "0       Joe  Jackson    male   28  7349282382\n",
              "1     James    Smith    male   32  5678568567\n",
              "2     Emily    Jones  female   24   456754675"
            ],
            "text/html": [
              "\n",
              "  <div id=\"df-65792eca-fa16-424e-aeaf-0836d15aa21d\">\n",
              "    <div class=\"colab-df-container\">\n",
              "      <div>\n",
              "<style scoped>\n",
              "    .dataframe tbody tr th:only-of-type {\n",
              "        vertical-align: middle;\n",
              "    }\n",
              "\n",
              "    .dataframe tbody tr th {\n",
              "        vertical-align: top;\n",
              "    }\n",
              "\n",
              "    .dataframe thead th {\n",
              "        text-align: right;\n",
              "    }\n",
              "</style>\n",
              "<table border=\"1\" class=\"dataframe\">\n",
              "  <thead>\n",
              "    <tr style=\"text-align: right;\">\n",
              "      <th></th>\n",
              "      <th>firstName</th>\n",
              "      <th>lastName</th>\n",
              "      <th>gender</th>\n",
              "      <th>age</th>\n",
              "      <th>number</th>\n",
              "    </tr>\n",
              "  </thead>\n",
              "  <tbody>\n",
              "    <tr>\n",
              "      <th>0</th>\n",
              "      <td>Joe</td>\n",
              "      <td>Jackson</td>\n",
              "      <td>male</td>\n",
              "      <td>28</td>\n",
              "      <td>7349282382</td>\n",
              "    </tr>\n",
              "    <tr>\n",
              "      <th>1</th>\n",
              "      <td>James</td>\n",
              "      <td>Smith</td>\n",
              "      <td>male</td>\n",
              "      <td>32</td>\n",
              "      <td>5678568567</td>\n",
              "    </tr>\n",
              "    <tr>\n",
              "      <th>2</th>\n",
              "      <td>Emily</td>\n",
              "      <td>Jones</td>\n",
              "      <td>female</td>\n",
              "      <td>24</td>\n",
              "      <td>456754675</td>\n",
              "    </tr>\n",
              "  </tbody>\n",
              "</table>\n",
              "</div>\n",
              "      <button class=\"colab-df-convert\" onclick=\"convertToInteractive('df-65792eca-fa16-424e-aeaf-0836d15aa21d')\"\n",
              "              title=\"Convert this dataframe to an interactive table.\"\n",
              "              style=\"display:none;\">\n",
              "        \n",
              "  <svg xmlns=\"http://www.w3.org/2000/svg\" height=\"24px\"viewBox=\"0 0 24 24\"\n",
              "       width=\"24px\">\n",
              "    <path d=\"M0 0h24v24H0V0z\" fill=\"none\"/>\n",
              "    <path d=\"M18.56 5.44l.94 2.06.94-2.06 2.06-.94-2.06-.94-.94-2.06-.94 2.06-2.06.94zm-11 1L8.5 8.5l.94-2.06 2.06-.94-2.06-.94L8.5 2.5l-.94 2.06-2.06.94zm10 10l.94 2.06.94-2.06 2.06-.94-2.06-.94-.94-2.06-.94 2.06-2.06.94z\"/><path d=\"M17.41 7.96l-1.37-1.37c-.4-.4-.92-.59-1.43-.59-.52 0-1.04.2-1.43.59L10.3 9.45l-7.72 7.72c-.78.78-.78 2.05 0 2.83L4 21.41c.39.39.9.59 1.41.59.51 0 1.02-.2 1.41-.59l7.78-7.78 2.81-2.81c.8-.78.8-2.07 0-2.86zM5.41 20L4 18.59l7.72-7.72 1.47 1.35L5.41 20z\"/>\n",
              "  </svg>\n",
              "      </button>\n",
              "      \n",
              "  <style>\n",
              "    .colab-df-container {\n",
              "      display:flex;\n",
              "      flex-wrap:wrap;\n",
              "      gap: 12px;\n",
              "    }\n",
              "\n",
              "    .colab-df-convert {\n",
              "      background-color: #E8F0FE;\n",
              "      border: none;\n",
              "      border-radius: 50%;\n",
              "      cursor: pointer;\n",
              "      display: none;\n",
              "      fill: #1967D2;\n",
              "      height: 32px;\n",
              "      padding: 0 0 0 0;\n",
              "      width: 32px;\n",
              "    }\n",
              "\n",
              "    .colab-df-convert:hover {\n",
              "      background-color: #E2EBFA;\n",
              "      box-shadow: 0px 1px 2px rgba(60, 64, 67, 0.3), 0px 1px 3px 1px rgba(60, 64, 67, 0.15);\n",
              "      fill: #174EA6;\n",
              "    }\n",
              "\n",
              "    [theme=dark] .colab-df-convert {\n",
              "      background-color: #3B4455;\n",
              "      fill: #D2E3FC;\n",
              "    }\n",
              "\n",
              "    [theme=dark] .colab-df-convert:hover {\n",
              "      background-color: #434B5C;\n",
              "      box-shadow: 0px 1px 3px 1px rgba(0, 0, 0, 0.15);\n",
              "      filter: drop-shadow(0px 1px 2px rgba(0, 0, 0, 0.3));\n",
              "      fill: #FFFFFF;\n",
              "    }\n",
              "  </style>\n",
              "\n",
              "      <script>\n",
              "        const buttonEl =\n",
              "          document.querySelector('#df-65792eca-fa16-424e-aeaf-0836d15aa21d button.colab-df-convert');\n",
              "        buttonEl.style.display =\n",
              "          google.colab.kernel.accessAllowed ? 'block' : 'none';\n",
              "\n",
              "        async function convertToInteractive(key) {\n",
              "          const element = document.querySelector('#df-65792eca-fa16-424e-aeaf-0836d15aa21d');\n",
              "          const dataTable =\n",
              "            await google.colab.kernel.invokeFunction('convertToInteractive',\n",
              "                                                     [key], {});\n",
              "          if (!dataTable) return;\n",
              "\n",
              "          const docLinkHtml = 'Like what you see? Visit the ' +\n",
              "            '<a target=\"_blank\" href=https://colab.research.google.com/notebooks/data_table.ipynb>data table notebook</a>'\n",
              "            + ' to learn more about interactive tables.';\n",
              "          element.innerHTML = '';\n",
              "          dataTable['output_type'] = 'display_data';\n",
              "          await google.colab.output.renderOutput(dataTable, element);\n",
              "          const docLink = document.createElement('div');\n",
              "          docLink.innerHTML = docLinkHtml;\n",
              "          element.appendChild(docLink);\n",
              "        }\n",
              "      </script>\n",
              "    </div>\n",
              "  </div>\n",
              "  "
            ]
          },
          "metadata": {},
          "execution_count": 64
        }
      ],
      "source": [
        "df_json"
      ]
    },
    {
      "cell_type": "markdown",
      "metadata": {
        "id": "qzb5Eh2_uS1I"
      },
      "source": [
        "## <font color = 'dodgerblue'>**Example 2 - large file**\n",
        "Download the dataset from Kaggle using this link below  \n",
        "https://www.kaggle.com/rmisra/news-category-dataset\n",
        "Kaggle is an open-source dataset website, that requires  account sign-in.  \n",
        "\n",
        "Upload the dataset to your Google Drive from your local machine.\n",
        "We need to mount Google Drive to access files in Google drive in Colab.\n",
        "\n",
        "See  the instructions here if you want to download data from kaggle from Colab: https://www.kaggle.com/general/74235\n",
        "\n",
        "\n"
      ]
    },
    {
      "cell_type": "markdown",
      "metadata": {
        "id": "xoXRd1KN6O3P"
      },
      "source": [
        "### <font color = 'dodgerblue'>**Save file to google drive and check content**"
      ]
    },
    {
      "cell_type": "code",
      "execution_count": null,
      "metadata": {
        "colab": {
          "base_uri": "https://localhost:8080/"
        },
        "id": "4uRcdHMTfraq",
        "outputId": "85e0105b-0bb1-4e0f-b048-0160945fba91"
      },
      "outputs": [
        {
          "output_type": "stream",
          "name": "stdout",
          "text": [
            "News_Category_Dataset_v2.json.zip\n"
          ]
        }
      ],
      "source": [
        "# Look in the contents of the folder where we saved the file\n",
        "for entries in archive_folder.iterdir():\n",
        "  if 'json' in entries.name:\n",
        "    print(entries.name)"
      ]
    },
    {
      "cell_type": "code",
      "execution_count": null,
      "metadata": {
        "colab": {
          "base_uri": "https://localhost:8080/"
        },
        "id": "yL3ViijhUdec",
        "outputId": "b2e42244-0369-4ee1-a135-ddc9ae070602"
      },
      "outputs": [
        {
          "output_type": "execute_result",
          "data": {
            "text/plain": [
              "True"
            ]
          },
          "metadata": {},
          "execution_count": 66
        }
      ],
      "source": [
        "# alternatively we can check directly if the file exists in the archive folder:\n",
        "(archive_folder/'News_Category_Dataset_v2.json.zip').exists()"
      ]
    },
    {
      "cell_type": "markdown",
      "metadata": {
        "id": "9vyKAO0yKatD"
      },
      "source": [
        "### <font color = 'dodgerblue'>**Step3: Check content of zipped/tar folder**\n"
      ]
    },
    {
      "cell_type": "code",
      "execution_count": null,
      "metadata": {
        "colab": {
          "base_uri": "https://localhost:8080/"
        },
        "id": "4XbuhPF1KfF0",
        "outputId": "b9b4fa1e-de02-485a-b41b-ff740ed3a459"
      },
      "outputs": [
        {
          "output_type": "stream",
          "name": "stdout",
          "text": [
            "['News_Category_Dataset_v3.json']\n"
          ]
        }
      ],
      "source": [
        "# path for zipfile\n",
        "file = archive_folder / 'News_Category_Dataset_v2.json.zip'\n",
        "\n",
        "# use .namelist() to see the content of zipped folder\n",
        "with zipfile.ZipFile(file, 'r') as f:\n",
        "  print(f.namelist())"
      ]
    },
    {
      "cell_type": "markdown",
      "metadata": {
        "id": "iKYVgvCJ6ckZ"
      },
      "source": [
        "### <font color = 'dodgerblue'>**Step 4: unzip/untar files**"
      ]
    },
    {
      "cell_type": "code",
      "execution_count": null,
      "metadata": {
        "colab": {
          "base_uri": "https://localhost:8080/"
        },
        "id": "khdDSQZ_ETWO",
        "outputId": "694a9b18-ee73-4506-aa6e-98291785c1ab"
      },
      "outputs": [
        {
          "output_type": "stream",
          "name": "stdout",
          "text": [
            "1.34 s ± 94.5 ms per loop (mean ± std. dev. of 7 runs, 1 loop each)\n"
          ]
        }
      ],
      "source": [
        "# extract the file\n",
        "%%timeit\n",
        "file = archive_folder / 'News_Category_Dataset_v2.json.zip'\n",
        "with zipfile.ZipFile(file, 'r') as f:\n",
        "  f.extract('News_Category_Dataset_v3.json', path = data_folder)"
      ]
    },
    {
      "cell_type": "code",
      "execution_count": null,
      "metadata": {
        "id": "efzHElOZzVIs",
        "colab": {
          "base_uri": "https://localhost:8080/",
          "height": 36
        },
        "outputId": "fd088664-6fec-4925-bf7e-bfee2177c73f"
      },
      "outputs": [
        {
          "output_type": "execute_result",
          "data": {
            "text/plain": [
              "\"\\n%%timeit\\nfile = folder / 'News_Category_Dataset_v2.json'\\n!unzip -o {str(file)} -d {str(folder)}\\n\""
            ],
            "application/vnd.google.colaboratory.intrinsic+json": {
              "type": "string"
            }
          },
          "metadata": {},
          "execution_count": 70
        }
      ],
      "source": [
        "# we can also use !unzip command\n",
        "# Syntax !unzip {file} -d {location}\n",
        "# if we do not specify -d option files will be saved in current directory\n",
        "# you can uncomment the lines below if you want to compare  zipfile and !unzip commands\n",
        "'''\n",
        "%%timeit\n",
        "file = folder / 'News_Category_Dataset_v2.json'\n",
        "!unzip -o {str(file)} -d {str(folder)}\n",
        "'''"
      ]
    },
    {
      "cell_type": "markdown",
      "metadata": {
        "id": "5218RCwr6ll-"
      },
      "source": [
        "### <font color = 'dodgerblue'>**Step 5: Check content of the main file using head command**"
      ]
    },
    {
      "cell_type": "code",
      "execution_count": null,
      "metadata": {
        "colab": {
          "base_uri": "https://localhost:8080/"
        },
        "id": "CA0kHwx2YfjZ",
        "outputId": "ba1816d2-a660-46b7-a426-b131e897392e"
      },
      "outputs": [
        {
          "output_type": "stream",
          "name": "stdout",
          "text": [
            "{\"link\": \"https://www.huffpost.com/entry/covid-boosters-uptake-us_n_632d719ee4b087fae6feaac9\", \"headline\": \"Over 4 Million Americans Roll Up Sleeves For Omicron-Targeted COVID Boosters\", \"category\": \"U.S. NEWS\", \"short_description\": \"Health experts said it is too early to predict whether demand would match up with the 171 million doses of the new boosters the U.S. ordered for the fall.\", \"authors\": \"Carla K. Johnson, AP\", \"date\": \"2022-09-23\"}\n",
            "{\"link\": \"https://www.huffpost.com/entry/american-airlines-passenger-banned-flight-attendant-punch-justice-department_n_632e25d3e4b0e247890329fe\", \"headline\": \"American Airlines Flyer Charged, Banned For Life After Punching Flight Attendant On Video\", \"category\": \"U.S. NEWS\", \"short_description\": \"He was subdued by passengers and crew when he fled to the back of the aircraft after the confrontation, according to the U.S. attorney's office in Los Angeles.\", \"authors\": \"Mary Papenfuss\", \"date\": \"2022-09-23\"}\n",
            "{\"link\": \"https://www.huffpost.com/entry/funniest-tweets-cats-dogs-september-17-23_n_632de332e4b0695c1d81dc02\", \"headline\": \"23 Of The Funniest Tweets About Cats And Dogs This Week (Sept. 17-23)\", \"category\": \"COMEDY\", \"short_description\": \"\\\"Until you have a dog you don't understand what could be eaten.\\\"\", \"authors\": \"Elyse Wanshel\", \"date\": \"2022-09-23\"}\n",
            "{\"link\": \"https://www.huffpost.com/entry/funniest-parenting-tweets_l_632d7d15e4b0d12b5403e479\", \"headline\": \"The Funniest Tweets From Parents This Week (Sept. 17-23)\", \"category\": \"PARENTING\", \"short_description\": \"\\\"Accidentally put grown-up toothpaste on my toddler\\u2019s toothbrush and he screamed like I was cleaning his teeth with a Carolina Reaper dipped in Tabasco sauce.\\\"\", \"authors\": \"Caroline Bologna\", \"date\": \"2022-09-23\"}\n",
            "{\"link\": \"https://www.huffpost.com/entry/amy-cooper-loses-discrimination-lawsuit-franklin-templeton_n_632c6463e4b09d8701bd227e\", \"headline\": \"Woman Who Called Cops On Black Bird-Watcher Loses Lawsuit Against Ex-Employer\", \"category\": \"U.S. NEWS\", \"short_description\": \"Amy Cooper accused investment firm Franklin Templeton of unfairly firing her and branding her a racist after video of the Central Park encounter went viral.\", \"authors\": \"Nina Golgowski\", \"date\": \"2022-09-22\"}\n"
          ]
        }
      ],
      "source": [
        "# check content of fle using head\n",
        "file = data_folder / 'News_Category_Dataset_v3.json'\n",
        "!head {file} -n 5"
      ]
    },
    {
      "cell_type": "markdown",
      "metadata": {
        "id": "PfGPmDCbQfOW"
      },
      "source": [
        "### <font color = 'dodgerblue'>**Step6: Create pandas dataframe**"
      ]
    },
    {
      "cell_type": "code",
      "execution_count": null,
      "metadata": {
        "colab": {
          "base_uri": "https://localhost:8080/",
          "height": 250
        },
        "id": "ooVp1WWVXf2P",
        "outputId": "2e328aa8-50c0-4528-9e9c-e3dae3629901"
      },
      "outputs": [
        {
          "output_type": "execute_result",
          "data": {
            "text/plain": [
              "                                                link  \\\n",
              "0  https://www.huffpost.com/entry/covid-boosters-...   \n",
              "1  https://www.huffpost.com/entry/american-airlin...   \n",
              "2  https://www.huffpost.com/entry/funniest-tweets...   \n",
              "3  https://www.huffpost.com/entry/funniest-parent...   \n",
              "4  https://www.huffpost.com/entry/amy-cooper-lose...   \n",
              "\n",
              "                                            headline   category  \\\n",
              "0  Over 4 Million Americans Roll Up Sleeves For O...  U.S. NEWS   \n",
              "1  American Airlines Flyer Charged, Banned For Li...  U.S. NEWS   \n",
              "2  23 Of The Funniest Tweets About Cats And Dogs ...     COMEDY   \n",
              "3  The Funniest Tweets From Parents This Week (Se...  PARENTING   \n",
              "4  Woman Who Called Cops On Black Bird-Watcher Lo...  U.S. NEWS   \n",
              "\n",
              "                                   short_description               authors  \\\n",
              "0  Health experts said it is too early to predict...  Carla K. Johnson, AP   \n",
              "1  He was subdued by passengers and crew when he ...        Mary Papenfuss   \n",
              "2  \"Until you have a dog you don't understand wha...         Elyse Wanshel   \n",
              "3  \"Accidentally put grown-up toothpaste on my to...      Caroline Bologna   \n",
              "4  Amy Cooper accused investment firm Franklin Te...        Nina Golgowski   \n",
              "\n",
              "        date  \n",
              "0 2022-09-23  \n",
              "1 2022-09-23  \n",
              "2 2022-09-23  \n",
              "3 2022-09-23  \n",
              "4 2022-09-22  "
            ],
            "text/html": [
              "\n",
              "  <div id=\"df-7893f373-ed31-4702-b73c-8dc41accac0a\">\n",
              "    <div class=\"colab-df-container\">\n",
              "      <div>\n",
              "<style scoped>\n",
              "    .dataframe tbody tr th:only-of-type {\n",
              "        vertical-align: middle;\n",
              "    }\n",
              "\n",
              "    .dataframe tbody tr th {\n",
              "        vertical-align: top;\n",
              "    }\n",
              "\n",
              "    .dataframe thead th {\n",
              "        text-align: right;\n",
              "    }\n",
              "</style>\n",
              "<table border=\"1\" class=\"dataframe\">\n",
              "  <thead>\n",
              "    <tr style=\"text-align: right;\">\n",
              "      <th></th>\n",
              "      <th>link</th>\n",
              "      <th>headline</th>\n",
              "      <th>category</th>\n",
              "      <th>short_description</th>\n",
              "      <th>authors</th>\n",
              "      <th>date</th>\n",
              "    </tr>\n",
              "  </thead>\n",
              "  <tbody>\n",
              "    <tr>\n",
              "      <th>0</th>\n",
              "      <td>https://www.huffpost.com/entry/covid-boosters-...</td>\n",
              "      <td>Over 4 Million Americans Roll Up Sleeves For O...</td>\n",
              "      <td>U.S. NEWS</td>\n",
              "      <td>Health experts said it is too early to predict...</td>\n",
              "      <td>Carla K. Johnson, AP</td>\n",
              "      <td>2022-09-23</td>\n",
              "    </tr>\n",
              "    <tr>\n",
              "      <th>1</th>\n",
              "      <td>https://www.huffpost.com/entry/american-airlin...</td>\n",
              "      <td>American Airlines Flyer Charged, Banned For Li...</td>\n",
              "      <td>U.S. NEWS</td>\n",
              "      <td>He was subdued by passengers and crew when he ...</td>\n",
              "      <td>Mary Papenfuss</td>\n",
              "      <td>2022-09-23</td>\n",
              "    </tr>\n",
              "    <tr>\n",
              "      <th>2</th>\n",
              "      <td>https://www.huffpost.com/entry/funniest-tweets...</td>\n",
              "      <td>23 Of The Funniest Tweets About Cats And Dogs ...</td>\n",
              "      <td>COMEDY</td>\n",
              "      <td>\"Until you have a dog you don't understand wha...</td>\n",
              "      <td>Elyse Wanshel</td>\n",
              "      <td>2022-09-23</td>\n",
              "    </tr>\n",
              "    <tr>\n",
              "      <th>3</th>\n",
              "      <td>https://www.huffpost.com/entry/funniest-parent...</td>\n",
              "      <td>The Funniest Tweets From Parents This Week (Se...</td>\n",
              "      <td>PARENTING</td>\n",
              "      <td>\"Accidentally put grown-up toothpaste on my to...</td>\n",
              "      <td>Caroline Bologna</td>\n",
              "      <td>2022-09-23</td>\n",
              "    </tr>\n",
              "    <tr>\n",
              "      <th>4</th>\n",
              "      <td>https://www.huffpost.com/entry/amy-cooper-lose...</td>\n",
              "      <td>Woman Who Called Cops On Black Bird-Watcher Lo...</td>\n",
              "      <td>U.S. NEWS</td>\n",
              "      <td>Amy Cooper accused investment firm Franklin Te...</td>\n",
              "      <td>Nina Golgowski</td>\n",
              "      <td>2022-09-22</td>\n",
              "    </tr>\n",
              "  </tbody>\n",
              "</table>\n",
              "</div>\n",
              "      <button class=\"colab-df-convert\" onclick=\"convertToInteractive('df-7893f373-ed31-4702-b73c-8dc41accac0a')\"\n",
              "              title=\"Convert this dataframe to an interactive table.\"\n",
              "              style=\"display:none;\">\n",
              "        \n",
              "  <svg xmlns=\"http://www.w3.org/2000/svg\" height=\"24px\"viewBox=\"0 0 24 24\"\n",
              "       width=\"24px\">\n",
              "    <path d=\"M0 0h24v24H0V0z\" fill=\"none\"/>\n",
              "    <path d=\"M18.56 5.44l.94 2.06.94-2.06 2.06-.94-2.06-.94-.94-2.06-.94 2.06-2.06.94zm-11 1L8.5 8.5l.94-2.06 2.06-.94-2.06-.94L8.5 2.5l-.94 2.06-2.06.94zm10 10l.94 2.06.94-2.06 2.06-.94-2.06-.94-.94-2.06-.94 2.06-2.06.94z\"/><path d=\"M17.41 7.96l-1.37-1.37c-.4-.4-.92-.59-1.43-.59-.52 0-1.04.2-1.43.59L10.3 9.45l-7.72 7.72c-.78.78-.78 2.05 0 2.83L4 21.41c.39.39.9.59 1.41.59.51 0 1.02-.2 1.41-.59l7.78-7.78 2.81-2.81c.8-.78.8-2.07 0-2.86zM5.41 20L4 18.59l7.72-7.72 1.47 1.35L5.41 20z\"/>\n",
              "  </svg>\n",
              "      </button>\n",
              "      \n",
              "  <style>\n",
              "    .colab-df-container {\n",
              "      display:flex;\n",
              "      flex-wrap:wrap;\n",
              "      gap: 12px;\n",
              "    }\n",
              "\n",
              "    .colab-df-convert {\n",
              "      background-color: #E8F0FE;\n",
              "      border: none;\n",
              "      border-radius: 50%;\n",
              "      cursor: pointer;\n",
              "      display: none;\n",
              "      fill: #1967D2;\n",
              "      height: 32px;\n",
              "      padding: 0 0 0 0;\n",
              "      width: 32px;\n",
              "    }\n",
              "\n",
              "    .colab-df-convert:hover {\n",
              "      background-color: #E2EBFA;\n",
              "      box-shadow: 0px 1px 2px rgba(60, 64, 67, 0.3), 0px 1px 3px 1px rgba(60, 64, 67, 0.15);\n",
              "      fill: #174EA6;\n",
              "    }\n",
              "\n",
              "    [theme=dark] .colab-df-convert {\n",
              "      background-color: #3B4455;\n",
              "      fill: #D2E3FC;\n",
              "    }\n",
              "\n",
              "    [theme=dark] .colab-df-convert:hover {\n",
              "      background-color: #434B5C;\n",
              "      box-shadow: 0px 1px 3px 1px rgba(0, 0, 0, 0.15);\n",
              "      filter: drop-shadow(0px 1px 2px rgba(0, 0, 0, 0.3));\n",
              "      fill: #FFFFFF;\n",
              "    }\n",
              "  </style>\n",
              "\n",
              "      <script>\n",
              "        const buttonEl =\n",
              "          document.querySelector('#df-7893f373-ed31-4702-b73c-8dc41accac0a button.colab-df-convert');\n",
              "        buttonEl.style.display =\n",
              "          google.colab.kernel.accessAllowed ? 'block' : 'none';\n",
              "\n",
              "        async function convertToInteractive(key) {\n",
              "          const element = document.querySelector('#df-7893f373-ed31-4702-b73c-8dc41accac0a');\n",
              "          const dataTable =\n",
              "            await google.colab.kernel.invokeFunction('convertToInteractive',\n",
              "                                                     [key], {});\n",
              "          if (!dataTable) return;\n",
              "\n",
              "          const docLinkHtml = 'Like what you see? Visit the ' +\n",
              "            '<a target=\"_blank\" href=https://colab.research.google.com/notebooks/data_table.ipynb>data table notebook</a>'\n",
              "            + ' to learn more about interactive tables.';\n",
              "          element.innerHTML = '';\n",
              "          dataTable['output_type'] = 'display_data';\n",
              "          await google.colab.output.renderOutput(dataTable, element);\n",
              "          const docLink = document.createElement('div');\n",
              "          docLink.innerHTML = docLinkHtml;\n",
              "          element.appendChild(docLink);\n",
              "        }\n",
              "      </script>\n",
              "    </div>\n",
              "  </div>\n",
              "  "
            ]
          },
          "metadata": {},
          "execution_count": 72
        }
      ],
      "source": [
        "# specify file\n",
        "file  = data_folder / 'News_Category_Dataset_v3.json'\n",
        "# lines= argument is used for JSON rows that have more than one line (long lines of data in JSON Rows)\n",
        "large_json = pd.read_json(file, lines=True)\n",
        "large_json.head()"
      ]
    },
    {
      "cell_type": "markdown",
      "metadata": {
        "id": "Y9aUjJALtlec"
      },
      "source": [
        "# <font color = 'dodgerblue'>**Task 4: Get Data from multiple text files**\n",
        "Many time we will have dataset in a format where the data is stored in multiple files. For example - each review is a separate file.\n",
        "<br> We can download the data from here : http://www.cs.cornell.edu/people/pabo/movie-review-data/review_polarity.tar.gz\n",
        "\n",
        "Website :http://www.cs.cornell.edu/people/pabo/movie-review-data/ <br>\n",
        "Also availaible on : https://github.com/jbrownlee/Datasets\n",
        "\n",
        "Write a function to process this data <br>\n",
        "Output : Pandas Data Frame\n"
      ]
    },
    {
      "cell_type": "markdown",
      "metadata": {
        "id": "kSQgGWLj7P2Q"
      },
      "source": [
        "## <font color = 'dodgerblue'>**Step1: use wget to download data files from URl**"
      ]
    },
    {
      "cell_type": "code",
      "execution_count": null,
      "metadata": {
        "colab": {
          "base_uri": "https://localhost:8080/"
        },
        "id": "_SAjbkYPx3sY",
        "outputId": "99aaa509-b11a-41b4-b0af-3195ea4fcce7"
      },
      "outputs": [
        {
          "output_type": "stream",
          "name": "stdout",
          "text": [
            "--2023-03-01 17:28:35--  http://www.cs.cornell.edu/people/pabo/movie-review-data/review_polarity.tar.gz\n",
            "Resolving www.cs.cornell.edu (www.cs.cornell.edu)... 132.236.207.36\n",
            "Connecting to www.cs.cornell.edu (www.cs.cornell.edu)|132.236.207.36|:80... connected.\n",
            "HTTP request sent, awaiting response... 200 OK\n",
            "Length: 3127238 (3.0M) [application/x-gzip]\n",
            "Saving to: ‘/content/drive/MyDrive/colab_notebooks/nlp/archive/review_polarity.tar.gz’\n",
            "\n",
            "review_polarity.tar 100%[===================>]   2.98M  10.5MB/s    in 0.3s    \n",
            "\n",
            "2023-03-01 17:28:35 (10.5 MB/s) - ‘/content/drive/MyDrive/colab_notebooks/nlp/archive/review_polarity.tar.gz’ saved [3127238/3127238]\n",
            "\n"
          ]
        }
      ],
      "source": [
        "# Download a  file to the filesystem from a url using the wget commmand\n",
        "# syntax  !wget {url} -P {path_to_save_file}\n",
        "# if we do not specify -P , files will be saved in current direcory\n",
        "file = archive_folder/'review_polarity.tar.gz'\n",
        "url = 'http://www.cs.cornell.edu/people/pabo/movie-review-data/review_polarity.tar.gz'\n",
        "!wget {url} -P {archive_folder} -O {file}"
      ]
    },
    {
      "cell_type": "markdown",
      "metadata": {
        "id": "AaDs7Iy24FVl"
      },
      "source": [
        "## <font color = 'dodgerblue'>**Step2: check content of folder where data was downloaded**"
      ]
    },
    {
      "cell_type": "code",
      "execution_count": null,
      "metadata": {
        "colab": {
          "base_uri": "https://localhost:8080/"
        },
        "id": "NtAlHT61Syx_",
        "outputId": "67a55665-55ef-4b9c-fa7c-41b2f3d653b5"
      },
      "outputs": [
        {
          "output_type": "stream",
          "name": "stdout",
          "text": [
            "review_polarity (1).tar.gz\n",
            "scale_whole_review (1).tar.gz\n",
            "aclImdb_v1.tar.gz\n",
            "scale_whole_review.tar.gz\n",
            "review_polarity.tar.gz\n"
          ]
        }
      ],
      "source": [
        "# list files of google drive where data was downloaded\n",
        "for entries in archive_folder.iterdir():\n",
        "  if 'tar' in entries.name:\n",
        "    print(entries.name)"
      ]
    },
    {
      "cell_type": "code",
      "execution_count": null,
      "metadata": {
        "colab": {
          "base_uri": "https://localhost:8080/"
        },
        "id": "74ZsOMdVVBuM",
        "outputId": "3c09c749-9f34-425e-c7db-a6dbb59b8e5d"
      },
      "outputs": [
        {
          "output_type": "execute_result",
          "data": {
            "text/plain": [
              "True"
            ]
          },
          "metadata": {},
          "execution_count": 87
        }
      ],
      "source": [
        "# alternatively we can check directly if the file exists in the archive folder:\n",
        "(archive_folder/'review_polarity.tar.gz').exists()"
      ]
    },
    {
      "cell_type": "markdown",
      "metadata": {
        "id": "0bCCXRVITYRE"
      },
      "source": [
        "Since this is a tar file, we will use tarfile module to read the file\n",
        "```python\n",
        "with  tarfile.open(tar_file, 'r') as tar:\n",
        "  print(tar.getnames())\n",
        "```\n",
        "Here tar_fileis is the compressed file. We first open this file in read mode and then use file.getnames to list the content of the file"
      ]
    },
    {
      "cell_type": "markdown",
      "metadata": {
        "id": "tD5-iYBQ2YLN"
      },
      "source": [
        "## <font color = 'dodgerblue'>**Step3: Check content of zipped/tar folder**"
      ]
    },
    {
      "cell_type": "code",
      "execution_count": null,
      "metadata": {
        "collapsed": true,
        "execution": {
          "iopub.execute_input": "2022-08-29T04:21:49.554994Z",
          "iopub.status.busy": "2022-08-29T04:21:49.554754Z",
          "iopub.status.idle": "2022-08-29T04:21:49.831226Z",
          "shell.execute_reply": "2022-08-29T04:21:49.830519Z",
          "shell.execute_reply.started": "2022-08-29T04:21:49.554950Z"
        },
        "id": "soY6u82_4adm",
        "jupyter": {
          "outputs_hidden": true
        },
        "tags": []
      },
      "outputs": [],
      "source": [
        "## <font color = 'dodgerblue'>**check the content of tar file \n",
        "file = archive_folder / 'review_polarity.tar.gz'\n",
        "with  tarfile.open(file, 'r') as tar:\n",
        "  tar_names = tar.getnames()"
      ]
    },
    {
      "cell_type": "code",
      "execution_count": null,
      "metadata": {
        "colab": {
          "base_uri": "https://localhost:8080/"
        },
        "id": "n4knoSMVCS4y",
        "outputId": "97a9ce99-fd43-4ee3-a6da-bec5e8cb6a86"
      },
      "outputs": [
        {
          "output_type": "execute_result",
          "data": {
            "text/plain": [
              "['txt_sentoken/neg/cv000_29416.txt',\n",
              " 'txt_sentoken/neg/cv001_19502.txt',\n",
              " 'txt_sentoken/neg/cv002_17424.txt',\n",
              " 'txt_sentoken/neg/cv003_12683.txt',\n",
              " 'txt_sentoken/neg/cv004_12641.txt',\n",
              " 'txt_sentoken/neg/cv005_29357.txt',\n",
              " 'txt_sentoken/neg/cv006_17022.txt',\n",
              " 'txt_sentoken/neg/cv007_4992.txt',\n",
              " 'txt_sentoken/neg/cv008_29326.txt',\n",
              " 'txt_sentoken/neg/cv009_29417.txt']"
            ]
          },
          "metadata": {},
          "execution_count": 89
        }
      ],
      "source": [
        "tar_names[0:10]"
      ]
    },
    {
      "cell_type": "code",
      "execution_count": null,
      "metadata": {
        "colab": {
          "base_uri": "https://localhost:8080/"
        },
        "id": "wdKXU7lrK297",
        "outputId": "28dbb2fb-f72b-40fe-cb50-f99623253d90"
      },
      "outputs": [
        {
          "output_type": "stream",
          "name": "stdout",
          "text": [
            "2001\n"
          ]
        }
      ],
      "source": [
        "# let us check total number of files\n",
        "print(len(tar_names))"
      ]
    },
    {
      "cell_type": "code",
      "execution_count": null,
      "metadata": {
        "colab": {
          "base_uri": "https://localhost:8080/"
        },
        "id": "yoHe5wh6LF8m",
        "outputId": "e69a5f1d-b17e-4d93-a24d-2c213e714d0f"
      },
      "outputs": [
        {
          "output_type": "execute_result",
          "data": {
            "text/plain": [
              "2000"
            ]
          },
          "metadata": {},
          "execution_count": 91
        }
      ],
      "source": [
        "# it seems all the files are in a folder txt_sentoken\n",
        "# let us check our assumption\n",
        "sum([1 if file.startswith('txt_sentoken') else 0 for file in tar_names ])"
      ]
    },
    {
      "cell_type": "code",
      "execution_count": null,
      "metadata": {
        "colab": {
          "base_uri": "https://localhost:8080/"
        },
        "id": "dLX6CostMFLR",
        "outputId": "5c7eaa97-f4b1-42e1-e2a2-6fe896920b42"
      },
      "outputs": [
        {
          "output_type": "execute_result",
          "data": {
            "text/plain": [
              "['poldata.README.2.0']"
            ]
          },
          "metadata": {},
          "execution_count": 92
        }
      ],
      "source": [
        "# check the fiel that is not  in text_sentoken\n",
        "[file  for file in tar_names if not file.startswith('txt_sentoken')]"
      ]
    },
    {
      "cell_type": "markdown",
      "metadata": {
        "id": "0y-PElF-7ulo"
      },
      "source": [
        "## <font color = 'dodgerblue'>**Step 4: unzip/untar files**"
      ]
    },
    {
      "cell_type": "markdown",
      "metadata": {
        "id": "OFQkZZLlUIIh"
      },
      "source": [
        "We will now open the tar file in read mode and then use file.extractall to extract all the files\n",
        "```python\n",
        "with  tarfile.open(file, 'r') as tar:\n",
        "  tar.extractall(path = folder)\n",
        "```\n",
        "path is the location where we want to save the extracted files."
      ]
    },
    {
      "cell_type": "code",
      "execution_count": null,
      "metadata": {
        "id": "XJ9hV7AXGLq2"
      },
      "outputs": [],
      "source": [
        "# Let us extract the files from the tar file using the command below\n",
        "# the command below may take upto 10-15 minutes\n",
        "\n",
        "file = archive_folder / 'review_polarity.tar.gz'\n",
        "with  tarfile.open(file, 'r') as tar:\n",
        "  tar.extractall(path = data_folder)"
      ]
    },
    {
      "cell_type": "code",
      "execution_count": null,
      "metadata": {
        "id": "ZRd3Cnfty1ge",
        "colab": {
          "base_uri": "https://localhost:8080/",
          "height": 36
        },
        "outputId": "57d271d3-35b3-4a33-eadc-026a60c416b0"
      },
      "outputs": [
        {
          "output_type": "execute_result",
          "data": {
            "text/plain": [
              "\"\\n\\nfile = folder / 'review_polarity.tar.gz'\\n!tar xzf {str(file)} -C {str(folder)}\\n\""
            ],
            "application/vnd.google.colaboratory.intrinsic+json": {
              "type": "string"
            }
          },
          "metadata": {},
          "execution_count": 94
        }
      ],
      "source": [
        "# we can also use !tar command as below\n",
        "# We use tar xzf to to untar the compressed tar file to extract contents of the file\n",
        "#-x = extract\n",
        "#-z = gzipped archive\n",
        "#-f = get from a file\n",
        "# syntax tar xzf {file} -C {location_to_untar_files}\n",
        "# you can uncomment the lines below if you want to compare  tarfile and !tar commands\n",
        "'''\n",
        "\n",
        "file = folder / 'review_polarity.tar.gz'\n",
        "!tar xzf {str(file)} -C {str(folder)}\n",
        "'''"
      ]
    },
    {
      "cell_type": "markdown",
      "metadata": {
        "id": "1AR4H0Qm75L9"
      },
      "source": [
        "## <font color = 'dodgerblue'>**Step 4a: Understand the structure of unzipped folder/files**"
      ]
    },
    {
      "cell_type": "code",
      "execution_count": null,
      "metadata": {
        "colab": {
          "base_uri": "https://localhost:8080/"
        },
        "id": "IsduV6nSx30R",
        "outputId": "9d337e0e-7b4c-4c20-d228-f345d4606188"
      },
      "outputs": [
        {
          "output_type": "execute_result",
          "data": {
            "text/plain": [
              "True"
            ]
          },
          "metadata": {},
          "execution_count": 95
        }
      ],
      "source": [
        "# verify that the foder sent_token exists\n",
        "(data_folder/'txt_sentoken').exists()"
      ]
    },
    {
      "cell_type": "code",
      "execution_count": null,
      "metadata": {
        "colab": {
          "base_uri": "https://localhost:8080/"
        },
        "id": "KhHWkaI9HrT1",
        "outputId": "803d3662-9d7c-4054-c8d4-68dc861179e6"
      },
      "outputs": [
        {
          "output_type": "stream",
          "name": "stdout",
          "text": [
            "neg\n",
            "pos\n"
          ]
        }
      ],
      "source": [
        "# Look in the new directory named 'txt_sentoken'\n",
        "for entries in (data_folder/'txt_sentoken').iterdir():\n",
        "  print(entries.name)"
      ]
    },
    {
      "cell_type": "code",
      "execution_count": null,
      "metadata": {
        "colab": {
          "base_uri": "https://localhost:8080/"
        },
        "id": "u7tbGcdeQmkm",
        "outputId": "7cf4e945-6ca6-48f9-e394-73c260e7be79"
      },
      "outputs": [
        {
          "output_type": "execute_result",
          "data": {
            "text/plain": [
              "[PosixPath('/content/drive/MyDrive/colab_notebooks/nlp/data/txt_sentoken/neg'),\n",
              " PosixPath('/content/drive/MyDrive/colab_notebooks/nlp/data/txt_sentoken/pos')]"
            ]
          },
          "metadata": {},
          "execution_count": 97
        }
      ],
      "source": [
        "list((data_folder/'txt_sentoken').glob('*'))"
      ]
    },
    {
      "cell_type": "markdown",
      "metadata": {
        "id": "g6SJ4lEL-5am"
      },
      "source": [
        "Explanation of the code above:\n",
        "- The code is using the `glob` method from the pathlib library to find all the files in a directory. The line of code is finding all the files in a directory located at `data_folder/'txt_sentoken'`. The resulting list of file paths is then cast to a list using the list() function.\n",
        "\n",
        "- The `glob` method is a way to search for files using a wildcard (the `*` character). In this case, the `*` character is used to match all files in the directory. The resulting list of file paths will contain the paths of all the files in the `data_folder/'txt_sentoken'` directory."
      ]
    },
    {
      "cell_type": "code",
      "execution_count": null,
      "metadata": {
        "colab": {
          "base_uri": "https://localhost:8080/"
        },
        "id": "YIqtk4RcQ82S",
        "outputId": "e8fc0900-d6ed-464b-e1d9-ecef08259e58"
      },
      "outputs": [
        {
          "output_type": "execute_result",
          "data": {
            "text/plain": [
              "2002"
            ]
          },
          "metadata": {},
          "execution_count": 81
        }
      ],
      "source": [
        "# total files and folders\n",
        "len(list((data_folder/'txt_sentoken').rglob('*')))"
      ]
    },
    {
      "cell_type": "markdown",
      "metadata": {
        "id": "ScmOPyPw-5am"
      },
      "source": [
        "Explanation of the code above:\n",
        "\n",
        "The `rglob` method is a way to search for files using a wildcard (the `*` character) in a directory hierarchy. In this case, the `*` character is used to match all files in the directory hierarchy. **The `rglob` method searches recursively, so it will find all the files in the directory and all its subdirectories.** The resulting list of file paths will contain the paths of all the files in the `data_folder/'txt_sentoken'` directory hierarchy. The len() function is then used to determine the number of items in the list, which is the number of files in the directory hierarchy."
      ]
    },
    {
      "cell_type": "code",
      "execution_count": null,
      "metadata": {
        "colab": {
          "base_uri": "https://localhost:8080/"
        },
        "id": "Qe3UVe43g448",
        "outputId": "be4de102-0dc4-4254-a5f7-edebc7abdc23"
      },
      "outputs": [
        {
          "output_type": "stream",
          "name": "stdout",
          "text": [
            "cv000_29590.txt\n",
            "cv001_18431.txt\n",
            "cv002_15918.txt\n",
            "cv003_11664.txt\n",
            "cv004_11636.txt\n",
            "cv005_29443.txt\n",
            "cv006_15448.txt\n",
            "cv007_4968.txt\n",
            "cv008_29435.txt\n",
            "cv009_29592.txt\n",
            "cv010_29198.txt\n"
          ]
        }
      ],
      "source": [
        "# Look in the subdirectory named 'pos'\n",
        "i = 0\n",
        "for entries in (data_folder/'txt_sentoken'/'pos').iterdir():\n",
        "  print(entries.name)\n",
        "  i+= 1\n",
        "  if i >10:\n",
        "    break"
      ]
    },
    {
      "cell_type": "code",
      "execution_count": null,
      "metadata": {
        "colab": {
          "base_uri": "https://localhost:8080/"
        },
        "id": "SkJFGnmkPY0B",
        "outputId": "a420c45c-966f-4526-d78e-2d8233e990b8"
      },
      "outputs": [
        {
          "output_type": "execute_result",
          "data": {
            "text/plain": [
              "1000"
            ]
          },
          "metadata": {},
          "execution_count": 99
        }
      ],
      "source": [
        "# total files with extension .txt in a pos sub folder\n",
        "len(list(((data_folder/'txt_sentoken'/'pos').glob('*.txt'))))"
      ]
    },
    {
      "cell_type": "code",
      "execution_count": null,
      "metadata": {
        "colab": {
          "base_uri": "https://localhost:8080/"
        },
        "id": "v4otv_uAQV7A",
        "outputId": "3dba56fc-4eee-4f75-ffd3-e088159e678d"
      },
      "outputs": [
        {
          "output_type": "execute_result",
          "data": {
            "text/plain": [
              "1000"
            ]
          },
          "metadata": {},
          "execution_count": 100
        }
      ],
      "source": [
        "# total files with extension .txt in a neg sub folder\n",
        "len(list(((data_folder/'txt_sentoken'/'neg').glob('*.txt'))))"
      ]
    },
    {
      "cell_type": "code",
      "execution_count": null,
      "metadata": {
        "colab": {
          "base_uri": "https://localhost:8080/"
        },
        "id": "IZTnjg-BQKkq",
        "outputId": "340b26f5-4d23-4ffa-f0d8-39608060d43e"
      },
      "outputs": [
        {
          "output_type": "stream",
          "name": "stdout",
          "text": [
            "films adapted from comic books have had plenty of success , whether they're about superheroes ( batman , superman , spawn ) , or geared toward kids ( casper ) or the arthouse crowd ( ghost world ) , but there's never really been a comic book like from hell before . \n",
            "for starters , it was created by alan moore ( and eddie campbell ) , who brought the medium to a whole new level in the mid '80s with a 12-part series called the watchmen . \n",
            "to say moore and campbell thoroughly researched the subject of jack the ripper would be like saying michael jackson is starting to look a little odd . \n",
            "the book ( or \" graphic novel , \" if you will ) is over 500 pages long and includes nearly 30 more that consist of nothing but footnotes . \n",
            "in other words , don't dismiss this film because of its source . \n"
          ]
        }
      ],
      "source": [
        "# let us use the head command to get first five lines if a file\n",
        "!head {data_folder/'txt_sentoken'/'pos'/'cv000_29590.txt'} -n 5"
      ]
    },
    {
      "cell_type": "markdown",
      "metadata": {
        "id": "YLqskP6V8C7Z"
      },
      "source": [
        "## <font color = 'dodgerblue'>**Step 6a: combine all text files**"
      ]
    },
    {
      "cell_type": "markdown",
      "metadata": {
        "id": "6ltDAwMuJopt"
      },
      "source": [
        "Let us extract all the text files into a list of strings. We can do this using a for loop to iterate through all the files in a particular directory. There are two sub directories in the main directory, pos and neg. Each sub directory has multiple text files with extension .txt. Each .txt file has a single review.\n",
        "\n",
        "We will add these texts into different Python list variables as `positive_reviews` and `negative_reviews`."
      ]
    },
    {
      "cell_type": "code",
      "execution_count": null,
      "metadata": {
        "id": "X4QoCJr8L3AN"
      },
      "outputs": [],
      "source": [
        "def combine_reviews(path: Path):\n",
        "  \"\"\"\n",
        "  This function reads all text files in the given directory and returns a list of the contents of these text files.\n",
        "  \n",
        "  Arguments:\n",
        "  path (Path): Path object pointing to the directory containing the text files\n",
        "  \n",
        "  Returns:\n",
        "  list: List of strings where each string is the contents of a text file in the directory\n",
        "  \"\"\"\n",
        "  reviews = []\n",
        "\n",
        "  # Iterate over all the files in the directory\n",
        "  for file in path.iterdir():\n",
        "    # Check if the file has a '.txt' extension\n",
        "    if file.suffix == '.txt':\n",
        "      # We can open files and read or write their contents using open() function\n",
        "      # The files are opened in read-only mode for reading content\n",
        "      with open(path/file,'r') as f:\n",
        "        # We store our text from the files into the list as an element in our list\n",
        "        text = f.read()\n",
        "        # append the review to the list\n",
        "        reviews.append(text)\n",
        "  return reviews"
      ]
    },
    {
      "cell_type": "code",
      "execution_count": null,
      "metadata": {
        "id": "kUM7TrgOIRzN"
      },
      "outputs": [],
      "source": [
        "# Load positive reviews data\n",
        "path_pos = data_folder/'txt_sentoken'/'pos'\n",
        "path_neg = data_folder/'txt_sentoken'/'neg'\n",
        "positive_reviews = combine_reviews(path_pos)\n",
        "negative_reviews = combine_reviews(path_neg)"
      ]
    },
    {
      "cell_type": "code",
      "execution_count": null,
      "metadata": {
        "colab": {
          "base_uri": "https://localhost:8080/"
        },
        "id": "qrrcVbbOPhpF",
        "outputId": "1b5c23f8-f658-48c1-b801-ef65ac5bb3c6"
      },
      "outputs": [
        {
          "output_type": "execute_result",
          "data": {
            "text/plain": [
              "'1111111111'"
            ],
            "application/vnd.google.colaboratory.intrinsic+json": {
              "type": "string"
            }
          },
          "metadata": {},
          "execution_count": 104
        }
      ],
      "source": [
        "'1'*10"
      ]
    },
    {
      "cell_type": "markdown",
      "metadata": {
        "id": "blTN3EdX8JZq"
      },
      "source": [
        "## <font color = 'dodgerblue'>**Step6: Create pandas dataframe**"
      ]
    },
    {
      "cell_type": "code",
      "execution_count": null,
      "metadata": {
        "id": "ojxe_xS2HqMA"
      },
      "outputs": [],
      "source": [
        "# We will now create a Pandas DataFrame \n",
        "# We combine both the lists in order and store these in column 'Reviews'\n",
        "# the next column ('Labels') will contain the labels matching each text content\n",
        "# In the Review column, we have positive reviews followed by negative reviews\n",
        "# So when we create Labels column - we first generate list which contains string 1 \n",
        "# we repeat 1 as many time as the length of positive_reviews \n",
        "# similarly we generate a second string which contains 0's.\n",
        "# We finally concatenate these two strings and use list function to convert it to a list\n",
        "\n",
        "review_polarity = pd.DataFrame({'Reviews':positive_reviews + negative_reviews,\n",
        "                                'Labels':list('1' * len(positive_reviews) + '0' * len(negative_reviews))})"
      ]
    },
    {
      "cell_type": "code",
      "execution_count": null,
      "metadata": {
        "colab": {
          "base_uri": "https://localhost:8080/"
        },
        "id": "XRZRoADjh8r0",
        "outputId": "e2513412-d004-498c-9e1d-bbab959c110c"
      },
      "outputs": [
        {
          "output_type": "stream",
          "name": "stdout",
          "text": [
            "<class 'pandas.core.frame.DataFrame'>\n",
            "RangeIndex: 2000 entries, 0 to 1999\n",
            "Data columns (total 2 columns):\n",
            " #   Column   Non-Null Count  Dtype \n",
            "---  ------   --------------  ----- \n",
            " 0   Reviews  2000 non-null   object\n",
            " 1   Labels   2000 non-null   object\n",
            "dtypes: object(2)\n",
            "memory usage: 31.4+ KB\n"
          ]
        }
      ],
      "source": [
        "# check the infor of the dataset\n",
        "review_polarity.info()"
      ]
    },
    {
      "cell_type": "code",
      "execution_count": null,
      "metadata": {
        "colab": {
          "base_uri": "https://localhost:8080/"
        },
        "id": "ag3kkNozIvoi",
        "outputId": "60a8207b-2acf-4b52-af83-a55e6ba235cd"
      },
      "outputs": [
        {
          "output_type": "execute_result",
          "data": {
            "text/plain": [
              "Reviews    object\n",
              "Labels      int32\n",
              "dtype: object"
            ]
          },
          "metadata": {},
          "execution_count": 107
        }
      ],
      "source": [
        "# We want our labels in the review_polarity to be int32 type, we will change that here.\n",
        "review_polarity.astype({'Labels':'int32'}).dtypes"
      ]
    },
    {
      "cell_type": "code",
      "execution_count": null,
      "metadata": {
        "colab": {
          "base_uri": "https://localhost:8080/"
        },
        "id": "bUJdyJKNOB8A",
        "outputId": "29e70d14-03c3-43b3-d5bb-37b721ae36cf"
      },
      "outputs": [
        {
          "output_type": "execute_result",
          "data": {
            "text/plain": [
              "                                                Reviews Labels\n",
              "0     films adapted from comic books have had plenty...      1\n",
              "1     every now and then a movie comes along from a ...      1\n",
              "2     you've got mail works alot better than it dese...      1\n",
              "3      \" jaws \" is a rare film that grabs your atten...      1\n",
              "4     moviemaking is a lot like being the general ma...      1\n",
              "...                                                 ...    ...\n",
              "1995  if anything , \" stigmata \" should be taken as ...      0\n",
              "1996  john boorman's \" zardoz \" is a goofy cinematic...      0\n",
              "1997  the kids in the hall are an acquired taste . \\...      0\n",
              "1998  there was a time when john carpenter was a gre...      0\n",
              "1999  two party guys bob their heads to haddaway's d...      0\n",
              "\n",
              "[2000 rows x 2 columns]"
            ],
            "text/html": [
              "\n",
              "  <div id=\"df-e13c592f-8ead-45e8-95de-a25298c46aa3\">\n",
              "    <div class=\"colab-df-container\">\n",
              "      <div>\n",
              "<style scoped>\n",
              "    .dataframe tbody tr th:only-of-type {\n",
              "        vertical-align: middle;\n",
              "    }\n",
              "\n",
              "    .dataframe tbody tr th {\n",
              "        vertical-align: top;\n",
              "    }\n",
              "\n",
              "    .dataframe thead th {\n",
              "        text-align: right;\n",
              "    }\n",
              "</style>\n",
              "<table border=\"1\" class=\"dataframe\">\n",
              "  <thead>\n",
              "    <tr style=\"text-align: right;\">\n",
              "      <th></th>\n",
              "      <th>Reviews</th>\n",
              "      <th>Labels</th>\n",
              "    </tr>\n",
              "  </thead>\n",
              "  <tbody>\n",
              "    <tr>\n",
              "      <th>0</th>\n",
              "      <td>films adapted from comic books have had plenty...</td>\n",
              "      <td>1</td>\n",
              "    </tr>\n",
              "    <tr>\n",
              "      <th>1</th>\n",
              "      <td>every now and then a movie comes along from a ...</td>\n",
              "      <td>1</td>\n",
              "    </tr>\n",
              "    <tr>\n",
              "      <th>2</th>\n",
              "      <td>you've got mail works alot better than it dese...</td>\n",
              "      <td>1</td>\n",
              "    </tr>\n",
              "    <tr>\n",
              "      <th>3</th>\n",
              "      <td>\" jaws \" is a rare film that grabs your atten...</td>\n",
              "      <td>1</td>\n",
              "    </tr>\n",
              "    <tr>\n",
              "      <th>4</th>\n",
              "      <td>moviemaking is a lot like being the general ma...</td>\n",
              "      <td>1</td>\n",
              "    </tr>\n",
              "    <tr>\n",
              "      <th>...</th>\n",
              "      <td>...</td>\n",
              "      <td>...</td>\n",
              "    </tr>\n",
              "    <tr>\n",
              "      <th>1995</th>\n",
              "      <td>if anything , \" stigmata \" should be taken as ...</td>\n",
              "      <td>0</td>\n",
              "    </tr>\n",
              "    <tr>\n",
              "      <th>1996</th>\n",
              "      <td>john boorman's \" zardoz \" is a goofy cinematic...</td>\n",
              "      <td>0</td>\n",
              "    </tr>\n",
              "    <tr>\n",
              "      <th>1997</th>\n",
              "      <td>the kids in the hall are an acquired taste . \\...</td>\n",
              "      <td>0</td>\n",
              "    </tr>\n",
              "    <tr>\n",
              "      <th>1998</th>\n",
              "      <td>there was a time when john carpenter was a gre...</td>\n",
              "      <td>0</td>\n",
              "    </tr>\n",
              "    <tr>\n",
              "      <th>1999</th>\n",
              "      <td>two party guys bob their heads to haddaway's d...</td>\n",
              "      <td>0</td>\n",
              "    </tr>\n",
              "  </tbody>\n",
              "</table>\n",
              "<p>2000 rows × 2 columns</p>\n",
              "</div>\n",
              "      <button class=\"colab-df-convert\" onclick=\"convertToInteractive('df-e13c592f-8ead-45e8-95de-a25298c46aa3')\"\n",
              "              title=\"Convert this dataframe to an interactive table.\"\n",
              "              style=\"display:none;\">\n",
              "        \n",
              "  <svg xmlns=\"http://www.w3.org/2000/svg\" height=\"24px\"viewBox=\"0 0 24 24\"\n",
              "       width=\"24px\">\n",
              "    <path d=\"M0 0h24v24H0V0z\" fill=\"none\"/>\n",
              "    <path d=\"M18.56 5.44l.94 2.06.94-2.06 2.06-.94-2.06-.94-.94-2.06-.94 2.06-2.06.94zm-11 1L8.5 8.5l.94-2.06 2.06-.94-2.06-.94L8.5 2.5l-.94 2.06-2.06.94zm10 10l.94 2.06.94-2.06 2.06-.94-2.06-.94-.94-2.06-.94 2.06-2.06.94z\"/><path d=\"M17.41 7.96l-1.37-1.37c-.4-.4-.92-.59-1.43-.59-.52 0-1.04.2-1.43.59L10.3 9.45l-7.72 7.72c-.78.78-.78 2.05 0 2.83L4 21.41c.39.39.9.59 1.41.59.51 0 1.02-.2 1.41-.59l7.78-7.78 2.81-2.81c.8-.78.8-2.07 0-2.86zM5.41 20L4 18.59l7.72-7.72 1.47 1.35L5.41 20z\"/>\n",
              "  </svg>\n",
              "      </button>\n",
              "      \n",
              "  <style>\n",
              "    .colab-df-container {\n",
              "      display:flex;\n",
              "      flex-wrap:wrap;\n",
              "      gap: 12px;\n",
              "    }\n",
              "\n",
              "    .colab-df-convert {\n",
              "      background-color: #E8F0FE;\n",
              "      border: none;\n",
              "      border-radius: 50%;\n",
              "      cursor: pointer;\n",
              "      display: none;\n",
              "      fill: #1967D2;\n",
              "      height: 32px;\n",
              "      padding: 0 0 0 0;\n",
              "      width: 32px;\n",
              "    }\n",
              "\n",
              "    .colab-df-convert:hover {\n",
              "      background-color: #E2EBFA;\n",
              "      box-shadow: 0px 1px 2px rgba(60, 64, 67, 0.3), 0px 1px 3px 1px rgba(60, 64, 67, 0.15);\n",
              "      fill: #174EA6;\n",
              "    }\n",
              "\n",
              "    [theme=dark] .colab-df-convert {\n",
              "      background-color: #3B4455;\n",
              "      fill: #D2E3FC;\n",
              "    }\n",
              "\n",
              "    [theme=dark] .colab-df-convert:hover {\n",
              "      background-color: #434B5C;\n",
              "      box-shadow: 0px 1px 3px 1px rgba(0, 0, 0, 0.15);\n",
              "      filter: drop-shadow(0px 1px 2px rgba(0, 0, 0, 0.3));\n",
              "      fill: #FFFFFF;\n",
              "    }\n",
              "  </style>\n",
              "\n",
              "      <script>\n",
              "        const buttonEl =\n",
              "          document.querySelector('#df-e13c592f-8ead-45e8-95de-a25298c46aa3 button.colab-df-convert');\n",
              "        buttonEl.style.display =\n",
              "          google.colab.kernel.accessAllowed ? 'block' : 'none';\n",
              "\n",
              "        async function convertToInteractive(key) {\n",
              "          const element = document.querySelector('#df-e13c592f-8ead-45e8-95de-a25298c46aa3');\n",
              "          const dataTable =\n",
              "            await google.colab.kernel.invokeFunction('convertToInteractive',\n",
              "                                                     [key], {});\n",
              "          if (!dataTable) return;\n",
              "\n",
              "          const docLinkHtml = 'Like what you see? Visit the ' +\n",
              "            '<a target=\"_blank\" href=https://colab.research.google.com/notebooks/data_table.ipynb>data table notebook</a>'\n",
              "            + ' to learn more about interactive tables.';\n",
              "          element.innerHTML = '';\n",
              "          dataTable['output_type'] = 'display_data';\n",
              "          await google.colab.output.renderOutput(dataTable, element);\n",
              "          const docLink = document.createElement('div');\n",
              "          docLink.innerHTML = docLinkHtml;\n",
              "          element.appendChild(docLink);\n",
              "        }\n",
              "      </script>\n",
              "    </div>\n",
              "  </div>\n",
              "  "
            ]
          },
          "metadata": {},
          "execution_count": 108
        }
      ],
      "source": [
        "# Let us look at our DataFrame\n",
        "review_polarity"
      ]
    },
    {
      "cell_type": "markdown",
      "metadata": {
        "id": "A75JSK6y0dnt"
      },
      "source": [
        "# <font color = 'dodgerblue'>**Task 5: Get Data from multiple CSV files**\n",
        "In this task, we will understand how to extract multiple csv files at once and organize them in a single Dataset.  "
      ]
    },
    {
      "cell_type": "markdown",
      "metadata": {
        "id": "M5Dt4G1t18FV"
      },
      "source": [
        "Let us download our dataset from this source  \n",
        "http://kavita-ganesan.com/entity-ranking-data/#.YNJs5nVKj_f\n",
        "\n",
        "The dataset contains a zip file with two folders that each contain multiple csv files. \n",
        "\n",
        "The exact URL for the dataset: https://github.com/kavgan/OpinRank/archive/refs/heads/master.zip"
      ]
    },
    {
      "cell_type": "markdown",
      "metadata": {
        "id": "NfOngd6Q8TqF"
      },
      "source": [
        "## <font color = 'dodgerblue'>**Step1: use wget to download data files from URl**"
      ]
    },
    {
      "cell_type": "code",
      "execution_count": null,
      "metadata": {
        "colab": {
          "base_uri": "https://localhost:8080/"
        },
        "id": "kZZ8qWl3jW3x",
        "outputId": "27abba40-cf77-454f-de7b-4a84a46c7c37"
      },
      "outputs": [
        {
          "output_type": "stream",
          "name": "stdout",
          "text": [
            "--2023-03-01 17:29:42--  https://github.com/kavgan/OpinRank/archive/refs/heads/master.zip\n",
            "Resolving github.com (github.com)... 140.82.113.4\n",
            "Connecting to github.com (github.com)|140.82.113.4|:443... connected.\n",
            "HTTP request sent, awaiting response... 302 Found\n",
            "Location: https://codeload.github.com/kavgan/OpinRank/zip/refs/heads/master [following]\n",
            "--2023-03-01 17:29:42--  https://codeload.github.com/kavgan/OpinRank/zip/refs/heads/master\n",
            "Resolving codeload.github.com (codeload.github.com)... 140.82.112.9\n",
            "Connecting to codeload.github.com (codeload.github.com)|140.82.112.9|:443... connected.\n",
            "HTTP request sent, awaiting response... 200 OK\n",
            "Length: unspecified [application/zip]\n",
            "Saving to: ‘/content/drive/MyDrive/colab_notebooks/nlp/archive/master.zip’\n",
            "\n",
            "master.zip              [           <=>      ]  98.78M  48.6MB/s    in 2.0s    \n",
            "\n",
            "2023-03-01 17:29:48 (48.6 MB/s) - ‘/content/drive/MyDrive/colab_notebooks/nlp/archive/master.zip’ saved [103574688]\n",
            "\n"
          ]
        }
      ],
      "source": [
        "# Download a .csv file to our filesystem from a url using the wget commmand\n",
        "# syntax\n",
        "# !wget {url} -P {path_to_save_file}\n",
        "# if we do not specify -P , files will be saved in current direcory\n",
        "file = archive_folder/'master.zip'\n",
        "url = 'https://github.com/kavgan/OpinRank/archive/refs/heads/master.zip'\n",
        "!wget {url}  -P {archive_folder} -O {file}"
      ]
    },
    {
      "cell_type": "markdown",
      "metadata": {
        "id": "1nu0XM4G8i_z"
      },
      "source": [
        "## <font color = 'dodgerblue'>**Step2: check content of folder where data was downloaded**"
      ]
    },
    {
      "cell_type": "code",
      "execution_count": null,
      "metadata": {
        "colab": {
          "base_uri": "https://localhost:8080/"
        },
        "id": "rLw2YqFq125i",
        "outputId": "257d59a6-ccde-4126-a13d-70628de27264"
      },
      "outputs": [
        {
          "output_type": "stream",
          "name": "stdout",
          "text": [
            "COVID-19.zip\n",
            "trainingandtestdata (1).zip\n",
            "master (1).zip\n",
            "SMS_spam.zip\n",
            "trainingandtestdata.zip\n",
            "master.zip\n",
            "News_Category_Dataset_v2.json.zip\n"
          ]
        }
      ],
      "source": [
        "# list files of directory\n",
        "for entries in archive_folder.iterdir():\n",
        "  if 'zip' in entries.name:\n",
        "    print(entries.name)"
      ]
    },
    {
      "cell_type": "code",
      "execution_count": null,
      "metadata": {
        "colab": {
          "base_uri": "https://localhost:8080/"
        },
        "id": "aFM23_odTUPp",
        "outputId": "87800d0a-dbd5-4ac0-b786-6aac0f9dbfa4"
      },
      "outputs": [
        {
          "output_type": "execute_result",
          "data": {
            "text/plain": [
              "True"
            ]
          },
          "metadata": {},
          "execution_count": 111
        }
      ],
      "source": [
        "# alternatively we can check if the file exists\n",
        "(archive_folder/'master.zip').exists()"
      ]
    },
    {
      "cell_type": "markdown",
      "metadata": {
        "id": "BcU11iBF2cCq"
      },
      "source": [
        "## <font color = 'dodgerblue'>**Step3: Check content of zipped/tar folder**"
      ]
    },
    {
      "cell_type": "code",
      "execution_count": null,
      "metadata": {
        "colab": {
          "base_uri": "https://localhost:8080/"
        },
        "id": "TtaBB0sP2TfL",
        "outputId": "fa81301e-f9e0-44d2-ea28-dbdedbcb6f95"
      },
      "outputs": [
        {
          "output_type": "stream",
          "name": "stdout",
          "text": [
            "['OpinRank-master/', 'OpinRank-master/OpinRankDatasetWithJudgments.zip', 'OpinRank-master/README.md']\n"
          ]
        }
      ],
      "source": [
        "# check content of zip file \n",
        "file = archive_folder / 'master.zip'\n",
        "with zipfile.ZipFile(file, 'r') as f:\n",
        "  print(f.namelist())"
      ]
    },
    {
      "cell_type": "markdown",
      "metadata": {
        "id": "nNwsQfXY8njz"
      },
      "source": [
        "## <font color = 'dodgerblue'>**Step 4: unzip/untar files**"
      ]
    },
    {
      "cell_type": "code",
      "execution_count": null,
      "metadata": {
        "id": "wE5OVoOY2Q3L"
      },
      "outputs": [],
      "source": [
        "# unzip file master.zip\n",
        "file = archive_folder / 'master.zip'\n",
        "with zipfile.ZipFile(file, 'r') as f:\n",
        "  f.extractall(path = data_folder)"
      ]
    },
    {
      "cell_type": "code",
      "execution_count": null,
      "metadata": {
        "colab": {
          "base_uri": "https://localhost:8080/"
        },
        "id": "YRt4um2zPoLt",
        "outputId": "33c1a3a6-5645-4f1a-b7f5-d1b71a287f09"
      },
      "outputs": [
        {
          "output_type": "stream",
          "name": "stdout",
          "text": [
            "OpinRank-master\n"
          ]
        }
      ],
      "source": [
        "for entries in data_folder.iterdir():\n",
        "  if 'master' in entries.name:\n",
        "    print(entries.name)"
      ]
    },
    {
      "cell_type": "code",
      "execution_count": null,
      "metadata": {
        "colab": {
          "base_uri": "https://localhost:8080/"
        },
        "id": "2Z9oCAPXTR3M",
        "outputId": "3057b47f-ba45-45e6-fa5d-41601d6dd8aa"
      },
      "outputs": [
        {
          "output_type": "stream",
          "name": "stdout",
          "text": [
            "OpinRankDatasetWithJudgments.zip\n",
            "README.md\n"
          ]
        }
      ],
      "source": [
        "for entries in (data_folder/'OpinRank-master').iterdir():\n",
        "  print(entries.name)"
      ]
    },
    {
      "cell_type": "code",
      "execution_count": null,
      "metadata": {
        "collapsed": true,
        "id": "nDg5rG1RZeCv",
        "jupyter": {
          "outputs_hidden": true
        },
        "tags": []
      },
      "outputs": [],
      "source": [
        "# check content of zip file \n",
        "file = data_folder / 'OpinRank-master'/'OpinRankDatasetWithJudgments.zip'\n",
        "with zipfile.ZipFile(file, 'r') as f:\n",
        "  file_names = f.namelist()"
      ]
    },
    {
      "cell_type": "code",
      "execution_count": null,
      "metadata": {
        "id": "e8VLm5GhV9uS",
        "colab": {
          "base_uri": "https://localhost:8080/"
        },
        "outputId": "e053ceed-95f5-433a-96e4-a30d12279bd2"
      },
      "outputs": [
        {
          "output_type": "execute_result",
          "data": {
            "text/plain": [
              "['OpinRankDatasetWithJudgments.pdf',\n",
              " 'cars/data/',\n",
              " 'cars/data/2007.csv',\n",
              " 'cars/data/2007/',\n",
              " 'cars/data/2007/2007_acura_mdx',\n",
              " 'cars/data/2007/2007_acura_rdx',\n",
              " 'cars/data/2007/2007_acura_rl',\n",
              " 'cars/data/2007/2007_acura_tl',\n",
              " 'cars/data/2007/2007_acura_tsx',\n",
              " 'cars/data/2007/2007_audi_a3']"
            ]
          },
          "metadata": {},
          "execution_count": 124
        }
      ],
      "source": [
        "file_names[0:10]"
      ]
    },
    {
      "cell_type": "code",
      "execution_count": null,
      "metadata": {
        "id": "He3Fkty-aLXs"
      },
      "outputs": [],
      "source": [
        "# Since the zipped file has multiple files and subfolders, we will extract everything in a sub-folder\n",
        "# create a new sub-directory\n",
        "(data_folder/'opinrank').mkdir(exist_ok=True)"
      ]
    },
    {
      "cell_type": "code",
      "execution_count": null,
      "metadata": {
        "id": "QhTJV5CDRvtt"
      },
      "outputs": [],
      "source": [
        "# unzip file OpinRank-master/OpinRankDatasetWithJudgments.zip\n",
        "# this cell can take up to 25 mins to execute\n",
        "\n",
        "file = data_folder / 'OpinRank-master' / 'OpinRankDatasetWithJudgments.zip'\n",
        "with zipfile.ZipFile(file, 'r') as f:\n",
        "  f.extractall(path = data_folder/'opinrank')"
      ]
    },
    {
      "cell_type": "markdown",
      "metadata": {
        "id": "S_tsy0MR8sd4"
      },
      "source": [
        "## <font color = 'dodgerblue'>**Step 4a: Understand the structure of unzipped folder/files**"
      ]
    },
    {
      "cell_type": "code",
      "execution_count": null,
      "metadata": {
        "colab": {
          "base_uri": "https://localhost:8080/"
        },
        "id": "qL5mb-3ddnyn",
        "outputId": "9e058523-350c-45c7-ccd7-e1b177bcfa6e"
      },
      "outputs": [
        {
          "output_type": "stream",
          "name": "stdout",
          "text": [
            "OpinRankDatasetWithJudgments.pdf\n",
            "cars\n",
            "OpinRankDatasetWithJudgments.doc\n",
            "hotels\n"
          ]
        }
      ],
      "source": [
        "# get directory names and file names in  a folder\n",
        "# if you want sub directories and files in subdirectories as well then use rglob\n",
        "# to get \n",
        "for i in (data_folder/'opinrank').glob('*'):\n",
        "     print(i.name)"
      ]
    },
    {
      "cell_type": "code",
      "execution_count": null,
      "metadata": {
        "colab": {
          "base_uri": "https://localhost:8080/"
        },
        "id": "hUqW_rGPllgD",
        "outputId": "8830cd34-4144-40f0-e7a1-3bb6b447706c"
      },
      "outputs": [
        {
          "output_type": "stream",
          "name": "stdout",
          "text": [
            "/content/drive/MyDrive/colab_notebooks/nlp/data/opinrank/cars\n",
            "/content/drive/MyDrive/colab_notebooks/nlp/data/opinrank/hotels\n",
            "/content/drive/MyDrive/colab_notebooks/nlp/data/opinrank/cars/data\n",
            "/content/drive/MyDrive/colab_notebooks/nlp/data/opinrank/cars/judgments\n",
            "/content/drive/MyDrive/colab_notebooks/nlp/data/opinrank/cars/data/2007\n",
            "/content/drive/MyDrive/colab_notebooks/nlp/data/opinrank/cars/data/2008\n",
            "/content/drive/MyDrive/colab_notebooks/nlp/data/opinrank/cars/data/2009\n",
            "/content/drive/MyDrive/colab_notebooks/nlp/data/opinrank/cars/judgments/2007\n",
            "/content/drive/MyDrive/colab_notebooks/nlp/data/opinrank/cars/judgments/2008\n",
            "/content/drive/MyDrive/colab_notebooks/nlp/data/opinrank/cars/judgments/2009\n",
            "/content/drive/MyDrive/colab_notebooks/nlp/data/opinrank/hotels/data\n",
            "/content/drive/MyDrive/colab_notebooks/nlp/data/opinrank/hotels/judgments\n",
            "/content/drive/MyDrive/colab_notebooks/nlp/data/opinrank/hotels/data/beijing\n",
            "/content/drive/MyDrive/colab_notebooks/nlp/data/opinrank/hotels/data/chicago\n",
            "/content/drive/MyDrive/colab_notebooks/nlp/data/opinrank/hotels/data/dubai\n",
            "/content/drive/MyDrive/colab_notebooks/nlp/data/opinrank/hotels/data/las-vegas\n",
            "/content/drive/MyDrive/colab_notebooks/nlp/data/opinrank/hotels/data/london\n",
            "/content/drive/MyDrive/colab_notebooks/nlp/data/opinrank/hotels/data/montreal\n",
            "/content/drive/MyDrive/colab_notebooks/nlp/data/opinrank/hotels/data/new-delhi\n",
            "/content/drive/MyDrive/colab_notebooks/nlp/data/opinrank/hotels/data/new-york-city\n",
            "/content/drive/MyDrive/colab_notebooks/nlp/data/opinrank/hotels/data/san-francisco\n",
            "/content/drive/MyDrive/colab_notebooks/nlp/data/opinrank/hotels/data/shanghai\n",
            "/content/drive/MyDrive/colab_notebooks/nlp/data/opinrank/hotels/judgments/beijing\n",
            "/content/drive/MyDrive/colab_notebooks/nlp/data/opinrank/hotels/judgments/chicago\n",
            "/content/drive/MyDrive/colab_notebooks/nlp/data/opinrank/hotels/judgments/dubai\n",
            "/content/drive/MyDrive/colab_notebooks/nlp/data/opinrank/hotels/judgments/las-vegas\n",
            "/content/drive/MyDrive/colab_notebooks/nlp/data/opinrank/hotels/judgments/london\n",
            "/content/drive/MyDrive/colab_notebooks/nlp/data/opinrank/hotels/judgments/montreal\n",
            "/content/drive/MyDrive/colab_notebooks/nlp/data/opinrank/hotels/judgments/new-delhi\n",
            "/content/drive/MyDrive/colab_notebooks/nlp/data/opinrank/hotels/judgments/new-york-city\n",
            "/content/drive/MyDrive/colab_notebooks/nlp/data/opinrank/hotels/judgments/san-francisco\n",
            "/content/drive/MyDrive/colab_notebooks/nlp/data/opinrank/hotels/judgments/shanghai\n"
          ]
        }
      ],
      "source": [
        "import os\n",
        "# list directories and sub directories\n",
        "for dir, subdirs, files in os.walk(data_folder/'opinrank'):\n",
        "      for subdir in subdirs:\n",
        "        print(os.path.join(dir, subdir))"
      ]
    },
    {
      "cell_type": "code",
      "execution_count": null,
      "metadata": {
        "colab": {
          "base_uri": "https://localhost:8080/"
        },
        "id": "u4ZT5_gxStgX",
        "outputId": "d7ca8f88-f20a-438e-cef5-6cba610adc53"
      },
      "outputs": [
        {
          "output_type": "stream",
          "name": "stdout",
          "text": [
            "2007.csv\n",
            "2007\n",
            "2008.csv\n",
            "2008\n",
            "2009.csv\n",
            "2009\n"
          ]
        }
      ],
      "source": [
        "# let us see the fles  in data folder\n",
        "for entries in (data_folder/'opinrank'/'cars'/'data').iterdir():\n",
        "  print(entries.name)"
      ]
    },
    {
      "cell_type": "markdown",
      "metadata": {
        "id": "P9HTmB8v851j"
      },
      "source": [
        "## <font color = 'dodgerblue'>**Step 5: Create pandas dataframe**"
      ]
    },
    {
      "cell_type": "code",
      "execution_count": null,
      "metadata": {
        "id": "QhrBeMm-8gII"
      },
      "outputs": [],
      "source": [
        "# we will combine 2007.csv, 2008,csv and 2009.csv\n",
        "\n",
        "# We use the below command to read all the csv files in the data directory \n",
        "# and store in a pandas dataframe.\n",
        "# Create a dictionary to store different csv files\n",
        "\n",
        "path = data_folder/'opinrank'/'cars'/'data'\n",
        "\n",
        "df = {} # dictionary of dataframes\n",
        "i = 0\n",
        "for file in path.iterdir():\n",
        "  if file.suffix == '.csv':\n",
        "    df[i] = pd.read_csv(file)\n",
        "    i += 1  \n",
        "\n",
        " "
      ]
    },
    {
      "cell_type": "code",
      "execution_count": null,
      "metadata": {
        "colab": {
          "base_uri": "https://localhost:8080/",
          "height": 423
        },
        "id": "gMydkV30C84o",
        "outputId": "905bcbaa-3616-4bee-d60c-858dcd09468f"
      },
      "outputs": [
        {
          "output_type": "execute_result",
          "data": {
            "text/plain": [
              "                      docid  year  num_reviews  FUEL  INTERIOR  EXTERIOR  \\\n",
              "0            2007_acura_mdx  2007          169  7.43      9.18      8.95   \n",
              "1            2007_acura_rdx  2007          164  6.52      9.30      8.99   \n",
              "2             2007_acura_rl  2007           22  7.77      9.86      9.64   \n",
              "3             2007_acura_tl  2007          151  8.01      9.25      9.42   \n",
              "4            2007_acura_tsx  2007           56  8.25      9.50      9.09   \n",
              "..                      ...   ...          ...   ...       ...       ...   \n",
              "593  2009_volkswagen_passat  2009           18  8.11      8.72      9.22   \n",
              "594  2009_volkswagen_rabbit  2009           30  7.23      9.27      8.97   \n",
              "595  2009_volkswagen_routan  2009           47  7.70      9.21      9.32   \n",
              "596  2009_volkswagen_tiguan  2009           88  8.20      9.24      9.48   \n",
              "597          2009_volvo_c70  2009           16  7.88      9.00      9.75   \n",
              "\n",
              "     BUILD  PERFORMANCE  COMFORT  RELIABILITY   FUN  overall_rating  \n",
              "0     9.11         9.11     9.16         9.29  9.07            8.91  \n",
              "1     9.24         9.24     9.02         9.36  9.38            8.88  \n",
              "2     9.86         9.18     9.59         9.64  9.41            9.37  \n",
              "3     8.87         9.03     9.15         9.36  9.23            9.04  \n",
              "4     9.50         9.09     9.30         9.66  9.38            9.22  \n",
              "..     ...          ...      ...          ...   ...             ...  \n",
              "593   8.72         8.89     8.78         8.33  9.06            8.73  \n",
              "594   9.10         9.03     8.87         8.73  9.27            8.81  \n",
              "595   8.64         8.87     9.62         8.94  9.26            8.94  \n",
              "596   9.23         9.39     9.33         9.11  9.45            9.18  \n",
              "597   9.56         8.25     9.13         9.31  9.13            9.00  \n",
              "\n",
              "[598 rows x 12 columns]"
            ],
            "text/html": [
              "\n",
              "  <div id=\"df-cf9686cd-1a5b-4342-8315-b14022e66a01\">\n",
              "    <div class=\"colab-df-container\">\n",
              "      <div>\n",
              "<style scoped>\n",
              "    .dataframe tbody tr th:only-of-type {\n",
              "        vertical-align: middle;\n",
              "    }\n",
              "\n",
              "    .dataframe tbody tr th {\n",
              "        vertical-align: top;\n",
              "    }\n",
              "\n",
              "    .dataframe thead th {\n",
              "        text-align: right;\n",
              "    }\n",
              "</style>\n",
              "<table border=\"1\" class=\"dataframe\">\n",
              "  <thead>\n",
              "    <tr style=\"text-align: right;\">\n",
              "      <th></th>\n",
              "      <th>docid</th>\n",
              "      <th>year</th>\n",
              "      <th>num_reviews</th>\n",
              "      <th>FUEL</th>\n",
              "      <th>INTERIOR</th>\n",
              "      <th>EXTERIOR</th>\n",
              "      <th>BUILD</th>\n",
              "      <th>PERFORMANCE</th>\n",
              "      <th>COMFORT</th>\n",
              "      <th>RELIABILITY</th>\n",
              "      <th>FUN</th>\n",
              "      <th>overall_rating</th>\n",
              "    </tr>\n",
              "  </thead>\n",
              "  <tbody>\n",
              "    <tr>\n",
              "      <th>0</th>\n",
              "      <td>2007_acura_mdx</td>\n",
              "      <td>2007</td>\n",
              "      <td>169</td>\n",
              "      <td>7.43</td>\n",
              "      <td>9.18</td>\n",
              "      <td>8.95</td>\n",
              "      <td>9.11</td>\n",
              "      <td>9.11</td>\n",
              "      <td>9.16</td>\n",
              "      <td>9.29</td>\n",
              "      <td>9.07</td>\n",
              "      <td>8.91</td>\n",
              "    </tr>\n",
              "    <tr>\n",
              "      <th>1</th>\n",
              "      <td>2007_acura_rdx</td>\n",
              "      <td>2007</td>\n",
              "      <td>164</td>\n",
              "      <td>6.52</td>\n",
              "      <td>9.30</td>\n",
              "      <td>8.99</td>\n",
              "      <td>9.24</td>\n",
              "      <td>9.24</td>\n",
              "      <td>9.02</td>\n",
              "      <td>9.36</td>\n",
              "      <td>9.38</td>\n",
              "      <td>8.88</td>\n",
              "    </tr>\n",
              "    <tr>\n",
              "      <th>2</th>\n",
              "      <td>2007_acura_rl</td>\n",
              "      <td>2007</td>\n",
              "      <td>22</td>\n",
              "      <td>7.77</td>\n",
              "      <td>9.86</td>\n",
              "      <td>9.64</td>\n",
              "      <td>9.86</td>\n",
              "      <td>9.18</td>\n",
              "      <td>9.59</td>\n",
              "      <td>9.64</td>\n",
              "      <td>9.41</td>\n",
              "      <td>9.37</td>\n",
              "    </tr>\n",
              "    <tr>\n",
              "      <th>3</th>\n",
              "      <td>2007_acura_tl</td>\n",
              "      <td>2007</td>\n",
              "      <td>151</td>\n",
              "      <td>8.01</td>\n",
              "      <td>9.25</td>\n",
              "      <td>9.42</td>\n",
              "      <td>8.87</td>\n",
              "      <td>9.03</td>\n",
              "      <td>9.15</td>\n",
              "      <td>9.36</td>\n",
              "      <td>9.23</td>\n",
              "      <td>9.04</td>\n",
              "    </tr>\n",
              "    <tr>\n",
              "      <th>4</th>\n",
              "      <td>2007_acura_tsx</td>\n",
              "      <td>2007</td>\n",
              "      <td>56</td>\n",
              "      <td>8.25</td>\n",
              "      <td>9.50</td>\n",
              "      <td>9.09</td>\n",
              "      <td>9.50</td>\n",
              "      <td>9.09</td>\n",
              "      <td>9.30</td>\n",
              "      <td>9.66</td>\n",
              "      <td>9.38</td>\n",
              "      <td>9.22</td>\n",
              "    </tr>\n",
              "    <tr>\n",
              "      <th>...</th>\n",
              "      <td>...</td>\n",
              "      <td>...</td>\n",
              "      <td>...</td>\n",
              "      <td>...</td>\n",
              "      <td>...</td>\n",
              "      <td>...</td>\n",
              "      <td>...</td>\n",
              "      <td>...</td>\n",
              "      <td>...</td>\n",
              "      <td>...</td>\n",
              "      <td>...</td>\n",
              "      <td>...</td>\n",
              "    </tr>\n",
              "    <tr>\n",
              "      <th>593</th>\n",
              "      <td>2009_volkswagen_passat</td>\n",
              "      <td>2009</td>\n",
              "      <td>18</td>\n",
              "      <td>8.11</td>\n",
              "      <td>8.72</td>\n",
              "      <td>9.22</td>\n",
              "      <td>8.72</td>\n",
              "      <td>8.89</td>\n",
              "      <td>8.78</td>\n",
              "      <td>8.33</td>\n",
              "      <td>9.06</td>\n",
              "      <td>8.73</td>\n",
              "    </tr>\n",
              "    <tr>\n",
              "      <th>594</th>\n",
              "      <td>2009_volkswagen_rabbit</td>\n",
              "      <td>2009</td>\n",
              "      <td>30</td>\n",
              "      <td>7.23</td>\n",
              "      <td>9.27</td>\n",
              "      <td>8.97</td>\n",
              "      <td>9.10</td>\n",
              "      <td>9.03</td>\n",
              "      <td>8.87</td>\n",
              "      <td>8.73</td>\n",
              "      <td>9.27</td>\n",
              "      <td>8.81</td>\n",
              "    </tr>\n",
              "    <tr>\n",
              "      <th>595</th>\n",
              "      <td>2009_volkswagen_routan</td>\n",
              "      <td>2009</td>\n",
              "      <td>47</td>\n",
              "      <td>7.70</td>\n",
              "      <td>9.21</td>\n",
              "      <td>9.32</td>\n",
              "      <td>8.64</td>\n",
              "      <td>8.87</td>\n",
              "      <td>9.62</td>\n",
              "      <td>8.94</td>\n",
              "      <td>9.26</td>\n",
              "      <td>8.94</td>\n",
              "    </tr>\n",
              "    <tr>\n",
              "      <th>596</th>\n",
              "      <td>2009_volkswagen_tiguan</td>\n",
              "      <td>2009</td>\n",
              "      <td>88</td>\n",
              "      <td>8.20</td>\n",
              "      <td>9.24</td>\n",
              "      <td>9.48</td>\n",
              "      <td>9.23</td>\n",
              "      <td>9.39</td>\n",
              "      <td>9.33</td>\n",
              "      <td>9.11</td>\n",
              "      <td>9.45</td>\n",
              "      <td>9.18</td>\n",
              "    </tr>\n",
              "    <tr>\n",
              "      <th>597</th>\n",
              "      <td>2009_volvo_c70</td>\n",
              "      <td>2009</td>\n",
              "      <td>16</td>\n",
              "      <td>7.88</td>\n",
              "      <td>9.00</td>\n",
              "      <td>9.75</td>\n",
              "      <td>9.56</td>\n",
              "      <td>8.25</td>\n",
              "      <td>9.13</td>\n",
              "      <td>9.31</td>\n",
              "      <td>9.13</td>\n",
              "      <td>9.00</td>\n",
              "    </tr>\n",
              "  </tbody>\n",
              "</table>\n",
              "<p>598 rows × 12 columns</p>\n",
              "</div>\n",
              "      <button class=\"colab-df-convert\" onclick=\"convertToInteractive('df-cf9686cd-1a5b-4342-8315-b14022e66a01')\"\n",
              "              title=\"Convert this dataframe to an interactive table.\"\n",
              "              style=\"display:none;\">\n",
              "        \n",
              "  <svg xmlns=\"http://www.w3.org/2000/svg\" height=\"24px\"viewBox=\"0 0 24 24\"\n",
              "       width=\"24px\">\n",
              "    <path d=\"M0 0h24v24H0V0z\" fill=\"none\"/>\n",
              "    <path d=\"M18.56 5.44l.94 2.06.94-2.06 2.06-.94-2.06-.94-.94-2.06-.94 2.06-2.06.94zm-11 1L8.5 8.5l.94-2.06 2.06-.94-2.06-.94L8.5 2.5l-.94 2.06-2.06.94zm10 10l.94 2.06.94-2.06 2.06-.94-2.06-.94-.94-2.06-.94 2.06-2.06.94z\"/><path d=\"M17.41 7.96l-1.37-1.37c-.4-.4-.92-.59-1.43-.59-.52 0-1.04.2-1.43.59L10.3 9.45l-7.72 7.72c-.78.78-.78 2.05 0 2.83L4 21.41c.39.39.9.59 1.41.59.51 0 1.02-.2 1.41-.59l7.78-7.78 2.81-2.81c.8-.78.8-2.07 0-2.86zM5.41 20L4 18.59l7.72-7.72 1.47 1.35L5.41 20z\"/>\n",
              "  </svg>\n",
              "      </button>\n",
              "      \n",
              "  <style>\n",
              "    .colab-df-container {\n",
              "      display:flex;\n",
              "      flex-wrap:wrap;\n",
              "      gap: 12px;\n",
              "    }\n",
              "\n",
              "    .colab-df-convert {\n",
              "      background-color: #E8F0FE;\n",
              "      border: none;\n",
              "      border-radius: 50%;\n",
              "      cursor: pointer;\n",
              "      display: none;\n",
              "      fill: #1967D2;\n",
              "      height: 32px;\n",
              "      padding: 0 0 0 0;\n",
              "      width: 32px;\n",
              "    }\n",
              "\n",
              "    .colab-df-convert:hover {\n",
              "      background-color: #E2EBFA;\n",
              "      box-shadow: 0px 1px 2px rgba(60, 64, 67, 0.3), 0px 1px 3px 1px rgba(60, 64, 67, 0.15);\n",
              "      fill: #174EA6;\n",
              "    }\n",
              "\n",
              "    [theme=dark] .colab-df-convert {\n",
              "      background-color: #3B4455;\n",
              "      fill: #D2E3FC;\n",
              "    }\n",
              "\n",
              "    [theme=dark] .colab-df-convert:hover {\n",
              "      background-color: #434B5C;\n",
              "      box-shadow: 0px 1px 3px 1px rgba(0, 0, 0, 0.15);\n",
              "      filter: drop-shadow(0px 1px 2px rgba(0, 0, 0, 0.3));\n",
              "      fill: #FFFFFF;\n",
              "    }\n",
              "  </style>\n",
              "\n",
              "      <script>\n",
              "        const buttonEl =\n",
              "          document.querySelector('#df-cf9686cd-1a5b-4342-8315-b14022e66a01 button.colab-df-convert');\n",
              "        buttonEl.style.display =\n",
              "          google.colab.kernel.accessAllowed ? 'block' : 'none';\n",
              "\n",
              "        async function convertToInteractive(key) {\n",
              "          const element = document.querySelector('#df-cf9686cd-1a5b-4342-8315-b14022e66a01');\n",
              "          const dataTable =\n",
              "            await google.colab.kernel.invokeFunction('convertToInteractive',\n",
              "                                                     [key], {});\n",
              "          if (!dataTable) return;\n",
              "\n",
              "          const docLinkHtml = 'Like what you see? Visit the ' +\n",
              "            '<a target=\"_blank\" href=https://colab.research.google.com/notebooks/data_table.ipynb>data table notebook</a>'\n",
              "            + ' to learn more about interactive tables.';\n",
              "          element.innerHTML = '';\n",
              "          dataTable['output_type'] = 'display_data';\n",
              "          await google.colab.output.renderOutput(dataTable, element);\n",
              "          const docLink = document.createElement('div');\n",
              "          docLink.innerHTML = docLinkHtml;\n",
              "          element.appendChild(docLink);\n",
              "        }\n",
              "      </script>\n",
              "    </div>\n",
              "  </div>\n",
              "  "
            ]
          },
          "metadata": {},
          "execution_count": 132
        }
      ],
      "source": [
        "# Concatenate all datasets into a single dataframe\n",
        "dataset = pd.concat(df, ignore_index=True)\n",
        "dataset"
      ]
    },
    {
      "cell_type": "markdown",
      "metadata": {
        "id": "PnoYxZo3nZb1"
      },
      "source": [
        "# <font color = 'dodgerblue'>**Summary:**\n",
        "\n",
        "- Step1: use !wget to download data files from URl\n",
        "- Step2: check content of folder where data was downloaded (iterate over Pathlib path using iterdir() and use file.name attribute to check name of files/folders)\n",
        "- Step3: Check content of zipped/tar folder.\n",
        " - Open file using  with ```zipfile.ZipFile(file, 'r')``` or with  ```tarfile.open(file, 'r')```\n",
        " - check content using ``file.namelist()`` for zip files and ``file.getnames()`` for tar files)\n",
        "- Step 4: unzip/untar files\n",
        " - open zip/tar files\n",
        " - use ``extract``/``extractall`` for  single/multiple files\n",
        "- Step 4a: Understand the structure of unzipped folder/files (only required if data ia stored in multiple folders and files).\n",
        "- Step 5: Check content of the main file using head command.\n",
        "- Step 6a: combine all text files ( if data is stored in multiple files).\n",
        "- Step6: Create pandas dataframe\n",
        "\n",
        "Note : We can read the content of text file using \n",
        "\n",
        "```\n",
        "with open(path/file,'r') as f:\n",
        " text = f.read()\n",
        "```\n",
        "\n",
        "\n",
        "\n",
        "\n",
        "\n",
        "\n",
        "\n",
        "\n"
      ]
    },
    {
      "cell_type": "markdown",
      "metadata": {
        "id": "dF_gW587NNsr"
      },
      "source": [
        "# References \n",
        "\n",
        "https://realpython.com/working-with-files-in-python/#directory-listing-in-modern-python-versions\n",
        "\n",
        "https://realpython.com/python-pathlib/#moving-and-deleting-files"
      ]
    }
  ],
  "metadata": {
    "colab": {
      "provenance": [],
      "collapsed_sections": [
        "Y9aUjJALtlec",
        "1AR4H0Qm75L9",
        "YLqskP6V8C7Z",
        "blTN3EdX8JZq",
        "A75JSK6y0dnt"
      ],
      "include_colab_link": true
    },
    "kernelspec": {
      "display_name": "Python 3 (ipykernel)",
      "language": "python",
      "name": "python3"
    },
    "language_info": {
      "codemirror_mode": {
        "name": "ipython",
        "version": 3
      },
      "file_extension": ".py",
      "mimetype": "text/x-python",
      "name": "python",
      "nbconvert_exporter": "python",
      "pygments_lexer": "ipython3",
      "version": "3.10.6"
    }
  },
  "nbformat": 4,
  "nbformat_minor": 0
}