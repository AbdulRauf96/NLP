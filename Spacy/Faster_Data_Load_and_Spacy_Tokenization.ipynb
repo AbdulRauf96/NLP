{
  "cells": [
    {
      "cell_type": "markdown",
      "metadata": {
        "id": "JmvijURlnQOq"
      },
      "source": [
        "# <font color = 'dodgerblue'>**Tokenization approaches spacy - Real Dataset**"
      ]
    },
    {
      "cell_type": "markdown",
      "metadata": {
        "id": "dsuaOxU-tG5D"
      },
      "source": [
        "# <font color = 'dodgerblue'>**Install/Import Libraries**"
      ]
    },
    {
      "cell_type": "code",
      "execution_count": null,
      "metadata": {
        "colab": {
          "base_uri": "https://localhost:8080/"
        },
        "id": "SYkzEkPRwVbC",
        "outputId": "2fc2e55d-4717-4e86-d108-62f0332abc85"
      },
      "outputs": [
        {
          "output_type": "stream",
          "name": "stdout",
          "text": [
            "\u001b[?25l     \u001b[90m━━━━━━━━━━━━━━━━━━━━━━━━━━━━━━━━━━━━━━━━\u001b[0m \u001b[32m0.0/6.7 MB\u001b[0m \u001b[31m?\u001b[0m eta \u001b[36m-:--:--\u001b[0m\r\u001b[2K     \u001b[91m━━━━━━━━━━━━━━━━\u001b[0m\u001b[90m╺\u001b[0m\u001b[90m━━━━━━━━━━━━━━━━━━━━━━━\u001b[0m \u001b[32m2.8/6.7 MB\u001b[0m \u001b[31m82.7 MB/s\u001b[0m eta \u001b[36m0:00:01\u001b[0m\r\u001b[2K     \u001b[91m━━━━━━━━━━━━━━━━━━━━━━━━━━━━━━━━━━━━━━━\u001b[0m\u001b[91m╸\u001b[0m \u001b[32m6.7/6.7 MB\u001b[0m \u001b[31m123.7 MB/s\u001b[0m eta \u001b[36m0:00:01\u001b[0m\r\u001b[2K     \u001b[90m━━━━━━━━━━━━━━━━━━━━━━━━━━━━━━━━━━━━━━━━\u001b[0m \u001b[32m6.7/6.7 MB\u001b[0m \u001b[31m72.9 MB/s\u001b[0m eta \u001b[36m0:00:00\u001b[0m\n",
            "\u001b[?25h\u001b[31mERROR: pip's dependency resolver does not currently take into account all the packages that are installed. This behaviour is the source of the following dependency conflicts.\n",
            "en-core-web-sm 3.4.1 requires spacy<3.5.0,>=3.4.0, but you have spacy 3.5.0 which is incompatible.\u001b[0m\u001b[31m\n",
            "\u001b[2K     \u001b[90m━━━━━━━━━━━━━━━━━━━━━━━━━━━━━━━━━━━━━━\u001b[0m \u001b[32m830.9/830.9 KB\u001b[0m \u001b[31m18.2 MB/s\u001b[0m eta \u001b[36m0:00:00\u001b[0m\n",
            "\u001b[?25h  Preparing metadata (setup.py) ... \u001b[?25l\u001b[?25hdone\n",
            "\u001b[2K     \u001b[90m━━━━━━━━━━━━━━━━━━━━━━━━━━━━━━━━━━━━━━\u001b[0m \u001b[32m280.2/280.2 KB\u001b[0m \u001b[31m19.5 MB/s\u001b[0m eta \u001b[36m0:00:00\u001b[0m\n",
            "\u001b[2K     \u001b[90m━━━━━━━━━━━━━━━━━━━━━━━━━━━━━━━━━━━━━━━━\u001b[0m \u001b[32m1.6/1.6 MB\u001b[0m \u001b[31m47.4 MB/s\u001b[0m eta \u001b[36m0:00:00\u001b[0m\n",
            "\u001b[?25h  Building wheel for swifter (setup.py) ... \u001b[?25l\u001b[?25hdone\n"
          ]
        }
      ],
      "source": [
        "# install spacy\n",
        "if 'google.colab' in str(get_ipython()):\n",
        "    %pip install -U spacy -qq\n",
        "    %pip install swifter -qq"
      ]
    },
    {
      "cell_type": "code",
      "execution_count": null,
      "metadata": {
        "colab": {
          "base_uri": "https://localhost:8080/"
        },
        "id": "kV1KnxhOMK-0",
        "outputId": "d006b682-0a4f-419f-9dca-bcf41b709aeb"
      },
      "outputs": [
        {
          "output_type": "stream",
          "name": "stderr",
          "text": [
            "/usr/local/lib/python3.8/dist-packages/torch/cuda/__init__.py:497: UserWarning: Can't initialize NVML\n",
            "  warnings.warn(\"Can't initialize NVML\")\n"
          ]
        }
      ],
      "source": [
        "# Import the Path module from the pathlib library\n",
        "from pathlib import Path\n",
        "\n",
        "# Import the tarfile module for working with tar files\n",
        "import tarfile\n",
        "\n",
        "# Import the pandas library for working with data frames\n",
        "import pandas as pd\n",
        "\n",
        "# Import the spacy library for natural language processing\n",
        "import spacy\n",
        "\n",
        "# Import the List type from the typing module to use in function annotations\n",
        "from typing import List\n",
        "\n",
        "# Import the swifter package to speed up data processing tasks on pandas DataFrame and Series objects\n",
        "import swifter"
      ]
    },
    {
      "cell_type": "code",
      "execution_count": null,
      "metadata": {
        "colab": {
          "base_uri": "https://localhost:8080/",
          "height": 36
        },
        "id": "fRNfn9z_wXzL",
        "outputId": "c0751746-831c-44e6-ba53-8aeeb4413109"
      },
      "outputs": [
        {
          "output_type": "execute_result",
          "data": {
            "text/plain": [
              "'3.5.0'"
            ],
            "application/vnd.google.colaboratory.intrinsic+json": {
              "type": "string"
            }
          },
          "metadata": {},
          "execution_count": 3
        }
      ],
      "source": [
        "# check spacy version\n",
        "spacy.__version__"
      ]
    },
    {
      "cell_type": "markdown",
      "metadata": {
        "id": "ZPlVYFpMtG5G"
      },
      "source": [
        "# <font color = 'dodgerblue'>**Specify Data Folders**"
      ]
    },
    {
      "cell_type": "code",
      "execution_count": null,
      "metadata": {
        "colab": {
          "base_uri": "https://localhost:8080/"
        },
        "id": "12evQUDmH6Ls",
        "outputId": "56e8f55f-c5e9-42d5-f9c2-310bfbac0208"
      },
      "outputs": [
        {
          "output_type": "stream",
          "name": "stdout",
          "text": [
            "Drive already mounted at /content/drive; to attempt to forcibly remount, call drive.mount(\"/content/drive\", force_remount=True).\n"
          ]
        }
      ],
      "source": [
        "# Use for normal projects\n",
        "from pathlib import Path\n",
        "if 'google.colab' in str(get_ipython()):\n",
        "  from google.colab import drive\n",
        "  drive.mount('/content/drive') \n",
        "  base_folder = Path('/content/drive/MyDrive/colab_notebooks/')\n",
        "  subject = 'nlp'\n",
        "  data = base_folder/subject/'data/'\n",
        "  archive = base_folder/subject/'archive/'\n",
        "  output = base_folder/subject/'output'\n",
        "else:\n",
        "  base_folder = Path('C:/Users/Abdul Rauf Maroof/OneDrive/Documents/MSBA')\n",
        "  data = base_folder/subject/'data/'\n",
        "  archive = base_folder/subject/'archive/'\n",
        "  output = base_folder/subject/'output'"
      ]
    },
    {
      "cell_type": "markdown",
      "metadata": {
        "id": "HFKDGciTtG5H"
      },
      "source": [
        "# <font color = 'dodgerblue'>**Download Data**"
      ]
    },
    {
      "cell_type": "markdown",
      "metadata": {
        "id": "SKzDNaMotG5I"
      },
      "source": [
        "## <font color = 'dodgerblue'>**Step1: use wget to download data files from URl**"
      ]
    },
    {
      "cell_type": "code",
      "execution_count": null,
      "metadata": {
        "id": "PohONaOSnQOv"
      },
      "outputs": [],
      "source": [
        "# complete data link: http://ai.stanford.edu/~amaas/data/sentiment/aclImdb_v1.tar.gz\n",
        "\n",
        "url='https://ai.stanford.edu/~amaas/data/sentiment/aclImdb_v1.tar.gz'\n",
        "file = archive/'aclImdb_v1.tar.gz'\n",
        "if not file.exists(): # check if file already exists\n",
        "    !wget {url} -P {archive_folder} -O {file}"
      ]
    },
    {
      "cell_type": "markdown",
      "metadata": {
        "id": "JhlYUsmLtG5I"
      },
      "source": [
        "## <font color = 'dodgerblue'>**Step2: check content of folder where data was downloaded**"
      ]
    },
    {
      "cell_type": "code",
      "execution_count": null,
      "metadata": {
        "colab": {
          "base_uri": "https://localhost:8080/"
        },
        "id": "4xkupv_fMp-A",
        "outputId": "8a9c5631-1bda-47e1-9e63-5e74588b4ef3"
      },
      "outputs": [
        {
          "output_type": "stream",
          "name": "stdout",
          "text": [
            "review_polarity (1).tar.gz\n",
            "scale_whole_review (1).tar.gz\n",
            "aclImdb_v1.tar.gz\n",
            "scale_whole_review.tar.gz\n",
            "review_polarity.tar.gz\n"
          ]
        }
      ],
      "source": [
        "# list files of google drive where data was downloaded\n",
        "for entries in archive.iterdir():\n",
        "  if 'tar' in  entries.name:\n",
        "    print(entries.name)"
      ]
    },
    {
      "cell_type": "markdown",
      "metadata": {
        "id": "AVxNHnvNtG5J"
      },
      "source": [
        "## <font color = 'dodgerblue'>**Step3: Check content of zipped/tar folder**"
      ]
    },
    {
      "cell_type": "code",
      "execution_count": null,
      "metadata": {
        "id": "_ljHkApdf45D"
      },
      "outputs": [],
      "source": [
        "# create a pathlib object for the file we want to untar\n",
        "file = archive/'aclImdb_v1.tar.gz'"
      ]
    },
    {
      "cell_type": "code",
      "execution_count": null,
      "metadata": {
        "id": "hP-CcZhkNtqS"
      },
      "outputs": [],
      "source": [
        "# Extract files using tarfile library \n",
        "# you can skip running this cell\n",
        "with  tarfile.open(file, 'r') as tar:\n",
        "  tar_file_names = tar.getnames()"
      ]
    },
    {
      "cell_type": "code",
      "execution_count": null,
      "metadata": {
        "colab": {
          "base_uri": "https://localhost:8080/"
        },
        "id": "Xeg8ptD7tG5K",
        "outputId": "a9254f4a-fddd-4f05-a39a-d039210a95b0"
      },
      "outputs": [
        {
          "output_type": "execute_result",
          "data": {
            "text/plain": [
              "['aclImdb',\n",
              " 'aclImdb/test',\n",
              " 'aclImdb/train',\n",
              " 'aclImdb/test/neg',\n",
              " 'aclImdb/test/pos',\n",
              " 'aclImdb/train/neg',\n",
              " 'aclImdb/train/pos',\n",
              " 'aclImdb/train/unsup',\n",
              " 'aclImdb/imdbEr.txt',\n",
              " 'aclImdb/imdb.vocab']"
            ]
          },
          "metadata": {},
          "execution_count": 16
        }
      ],
      "source": [
        "tar_file_names[0:10]"
      ]
    },
    {
      "cell_type": "code",
      "execution_count": null,
      "metadata": {
        "id": "UvU16E9iEFJI"
      },
      "outputs": [],
      "source": [
        "with  tarfile.open(file, 'r') as tar:\n",
        "  tar_file_members = tar.getmembers()"
      ]
    },
    {
      "cell_type": "markdown",
      "metadata": {
        "id": "qypz1ABltG5K"
      },
      "source": [
        "## <font color = 'dodgerblue'>**Step 4: unzip/untar files**"
      ]
    },
    {
      "cell_type": "code",
      "execution_count": null,
      "metadata": {
        "id": "7-KrwS6LtG5K"
      },
      "outputs": [],
      "source": [
        "# file = archive/'aclImdb_v1.tar.gz'\n",
        "# with tarfile.open(file, 'r') as tar:\n",
        "#     tar.extractall(path = data)"
      ]
    },
    {
      "cell_type": "code",
      "execution_count": null,
      "metadata": {
        "id": "H1_shA7zEFJJ"
      },
      "outputs": [],
      "source": [
        "# this cell can take time to run if you are running this for first time\n",
        "file = archive/'aclImdb_v1.tar.gz'\n",
        "with tarfile.open(file, 'r') as tar:\n",
        "    # Get the list of names of members in the tar file\n",
        "    member_names = tar.getnames()\n",
        "    # Loop over each member name\n",
        "    for member_name in member_names:\n",
        "        # Get the path of the current member\n",
        "        member_path = data / member_name\n",
        "        # Extract the current member only if it does not already exist\n",
        "        if not member_path.exists():\n",
        "            tar.extract(member_name, path=data)"
      ]
    },
    {
      "cell_type": "markdown",
      "metadata": {
        "id": "r-0d0ANKEFJJ"
      },
      "source": [
        "Here is an explanation of the code:\n",
        "\n",
        "- `with tarfile.open(file, 'r') as tar:`: This line opens the tar archive file specified by file in read mode, and creates a TarFile object, which is stored in the variable tar. The with statement is used to ensure that the tar file is properly closed when the code inside the block is finished executing.\n",
        "\n",
        "- `member_names = tar.getnames()`: This line retrieves a list of names of the members in the tar archive, and stores it in the variable member_names.\n",
        "\n",
        "- `for member_name in member_names:` : This line starts a for loop that iterates over each member name in the list member_names.\n",
        "\n",
        "- `member_path = data_folder / member_name`: This line creates a Path object that represents the path of the current member in the loop, using the data_folder variable and the current member_name variable.\n",
        "\n",
        "- `if not member_path.exists():`: This line checks if the path represented by member_path exists.\n",
        "\n",
        "- `tar.extract(member_name, path=data_folder)`: If the path does not exist, this line extracts the current member from the tar archive and saves it to the data_folder path."
      ]
    },
    {
      "cell_type": "markdown",
      "metadata": {
        "id": "LNUCbr6ctG5K"
      },
      "source": [
        "## <font color = 'dodgerblue'>**Step 5: Understand the structure of unzipped folder**"
      ]
    },
    {
      "cell_type": "code",
      "execution_count": null,
      "metadata": {
        "colab": {
          "base_uri": "https://localhost:8080/"
        },
        "id": "TiZiGj2XWCuP",
        "outputId": "9c6f94b0-8a8d-4aa3-f463-dc2468dd87d0"
      },
      "outputs": [
        {
          "output_type": "stream",
          "name": "stdout",
          "text": [
            "/content/drive/MyDrive/colab_notebooks/nlp/data/aclImdb\n",
            "/content/drive/MyDrive/colab_notebooks/nlp/data/aclImdb/test\n",
            "/content/drive/MyDrive/colab_notebooks/nlp/data/aclImdb/test/neg\n",
            "/content/drive/MyDrive/colab_notebooks/nlp/data/aclImdb/test/pos\n",
            "/content/drive/MyDrive/colab_notebooks/nlp/data/aclImdb/train\n",
            "/content/drive/MyDrive/colab_notebooks/nlp/data/aclImdb/train/neg\n",
            "/content/drive/MyDrive/colab_notebooks/nlp/data/aclImdb/train/pos\n",
            "/content/drive/MyDrive/colab_notebooks/nlp/data/aclImdb/train/unsup\n"
          ]
        }
      ],
      "source": [
        "# we will use rglob which will help us to specify the pattern to search \n",
        "# ** - Recursively matches zero or more directories that fall under the current directory.\n",
        "for entries in (data/'aclImdb').rglob('**'):\n",
        "  print(entries)"
      ]
    },
    {
      "cell_type": "markdown",
      "metadata": {
        "id": "OM1zroiftG5L"
      },
      "source": [
        "Explanation of the code:\n",
        "- The `rglob` method is used to perform a recursive search for files and directories, and \n",
        "- ``'**'` argument is used to match all subdirectories."
      ]
    },
    {
      "cell_type": "markdown",
      "metadata": {
        "id": "9byVLN91EFJK"
      },
      "source": [
        "## <font color = 'dodgerblue'>**Step 6a: combine all text files and create dataframe**"
      ]
    },
    {
      "cell_type": "code",
      "execution_count": null,
      "metadata": {
        "id": "YzY317aymD8y"
      },
      "outputs": [],
      "source": [
        "# Function to combine reviews from multiple text files\n",
        "# the concepts were covered in first lecture\n",
        "\n",
        "def get_reviews(path: Path) -> List[str]:\n",
        "    \"\"\"\n",
        "    This function takes a directory path and returns a list of strings, \n",
        "    where each string is the contents of a '.txt' file in the directory.\n",
        "    \n",
        "    Parameters:\n",
        "    - path (Path): The directory path to search for '.txt' files\n",
        "    \n",
        "    Returns:\n",
        "    - List[str]: A list of strings, where each string is the contents of a '.txt' file in the directory\n",
        "    \"\"\"\n",
        "    reviews = []  # list to store the contents of each '.txt' file\n",
        "    \n",
        "    # loop through all the entries in the directory\n",
        "    for file in path.iterdir():    \n",
        "        # check if the entry is a '.txt' file\n",
        "        if file.suffix == '.txt':\n",
        "            # open the file and read its contents\n",
        "            with open(path/file,'r') as f:\n",
        "                text = f.read()        \n",
        "                # add the contents to the list of reviews\n",
        "                reviews.append(text)\n",
        "    \n",
        "    # return the list of reviews\n",
        "    return reviews"
      ]
    },
    {
      "cell_type": "code",
      "execution_count": null,
      "metadata": {
        "id": "45-GfJYFm8l8"
      },
      "outputs": [],
      "source": [
        "# Function to create dataframe from extracted list of files\n",
        "\n",
        "def make_dataframe(folder: Path) -> pd.DataFrame:\n",
        "    \"\"\"\n",
        "    This function takes a directory path and returns a Pandas DataFrame with two columns: 'Reviews' and 'Labels'. \n",
        "    The 'Reviews' column contains the contents of all '.txt' files in the 'pos' and 'neg' subdirectories of the input \n",
        "    folder, concatenated together. The 'Labels' column contains binary labels indicating whether the corresponding \n",
        "    review is positive (1) or negative (0).\n",
        "    \n",
        "    Parameters:\n",
        "    - folder (Path): The directory path containing the 'pos' and 'neg' subdirectories\n",
        "    \n",
        "    Returns:\n",
        "    - pd.DataFrame: A Pandas DataFrame with two columns: 'Reviews' and 'Labels'\n",
        "    \"\"\"\n",
        "    # Get the reviews from the 'pos' and 'neg' subdirectories\n",
        "    positive_reviews = get_reviews(folder / 'pos')\n",
        "    negative_reviews = get_reviews(folder / 'neg')\n",
        "    \n",
        "    # Create the DataFrame with the combined reviews and binary labels\n",
        "    data = pd.DataFrame({'Reviews':positive_reviews + negative_reviews,\n",
        "                        'Labels':list('1' * len(positive_reviews) + '0' * len(negative_reviews))})\n",
        "    # Convert the 'Labels' column to integer type\n",
        "    data['Labels'] = data['Labels'].astype('int32')\n",
        "    \n",
        "    # Return the DataFrame\n",
        "    return data"
      ]
    },
    {
      "cell_type": "code",
      "execution_count": null,
      "metadata": {
        "id": "D8-g7KRCOZtu"
      },
      "outputs": [],
      "source": [
        "# this cell can take 15 mins to run\n",
        "# create a train data set\n",
        "train_data = make_dataframe(data/'aclImdb/train')"
      ]
    },
    {
      "cell_type": "code",
      "execution_count": null,
      "metadata": {
        "id": "-TDApzIGPskg"
      },
      "outputs": [],
      "source": [
        "# create a test data set\n",
        "test_data = make_dataframe(data/'aclImdb/test')"
      ]
    },
    {
      "cell_type": "markdown",
      "metadata": {
        "id": "wuEIakxYtG5M"
      },
      "source": [
        "### <font color = 'dodgerblue'>**Save dataframe to csv file**"
      ]
    },
    {
      "cell_type": "code",
      "execution_count": null,
      "metadata": {
        "id": "oyfyaHJzPyr1"
      },
      "outputs": [],
      "source": [
        "train_data.to_csv(data/'aclImdb'/'train.csv')"
      ]
    },
    {
      "cell_type": "code",
      "execution_count": null,
      "metadata": {
        "id": "u63dIAG2QOr5"
      },
      "outputs": [],
      "source": [
        "test_data.to_csv(data/'aclImdb'/'test.csv')"
      ]
    },
    {
      "cell_type": "code",
      "execution_count": null,
      "metadata": {
        "colab": {
          "base_uri": "https://localhost:8080/"
        },
        "id": "wnwKwAlNOe_M",
        "outputId": "e0e32395-9e30-4286-fb81-ca5331fff92f"
      },
      "outputs": [
        {
          "output_type": "stream",
          "name": "stdout",
          "text": [
            "<class 'pandas.core.frame.DataFrame'>\n",
            "RangeIndex: 25000 entries, 0 to 24999\n",
            "Data columns (total 2 columns):\n",
            " #   Column   Non-Null Count  Dtype \n",
            "---  ------   --------------  ----- \n",
            " 0   Reviews  25000 non-null  object\n",
            " 1   Labels   25000 non-null  int32 \n",
            "dtypes: int32(1), object(1)\n",
            "memory usage: 293.1+ KB\n"
          ]
        }
      ],
      "source": [
        "train_data.info()"
      ]
    },
    {
      "cell_type": "markdown",
      "metadata": {
        "id": "D3sRlk1-tG5N"
      },
      "source": [
        "# <font color = 'dodgerblue'>**Load csv file**"
      ]
    },
    {
      "cell_type": "code",
      "execution_count": null,
      "metadata": {
        "id": "Gk3U6aAbhMa7"
      },
      "outputs": [],
      "source": [
        "train_data = pd.read_csv(data/ 'aclImdb'/'train.csv', index_col=0)"
      ]
    },
    {
      "cell_type": "code",
      "execution_count": null,
      "metadata": {
        "colab": {
          "base_uri": "https://localhost:8080/"
        },
        "id": "_y_5hja-nQO4",
        "outputId": "47508809-0943-411d-87e9-5e258ecad73f"
      },
      "outputs": [
        {
          "output_type": "execute_result",
          "data": {
            "text/plain": [
              "(25000, 2)"
            ]
          },
          "metadata": {},
          "execution_count": 56
        }
      ],
      "source": [
        "# Printing shape of dataframe\n",
        "train_data.shape"
      ]
    },
    {
      "cell_type": "code",
      "execution_count": null,
      "metadata": {
        "colab": {
          "base_uri": "https://localhost:8080/",
          "height": 206
        },
        "id": "oG28zgR5nQPC",
        "outputId": "b7345b3d-55c8-4550-a434-ac6daf018685"
      },
      "outputs": [
        {
          "output_type": "execute_result",
          "data": {
            "text/plain": [
              "                                             Reviews  Labels\n",
              "0  Zentropa has much in common with The Third Man...       1\n",
              "1  Zentropa is the most original movie I've seen ...       1\n",
              "2  Lars Von Trier is never backward in trying out...       1\n",
              "3  *Contains spoilers due to me having to describ...       1\n",
              "4  That was the first thing that sprang to mind a...       1"
            ],
            "text/html": [
              "\n",
              "  <div id=\"df-e2310b02-29fa-4a0c-88bf-bc541c70e400\">\n",
              "    <div class=\"colab-df-container\">\n",
              "      <div>\n",
              "<style scoped>\n",
              "    .dataframe tbody tr th:only-of-type {\n",
              "        vertical-align: middle;\n",
              "    }\n",
              "\n",
              "    .dataframe tbody tr th {\n",
              "        vertical-align: top;\n",
              "    }\n",
              "\n",
              "    .dataframe thead th {\n",
              "        text-align: right;\n",
              "    }\n",
              "</style>\n",
              "<table border=\"1\" class=\"dataframe\">\n",
              "  <thead>\n",
              "    <tr style=\"text-align: right;\">\n",
              "      <th></th>\n",
              "      <th>Reviews</th>\n",
              "      <th>Labels</th>\n",
              "    </tr>\n",
              "  </thead>\n",
              "  <tbody>\n",
              "    <tr>\n",
              "      <th>0</th>\n",
              "      <td>Zentropa has much in common with The Third Man...</td>\n",
              "      <td>1</td>\n",
              "    </tr>\n",
              "    <tr>\n",
              "      <th>1</th>\n",
              "      <td>Zentropa is the most original movie I've seen ...</td>\n",
              "      <td>1</td>\n",
              "    </tr>\n",
              "    <tr>\n",
              "      <th>2</th>\n",
              "      <td>Lars Von Trier is never backward in trying out...</td>\n",
              "      <td>1</td>\n",
              "    </tr>\n",
              "    <tr>\n",
              "      <th>3</th>\n",
              "      <td>*Contains spoilers due to me having to describ...</td>\n",
              "      <td>1</td>\n",
              "    </tr>\n",
              "    <tr>\n",
              "      <th>4</th>\n",
              "      <td>That was the first thing that sprang to mind a...</td>\n",
              "      <td>1</td>\n",
              "    </tr>\n",
              "  </tbody>\n",
              "</table>\n",
              "</div>\n",
              "      <button class=\"colab-df-convert\" onclick=\"convertToInteractive('df-e2310b02-29fa-4a0c-88bf-bc541c70e400')\"\n",
              "              title=\"Convert this dataframe to an interactive table.\"\n",
              "              style=\"display:none;\">\n",
              "        \n",
              "  <svg xmlns=\"http://www.w3.org/2000/svg\" height=\"24px\"viewBox=\"0 0 24 24\"\n",
              "       width=\"24px\">\n",
              "    <path d=\"M0 0h24v24H0V0z\" fill=\"none\"/>\n",
              "    <path d=\"M18.56 5.44l.94 2.06.94-2.06 2.06-.94-2.06-.94-.94-2.06-.94 2.06-2.06.94zm-11 1L8.5 8.5l.94-2.06 2.06-.94-2.06-.94L8.5 2.5l-.94 2.06-2.06.94zm10 10l.94 2.06.94-2.06 2.06-.94-2.06-.94-.94-2.06-.94 2.06-2.06.94z\"/><path d=\"M17.41 7.96l-1.37-1.37c-.4-.4-.92-.59-1.43-.59-.52 0-1.04.2-1.43.59L10.3 9.45l-7.72 7.72c-.78.78-.78 2.05 0 2.83L4 21.41c.39.39.9.59 1.41.59.51 0 1.02-.2 1.41-.59l7.78-7.78 2.81-2.81c.8-.78.8-2.07 0-2.86zM5.41 20L4 18.59l7.72-7.72 1.47 1.35L5.41 20z\"/>\n",
              "  </svg>\n",
              "      </button>\n",
              "      \n",
              "  <style>\n",
              "    .colab-df-container {\n",
              "      display:flex;\n",
              "      flex-wrap:wrap;\n",
              "      gap: 12px;\n",
              "    }\n",
              "\n",
              "    .colab-df-convert {\n",
              "      background-color: #E8F0FE;\n",
              "      border: none;\n",
              "      border-radius: 50%;\n",
              "      cursor: pointer;\n",
              "      display: none;\n",
              "      fill: #1967D2;\n",
              "      height: 32px;\n",
              "      padding: 0 0 0 0;\n",
              "      width: 32px;\n",
              "    }\n",
              "\n",
              "    .colab-df-convert:hover {\n",
              "      background-color: #E2EBFA;\n",
              "      box-shadow: 0px 1px 2px rgba(60, 64, 67, 0.3), 0px 1px 3px 1px rgba(60, 64, 67, 0.15);\n",
              "      fill: #174EA6;\n",
              "    }\n",
              "\n",
              "    [theme=dark] .colab-df-convert {\n",
              "      background-color: #3B4455;\n",
              "      fill: #D2E3FC;\n",
              "    }\n",
              "\n",
              "    [theme=dark] .colab-df-convert:hover {\n",
              "      background-color: #434B5C;\n",
              "      box-shadow: 0px 1px 3px 1px rgba(0, 0, 0, 0.15);\n",
              "      filter: drop-shadow(0px 1px 2px rgba(0, 0, 0, 0.3));\n",
              "      fill: #FFFFFF;\n",
              "    }\n",
              "  </style>\n",
              "\n",
              "      <script>\n",
              "        const buttonEl =\n",
              "          document.querySelector('#df-e2310b02-29fa-4a0c-88bf-bc541c70e400 button.colab-df-convert');\n",
              "        buttonEl.style.display =\n",
              "          google.colab.kernel.accessAllowed ? 'block' : 'none';\n",
              "\n",
              "        async function convertToInteractive(key) {\n",
              "          const element = document.querySelector('#df-e2310b02-29fa-4a0c-88bf-bc541c70e400');\n",
              "          const dataTable =\n",
              "            await google.colab.kernel.invokeFunction('convertToInteractive',\n",
              "                                                     [key], {});\n",
              "          if (!dataTable) return;\n",
              "\n",
              "          const docLinkHtml = 'Like what you see? Visit the ' +\n",
              "            '<a target=\"_blank\" href=https://colab.research.google.com/notebooks/data_table.ipynb>data table notebook</a>'\n",
              "            + ' to learn more about interactive tables.';\n",
              "          element.innerHTML = '';\n",
              "          dataTable['output_type'] = 'display_data';\n",
              "          await google.colab.output.renderOutput(dataTable, element);\n",
              "          const docLink = document.createElement('div');\n",
              "          docLink.innerHTML = docLinkHtml;\n",
              "          element.appendChild(docLink);\n",
              "        }\n",
              "      </script>\n",
              "    </div>\n",
              "  </div>\n",
              "  "
            ]
          },
          "metadata": {},
          "execution_count": 57
        }
      ],
      "source": [
        "# diaplay first five rows\n",
        "train_data.head()"
      ]
    },
    {
      "cell_type": "markdown",
      "metadata": {
        "id": "o1yKR_gAnQPK"
      },
      "source": [
        "# <font color = 'dodgerblue'>**Import Spacy Model**"
      ]
    },
    {
      "cell_type": "code",
      "execution_count": null,
      "metadata": {
        "colab": {
          "base_uri": "https://localhost:8080/"
        },
        "id": "5oBaejG-xSLh",
        "outputId": "0148d436-54ff-4e5d-9e03-b513cbd97312"
      },
      "outputs": [
        {
          "output_type": "stream",
          "name": "stdout",
          "text": [
            "/usr/local/lib/python3.8/dist-packages/torch/cuda/__init__.py:497: UserWarning: Can't initialize NVML\n",
            "  warnings.warn(\"Can't initialize NVML\")\n",
            "2023-03-01 18:32:48.899900: W tensorflow/compiler/xla/stream_executor/platform/default/dso_loader.cc:64] Could not load dynamic library 'libnvinfer.so.7'; dlerror: libnvinfer.so.7: cannot open shared object file: No such file or directory; LD_LIBRARY_PATH: /usr/local/nvidia/lib:/usr/local/nvidia/lib64\n",
            "2023-03-01 18:32:48.900011: W tensorflow/compiler/xla/stream_executor/platform/default/dso_loader.cc:64] Could not load dynamic library 'libnvinfer_plugin.so.7'; dlerror: libnvinfer_plugin.so.7: cannot open shared object file: No such file or directory; LD_LIBRARY_PATH: /usr/local/nvidia/lib:/usr/local/nvidia/lib64\n",
            "2023-03-01 18:32:48.900035: W tensorflow/compiler/tf2tensorrt/utils/py_utils.cc:38] TF-TRT Warning: Cannot dlopen some TensorRT libraries. If you would like to use Nvidia GPU with TensorRT, please make sure the missing libraries mentioned above are installed properly.\n",
            "2023-03-01 18:32:50.528347: E tensorflow/compiler/xla/stream_executor/cuda/cuda_driver.cc:267] failed call to cuInit: CUDA_ERROR_NO_DEVICE: no CUDA-capable device is detected\n",
            "Looking in indexes: https://pypi.org/simple, https://us-python.pkg.dev/colab-wheels/public/simple/\n",
            "Collecting en-core-web-sm==3.5.0\n",
            "  Downloading https://github.com/explosion/spacy-models/releases/download/en_core_web_sm-3.5.0/en_core_web_sm-3.5.0-py3-none-any.whl (12.8 MB)\n",
            "\u001b[2K     \u001b[90m━━━━━━━━━━━━━━━━━━━━━━━━━━━━━━━━━━━━━━━\u001b[0m \u001b[32m12.8/12.8 MB\u001b[0m \u001b[31m104.4 MB/s\u001b[0m eta \u001b[36m0:00:00\u001b[0m\n",
            "\u001b[?25hRequirement already satisfied: spacy<3.6.0,>=3.5.0 in /usr/local/lib/python3.8/dist-packages (from en-core-web-sm==3.5.0) (3.5.0)\n",
            "Requirement already satisfied: langcodes<4.0.0,>=3.2.0 in /usr/local/lib/python3.8/dist-packages (from spacy<3.6.0,>=3.5.0->en-core-web-sm==3.5.0) (3.3.0)\n",
            "Requirement already satisfied: numpy>=1.15.0 in /usr/local/lib/python3.8/dist-packages (from spacy<3.6.0,>=3.5.0->en-core-web-sm==3.5.0) (1.22.4)\n",
            "Requirement already satisfied: murmurhash<1.1.0,>=0.28.0 in /usr/local/lib/python3.8/dist-packages (from spacy<3.6.0,>=3.5.0->en-core-web-sm==3.5.0) (1.0.9)\n",
            "Requirement already satisfied: spacy-legacy<3.1.0,>=3.0.11 in /usr/local/lib/python3.8/dist-packages (from spacy<3.6.0,>=3.5.0->en-core-web-sm==3.5.0) (3.0.12)\n",
            "Requirement already satisfied: packaging>=20.0 in /usr/local/lib/python3.8/dist-packages (from spacy<3.6.0,>=3.5.0->en-core-web-sm==3.5.0) (23.0)\n",
            "Requirement already satisfied: thinc<8.2.0,>=8.1.0 in /usr/local/lib/python3.8/dist-packages (from spacy<3.6.0,>=3.5.0->en-core-web-sm==3.5.0) (8.1.7)\n",
            "Requirement already satisfied: wasabi<1.2.0,>=0.9.1 in /usr/local/lib/python3.8/dist-packages (from spacy<3.6.0,>=3.5.0->en-core-web-sm==3.5.0) (0.10.1)\n",
            "Requirement already satisfied: smart-open<7.0.0,>=5.2.1 in /usr/local/lib/python3.8/dist-packages (from spacy<3.6.0,>=3.5.0->en-core-web-sm==3.5.0) (6.3.0)\n",
            "Requirement already satisfied: pydantic!=1.8,!=1.8.1,<1.11.0,>=1.7.4 in /usr/local/lib/python3.8/dist-packages (from spacy<3.6.0,>=3.5.0->en-core-web-sm==3.5.0) (1.10.5)\n",
            "Requirement already satisfied: tqdm<5.0.0,>=4.38.0 in /usr/local/lib/python3.8/dist-packages (from spacy<3.6.0,>=3.5.0->en-core-web-sm==3.5.0) (4.64.1)\n",
            "Requirement already satisfied: requests<3.0.0,>=2.13.0 in /usr/local/lib/python3.8/dist-packages (from spacy<3.6.0,>=3.5.0->en-core-web-sm==3.5.0) (2.25.1)\n",
            "Requirement already satisfied: cymem<2.1.0,>=2.0.2 in /usr/local/lib/python3.8/dist-packages (from spacy<3.6.0,>=3.5.0->en-core-web-sm==3.5.0) (2.0.7)\n",
            "Requirement already satisfied: catalogue<2.1.0,>=2.0.6 in /usr/local/lib/python3.8/dist-packages (from spacy<3.6.0,>=3.5.0->en-core-web-sm==3.5.0) (2.0.8)\n",
            "Requirement already satisfied: preshed<3.1.0,>=3.0.2 in /usr/local/lib/python3.8/dist-packages (from spacy<3.6.0,>=3.5.0->en-core-web-sm==3.5.0) (3.0.8)\n",
            "Requirement already satisfied: jinja2 in /usr/local/lib/python3.8/dist-packages (from spacy<3.6.0,>=3.5.0->en-core-web-sm==3.5.0) (3.1.2)\n",
            "Requirement already satisfied: setuptools in /usr/local/lib/python3.8/dist-packages (from spacy<3.6.0,>=3.5.0->en-core-web-sm==3.5.0) (57.4.0)\n",
            "Requirement already satisfied: pathy>=0.10.0 in /usr/local/lib/python3.8/dist-packages (from spacy<3.6.0,>=3.5.0->en-core-web-sm==3.5.0) (0.10.1)\n",
            "Requirement already satisfied: spacy-loggers<2.0.0,>=1.0.0 in /usr/local/lib/python3.8/dist-packages (from spacy<3.6.0,>=3.5.0->en-core-web-sm==3.5.0) (1.0.4)\n",
            "Requirement already satisfied: srsly<3.0.0,>=2.4.3 in /usr/local/lib/python3.8/dist-packages (from spacy<3.6.0,>=3.5.0->en-core-web-sm==3.5.0) (2.4.5)\n",
            "Requirement already satisfied: typer<0.8.0,>=0.3.0 in /usr/local/lib/python3.8/dist-packages (from spacy<3.6.0,>=3.5.0->en-core-web-sm==3.5.0) (0.7.0)\n",
            "Requirement already satisfied: typing-extensions>=4.2.0 in /usr/local/lib/python3.8/dist-packages (from pydantic!=1.8,!=1.8.1,<1.11.0,>=1.7.4->spacy<3.6.0,>=3.5.0->en-core-web-sm==3.5.0) (4.5.0)\n",
            "Requirement already satisfied: urllib3<1.27,>=1.21.1 in /usr/local/lib/python3.8/dist-packages (from requests<3.0.0,>=2.13.0->spacy<3.6.0,>=3.5.0->en-core-web-sm==3.5.0) (1.26.14)\n",
            "Requirement already satisfied: chardet<5,>=3.0.2 in /usr/local/lib/python3.8/dist-packages (from requests<3.0.0,>=2.13.0->spacy<3.6.0,>=3.5.0->en-core-web-sm==3.5.0) (4.0.0)\n",
            "Requirement already satisfied: certifi>=2017.4.17 in /usr/local/lib/python3.8/dist-packages (from requests<3.0.0,>=2.13.0->spacy<3.6.0,>=3.5.0->en-core-web-sm==3.5.0) (2022.12.7)\n",
            "Requirement already satisfied: idna<3,>=2.5 in /usr/local/lib/python3.8/dist-packages (from requests<3.0.0,>=2.13.0->spacy<3.6.0,>=3.5.0->en-core-web-sm==3.5.0) (2.10)\n",
            "Requirement already satisfied: blis<0.8.0,>=0.7.8 in /usr/local/lib/python3.8/dist-packages (from thinc<8.2.0,>=8.1.0->spacy<3.6.0,>=3.5.0->en-core-web-sm==3.5.0) (0.7.9)\n",
            "Requirement already satisfied: confection<1.0.0,>=0.0.1 in /usr/local/lib/python3.8/dist-packages (from thinc<8.2.0,>=8.1.0->spacy<3.6.0,>=3.5.0->en-core-web-sm==3.5.0) (0.0.4)\n",
            "Requirement already satisfied: click<9.0.0,>=7.1.1 in /usr/local/lib/python3.8/dist-packages (from typer<0.8.0,>=0.3.0->spacy<3.6.0,>=3.5.0->en-core-web-sm==3.5.0) (8.1.3)\n",
            "Requirement already satisfied: MarkupSafe>=2.0 in /usr/local/lib/python3.8/dist-packages (from jinja2->spacy<3.6.0,>=3.5.0->en-core-web-sm==3.5.0) (2.1.2)\n",
            "Installing collected packages: en-core-web-sm\n",
            "  Attempting uninstall: en-core-web-sm\n",
            "    Found existing installation: en-core-web-sm 3.4.1\n",
            "    Uninstalling en-core-web-sm-3.4.1:\n",
            "      Successfully uninstalled en-core-web-sm-3.4.1\n",
            "Successfully installed en-core-web-sm-3.5.0\n",
            "\u001b[38;5;2m✔ Download and installation successful\u001b[0m\n",
            "You can now load the package via spacy.load('en_core_web_sm')\n"
          ]
        }
      ],
      "source": [
        "# check the models we have dowloaded in spacy folder\n",
        "!python -m spacy download en_core_web_sm -qq"
      ]
    },
    {
      "cell_type": "markdown",
      "metadata": {
        "id": "ICsDXJzkjMOR"
      },
      "source": [
        "# <font color = 'dodgerblue'>**Compare tokenization approaches**"
      ]
    },
    {
      "cell_type": "code",
      "execution_count": null,
      "metadata": {
        "id": "kI4ZLLkcnQPT"
      },
      "outputs": [],
      "source": [
        "# We will load the model -en_core_web_sm\n",
        "nlp = spacy.load('en_core_web_sm')"
      ]
    },
    {
      "cell_type": "markdown",
      "metadata": {
        "id": "01LKvM5Ojd0N"
      },
      "source": [
        "## <font color = 'dodgerblue'>**Method1 : Typical approach using spacy**"
      ]
    },
    {
      "cell_type": "code",
      "execution_count": null,
      "metadata": {
        "id": "gJ4obZer3XhB"
      },
      "outputs": [],
      "source": [
        "def tokenize(text: str) -> List[str]:\n",
        "    \"\"\"Tokenize the input text using spaCy.\n",
        "    \n",
        "    Args:\n",
        "    text: The input text to be tokenized.\n",
        "    \n",
        "    Returns:\n",
        "    A list of tokens.\n",
        "    \"\"\"\n",
        "    # Apply the spaCy NLP model to the input text\n",
        "    doc = nlp(text)\n",
        "    # Extract the tokens from the spaCy doc and return as a list\n",
        "    tokens = [token.text for token in doc]  \n",
        "    return tokens "
      ]
    },
    {
      "cell_type": "code",
      "execution_count": null,
      "metadata": {
        "colab": {
          "base_uri": "https://localhost:8080/",
          "height": 49,
          "referenced_widgets": [
            "23c6ff6b9b404b6db1799e149e8a033b",
            "a5266e050b614b93b91efef14fdcee68",
            "774de4cd0db54ddd9a0bab78b0dd2f50",
            "e5412076f5544b8486b204b3915da9a3",
            "477b8cc8dc364f8d87f771551070bbe8",
            "2678a80747444805aa91f64497109ba2",
            "f0afb812525e45c69a3a104628831da2",
            "00f3399bb86e43b4b035199c9f8b9b15",
            "b2328744284d4fbaaba96a1cf8725990",
            "48f05f3a9f364bf19d0de8fb43789da0",
            "bcc4b5426c8d4c54a0eea8156e5154da"
          ]
        },
        "id": "fpkdxZnV3hOk",
        "outputId": "76f4bc3b-1ecc-4ad0-c681-11ef62f63840"
      },
      "outputs": [
        {
          "output_type": "display_data",
          "data": {
            "text/plain": [
              "Pandas Apply:   0%|          | 0/25000 [00:00<?, ?it/s]"
            ],
            "application/vnd.jupyter.widget-view+json": {
              "version_major": 2,
              "version_minor": 0,
              "model_id": "23c6ff6b9b404b6db1799e149e8a033b"
            }
          },
          "metadata": {}
        }
      ],
      "source": [
        "# DONOT RUN THIS Cell in the class\n",
        "# it is only for demonstration purpose, it can take a long time\n",
        "# as indicated by the output below- \n",
        "# it took around 8 minutes on a 128 gb RAM machine\n",
        "# it took 21 minutes on colab\n",
        "train_data['tokens_method1'] = train_data['Reviews'].swifter.apply(tokenize)"
      ]
    },
    {
      "cell_type": "code",
      "execution_count": null,
      "metadata": {
        "colab": {
          "base_uri": "https://localhost:8080/",
          "height": 206
        },
        "id": "k6jk1atfInfX",
        "outputId": "9858089c-9aaa-4850-86b9-e83f0722c6a0"
      },
      "outputs": [
        {
          "output_type": "execute_result",
          "data": {
            "text/plain": [
              "                                             Reviews  Labels  \\\n",
              "0  Zentropa has much in common with The Third Man...       1   \n",
              "1  Zentropa is the most original movie I've seen ...       1   \n",
              "2  Lars Von Trier is never backward in trying out...       1   \n",
              "3  *Contains spoilers due to me having to describ...       1   \n",
              "4  That was the first thing that sprang to mind a...       1   \n",
              "\n",
              "                                      tokens_method1  \n",
              "0  [Zentropa, has, much, in, common, with, The, T...  \n",
              "1  [Zentropa, is, the, most, original, movie, I, ...  \n",
              "2  [Lars, Von, Trier, is, never, backward, in, tr...  \n",
              "3  [*, Contains, spoilers, due, to, me, having, t...  \n",
              "4  [That, was, the, first, thing, that, sprang, t...  "
            ],
            "text/html": [
              "\n",
              "  <div id=\"df-830695f0-af66-4f54-b4b2-785be2d1c18e\">\n",
              "    <div class=\"colab-df-container\">\n",
              "      <div>\n",
              "<style scoped>\n",
              "    .dataframe tbody tr th:only-of-type {\n",
              "        vertical-align: middle;\n",
              "    }\n",
              "\n",
              "    .dataframe tbody tr th {\n",
              "        vertical-align: top;\n",
              "    }\n",
              "\n",
              "    .dataframe thead th {\n",
              "        text-align: right;\n",
              "    }\n",
              "</style>\n",
              "<table border=\"1\" class=\"dataframe\">\n",
              "  <thead>\n",
              "    <tr style=\"text-align: right;\">\n",
              "      <th></th>\n",
              "      <th>Reviews</th>\n",
              "      <th>Labels</th>\n",
              "      <th>tokens_method1</th>\n",
              "    </tr>\n",
              "  </thead>\n",
              "  <tbody>\n",
              "    <tr>\n",
              "      <th>0</th>\n",
              "      <td>Zentropa has much in common with The Third Man...</td>\n",
              "      <td>1</td>\n",
              "      <td>[Zentropa, has, much, in, common, with, The, T...</td>\n",
              "    </tr>\n",
              "    <tr>\n",
              "      <th>1</th>\n",
              "      <td>Zentropa is the most original movie I've seen ...</td>\n",
              "      <td>1</td>\n",
              "      <td>[Zentropa, is, the, most, original, movie, I, ...</td>\n",
              "    </tr>\n",
              "    <tr>\n",
              "      <th>2</th>\n",
              "      <td>Lars Von Trier is never backward in trying out...</td>\n",
              "      <td>1</td>\n",
              "      <td>[Lars, Von, Trier, is, never, backward, in, tr...</td>\n",
              "    </tr>\n",
              "    <tr>\n",
              "      <th>3</th>\n",
              "      <td>*Contains spoilers due to me having to describ...</td>\n",
              "      <td>1</td>\n",
              "      <td>[*, Contains, spoilers, due, to, me, having, t...</td>\n",
              "    </tr>\n",
              "    <tr>\n",
              "      <th>4</th>\n",
              "      <td>That was the first thing that sprang to mind a...</td>\n",
              "      <td>1</td>\n",
              "      <td>[That, was, the, first, thing, that, sprang, t...</td>\n",
              "    </tr>\n",
              "  </tbody>\n",
              "</table>\n",
              "</div>\n",
              "      <button class=\"colab-df-convert\" onclick=\"convertToInteractive('df-830695f0-af66-4f54-b4b2-785be2d1c18e')\"\n",
              "              title=\"Convert this dataframe to an interactive table.\"\n",
              "              style=\"display:none;\">\n",
              "        \n",
              "  <svg xmlns=\"http://www.w3.org/2000/svg\" height=\"24px\"viewBox=\"0 0 24 24\"\n",
              "       width=\"24px\">\n",
              "    <path d=\"M0 0h24v24H0V0z\" fill=\"none\"/>\n",
              "    <path d=\"M18.56 5.44l.94 2.06.94-2.06 2.06-.94-2.06-.94-.94-2.06-.94 2.06-2.06.94zm-11 1L8.5 8.5l.94-2.06 2.06-.94-2.06-.94L8.5 2.5l-.94 2.06-2.06.94zm10 10l.94 2.06.94-2.06 2.06-.94-2.06-.94-.94-2.06-.94 2.06-2.06.94z\"/><path d=\"M17.41 7.96l-1.37-1.37c-.4-.4-.92-.59-1.43-.59-.52 0-1.04.2-1.43.59L10.3 9.45l-7.72 7.72c-.78.78-.78 2.05 0 2.83L4 21.41c.39.39.9.59 1.41.59.51 0 1.02-.2 1.41-.59l7.78-7.78 2.81-2.81c.8-.78.8-2.07 0-2.86zM5.41 20L4 18.59l7.72-7.72 1.47 1.35L5.41 20z\"/>\n",
              "  </svg>\n",
              "      </button>\n",
              "      \n",
              "  <style>\n",
              "    .colab-df-container {\n",
              "      display:flex;\n",
              "      flex-wrap:wrap;\n",
              "      gap: 12px;\n",
              "    }\n",
              "\n",
              "    .colab-df-convert {\n",
              "      background-color: #E8F0FE;\n",
              "      border: none;\n",
              "      border-radius: 50%;\n",
              "      cursor: pointer;\n",
              "      display: none;\n",
              "      fill: #1967D2;\n",
              "      height: 32px;\n",
              "      padding: 0 0 0 0;\n",
              "      width: 32px;\n",
              "    }\n",
              "\n",
              "    .colab-df-convert:hover {\n",
              "      background-color: #E2EBFA;\n",
              "      box-shadow: 0px 1px 2px rgba(60, 64, 67, 0.3), 0px 1px 3px 1px rgba(60, 64, 67, 0.15);\n",
              "      fill: #174EA6;\n",
              "    }\n",
              "\n",
              "    [theme=dark] .colab-df-convert {\n",
              "      background-color: #3B4455;\n",
              "      fill: #D2E3FC;\n",
              "    }\n",
              "\n",
              "    [theme=dark] .colab-df-convert:hover {\n",
              "      background-color: #434B5C;\n",
              "      box-shadow: 0px 1px 3px 1px rgba(0, 0, 0, 0.15);\n",
              "      filter: drop-shadow(0px 1px 2px rgba(0, 0, 0, 0.3));\n",
              "      fill: #FFFFFF;\n",
              "    }\n",
              "  </style>\n",
              "\n",
              "      <script>\n",
              "        const buttonEl =\n",
              "          document.querySelector('#df-830695f0-af66-4f54-b4b2-785be2d1c18e button.colab-df-convert');\n",
              "        buttonEl.style.display =\n",
              "          google.colab.kernel.accessAllowed ? 'block' : 'none';\n",
              "\n",
              "        async function convertToInteractive(key) {\n",
              "          const element = document.querySelector('#df-830695f0-af66-4f54-b4b2-785be2d1c18e');\n",
              "          const dataTable =\n",
              "            await google.colab.kernel.invokeFunction('convertToInteractive',\n",
              "                                                     [key], {});\n",
              "          if (!dataTable) return;\n",
              "\n",
              "          const docLinkHtml = 'Like what you see? Visit the ' +\n",
              "            '<a target=\"_blank\" href=https://colab.research.google.com/notebooks/data_table.ipynb>data table notebook</a>'\n",
              "            + ' to learn more about interactive tables.';\n",
              "          element.innerHTML = '';\n",
              "          dataTable['output_type'] = 'display_data';\n",
              "          await google.colab.output.renderOutput(dataTable, element);\n",
              "          const docLink = document.createElement('div');\n",
              "          docLink.innerHTML = docLinkHtml;\n",
              "          element.appendChild(docLink);\n",
              "        }\n",
              "      </script>\n",
              "    </div>\n",
              "  </div>\n",
              "  "
            ]
          },
          "metadata": {},
          "execution_count": 62
        }
      ],
      "source": [
        "train_data.head()"
      ]
    },
    {
      "cell_type": "markdown",
      "metadata": {
        "id": "gX-LP_X0ib2A"
      },
      "source": [
        "## <font color = 'dodgerblue'>**Method 2: Using nlp.pipe from Spacy**"
      ]
    },
    {
      "cell_type": "code",
      "execution_count": null,
      "metadata": {
        "colab": {
          "base_uri": "https://localhost:8080/"
        },
        "id": "TP2_FEwvEFJN",
        "outputId": "28f0f9cf-1a39-4322-e181-7126fbf54df5"
      },
      "outputs": [
        {
          "output_type": "execute_result",
          "data": {
            "text/plain": [
              "4"
            ]
          },
          "metadata": {},
          "execution_count": 63
        }
      ],
      "source": [
        "import os\n",
        "os.cpu_count()"
      ]
    },
    {
      "cell_type": "code",
      "execution_count": null,
      "metadata": {
        "id": "9AWjFAsKjuJF"
      },
      "outputs": [],
      "source": [
        "## DO NOT Run this cell in the class\n",
        "\n",
        "# spaCy includes built-in support for multiprocessing with nlp.pipe\n",
        "# this can speed up the processing\n",
        "# it took 1 min 42 secs on a 128 gb RAM machine with 16 cores\n",
        "# it took 10 mins on colab (colab free has 2 cores)\n",
        "\n",
        "# initialize an empty list to store tokens\n",
        "tokens_method2 = []\n",
        "\n",
        "# process multiple documents in parallel using the spaCy NLP library\n",
        "for doc in nlp.pipe(train_data.Reviews.values, batch_size=1000, n_process=3):\n",
        "    # extract text of each token in the document and create a list of tokens\n",
        "    tokens = [token.text for token in doc] \n",
        "    # add the list of tokens to the tokens_method2\n",
        "    tokens_method2.append(tokens)\n",
        "\n",
        "# add the tokens_method2 to the train_data dataframe as a new column 'tokens_method2'\n",
        "train_data['tokens_method2'] = tokens_method2"
      ]
    },
    {
      "cell_type": "markdown",
      "metadata": {
        "id": "1edjmx27EFJN"
      },
      "source": [
        "This code performs tokenization on the `train_data.Reviews.values` by using the spaCy NLP library (`nlp`).\n",
        "\n",
        "- The **`nlp.pipe` method is used to process multiple documents in parallel**, where `batch_size=1000` and `n_process=32` specify the batch size and number of CPU processes to use respectively.\n",
        "\n",
        "- For each document in the batch, the code creates a list of tokens, represented by the text of the spaCy token objects, using a list comprehension `[token.text for token in doc]`.\n",
        "\n",
        "- The resulting list of tokens is then appended to `tokens_method2`. Finally, the `tokens_method2` list is added as a new column ``'tokens_method2'` to the `train_data` dataframe.\n",
        "\n",
        "\n",
        "\n",
        "\n"
      ]
    },
    {
      "cell_type": "code",
      "execution_count": null,
      "metadata": {
        "colab": {
          "base_uri": "https://localhost:8080/",
          "height": 206
        },
        "id": "5d9lv5cSIsPS",
        "outputId": "cb07ce1d-a01e-4c8e-e870-2e400285f80d"
      },
      "outputs": [
        {
          "output_type": "execute_result",
          "data": {
            "text/plain": [
              "                                             Reviews  Labels  \\\n",
              "0  Zentropa has much in common with The Third Man...       1   \n",
              "1  Zentropa is the most original movie I've seen ...       1   \n",
              "2  Lars Von Trier is never backward in trying out...       1   \n",
              "3  *Contains spoilers due to me having to describ...       1   \n",
              "4  That was the first thing that sprang to mind a...       1   \n",
              "\n",
              "                                      tokens_method1  \\\n",
              "0  [Zentropa, has, much, in, common, with, The, T...   \n",
              "1  [Zentropa, is, the, most, original, movie, I, ...   \n",
              "2  [Lars, Von, Trier, is, never, backward, in, tr...   \n",
              "3  [*, Contains, spoilers, due, to, me, having, t...   \n",
              "4  [That, was, the, first, thing, that, sprang, t...   \n",
              "\n",
              "                                      tokens_method2  \n",
              "0  [Zentropa, has, much, in, common, with, The, T...  \n",
              "1  [Zentropa, is, the, most, original, movie, I, ...  \n",
              "2  [Lars, Von, Trier, is, never, backward, in, tr...  \n",
              "3  [*, Contains, spoilers, due, to, me, having, t...  \n",
              "4  [That, was, the, first, thing, that, sprang, t...  "
            ],
            "text/html": [
              "\n",
              "  <div id=\"df-cac6f153-0c6f-4151-882c-aabe0ac9583c\">\n",
              "    <div class=\"colab-df-container\">\n",
              "      <div>\n",
              "<style scoped>\n",
              "    .dataframe tbody tr th:only-of-type {\n",
              "        vertical-align: middle;\n",
              "    }\n",
              "\n",
              "    .dataframe tbody tr th {\n",
              "        vertical-align: top;\n",
              "    }\n",
              "\n",
              "    .dataframe thead th {\n",
              "        text-align: right;\n",
              "    }\n",
              "</style>\n",
              "<table border=\"1\" class=\"dataframe\">\n",
              "  <thead>\n",
              "    <tr style=\"text-align: right;\">\n",
              "      <th></th>\n",
              "      <th>Reviews</th>\n",
              "      <th>Labels</th>\n",
              "      <th>tokens_method1</th>\n",
              "      <th>tokens_method2</th>\n",
              "    </tr>\n",
              "  </thead>\n",
              "  <tbody>\n",
              "    <tr>\n",
              "      <th>0</th>\n",
              "      <td>Zentropa has much in common with The Third Man...</td>\n",
              "      <td>1</td>\n",
              "      <td>[Zentropa, has, much, in, common, with, The, T...</td>\n",
              "      <td>[Zentropa, has, much, in, common, with, The, T...</td>\n",
              "    </tr>\n",
              "    <tr>\n",
              "      <th>1</th>\n",
              "      <td>Zentropa is the most original movie I've seen ...</td>\n",
              "      <td>1</td>\n",
              "      <td>[Zentropa, is, the, most, original, movie, I, ...</td>\n",
              "      <td>[Zentropa, is, the, most, original, movie, I, ...</td>\n",
              "    </tr>\n",
              "    <tr>\n",
              "      <th>2</th>\n",
              "      <td>Lars Von Trier is never backward in trying out...</td>\n",
              "      <td>1</td>\n",
              "      <td>[Lars, Von, Trier, is, never, backward, in, tr...</td>\n",
              "      <td>[Lars, Von, Trier, is, never, backward, in, tr...</td>\n",
              "    </tr>\n",
              "    <tr>\n",
              "      <th>3</th>\n",
              "      <td>*Contains spoilers due to me having to describ...</td>\n",
              "      <td>1</td>\n",
              "      <td>[*, Contains, spoilers, due, to, me, having, t...</td>\n",
              "      <td>[*, Contains, spoilers, due, to, me, having, t...</td>\n",
              "    </tr>\n",
              "    <tr>\n",
              "      <th>4</th>\n",
              "      <td>That was the first thing that sprang to mind a...</td>\n",
              "      <td>1</td>\n",
              "      <td>[That, was, the, first, thing, that, sprang, t...</td>\n",
              "      <td>[That, was, the, first, thing, that, sprang, t...</td>\n",
              "    </tr>\n",
              "  </tbody>\n",
              "</table>\n",
              "</div>\n",
              "      <button class=\"colab-df-convert\" onclick=\"convertToInteractive('df-cac6f153-0c6f-4151-882c-aabe0ac9583c')\"\n",
              "              title=\"Convert this dataframe to an interactive table.\"\n",
              "              style=\"display:none;\">\n",
              "        \n",
              "  <svg xmlns=\"http://www.w3.org/2000/svg\" height=\"24px\"viewBox=\"0 0 24 24\"\n",
              "       width=\"24px\">\n",
              "    <path d=\"M0 0h24v24H0V0z\" fill=\"none\"/>\n",
              "    <path d=\"M18.56 5.44l.94 2.06.94-2.06 2.06-.94-2.06-.94-.94-2.06-.94 2.06-2.06.94zm-11 1L8.5 8.5l.94-2.06 2.06-.94-2.06-.94L8.5 2.5l-.94 2.06-2.06.94zm10 10l.94 2.06.94-2.06 2.06-.94-2.06-.94-.94-2.06-.94 2.06-2.06.94z\"/><path d=\"M17.41 7.96l-1.37-1.37c-.4-.4-.92-.59-1.43-.59-.52 0-1.04.2-1.43.59L10.3 9.45l-7.72 7.72c-.78.78-.78 2.05 0 2.83L4 21.41c.39.39.9.59 1.41.59.51 0 1.02-.2 1.41-.59l7.78-7.78 2.81-2.81c.8-.78.8-2.07 0-2.86zM5.41 20L4 18.59l7.72-7.72 1.47 1.35L5.41 20z\"/>\n",
              "  </svg>\n",
              "      </button>\n",
              "      \n",
              "  <style>\n",
              "    .colab-df-container {\n",
              "      display:flex;\n",
              "      flex-wrap:wrap;\n",
              "      gap: 12px;\n",
              "    }\n",
              "\n",
              "    .colab-df-convert {\n",
              "      background-color: #E8F0FE;\n",
              "      border: none;\n",
              "      border-radius: 50%;\n",
              "      cursor: pointer;\n",
              "      display: none;\n",
              "      fill: #1967D2;\n",
              "      height: 32px;\n",
              "      padding: 0 0 0 0;\n",
              "      width: 32px;\n",
              "    }\n",
              "\n",
              "    .colab-df-convert:hover {\n",
              "      background-color: #E2EBFA;\n",
              "      box-shadow: 0px 1px 2px rgba(60, 64, 67, 0.3), 0px 1px 3px 1px rgba(60, 64, 67, 0.15);\n",
              "      fill: #174EA6;\n",
              "    }\n",
              "\n",
              "    [theme=dark] .colab-df-convert {\n",
              "      background-color: #3B4455;\n",
              "      fill: #D2E3FC;\n",
              "    }\n",
              "\n",
              "    [theme=dark] .colab-df-convert:hover {\n",
              "      background-color: #434B5C;\n",
              "      box-shadow: 0px 1px 3px 1px rgba(0, 0, 0, 0.15);\n",
              "      filter: drop-shadow(0px 1px 2px rgba(0, 0, 0, 0.3));\n",
              "      fill: #FFFFFF;\n",
              "    }\n",
              "  </style>\n",
              "\n",
              "      <script>\n",
              "        const buttonEl =\n",
              "          document.querySelector('#df-cac6f153-0c6f-4151-882c-aabe0ac9583c button.colab-df-convert');\n",
              "        buttonEl.style.display =\n",
              "          google.colab.kernel.accessAllowed ? 'block' : 'none';\n",
              "\n",
              "        async function convertToInteractive(key) {\n",
              "          const element = document.querySelector('#df-cac6f153-0c6f-4151-882c-aabe0ac9583c');\n",
              "          const dataTable =\n",
              "            await google.colab.kernel.invokeFunction('convertToInteractive',\n",
              "                                                     [key], {});\n",
              "          if (!dataTable) return;\n",
              "\n",
              "          const docLinkHtml = 'Like what you see? Visit the ' +\n",
              "            '<a target=\"_blank\" href=https://colab.research.google.com/notebooks/data_table.ipynb>data table notebook</a>'\n",
              "            + ' to learn more about interactive tables.';\n",
              "          element.innerHTML = '';\n",
              "          dataTable['output_type'] = 'display_data';\n",
              "          await google.colab.output.renderOutput(dataTable, element);\n",
              "          const docLink = document.createElement('div');\n",
              "          docLink.innerHTML = docLinkHtml;\n",
              "          element.appendChild(docLink);\n",
              "        }\n",
              "      </script>\n",
              "    </div>\n",
              "  </div>\n",
              "  "
            ]
          },
          "metadata": {},
          "execution_count": 66
        }
      ],
      "source": [
        "train_data.head()"
      ]
    },
    {
      "cell_type": "markdown",
      "metadata": {
        "id": "07hFKgezHnzW"
      },
      "source": [
        "## <font color = 'dodgerblue'>**Method 3: Using nlp.pipe and disable not required components**"
      ]
    },
    {
      "cell_type": "code",
      "execution_count": null,
      "metadata": {
        "id": "fIBqaxeJnQVt"
      },
      "outputs": [],
      "source": [
        "# in addition to multiprocessing with nlp.pipe\n",
        "# we can get significant speed improvements if we disable the components that we do not need\n",
        "# it took around 3 minutes\n",
        "# it took 26 secs on a 128 gb RAM machine with 16 cores\n",
        "# 50 secs on colab\n",
        "\n",
        "# initialize an empty list to store tokens\n",
        "token_list_method3 = []\n",
        "\n",
        "# temporarily disable the named pipes of spaCy NLP processing pipeline\n",
        "disabled = nlp.select_pipes(disable= ['tok2vec', 'tagger', 'parser', 'attribute_ruler', 'lemmatizer', 'ner'])\n",
        "\n",
        "# process multiple documents in parallel using the spaCy NLP library\n",
        "for doc in nlp.pipe(train_data.Reviews.values, batch_size=1000, n_process=3):\n",
        "    # extract text of each token in the document and create a list of tokens\n",
        "    tokens = [token.text for token in doc]         \n",
        "    # add the list of tokens to the token_list_method3\n",
        "    token_list_method3.append(tokens)\n",
        "\n",
        "# add the token_list_method3 to the train_data dataframe as a new column 'tokens_method3'\n",
        "train_data['tokens_method3'] = token_list_method3\n",
        "\n",
        "# restore the named pipes that were disabled\n",
        "disabled.restore()"
      ]
    },
    {
      "cell_type": "code",
      "execution_count": null,
      "metadata": {
        "colab": {
          "base_uri": "https://localhost:8080/",
          "height": 250
        },
        "id": "s1NHXq-iIOZ-",
        "outputId": "833b2553-4233-4a5f-a610-53b19af2cf1e"
      },
      "outputs": [
        {
          "output_type": "execute_result",
          "data": {
            "text/plain": [
              "                                             Reviews  Labels  \\\n",
              "0  Zentropa has much in common with The Third Man...       1   \n",
              "1  Zentropa is the most original movie I've seen ...       1   \n",
              "2  Lars Von Trier is never backward in trying out...       1   \n",
              "3  *Contains spoilers due to me having to describ...       1   \n",
              "4  That was the first thing that sprang to mind a...       1   \n",
              "\n",
              "                                      tokens_method1  \\\n",
              "0  [Zentropa, has, much, in, common, with, The, T...   \n",
              "1  [Zentropa, is, the, most, original, movie, I, ...   \n",
              "2  [Lars, Von, Trier, is, never, backward, in, tr...   \n",
              "3  [*, Contains, spoilers, due, to, me, having, t...   \n",
              "4  [That, was, the, first, thing, that, sprang, t...   \n",
              "\n",
              "                                      tokens_method2  \\\n",
              "0  [Zentropa, has, much, in, common, with, The, T...   \n",
              "1  [Zentropa, is, the, most, original, movie, I, ...   \n",
              "2  [Lars, Von, Trier, is, never, backward, in, tr...   \n",
              "3  [*, Contains, spoilers, due, to, me, having, t...   \n",
              "4  [That, was, the, first, thing, that, sprang, t...   \n",
              "\n",
              "                                      tokens_method3  \n",
              "0  [Zentropa, has, much, in, common, with, The, T...  \n",
              "1  [Zentropa, is, the, most, original, movie, I, ...  \n",
              "2  [Lars, Von, Trier, is, never, backward, in, tr...  \n",
              "3  [*, Contains, spoilers, due, to, me, having, t...  \n",
              "4  [That, was, the, first, thing, that, sprang, t...  "
            ],
            "text/html": [
              "\n",
              "  <div id=\"df-411b9cd4-2330-4625-88fc-b0d7045cebc5\">\n",
              "    <div class=\"colab-df-container\">\n",
              "      <div>\n",
              "<style scoped>\n",
              "    .dataframe tbody tr th:only-of-type {\n",
              "        vertical-align: middle;\n",
              "    }\n",
              "\n",
              "    .dataframe tbody tr th {\n",
              "        vertical-align: top;\n",
              "    }\n",
              "\n",
              "    .dataframe thead th {\n",
              "        text-align: right;\n",
              "    }\n",
              "</style>\n",
              "<table border=\"1\" class=\"dataframe\">\n",
              "  <thead>\n",
              "    <tr style=\"text-align: right;\">\n",
              "      <th></th>\n",
              "      <th>Reviews</th>\n",
              "      <th>Labels</th>\n",
              "      <th>tokens_method1</th>\n",
              "      <th>tokens_method2</th>\n",
              "      <th>tokens_method3</th>\n",
              "    </tr>\n",
              "  </thead>\n",
              "  <tbody>\n",
              "    <tr>\n",
              "      <th>0</th>\n",
              "      <td>Zentropa has much in common with The Third Man...</td>\n",
              "      <td>1</td>\n",
              "      <td>[Zentropa, has, much, in, common, with, The, T...</td>\n",
              "      <td>[Zentropa, has, much, in, common, with, The, T...</td>\n",
              "      <td>[Zentropa, has, much, in, common, with, The, T...</td>\n",
              "    </tr>\n",
              "    <tr>\n",
              "      <th>1</th>\n",
              "      <td>Zentropa is the most original movie I've seen ...</td>\n",
              "      <td>1</td>\n",
              "      <td>[Zentropa, is, the, most, original, movie, I, ...</td>\n",
              "      <td>[Zentropa, is, the, most, original, movie, I, ...</td>\n",
              "      <td>[Zentropa, is, the, most, original, movie, I, ...</td>\n",
              "    </tr>\n",
              "    <tr>\n",
              "      <th>2</th>\n",
              "      <td>Lars Von Trier is never backward in trying out...</td>\n",
              "      <td>1</td>\n",
              "      <td>[Lars, Von, Trier, is, never, backward, in, tr...</td>\n",
              "      <td>[Lars, Von, Trier, is, never, backward, in, tr...</td>\n",
              "      <td>[Lars, Von, Trier, is, never, backward, in, tr...</td>\n",
              "    </tr>\n",
              "    <tr>\n",
              "      <th>3</th>\n",
              "      <td>*Contains spoilers due to me having to describ...</td>\n",
              "      <td>1</td>\n",
              "      <td>[*, Contains, spoilers, due, to, me, having, t...</td>\n",
              "      <td>[*, Contains, spoilers, due, to, me, having, t...</td>\n",
              "      <td>[*, Contains, spoilers, due, to, me, having, t...</td>\n",
              "    </tr>\n",
              "    <tr>\n",
              "      <th>4</th>\n",
              "      <td>That was the first thing that sprang to mind a...</td>\n",
              "      <td>1</td>\n",
              "      <td>[That, was, the, first, thing, that, sprang, t...</td>\n",
              "      <td>[That, was, the, first, thing, that, sprang, t...</td>\n",
              "      <td>[That, was, the, first, thing, that, sprang, t...</td>\n",
              "    </tr>\n",
              "  </tbody>\n",
              "</table>\n",
              "</div>\n",
              "      <button class=\"colab-df-convert\" onclick=\"convertToInteractive('df-411b9cd4-2330-4625-88fc-b0d7045cebc5')\"\n",
              "              title=\"Convert this dataframe to an interactive table.\"\n",
              "              style=\"display:none;\">\n",
              "        \n",
              "  <svg xmlns=\"http://www.w3.org/2000/svg\" height=\"24px\"viewBox=\"0 0 24 24\"\n",
              "       width=\"24px\">\n",
              "    <path d=\"M0 0h24v24H0V0z\" fill=\"none\"/>\n",
              "    <path d=\"M18.56 5.44l.94 2.06.94-2.06 2.06-.94-2.06-.94-.94-2.06-.94 2.06-2.06.94zm-11 1L8.5 8.5l.94-2.06 2.06-.94-2.06-.94L8.5 2.5l-.94 2.06-2.06.94zm10 10l.94 2.06.94-2.06 2.06-.94-2.06-.94-.94-2.06-.94 2.06-2.06.94z\"/><path d=\"M17.41 7.96l-1.37-1.37c-.4-.4-.92-.59-1.43-.59-.52 0-1.04.2-1.43.59L10.3 9.45l-7.72 7.72c-.78.78-.78 2.05 0 2.83L4 21.41c.39.39.9.59 1.41.59.51 0 1.02-.2 1.41-.59l7.78-7.78 2.81-2.81c.8-.78.8-2.07 0-2.86zM5.41 20L4 18.59l7.72-7.72 1.47 1.35L5.41 20z\"/>\n",
              "  </svg>\n",
              "      </button>\n",
              "      \n",
              "  <style>\n",
              "    .colab-df-container {\n",
              "      display:flex;\n",
              "      flex-wrap:wrap;\n",
              "      gap: 12px;\n",
              "    }\n",
              "\n",
              "    .colab-df-convert {\n",
              "      background-color: #E8F0FE;\n",
              "      border: none;\n",
              "      border-radius: 50%;\n",
              "      cursor: pointer;\n",
              "      display: none;\n",
              "      fill: #1967D2;\n",
              "      height: 32px;\n",
              "      padding: 0 0 0 0;\n",
              "      width: 32px;\n",
              "    }\n",
              "\n",
              "    .colab-df-convert:hover {\n",
              "      background-color: #E2EBFA;\n",
              "      box-shadow: 0px 1px 2px rgba(60, 64, 67, 0.3), 0px 1px 3px 1px rgba(60, 64, 67, 0.15);\n",
              "      fill: #174EA6;\n",
              "    }\n",
              "\n",
              "    [theme=dark] .colab-df-convert {\n",
              "      background-color: #3B4455;\n",
              "      fill: #D2E3FC;\n",
              "    }\n",
              "\n",
              "    [theme=dark] .colab-df-convert:hover {\n",
              "      background-color: #434B5C;\n",
              "      box-shadow: 0px 1px 3px 1px rgba(0, 0, 0, 0.15);\n",
              "      filter: drop-shadow(0px 1px 2px rgba(0, 0, 0, 0.3));\n",
              "      fill: #FFFFFF;\n",
              "    }\n",
              "  </style>\n",
              "\n",
              "      <script>\n",
              "        const buttonEl =\n",
              "          document.querySelector('#df-411b9cd4-2330-4625-88fc-b0d7045cebc5 button.colab-df-convert');\n",
              "        buttonEl.style.display =\n",
              "          google.colab.kernel.accessAllowed ? 'block' : 'none';\n",
              "\n",
              "        async function convertToInteractive(key) {\n",
              "          const element = document.querySelector('#df-411b9cd4-2330-4625-88fc-b0d7045cebc5');\n",
              "          const dataTable =\n",
              "            await google.colab.kernel.invokeFunction('convertToInteractive',\n",
              "                                                     [key], {});\n",
              "          if (!dataTable) return;\n",
              "\n",
              "          const docLinkHtml = 'Like what you see? Visit the ' +\n",
              "            '<a target=\"_blank\" href=https://colab.research.google.com/notebooks/data_table.ipynb>data table notebook</a>'\n",
              "            + ' to learn more about interactive tables.';\n",
              "          element.innerHTML = '';\n",
              "          dataTable['output_type'] = 'display_data';\n",
              "          await google.colab.output.renderOutput(dataTable, element);\n",
              "          const docLink = document.createElement('div');\n",
              "          docLink.innerHTML = docLinkHtml;\n",
              "          element.appendChild(docLink);\n",
              "        }\n",
              "      </script>\n",
              "    </div>\n",
              "  </div>\n",
              "  "
            ]
          },
          "metadata": {},
          "execution_count": 68
        }
      ],
      "source": [
        "train_data.head()"
      ]
    }
  ],
  "metadata": {
    "colab": {
      "collapsed_sections": [
        "dsuaOxU-tG5D",
        "HFKDGciTtG5H",
        "SKzDNaMotG5I",
        "JhlYUsmLtG5I",
        "AVxNHnvNtG5J",
        "LNUCbr6ctG5K",
        "9byVLN91EFJK",
        "o1yKR_gAnQPK",
        "ICsDXJzkjMOR"
      ],
      "machine_shape": "hm",
      "provenance": []
    },
    "gpuClass": "standard",
    "kernelspec": {
      "display_name": "Python 3 (ipykernel)",
      "language": "python",
      "name": "python3"
    },
    "language_info": {
      "codemirror_mode": {
        "name": "ipython",
        "version": 3
      },
      "file_extension": ".py",
      "mimetype": "text/x-python",
      "name": "python",
      "nbconvert_exporter": "python",
      "pygments_lexer": "ipython3",
      "version": "3.10.6"
    },
    "widgets": {
      "application/vnd.jupyter.widget-state+json": {
        "23c6ff6b9b404b6db1799e149e8a033b": {
          "model_module": "@jupyter-widgets/controls",
          "model_name": "HBoxModel",
          "model_module_version": "1.5.0",
          "state": {
            "_dom_classes": [],
            "_model_module": "@jupyter-widgets/controls",
            "_model_module_version": "1.5.0",
            "_model_name": "HBoxModel",
            "_view_count": null,
            "_view_module": "@jupyter-widgets/controls",
            "_view_module_version": "1.5.0",
            "_view_name": "HBoxView",
            "box_style": "",
            "children": [
              "IPY_MODEL_a5266e050b614b93b91efef14fdcee68",
              "IPY_MODEL_774de4cd0db54ddd9a0bab78b0dd2f50",
              "IPY_MODEL_e5412076f5544b8486b204b3915da9a3"
            ],
            "layout": "IPY_MODEL_477b8cc8dc364f8d87f771551070bbe8"
          }
        },
        "a5266e050b614b93b91efef14fdcee68": {
          "model_module": "@jupyter-widgets/controls",
          "model_name": "HTMLModel",
          "model_module_version": "1.5.0",
          "state": {
            "_dom_classes": [],
            "_model_module": "@jupyter-widgets/controls",
            "_model_module_version": "1.5.0",
            "_model_name": "HTMLModel",
            "_view_count": null,
            "_view_module": "@jupyter-widgets/controls",
            "_view_module_version": "1.5.0",
            "_view_name": "HTMLView",
            "description": "",
            "description_tooltip": null,
            "layout": "IPY_MODEL_2678a80747444805aa91f64497109ba2",
            "placeholder": "​",
            "style": "IPY_MODEL_f0afb812525e45c69a3a104628831da2",
            "value": "Pandas Apply: 100%"
          }
        },
        "774de4cd0db54ddd9a0bab78b0dd2f50": {
          "model_module": "@jupyter-widgets/controls",
          "model_name": "FloatProgressModel",
          "model_module_version": "1.5.0",
          "state": {
            "_dom_classes": [],
            "_model_module": "@jupyter-widgets/controls",
            "_model_module_version": "1.5.0",
            "_model_name": "FloatProgressModel",
            "_view_count": null,
            "_view_module": "@jupyter-widgets/controls",
            "_view_module_version": "1.5.0",
            "_view_name": "ProgressView",
            "bar_style": "success",
            "description": "",
            "description_tooltip": null,
            "layout": "IPY_MODEL_00f3399bb86e43b4b035199c9f8b9b15",
            "max": 25000,
            "min": 0,
            "orientation": "horizontal",
            "style": "IPY_MODEL_b2328744284d4fbaaba96a1cf8725990",
            "value": 25000
          }
        },
        "e5412076f5544b8486b204b3915da9a3": {
          "model_module": "@jupyter-widgets/controls",
          "model_name": "HTMLModel",
          "model_module_version": "1.5.0",
          "state": {
            "_dom_classes": [],
            "_model_module": "@jupyter-widgets/controls",
            "_model_module_version": "1.5.0",
            "_model_name": "HTMLModel",
            "_view_count": null,
            "_view_module": "@jupyter-widgets/controls",
            "_view_module_version": "1.5.0",
            "_view_name": "HTMLView",
            "description": "",
            "description_tooltip": null,
            "layout": "IPY_MODEL_48f05f3a9f364bf19d0de8fb43789da0",
            "placeholder": "​",
            "style": "IPY_MODEL_bcc4b5426c8d4c54a0eea8156e5154da",
            "value": " 25000/25000 [12:49&lt;00:00, 36.78it/s]"
          }
        },
        "477b8cc8dc364f8d87f771551070bbe8": {
          "model_module": "@jupyter-widgets/base",
          "model_name": "LayoutModel",
          "model_module_version": "1.2.0",
          "state": {
            "_model_module": "@jupyter-widgets/base",
            "_model_module_version": "1.2.0",
            "_model_name": "LayoutModel",
            "_view_count": null,
            "_view_module": "@jupyter-widgets/base",
            "_view_module_version": "1.2.0",
            "_view_name": "LayoutView",
            "align_content": null,
            "align_items": null,
            "align_self": null,
            "border": null,
            "bottom": null,
            "display": null,
            "flex": null,
            "flex_flow": null,
            "grid_area": null,
            "grid_auto_columns": null,
            "grid_auto_flow": null,
            "grid_auto_rows": null,
            "grid_column": null,
            "grid_gap": null,
            "grid_row": null,
            "grid_template_areas": null,
            "grid_template_columns": null,
            "grid_template_rows": null,
            "height": null,
            "justify_content": null,
            "justify_items": null,
            "left": null,
            "margin": null,
            "max_height": null,
            "max_width": null,
            "min_height": null,
            "min_width": null,
            "object_fit": null,
            "object_position": null,
            "order": null,
            "overflow": null,
            "overflow_x": null,
            "overflow_y": null,
            "padding": null,
            "right": null,
            "top": null,
            "visibility": null,
            "width": null
          }
        },
        "2678a80747444805aa91f64497109ba2": {
          "model_module": "@jupyter-widgets/base",
          "model_name": "LayoutModel",
          "model_module_version": "1.2.0",
          "state": {
            "_model_module": "@jupyter-widgets/base",
            "_model_module_version": "1.2.0",
            "_model_name": "LayoutModel",
            "_view_count": null,
            "_view_module": "@jupyter-widgets/base",
            "_view_module_version": "1.2.0",
            "_view_name": "LayoutView",
            "align_content": null,
            "align_items": null,
            "align_self": null,
            "border": null,
            "bottom": null,
            "display": null,
            "flex": null,
            "flex_flow": null,
            "grid_area": null,
            "grid_auto_columns": null,
            "grid_auto_flow": null,
            "grid_auto_rows": null,
            "grid_column": null,
            "grid_gap": null,
            "grid_row": null,
            "grid_template_areas": null,
            "grid_template_columns": null,
            "grid_template_rows": null,
            "height": null,
            "justify_content": null,
            "justify_items": null,
            "left": null,
            "margin": null,
            "max_height": null,
            "max_width": null,
            "min_height": null,
            "min_width": null,
            "object_fit": null,
            "object_position": null,
            "order": null,
            "overflow": null,
            "overflow_x": null,
            "overflow_y": null,
            "padding": null,
            "right": null,
            "top": null,
            "visibility": null,
            "width": null
          }
        },
        "f0afb812525e45c69a3a104628831da2": {
          "model_module": "@jupyter-widgets/controls",
          "model_name": "DescriptionStyleModel",
          "model_module_version": "1.5.0",
          "state": {
            "_model_module": "@jupyter-widgets/controls",
            "_model_module_version": "1.5.0",
            "_model_name": "DescriptionStyleModel",
            "_view_count": null,
            "_view_module": "@jupyter-widgets/base",
            "_view_module_version": "1.2.0",
            "_view_name": "StyleView",
            "description_width": ""
          }
        },
        "00f3399bb86e43b4b035199c9f8b9b15": {
          "model_module": "@jupyter-widgets/base",
          "model_name": "LayoutModel",
          "model_module_version": "1.2.0",
          "state": {
            "_model_module": "@jupyter-widgets/base",
            "_model_module_version": "1.2.0",
            "_model_name": "LayoutModel",
            "_view_count": null,
            "_view_module": "@jupyter-widgets/base",
            "_view_module_version": "1.2.0",
            "_view_name": "LayoutView",
            "align_content": null,
            "align_items": null,
            "align_self": null,
            "border": null,
            "bottom": null,
            "display": null,
            "flex": null,
            "flex_flow": null,
            "grid_area": null,
            "grid_auto_columns": null,
            "grid_auto_flow": null,
            "grid_auto_rows": null,
            "grid_column": null,
            "grid_gap": null,
            "grid_row": null,
            "grid_template_areas": null,
            "grid_template_columns": null,
            "grid_template_rows": null,
            "height": null,
            "justify_content": null,
            "justify_items": null,
            "left": null,
            "margin": null,
            "max_height": null,
            "max_width": null,
            "min_height": null,
            "min_width": null,
            "object_fit": null,
            "object_position": null,
            "order": null,
            "overflow": null,
            "overflow_x": null,
            "overflow_y": null,
            "padding": null,
            "right": null,
            "top": null,
            "visibility": null,
            "width": null
          }
        },
        "b2328744284d4fbaaba96a1cf8725990": {
          "model_module": "@jupyter-widgets/controls",
          "model_name": "ProgressStyleModel",
          "model_module_version": "1.5.0",
          "state": {
            "_model_module": "@jupyter-widgets/controls",
            "_model_module_version": "1.5.0",
            "_model_name": "ProgressStyleModel",
            "_view_count": null,
            "_view_module": "@jupyter-widgets/base",
            "_view_module_version": "1.2.0",
            "_view_name": "StyleView",
            "bar_color": null,
            "description_width": ""
          }
        },
        "48f05f3a9f364bf19d0de8fb43789da0": {
          "model_module": "@jupyter-widgets/base",
          "model_name": "LayoutModel",
          "model_module_version": "1.2.0",
          "state": {
            "_model_module": "@jupyter-widgets/base",
            "_model_module_version": "1.2.0",
            "_model_name": "LayoutModel",
            "_view_count": null,
            "_view_module": "@jupyter-widgets/base",
            "_view_module_version": "1.2.0",
            "_view_name": "LayoutView",
            "align_content": null,
            "align_items": null,
            "align_self": null,
            "border": null,
            "bottom": null,
            "display": null,
            "flex": null,
            "flex_flow": null,
            "grid_area": null,
            "grid_auto_columns": null,
            "grid_auto_flow": null,
            "grid_auto_rows": null,
            "grid_column": null,
            "grid_gap": null,
            "grid_row": null,
            "grid_template_areas": null,
            "grid_template_columns": null,
            "grid_template_rows": null,
            "height": null,
            "justify_content": null,
            "justify_items": null,
            "left": null,
            "margin": null,
            "max_height": null,
            "max_width": null,
            "min_height": null,
            "min_width": null,
            "object_fit": null,
            "object_position": null,
            "order": null,
            "overflow": null,
            "overflow_x": null,
            "overflow_y": null,
            "padding": null,
            "right": null,
            "top": null,
            "visibility": null,
            "width": null
          }
        },
        "bcc4b5426c8d4c54a0eea8156e5154da": {
          "model_module": "@jupyter-widgets/controls",
          "model_name": "DescriptionStyleModel",
          "model_module_version": "1.5.0",
          "state": {
            "_model_module": "@jupyter-widgets/controls",
            "_model_module_version": "1.5.0",
            "_model_name": "DescriptionStyleModel",
            "_view_count": null,
            "_view_module": "@jupyter-widgets/base",
            "_view_module_version": "1.2.0",
            "_view_name": "StyleView",
            "description_width": ""
          }
        }
      }
    }
  },
  "nbformat": 4,
  "nbformat_minor": 0
}