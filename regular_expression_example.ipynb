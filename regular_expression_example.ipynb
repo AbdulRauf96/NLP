{
  "cells": [
    {
      "cell_type": "markdown",
      "metadata": {
        "colab_type": "text",
        "id": "view-in-github"
      },
      "source": [
        "<a href=\"https://colab.research.google.com/github/AbdulRauf96/NLP/blob/main/regular_expression_example.ipynb\" target=\"_parent\"><img src=\"https://colab.research.google.com/assets/colab-badge.svg\" alt=\"Open In Colab\"/></a>"
      ]
    },
    {
      "cell_type": "markdown",
      "metadata": {
        "id": "cBHdRHrJujh5"
      },
      "source": [
        "# <font color='pickle'>**Install Libraries**\n",
        "\n",
        "We will use swifter package in this notebook.\n",
        "**swifter** package is a third-party package that provides a set of tools to speed up data processing tasks on Pandas DataFrame and Series objects. It's built on top of Pandas and uses techniques such as vectorization, Cython, and Dask to accelerate data processing operations.\n",
        "\n",
        "The package provides a swifter.apply() function that can be used as a drop-in replacement for the pandas df.apply() function. This function applies a given function to each element of a DataFrame or Series in parallel, which can significantly speed up the processing time for large datasets. It also provides a swifter.progress_apply() function that shows progress while the function is applied.\n",
        "\n",
        "It's a powerful package that can significantly speed up data processing tasks on large datasets, but it's not a part of the Python Standard Library. So, it has to be installed using pip or conda package manager before using it."
      ]
    },
    {
      "cell_type": "markdown",
      "metadata": {
        "id": "rg9u8p57M1HJ"
      },
      "source": [
        "# <font color='pickle'>**Import Libraries**"
      ]
    },
    {
      "cell_type": "code",
      "execution_count": 1,
      "metadata": {
        "id": "Xu0hwLMKme8S"
      },
      "outputs": [],
      "source": [
        "# Import the pandas library to work with dataframes\n",
        "import pandas as pd\n",
        "\n",
        "# Import the re module to work with regular expressions\n",
        "import re\n",
        "\n",
        "# Import the Counter class from the collections module to create frequency tables\n",
        "from collections import Counter\n",
        "\n",
        "# Import the Path class from the pathlib module to work with file paths\n",
        "from pathlib import Path\n",
        "\n",
        "# Import the swifter package to speed up data processing tasks on pandas DataFrame and Series objects\n",
        "import swifter"
      ]
    },
    {
      "cell_type": "markdown",
      "metadata": {
        "id": "Ku3CngGCNH7-"
      },
      "source": [
        "# <font color='pickle'>**Mount Google Drive and specify data folder**\n",
        "\n",
        "Mounting Google Drive in Colab allows you to access and work with files stored in your Google Drive from within a Colab notebook. It eliminates the need to manually download and upload files between Google Drive and Colab, and allows you to read and write files stored in your Google Drive directly from the Colab notebook.\n",
        "\n",
        "When you mount Google Drive in Colab, it creates a virtual file system that maps the directories and files in your Google Drive to a local directory on the Colab virtual machine. This allows you to use standard Python file operations (e.g. Path.open(), Path.iterdir(), Path.mkdir()) to read, write, and manipulate files stored in your Google Drive, just as if they were stored locally on the Colab virtual machine.\n",
        "\n",
        "Mounting Google Drive in Colab can be useful in several scenarios:\n",
        "\n",
        "- Working with large datasets: If you have large datasets that you don't want to download and upload manually, you can store them in your Google Drive and mount it in Colab to access them directly.\n",
        "\n",
        "- Collaboration: If you are working on a project with multiple collaborators, you can store the project files in a shared Google Drive and mount it in Colab to access and work with the files directly.\n",
        "\n",
        "- Backup: Mounting Google Drive in Colab can also be used as a backup option, you can easily save the important files in google drive and work on them from any device.\n",
        "\n",
        "Mounting Google Drive in Colab is easy, you just need to import the drive module from the google.colab library and use the mount() function to mount your Google Drive to the Colab virtual machine. You will be prompted to enter an authorization code, which is provided by a link after running the code. Once you have entered the authorization code, your Google Drive will be mounted to the specified directory and you can access and work with files stored in your Google Drive directly from the Colab notebook. This code has also been modified so that it can be run on both google colab and a local machine. \n"
      ]
    },
    {
      "cell_type": "code",
      "execution_count": 2,
      "metadata": {
        "colab": {
          "base_uri": "https://localhost:8080/"
        },
        "id": "VxNe3UhbBVuE",
        "outputId": "f7898151-9eb5-409b-faf5-d32743c7bfca"
      },
      "outputs": [
        {
          "name": "stdout",
          "output_type": "stream",
          "text": [
            "Not Running on Colab\n"
          ]
        }
      ],
      "source": [
        "if 'google.colab' in str(get_ipython()):\n",
        "    print('Running on Colab')\n",
        "else:\n",
        "    print('Not Running on Colab')"
      ]
    },
    {
      "cell_type": "markdown",
      "metadata": {
        "id": "LRMpbj5kBoUm"
      },
      "source": [
        "Since I have multiple subjects this is a default code that I use to alter the code so each respective folder can be accessed "
      ]
    },
    {
      "cell_type": "code",
      "execution_count": 4,
      "metadata": {
        "colab": {
          "base_uri": "https://localhost:8080/"
        },
        "id": "n2UcegSlFLny",
        "outputId": "36683131-4c54-4ca4-af25-743009f8dc75"
      },
      "outputs": [],
      "source": [
        "# mount google drive\n",
        "if 'google.colab' in str(get_ipython()):\n",
        "  %pip install swifter -qq\n",
        "  from google.colab import drive\n",
        "  drive.mount('/content/drive')\n",
        "  base_folder = Path('/content/drive/MyDrive/colab_notebooks/')\n",
        "  subject = 'nlp'\n",
        "  data = base_folder/subject/'data/'\n",
        "else:\n",
        "  base_folder = Path('C:/Users/abdul/OneDrive/Documents/MSBA')\n",
        "  data = base_folder/'data_sets/'"
      ]
    },
    {
      "cell_type": "markdown",
      "metadata": {
        "id": "HzA1R_7Pnejy"
      },
      "source": [
        "## <font color='pickle'>**Create Path object**\n",
        "\n",
        "- the following code creates a new object of the Path class from the pathlib module. This object represents a file path.\n",
        "- The resulting Path object can then be used to interact with the file system and perform various operations on the file or folder represented by the path.\n",
        "- For example, you can use data_folder.exists() to check if the folder represented by the data_folder path exists or data_folder.mkdir() to create a new folder.\n",
        "- It's a good practice to use pathlib instead of using string manipulation to work with file paths, it's more readable and less error-prone."
      ]
    },
    {
      "cell_type": "code",
      "execution_count": 6,
      "metadata": {
        "colab": {
          "base_uri": "https://localhost:8080/"
        },
        "id": "uteN05gVTJBq",
        "outputId": "7bb9e14c-6154-473b-9f52-35cb2c4386ec"
      },
      "outputs": [
        {
          "name": "stdout",
          "output_type": "stream",
          "text": [
            "True\n"
          ]
        }
      ],
      "source": [
        "# print data folder\n",
        "print(data.exists())"
      ]
    },
    {
      "cell_type": "code",
      "execution_count": 7,
      "metadata": {
        "id": "Y3ykG7spnojF"
      },
      "outputs": [],
      "source": [
        "# Craete path to the dataset \n",
        "# we can use / opertaor to join folders with files or subfolders\n",
        "# The second line creates a variable called \"file\" and assigns to it the result of concatenating \"data_folder\" and the string \"/trump_tweets.csv\" using the \"/\" operator. \n",
        "# This creates a new \"Path\" object that represents the file \"trump_tweets.csv\" \n",
        "# located in the \"data_folder\" directory.\n",
        "\n",
        "file = data/\"trump_tweets.csv\""
      ]
    },
    {
      "cell_type": "markdown",
      "metadata": {
        "id": "ySuTna3WSVZp"
      },
      "source": [
        "# <font color='pickle'>**Load data**"
      ]
    },
    {
      "cell_type": "code",
      "execution_count": 8,
      "metadata": {
        "id": "PW7kNj8Xujh8"
      },
      "outputs": [],
      "source": [
        "# Load the dataset using pd.read_csv\n",
        "df = pd.read_csv(file)"
      ]
    },
    {
      "cell_type": "code",
      "execution_count": 9,
      "metadata": {
        "colab": {
          "base_uri": "https://localhost:8080/",
          "height": 206
        },
        "id": "ElW14a5pHXSd",
        "outputId": "a00cc0e6-6bf2-4325-a42f-f2ace4dc50a8"
      },
      "outputs": [
        {
          "data": {
            "text/html": [
              "<div>\n",
              "<style scoped>\n",
              "    .dataframe tbody tr th:only-of-type {\n",
              "        vertical-align: middle;\n",
              "    }\n",
              "\n",
              "    .dataframe tbody tr th {\n",
              "        vertical-align: top;\n",
              "    }\n",
              "\n",
              "    .dataframe thead th {\n",
              "        text-align: right;\n",
              "    }\n",
              "</style>\n",
              "<table border=\"1\" class=\"dataframe\">\n",
              "  <thead>\n",
              "    <tr style=\"text-align: right;\">\n",
              "      <th></th>\n",
              "      <th>text</th>\n",
              "      <th>Username</th>\n",
              "      <th>Timestamp</th>\n",
              "    </tr>\n",
              "  </thead>\n",
              "  <tbody>\n",
              "    <tr>\n",
              "      <th>0</th>\n",
              "      <td>RT @CaslerNoel: Trump didn’t order all those f...</td>\n",
              "      <td>MwhalenCy</td>\n",
              "      <td>Sun Jul 11 21:57:37 +0000 2021</td>\n",
              "    </tr>\n",
              "    <tr>\n",
              "      <th>1</th>\n",
              "      <td>RT @bellausa17: @POTUS Biden pandering again a...</td>\n",
              "      <td>java1836</td>\n",
              "      <td>Sun Jul 11 21:57:37 +0000 2021</td>\n",
              "    </tr>\n",
              "    <tr>\n",
              "      <th>2</th>\n",
              "      <td>RT @realLizUSA: \"There are now two sets of law...</td>\n",
              "      <td>EricDrevon</td>\n",
              "      <td>Sun Jul 11 21:57:37 +0000 2021</td>\n",
              "    </tr>\n",
              "    <tr>\n",
              "      <th>3</th>\n",
              "      <td>RT @Blklivesmatter: Biden is currently sending...</td>\n",
              "      <td>kacekochel</td>\n",
              "      <td>Sun Jul 11 21:57:38 +0000 2021</td>\n",
              "    </tr>\n",
              "    <tr>\n",
              "      <th>4</th>\n",
              "      <td>💯 true!</td>\n",
              "      <td>frank_venezia</td>\n",
              "      <td>Sun Jul 11 21:57:38 +0000 2021</td>\n",
              "    </tr>\n",
              "  </tbody>\n",
              "</table>\n",
              "</div>"
            ],
            "text/plain": [
              "                                                text       Username  \\\n",
              "0  RT @CaslerNoel: Trump didn’t order all those f...      MwhalenCy   \n",
              "1  RT @bellausa17: @POTUS Biden pandering again a...       java1836   \n",
              "2  RT @realLizUSA: \"There are now two sets of law...     EricDrevon   \n",
              "3  RT @Blklivesmatter: Biden is currently sending...     kacekochel   \n",
              "4                                            💯 true!  frank_venezia   \n",
              "\n",
              "                        Timestamp  \n",
              "0  Sun Jul 11 21:57:37 +0000 2021  \n",
              "1  Sun Jul 11 21:57:37 +0000 2021  \n",
              "2  Sun Jul 11 21:57:37 +0000 2021  \n",
              "3  Sun Jul 11 21:57:38 +0000 2021  \n",
              "4  Sun Jul 11 21:57:38 +0000 2021  "
            ]
          },
          "execution_count": 9,
          "metadata": {},
          "output_type": "execute_result"
        }
      ],
      "source": [
        "# check the top five rows of the data set\n",
        "df.head()"
      ]
    },
    {
      "cell_type": "markdown",
      "metadata": {
        "id": "GPYLjXMPujjz"
      },
      "source": [
        "# <font color='pickle'>**Q1 Extracting hashtags from the tweets**"
      ]
    },
    {
      "cell_type": "code",
      "execution_count": 10,
      "metadata": {
        "colab": {
          "base_uri": "https://localhost:8080/"
        },
        "id": "_B6fnDJAH4Uf",
        "outputId": "3a3e2532-b7df-478b-952d-c6309257fff7"
      },
      "outputs": [
        {
          "name": "stdout",
          "output_type": "stream",
          "text": [
            "#TRUMP 47*\n",
            "#AMERICA 1ST #MAGA #CPAC* THERES NOTHING LIKE IT_SO #FREEDOM LOVING AMERICANS_CAN GET AWAY FROM THE BULL… https://t.co/NCxINeoqvd\n",
            "RT @TeaPainUSA: Trump will continue to divide the GOP until it's only him and Don Jr. left. \n",
            "\n",
            "https://t.co/ONPWBrtUbi\n",
            "RT @kelly2277: 🔥Trump’s Incompetent Team Waited For Wisconsin Election Updates And Blamed A “Delay” On A Conspiracy Theory BUT The Idiots H…\n",
            "RT @RSBNetwork: President Trump roasting Hunter Biden!!! https://t.co/291BoMKDXo\n",
            "RT @ShutUpAmanda: They already chose Trump. https://t.co/dXtMQR0EpG\n"
          ]
        }
      ],
      "source": [
        "# Inspect tweet texts - we will use rows 140 - 150\n",
        "for text in df['text'][140:145]:\n",
        "  print (text)"
      ]
    },
    {
      "cell_type": "code",
      "execution_count": 11,
      "metadata": {
        "id": "zObGjIZOCws8"
      },
      "outputs": [],
      "source": [
        "# write a regular expression to extract hashtags \n",
        "search_hashtags = re.compile(r\"(?:\\#+[\\w]+[\\w\\'\\-]*[\\w]+)\")"
      ]
    },
    {
      "cell_type": "markdown",
      "metadata": {
        "id": "4FVItbOJTT51"
      },
      "source": [
        "This code above is using the re.compile() function to create a regular expression pattern object that can be used to search for hashtags in a string.\n",
        "\n",
        "The regular expression inside the compile function is \"(?:\\#+[\\w]+[\\w\\'\\-]*[\\w]+)\".\n",
        "\n",
        "This regular expression is looking for the following pattern:\n",
        "\n",
        "- It starts with one or more \"#\" characters, which are used to match the hashtag symbol: \\#+\n",
        "- Followed by one or more word characters: [\\w]+\n",
        "- Followed by zero or more word characters, apostrophes, or dashes: [\\w\\'\\-]*\n",
        "- Finally, it ends with one or more word characters: [\\w]+\n",
        "- The (?:) is a non-capturing group, it means that the group is included in the match but the group is not captured as a separate element in the result.\n",
        "\n",
        "The compiled regular expression object can be used with functions like findall(), search(), and match() to find matches of the pattern in a string.\n",
        "\n",
        "Using the re.compile() function to create a regular expression pattern object has several advantages:\n",
        "\n",
        "- When you use the re module to search for a pattern in a string, it creates a new regular expression object for each search. This can be slow if you are searching for the same pattern multiple times. Compiling the regular expression ahead of time and using the compiled object for multiple searches can improve performance.\n",
        "\n",
        "- Optimization: The re.compile() function will optimize the regular expression for faster execution. This can be useful when working with very large input strings or when searching for a pattern multiple times in a loop."
      ]
    },
    {
      "cell_type": "code",
      "execution_count": 12,
      "metadata": {
        "colab": {
          "base_uri": "https://localhost:8080/",
          "height": 49,
          "referenced_widgets": [
            "ee3948f90247460f8b2d1f9a8db16fd0",
            "62faee7f5a0b4e8eab52689de03a74f0",
            "f35e3f48cfa8451991e7dc356f6d9739",
            "3c5f413eb3614de396acb05073d1475c",
            "172354f35b5c4aefb9dd8167b67bfdb8",
            "bc19a92636d04334806ffb828affc036",
            "ef126949ff864aed8c31bd894b6de807",
            "50915c7c09e04922a8280d828a5b5caf",
            "f6ad36a72fe843afa2d91563605a1e05",
            "8d06cbb89fd547479c9d7ead07664eab",
            "e114a0e7764e44589bc4dc88c6252907"
          ]
        },
        "id": "Wor3akWLouwb",
        "outputId": "43661523-3773-4003-b4b0-b2b7f9ccf7b2"
      },
      "outputs": [
        {
          "data": {
            "application/vnd.jupyter.widget-view+json": {
              "model_id": "bab298a08cda4c5e92d32c5465146e5b",
              "version_major": 2,
              "version_minor": 0
            },
            "text/plain": [
              "Pandas Apply:   0%|          | 0/200 [00:00<?, ?it/s]"
            ]
          },
          "metadata": {},
          "output_type": "display_data"
        }
      ],
      "source": [
        "# apply function to create new column 'hashtags'\n",
        "df['hashtags'] = df['text'].swifter.apply(lambda x : re.findall(search_hashtags, x) )"
      ]
    },
    {
      "cell_type": "markdown",
      "metadata": {
        "id": "q9vd_Ib_Xbe4"
      },
      "source": [
        "The above code is using the .swifter.apply() method to extract hashtags from the \"text\" column of a DataFrame df and add a new column \"hashtags\" to the DataFrame.\n",
        "\n",
        "The .swifter.apply() method is a variant of the .apply() method that is optimized for large DataFrames and uses parallelization to speed up the computation.\n",
        "\n",
        "The method takes a lambda function as an argument, which is applied to each element of the \"text\" column. The lambda function takes in one argument, x, which represents an element of the \"text\" column. Inside the lambda function, re.findall(search_hashtags, x) is used to search for all hashtags that match the search_hashtags regular expression pattern in the element x of the \"text\" column.\n",
        "\n",
        "The resulting list of hashtags for each element is then assigned as the value for the corresponding row in the new \"hashtags\" column.\n",
        "\n",
        "<font color = 'red'> Overall, this code will extract hashtags from the 'text' column of dataframe and add a new column 'hashtags' to the dataframe with lists of hashtags for each element in the 'text' column."
      ]
    },
    {
      "cell_type": "code",
      "execution_count": 13,
      "metadata": {
        "colab": {
          "base_uri": "https://localhost:8080/"
        },
        "id": "fS_4HDiKCOi5",
        "outputId": "53278295-8a1c-478c-c0a4-df49357fa981"
      },
      "outputs": [
        {
          "data": {
            "text/plain": [
              "140    [#TRUMP, #AMERICA, #MAGA, #CPAC, #FREEDOM]\n",
              "141                                            []\n",
              "142                                            []\n",
              "143                                            []\n",
              "144                                            []\n",
              "Name: hashtags, dtype: object"
            ]
          },
          "execution_count": 13,
          "metadata": {},
          "output_type": "execute_result"
        }
      ],
      "source": [
        "# check rows 140 - 150 of dataframe for column hashtags\n",
        "df.hashtags[140:145]"
      ]
    },
    {
      "cell_type": "code",
      "execution_count": 14,
      "metadata": {
        "id": "Z_5q11zqDQGz"
      },
      "outputs": [],
      "source": [
        "# drop columns Username, Timestamp\n",
        "df = df.drop(['Username','Timestamp'],axis=1)"
      ]
    },
    {
      "cell_type": "code",
      "execution_count": 15,
      "metadata": {
        "colab": {
          "base_uri": "https://localhost:8080/"
        },
        "id": "P8aBMuqAIshx",
        "outputId": "f3ab15af-ed0d-4842-f98f-2c8b443a8aac"
      },
      "outputs": [
        {
          "data": {
            "text/plain": [
              "text        #TRUMP 47*\\n#AMERICA 1ST #MAGA #CPAC* THERES N...\n",
              "hashtags           [#TRUMP, #AMERICA, #MAGA, #CPAC, #FREEDOM]\n",
              "Name: 140, dtype: object"
            ]
          },
          "execution_count": 15,
          "metadata": {},
          "output_type": "execute_result"
        }
      ],
      "source": [
        "# check first ten rows of the dataset\n",
        "df.loc[140]"
      ]
    },
    {
      "cell_type": "markdown",
      "metadata": {
        "id": "jGXFs7YIujkH"
      },
      "source": [
        "# <font color='pickle'>**Q2: Removing URLs from tweets**\n",
        "\n",
        "There are multiple URLs present in individual tweet's `text` Remove the URL from the tweets.\n"
      ]
    },
    {
      "cell_type": "code",
      "execution_count": 16,
      "metadata": {
        "id": "S2ntS9TYX0FN"
      },
      "outputs": [],
      "source": [
        "url_pattern1 = re.compile(r\"https?[A-Za-z0-9:/._\\-]+\")"
      ]
    },
    {
      "cell_type": "markdown",
      "metadata": {
        "id": "SmT3vFkTZki5"
      },
      "source": [
        "This code is using the re.compile() function to create a regular expression pattern object that can be used to match URLs in a string.\n",
        "\n",
        "The regular expression inside the compile function is \"https?[A-Za-z0-9:/._\\-]+\".\n",
        "\n",
        "This regular expression is looking for the following pattern:\n",
        "\n",
        "- It starts with http or https: https?\n",
        "- Followed by one or more of any combination of uppercase and lowercase letters, digits, colons, forward slashes, dots, underscores, and dashes: [A-Za-z0-9:/._\\-]+\n",
        "\n",
        "This regular expression will not match URLs that contain characters outside of the set A-Za-z0-9:/._\\-, for example:\n",
        "\n",
        "- URLs that include spaces, such as \"http://example.com/my file.html\"\n",
        "- URLs that include special characters, such as \"http://example.com/my%20file.html\"\n",
        "- URLs that include non-ascii characters, such as \"http://example.com/my檔案.html\"\n",
        "- URLs that include query parameters, such as \"http://example.com/myfile.html?param=value\"\n",
        "\n",
        "Also, this regular expression will not match URLs that starts with ftp protocol, or other protocols, and it will not match URLs that don't include http or https as the protocol. For example:\n",
        "\n",
        "- ftp://example.com/file.txt"
      ]
    },
    {
      "cell_type": "code",
      "execution_count": 18,
      "metadata": {
        "id": "f-QP2Z8WaLef"
      },
      "outputs": [],
      "source": [
        "url_pattern2 = re.compile(r\"(http|ftp|https)://([\\w_-]+(?:(?:\\.[\\w_-]+)+))([\\w.,@?^=%&:/~+#-]*[\\w@?^=%&/~+#-])?\")"
      ]
    },
    {
      "cell_type": "markdown",
      "metadata": {
        "id": "QMWF2IvZaSi8"
      },
      "source": [
        "This regular expression is looking for the following pattern:\n",
        "\n",
        "- It starts with http, ftp, or https: (http|ftp|https)\n",
        "- Followed by ://\n",
        "- Followed by one or more word characters, underscores, or dashes: [\\w_-]\n",
        "- Followed by zero or more repetitions of a dot and one or more word characters, underscores, or dashes: (?:(?:\\.[\\w_-]+)+)\n",
        "- Followed by zero or more repetitions of word characters, punctuation, or special characters: [\\w.,@?^=%&:/~+#-]*\n",
        "- Finally, it ends with one or more word characters, punctuation, or special characters: [\\w@?^=%&/~+#-]\n",
        "                                                                                          \n",
        "This regular expression will match any valid http, https and ftp URLs."
      ]
    },
    {
      "cell_type": "code",
      "execution_count": 19,
      "metadata": {
        "colab": {
          "base_uri": "https://localhost:8080/",
          "height": 49,
          "referenced_widgets": [
            "e50803d79dd14314b3e5125a2b618fd8",
            "2979aec5e52a49e49b071de781332ed3",
            "b90779bc9157489b94af7d3f58a935ea",
            "5ecbbd82c1bc45168682d67c537be29f",
            "c683cf105d3f425899df5c5592ba75fb",
            "d81d398fa1cc4bbc8dc8ac06a5db0f2d",
            "d31ef18ae3354ac68b322285b25e6546",
            "8ea385f362df4b9ba3a8a02852f62005",
            "0c4b8be847974963972ea97123c86558",
            "a4f5da0d265d43618c32f4b6866b2c17",
            "b5656c0d6f3e4c25bfa637c810a59bdb"
          ]
        },
        "id": "o6I4k1QuujkJ",
        "outputId": "f52b36f7-8ab2-43f4-a847-d0690839a8d7"
      },
      "outputs": [
        {
          "data": {
            "application/vnd.jupyter.widget-view+json": {
              "model_id": "4f17d3f8278044deacb14b35c222e296",
              "version_major": 2,
              "version_minor": 0
            },
            "text/plain": [
              "Pandas Apply:   0%|          | 0/200 [00:00<?, ?it/s]"
            ]
          },
          "metadata": {},
          "output_type": "display_data"
        }
      ],
      "source": [
        "# create new column clean_text. We will remove urls from the text column to create new column\n",
        "df['clean_text_1'] = df['text'].swifter.apply(lambda x: re.sub(url_pattern1 ,'',x))"
      ]
    },
    {
      "cell_type": "code",
      "execution_count": 20,
      "metadata": {
        "colab": {
          "base_uri": "https://localhost:8080/",
          "height": 49,
          "referenced_widgets": [
            "ff6fcabc1a104a26aae28337f0c7901a",
            "c7ad6d09b4fc497593f6a9fe3c9e9f85",
            "44a9353725d6401c91f893aab1ded8a3",
            "6a643a8289fa46228f09ee6169fd2e8c",
            "8d076c96da3f4e9a8982b36f6ae0ffa8",
            "439b8771265140f1872bb43eaa3675ee",
            "37520c09ca4142aa8217182099d71bad",
            "9242b4f6b6b9457d81ab1c7620759530",
            "4db3eaa46a854dee8f8812b5eadb5678",
            "0f20110392cb4892a40d3fc77ced97b8",
            "0156a825fe3b41dea85b28aef36cecd8"
          ]
        },
        "id": "_wLU5XhgayhG",
        "outputId": "e65cf151-3998-4030-9515-04b4af7b8f5d"
      },
      "outputs": [
        {
          "data": {
            "application/vnd.jupyter.widget-view+json": {
              "model_id": "f968a8fb403a48fbb0fc7573b5f4b155",
              "version_major": 2,
              "version_minor": 0
            },
            "text/plain": [
              "Pandas Apply:   0%|          | 0/200 [00:00<?, ?it/s]"
            ]
          },
          "metadata": {},
          "output_type": "display_data"
        }
      ],
      "source": [
        "df['clean_text_2'] = df['text'].swifter.apply(lambda x: re.sub(url_pattern2 ,'',x))"
      ]
    },
    {
      "cell_type": "code",
      "execution_count": 21,
      "metadata": {
        "colab": {
          "base_uri": "https://localhost:8080/"
        },
        "id": "vVGR7GimObF7",
        "outputId": "a058de20-ee2b-4f22-c42b-fa1596bbf9ef"
      },
      "outputs": [
        {
          "name": "stdout",
          "output_type": "stream",
          "text": [
            "#TRUMP 47*\n",
            "#AMERICA 1ST #MAGA #CPAC* THERES NOTHING LIKE IT_SO #FREEDOM LOVING AMERICANS_CAN GET AWAY FROM THE BULL… \n",
            "RT @TeaPainUSA: Trump will continue to divide the GOP until it's only him and Don Jr. left. \n",
            "\n",
            "\n",
            "RT @kelly2277: 🔥Trump’s Incompetent Team Waited For Wisconsin Election Updates And Blamed A “Delay” On A Conspiracy Theory BUT The Idiots H…\n",
            "RT @RSBNetwork: President Trump roasting Hunter Biden!!! \n",
            "RT @ShutUpAmanda: They already chose Trump. \n",
            "@ReadingJudith He’s another dangerous grifter and agitator allowed to flourish thanks to Trump &amp; the GOP.  He’s rotten snot.\n",
            "@snarkiekimmie @ananavarro They hate communists and the dem party is overflowing with em. Duhhh. Yeah Trump was suc… \n",
            "RT @CNN: Trump doesn't have a strong case against Big Tech for deplatforming him. Private companies aren't required to provide him a platfo…\n",
            "RT @kelly2277: 🔥Trump’s Incompetent Team Waited For Wisconsin Election Updates And Blamed A “Delay” On A Conspiracy Theory BUT The Idiots H…\n",
            "RT @prchovanec: Trump says Democrats are to blame for 1/6 because they didn’t take the potential for violence from his supporters, in the p…\n"
          ]
        }
      ],
      "source": [
        "# print rows 140-150 from clean_text column to see if the urls have been removed\n",
        "for text in df['clean_text_1'][140:150]:\n",
        "  print(text)"
      ]
    },
    {
      "cell_type": "code",
      "execution_count": 22,
      "metadata": {
        "colab": {
          "base_uri": "https://localhost:8080/"
        },
        "id": "CSgEt6J0a8e2",
        "outputId": "b3c7df20-23c0-4024-b465-a8054cbcd91c"
      },
      "outputs": [
        {
          "name": "stdout",
          "output_type": "stream",
          "text": [
            "#TRUMP 47*\n",
            "#AMERICA 1ST #MAGA #CPAC* THERES NOTHING LIKE IT_SO #FREEDOM LOVING AMERICANS_CAN GET AWAY FROM THE BULL… \n",
            "RT @TeaPainUSA: Trump will continue to divide the GOP until it's only him and Don Jr. left. \n",
            "\n",
            "\n",
            "RT @kelly2277: 🔥Trump’s Incompetent Team Waited For Wisconsin Election Updates And Blamed A “Delay” On A Conspiracy Theory BUT The Idiots H…\n",
            "RT @RSBNetwork: President Trump roasting Hunter Biden!!! \n",
            "RT @ShutUpAmanda: They already chose Trump. \n",
            "@ReadingJudith He’s another dangerous grifter and agitator allowed to flourish thanks to Trump &amp; the GOP.  He’s rotten snot.\n",
            "@snarkiekimmie @ananavarro They hate communists and the dem party is overflowing with em. Duhhh. Yeah Trump was suc… \n",
            "RT @CNN: Trump doesn't have a strong case against Big Tech for deplatforming him. Private companies aren't required to provide him a platfo…\n",
            "RT @kelly2277: 🔥Trump’s Incompetent Team Waited For Wisconsin Election Updates And Blamed A “Delay” On A Conspiracy Theory BUT The Idiots H…\n",
            "RT @prchovanec: Trump says Democrats are to blame for 1/6 because they didn’t take the potential for violence from his supporters, in the p…\n"
          ]
        }
      ],
      "source": [
        "for text in df['clean_text_2'][140:150]:\n",
        "  print(text)"
      ]
    },
    {
      "cell_type": "markdown",
      "metadata": {
        "id": "5Fbl6z9iujkO"
      },
      "source": [
        "# <font color='pickle'>**Q3 Extract Top 10 Mentions and add mentions as new column**\n",
        "\n",
        "Many of the tweets have mentions of people in the form *@username*, for example see the following tweet - \n",
        "\n",
        "RT @kelly2277: 🔥Trump’s Incompetent Team Waited For Wisconsin Election Updates\n",
        "\n",
        "Here @kelly2277 is a mention. You need to extract mentions from all the tweets and find which are the top 10 mentions"
      ]
    },
    {
      "cell_type": "code",
      "execution_count": 23,
      "metadata": {
        "id": "tuan6_jDwhdP"
      },
      "outputs": [],
      "source": [
        "mention_pattern_1 = re.compile(r'@([\\w\\-]+):?')"
      ]
    },
    {
      "cell_type": "markdown",
      "metadata": {
        "id": "-8IvqALixGjv"
      },
      "source": [
        "The pattern consists of the following parts:\n",
        "\n",
        "- The @ character, which must appear at the beginning of the pattern.\n",
        "- A group of one or more word characters (\\w) or hyphens (-), captured within parentheses () . This group is denoted by ([\\w\\-]+)\n",
        "- An optional colon : denoted by :?.\n",
        "\n",
        "- The parentheses in the pattern define a group. In this case, the group captures the word characters and hyphens that immediately follow the '@' character.\n",
        "\n",
        "- If the parentheses were removed, the pattern would still match the same strings, but the re.findall() function would return the entire match, rather than just the part of the match that is captured by the group"
      ]
    },
    {
      "cell_type": "code",
      "execution_count": 24,
      "metadata": {
        "colab": {
          "base_uri": "https://localhost:8080/",
          "height": 49,
          "referenced_widgets": [
            "2b9911be6107458bab20d4ccc0185c19",
            "73fc25d4146b4c17ae539f49f079d723",
            "49ec41b88624428b9254212e12d8d33f",
            "f662cba479dd48bb816bf13971bc417a",
            "76e390ecf438497d99ffcc71ce1dda95",
            "627f363633234d7896228a9aea75a8e2",
            "32e790b029fc46368ab1100116c20419",
            "2ef424cd8c0b4be7bc5d7ab2bcf764a8",
            "a8946a309a284251a05cbaed1cb8040a",
            "df3bcdae2588414f918249f14fe14d0d",
            "aeeacc2ed1ff495bad4829d86cf07c10"
          ]
        },
        "id": "9lceE1LBPoYE",
        "outputId": "e8b08746-4280-4b81-ba76-d35d4366d513"
      },
      "outputs": [
        {
          "data": {
            "application/vnd.jupyter.widget-view+json": {
              "model_id": "4bf0e3c9ceac4b9f836a4615ee4d7129",
              "version_major": 2,
              "version_minor": 0
            },
            "text/plain": [
              "Pandas Apply:   0%|          | 0/200 [00:00<?, ?it/s]"
            ]
          },
          "metadata": {},
          "output_type": "display_data"
        }
      ],
      "source": [
        "# craete column mentions that has @mentions in tweets\n",
        "df['mentions'] = df['text'].swifter.apply(lambda x: re.findall(mention_pattern_1,x) if len(re.findall(mention_pattern_1, x))>0 else None )"
      ]
    },
    {
      "cell_type": "code",
      "execution_count": 25,
      "metadata": {
        "colab": {
          "base_uri": "https://localhost:8080/"
        },
        "id": "Mx0Bzi46Pyl9",
        "outputId": "816d59cb-3d15-4a26-890c-edc458b104d0"
      },
      "outputs": [
        {
          "data": {
            "text/plain": [
              "0                                           [CaslerNoel]\n",
              "1                                    [bellausa17, POTUS]\n",
              "2                                           [realLizUSA]\n",
              "3                                       [Blklivesmatter]\n",
              "4                                                   None\n",
              "                             ...                        \n",
              "195    [Vesemirr, C_Stroop, Mr_JamesLandis, mattsheff...\n",
              "196                       [JennaEllisEsq, GOPChairwoman]\n",
              "197                                        [ElectionWiz]\n",
              "198                        [chsbulldogs92, ericswalwell]\n",
              "199                                     [RonFilipkowski]\n",
              "Name: mentions, Length: 200, dtype: object"
            ]
          },
          "execution_count": 25,
          "metadata": {},
          "output_type": "execute_result"
        }
      ],
      "source": [
        "df['mentions']"
      ]
    },
    {
      "cell_type": "code",
      "execution_count": 26,
      "metadata": {
        "id": "dEY09x-mkNSo"
      },
      "outputs": [],
      "source": [
        "# combine mention in a single list\n",
        "mentions = df['mentions']\n",
        "mentions_combined=[]\n",
        "for mention in mentions:\n",
        "  if mention != None:\n",
        "    mentions_combined.extend(mention)"
      ]
    },
    {
      "cell_type": "markdown",
      "metadata": {
        "id": "SvxndbxNzQni"
      },
      "source": [
        "Explanation of the above code:\n",
        "\n",
        "- The first line mentions = df['mentions'] retrieves the 'mentions' column from the DataFrame and assigns it to the variable mentions.\n",
        "\n",
        "- The second line mentions_combined=[] creates an empty list called mentions_combined that will be used to store all of the mentions.\n",
        "\n",
        "- The following lines define a for loop that iterates over each element of the mentions variable.\n",
        "\n",
        "- The first line within the for loop if mention != None: checks if the current element (mention) is not None\n",
        "\n",
        "- The second line within the for loop mentions_combined.extend(mention) uses the extend() method to add all elements of the current mention (which is a list) to the mentions_combined list.\n",
        "\n",
        "- This code will combine all the lists of mentions into a single list and store it in the mentions_combined variable.\n",
        "\n",
        "- It's important to note that the extend() method is used to add elements of a list to another list, whereas the append() method would add the list as a single element to the other list."
      ]
    },
    {
      "cell_type": "code",
      "execution_count": 27,
      "metadata": {
        "colab": {
          "base_uri": "https://localhost:8080/"
        },
        "id": "QaZyXnNlzvF6",
        "outputId": "b78ae308-8f45-4659-b3fc-a201e3552817"
      },
      "outputs": [
        {
          "name": "stdout",
          "output_type": "stream",
          "text": [
            "[[1, 2, 3], [4, 5, 6]]\n",
            "[1, 2, 3, 4, 5, 6]\n"
          ]
        }
      ],
      "source": [
        "combined_list1 = []\n",
        "combined_list2 = []\n",
        "list1 = [1, 2, 3]\n",
        "list2 = [4, 5, 6]\n",
        "\n",
        "# Using the append() method\n",
        "combined_list1.append(list1)\n",
        "combined_list1.append(list2)\n",
        "print(combined_list1)\n",
        "\n",
        "# Using the append() method\n",
        "combined_list2.extend(list1)\n",
        "combined_list2.extend(list2)\n",
        "print(combined_list2)"
      ]
    },
    {
      "cell_type": "markdown",
      "metadata": {
        "id": "sGF43zyU00Iy"
      },
      "source": [
        "Explanation of the above code: \n",
        "- the first block of code uses the append() method to add the list1 and list2 as individual elements to combined_list1.\n",
        "- the second block of code uses the extend() method to add all the elements of list1 and list2 to combined_list2."
      ]
    },
    {
      "cell_type": "code",
      "execution_count": 28,
      "metadata": {
        "id": "xRi9z_17kG47"
      },
      "outputs": [],
      "source": [
        "# use Counter to get top mentions\n",
        "top_mentions = Counter(mentions_combined).most_common(10)"
      ]
    },
    {
      "cell_type": "markdown",
      "metadata": {
        "id": "Vff37BIw1Nj3"
      },
      "source": [
        "Explanation of the above code: \n",
        "- This code is using the Counter class from the Python collections module to count the occurrences of each element in the list mentions_combined.\n",
        "\n",
        "- Then it is calling the most_common(n) method on the resulting Counter object, which returns a list of the n most common elements and their counts. In this case n is set to 10, so the most_common(10) method will return a list of the 10 most common elements and their counts."
      ]
    },
    {
      "cell_type": "code",
      "execution_count": 29,
      "metadata": {
        "colab": {
          "base_uri": "https://localhost:8080/"
        },
        "id": "AZIzPSr6kPV4",
        "outputId": "9ec90da7-4778-4b2f-a596-18a4c6e17bf9"
      },
      "outputs": [
        {
          "data": {
            "text/plain": [
              "[('glennkirschner2', 7),\n",
              " ('atrupar', 7),\n",
              " ('CaslerNoel', 6),\n",
              " ('realLizUSA', 6),\n",
              " ('TeaPainUSA', 6),\n",
              " ('SwainForSenate', 5),\n",
              " ('CPAC', 4),\n",
              " ('RSBNetwork', 4),\n",
              " ('Out5p0ken', 4),\n",
              " ('JennaEllisEsq', 4)]"
            ]
          },
          "execution_count": 29,
          "metadata": {},
          "output_type": "execute_result"
        }
      ],
      "source": [
        "# print top mentions\n",
        "top_mentions"
      ]
    },
    {
      "cell_type": "markdown",
      "metadata": {
        "id": "TsdxVD1Ky4Hu"
      },
      "source": [
        "## Improved version of mention pattern\n",
        "\n",
        "Let us reevaluate our mention_pattern"
      ]
    },
    {
      "cell_type": "code",
      "execution_count": 30,
      "metadata": {
        "id": "A6piuNmFxzx2"
      },
      "outputs": [],
      "source": [
        "# test this pattern\n",
        "text1 = 'RT @kelly2277: 🔥Trump’s Incompetent Team Waited For Wisconsin Election Updates. abc@gmail.com  @kelly-2277 @kelly_2277 @kel @kellyhoward_12345678'"
      ]
    },
    {
      "cell_type": "code",
      "execution_count": 31,
      "metadata": {
        "colab": {
          "base_uri": "https://localhost:8080/"
        },
        "id": "BgSDxtVuyBog",
        "outputId": "ea95dd81-84ca-4914-97b4-856e1d5d28df"
      },
      "outputs": [
        {
          "data": {
            "text/plain": [
              "['kelly2277',\n",
              " 'gmail',\n",
              " 'kelly-2277',\n",
              " 'kelly_2277',\n",
              " 'kel',\n",
              " 'kellyhoward_12345678']"
            ]
          },
          "execution_count": 31,
          "metadata": {},
          "output_type": "execute_result"
        }
      ],
      "source": [
        "re.findall(mention_pattern_1, text1)"
      ]
    },
    {
      "cell_type": "markdown",
      "metadata": {
        "id": "fdBovlKs8ty0"
      },
      "source": [
        "[ Twitter user names rules](https://help.twitter.com/en/managing-your-account/twitter-username-rules#:~:text=Your%20username%20cannot%20be%20longer,of%20underscores%2C%20as%20noted%20above.)\n",
        "- Your username cannot be longer than 15 characters. Your name can be longer (50 characters) or shorter than 4 characters, but usernames are kept shorter for the sake of ease.\n",
        "- A username can only contain alphanumeric characters (letters A-Z, numbers 0-9) with the exception of underscores, as noted above. Check to make sure your desired username doesn't contain any symbols, dashes, or spaces."
      ]
    },
    {
      "cell_type": "code",
      "execution_count": 32,
      "metadata": {
        "id": "gY3p7ECg3ICd"
      },
      "outputs": [],
      "source": [
        "mention_pattern_2 = re.compile(r\"(?<=^|(?<=[^a-zA-Z0-9-_\\.]))@([A-Za-z0-9_]{4,15})\")"
      ]
    },
    {
      "cell_type": "markdown",
      "metadata": {
        "id": "IRx75G4BBYAh"
      },
      "source": [
        "Explanation of the pattern:\n",
        "- (?<=^|(?<=[^a-zA-Z0-9-_\\.])): This is a positive lookbehind assertion. It asserts that what immediately precedes the current position in the string is the start of the line (^) or a character that is not a letter, digit, underscore, hyphen, or period ([^a-zA-Z0-9-_\\.]). This is used to ensure that the \"@\" symbol is not part of another word or email address.\n",
        "\n",
        "- @: This matches the \"@\" symbol, which is the character that precedes a mention (username) on Twitter.\n",
        "\n",
        "- ([A-Za-z0-9_]{4,15}): This is a capturing group that matches 4 to 15 alphanumeric characters including letters, numbers, and underscores. This group captures the actual mention (username) on twitter."
      ]
    },
    {
      "cell_type": "code",
      "execution_count": 33,
      "metadata": {
        "colab": {
          "base_uri": "https://localhost:8080/"
        },
        "id": "RjYe8s9v3cYX",
        "outputId": "9e340c8f-39ec-4ece-a5bc-ec86a4529533"
      },
      "outputs": [
        {
          "data": {
            "text/plain": [
              "['kelly2277', 'kelly', 'kelly_2277', 'kellyhoward_123']"
            ]
          },
          "execution_count": 33,
          "metadata": {},
          "output_type": "execute_result"
        }
      ],
      "source": [
        "re.findall(mention_pattern_2, text1)\n"
      ]
    },
    {
      "cell_type": "markdown",
      "metadata": {
        "id": "dgAmj68v_p5n"
      },
      "source": [
        "The above code is still extracting usernames longer than 15 characters. Although it extracts only first fifteen characters of these longer usernames."
      ]
    },
    {
      "cell_type": "code",
      "execution_count": 34,
      "metadata": {
        "id": "JeI8amPd_9qO"
      },
      "outputs": [],
      "source": [
        "mention_pattern_2 = re.compile(r\"(?<=^|(?<=[^a-zA-Z0-9-_\\.]))@([A-Za-z0-9_]{4,15})\\b\")"
      ]
    },
    {
      "cell_type": "code",
      "execution_count": 35,
      "metadata": {
        "colab": {
          "base_uri": "https://localhost:8080/"
        },
        "id": "mxKuh3di__zW",
        "outputId": "a77b33b1-cffc-4aac-ebb0-b76f30c92a17"
      },
      "outputs": [
        {
          "data": {
            "text/plain": [
              "['kelly2277', 'kelly', 'kelly_2277']"
            ]
          },
          "execution_count": 35,
          "metadata": {},
          "output_type": "execute_result"
        }
      ],
      "source": [
        "re.findall(mention_pattern_2, text1)"
      ]
    },
    {
      "cell_type": "markdown",
      "metadata": {
        "id": "p3Tw8iGK3fuc"
      },
      "source": [
        "Explanation of the pattern:\n",
        "- (?<=^|(?<=[^a-zA-Z0-9-_\\.])): This is a positive lookbehind assertion. It asserts that what immediately precedes the current position in the string is the start of the line (^) or a character that is not a letter, digit, underscore, hyphen, or period ([^a-zA-Z0-9-_\\.]). This is used to ensure that the \"@\" symbol is not part of another word or email address.\n",
        "\n",
        "- @: This matches the \"@\" symbol, which is the character that precedes a mention (username) on Twitter.\n",
        "\n",
        "- ([A-Za-z0-9_]{4,15}): This is a capturing group that matches 4 to 15 alphanumeric characters including letters, numbers, and underscores. This group captures the actual mention (username) on twitter.\n",
        "\n",
        "- \\b: This is a word boundary assertion. It asserts that the match is at a position where a word character (letter, digit, or underscore) is on one side, and a non-word character (anything other than a letter, digit, or underscore) is on the other side. This is used to ensure that the match does not include any additional characters after the mention."
      ]
    },
    {
      "cell_type": "markdown",
      "metadata": {
        "id": "-MRi5gJYEBSM"
      },
      "source": [
        "# <font color='pickle'>**Q4 Count Words**\n",
        "Count the number of words 'trump' or 'Trump' appearing in every tweet. Add this as an additional feature to the data set."
      ]
    },
    {
      "cell_type": "code",
      "execution_count": 36,
      "metadata": {
        "colab": {
          "base_uri": "https://localhost:8080/",
          "height": 49,
          "referenced_widgets": [
            "a3eaa662c3f1472abb8fec0479014ba3",
            "9174d05517014ec3bc1931d0f7c84a0b",
            "9df32911e0794236b0def28f8cae8ab2",
            "108c804f7b554bf3925786bcbc791daa",
            "a6789ff461e34c47889578525f36c375",
            "19e6a46b43724ea1b40fe48322620c17",
            "cbc78331830640dba63885c1d0f816fc",
            "8c21f905d68a46c2b1215e0701f72bac",
            "af27d6335cd84a78ac76b37899165413",
            "20717d2a082146cfa8f3420fead045b1",
            "7cfd19c80f46453d92cc7a37ac29dd09"
          ]
        },
        "id": "Cb2z7IqFD8rr",
        "outputId": "b52c21a2-1fa8-48e4-fd20-ef79b00158a9"
      },
      "outputs": [
        {
          "data": {
            "application/vnd.jupyter.widget-view+json": {
              "model_id": "22f2a1577e9a44edb889a87f52d1ab40",
              "version_major": 2,
              "version_minor": 0
            },
            "text/plain": [
              "Pandas Apply:   0%|          | 0/200 [00:00<?, ?it/s]"
            ]
          },
          "metadata": {},
          "output_type": "display_data"
        }
      ],
      "source": [
        "df['n_trumps'] = df['text'].swifter.apply(lambda x: len(re.findall('[Tt]rump',x)))"
      ]
    },
    {
      "cell_type": "markdown",
      "metadata": {
        "id": "Iko7RgueBtnl"
      },
      "source": [
        "Here's a breakdown of the code:\n",
        "\n",
        "- df['n_trumps'] =: This creates a new column called 'n_trumps' in the DataFrame df.\n",
        "- df['text'].swifter.apply(: This applies the lambda function on the 'text' column of the DataFrame using the swifter.apply() function. The swifter package is an extension of the pandas package and it's used to speed up the apply() function by using multiple cores of the CPU for parallel processing.\n",
        "- lambda x: len(re.findall('[Tt]rump',x)): This is the lambda function. It takes one argument x which is an element of the 'text' column of the DataFrame. It uses the re.findall() function to find all the occurrences of the string \"Trump\" or \"trump\" (the [Tt] character class matches both uppercase and lowercase \"T\" and \"t\") in the element x. The len() function is then used to get the number of occurrences found.\n",
        "\n",
        "Finally, the new column 'n_trumps' is created in the DataFrame df and it contains the number of times the string \"Trump\" or \"trump\" appears in each element of the 'text' column."
      ]
    },
    {
      "cell_type": "code",
      "execution_count": 37,
      "metadata": {
        "colab": {
          "base_uri": "https://localhost:8080/"
        },
        "id": "Tz6vxV6HrJMM",
        "outputId": "5f5e67d6-5055-4116-a2e4-1dc5736ed684"
      },
      "outputs": [
        {
          "data": {
            "text/plain": [
              "0      1\n",
              "1      0\n",
              "2      0\n",
              "3      1\n",
              "4      0\n",
              "      ..\n",
              "195    0\n",
              "196    0\n",
              "197    0\n",
              "198    1\n",
              "199    1\n",
              "Name: n_trumps, Length: 200, dtype: int64"
            ]
          },
          "execution_count": 37,
          "metadata": {},
          "output_type": "execute_result"
        }
      ],
      "source": [
        "df['n_trumps'] "
      ]
    },
    {
      "cell_type": "code",
      "execution_count": 38,
      "metadata": {
        "colab": {
          "base_uri": "https://localhost:8080/"
        },
        "id": "x7zTkRBaEug_",
        "outputId": "0ec11649-b3d3-4479-de83-8876012453cc"
      },
      "outputs": [
        {
          "data": {
            "text/plain": [
              "127"
            ]
          },
          "execution_count": 38,
          "metadata": {},
          "output_type": "execute_result"
        }
      ],
      "source": [
        "total_trump_mentions = df['n_trumps'].sum()\n",
        "total_trump_mentions"
      ]
    }
  ],
  "metadata": {
    "colab": {
      "include_colab_link": true,
      "provenance": []
    },
    "kernelspec": {
      "display_name": "Python 3 (ipykernel)",
      "language": "python",
      "name": "python3"
    },
    "language_info": {
      "codemirror_mode": {
        "name": "ipython",
        "version": 3
      },
      "file_extension": ".py",
      "mimetype": "text/x-python",
      "name": "python",
      "nbconvert_exporter": "python",
      "pygments_lexer": "ipython3",
      "version": "3.10.9"
    },
    "widgets": {
      "application/vnd.jupyter.widget-state+json": {
        "0156a825fe3b41dea85b28aef36cecd8": {
          "model_module": "@jupyter-widgets/controls",
          "model_module_version": "1.5.0",
          "model_name": "DescriptionStyleModel",
          "state": {
            "_model_module": "@jupyter-widgets/controls",
            "_model_module_version": "1.5.0",
            "_model_name": "DescriptionStyleModel",
            "_view_count": null,
            "_view_module": "@jupyter-widgets/base",
            "_view_module_version": "1.2.0",
            "_view_name": "StyleView",
            "description_width": ""
          }
        },
        "0c4b8be847974963972ea97123c86558": {
          "model_module": "@jupyter-widgets/controls",
          "model_module_version": "1.5.0",
          "model_name": "ProgressStyleModel",
          "state": {
            "_model_module": "@jupyter-widgets/controls",
            "_model_module_version": "1.5.0",
            "_model_name": "ProgressStyleModel",
            "_view_count": null,
            "_view_module": "@jupyter-widgets/base",
            "_view_module_version": "1.2.0",
            "_view_name": "StyleView",
            "bar_color": null,
            "description_width": ""
          }
        },
        "0f20110392cb4892a40d3fc77ced97b8": {
          "model_module": "@jupyter-widgets/base",
          "model_module_version": "1.2.0",
          "model_name": "LayoutModel",
          "state": {
            "_model_module": "@jupyter-widgets/base",
            "_model_module_version": "1.2.0",
            "_model_name": "LayoutModel",
            "_view_count": null,
            "_view_module": "@jupyter-widgets/base",
            "_view_module_version": "1.2.0",
            "_view_name": "LayoutView",
            "align_content": null,
            "align_items": null,
            "align_self": null,
            "border": null,
            "bottom": null,
            "display": null,
            "flex": null,
            "flex_flow": null,
            "grid_area": null,
            "grid_auto_columns": null,
            "grid_auto_flow": null,
            "grid_auto_rows": null,
            "grid_column": null,
            "grid_gap": null,
            "grid_row": null,
            "grid_template_areas": null,
            "grid_template_columns": null,
            "grid_template_rows": null,
            "height": null,
            "justify_content": null,
            "justify_items": null,
            "left": null,
            "margin": null,
            "max_height": null,
            "max_width": null,
            "min_height": null,
            "min_width": null,
            "object_fit": null,
            "object_position": null,
            "order": null,
            "overflow": null,
            "overflow_x": null,
            "overflow_y": null,
            "padding": null,
            "right": null,
            "top": null,
            "visibility": null,
            "width": null
          }
        },
        "108c804f7b554bf3925786bcbc791daa": {
          "model_module": "@jupyter-widgets/controls",
          "model_module_version": "1.5.0",
          "model_name": "HTMLModel",
          "state": {
            "_dom_classes": [],
            "_model_module": "@jupyter-widgets/controls",
            "_model_module_version": "1.5.0",
            "_model_name": "HTMLModel",
            "_view_count": null,
            "_view_module": "@jupyter-widgets/controls",
            "_view_module_version": "1.5.0",
            "_view_name": "HTMLView",
            "description": "",
            "description_tooltip": null,
            "layout": "IPY_MODEL_20717d2a082146cfa8f3420fead045b1",
            "placeholder": "​",
            "style": "IPY_MODEL_7cfd19c80f46453d92cc7a37ac29dd09",
            "value": " 200/200 [00:00&lt;00:00, 5589.09it/s]"
          }
        },
        "172354f35b5c4aefb9dd8167b67bfdb8": {
          "model_module": "@jupyter-widgets/base",
          "model_module_version": "1.2.0",
          "model_name": "LayoutModel",
          "state": {
            "_model_module": "@jupyter-widgets/base",
            "_model_module_version": "1.2.0",
            "_model_name": "LayoutModel",
            "_view_count": null,
            "_view_module": "@jupyter-widgets/base",
            "_view_module_version": "1.2.0",
            "_view_name": "LayoutView",
            "align_content": null,
            "align_items": null,
            "align_self": null,
            "border": null,
            "bottom": null,
            "display": null,
            "flex": null,
            "flex_flow": null,
            "grid_area": null,
            "grid_auto_columns": null,
            "grid_auto_flow": null,
            "grid_auto_rows": null,
            "grid_column": null,
            "grid_gap": null,
            "grid_row": null,
            "grid_template_areas": null,
            "grid_template_columns": null,
            "grid_template_rows": null,
            "height": null,
            "justify_content": null,
            "justify_items": null,
            "left": null,
            "margin": null,
            "max_height": null,
            "max_width": null,
            "min_height": null,
            "min_width": null,
            "object_fit": null,
            "object_position": null,
            "order": null,
            "overflow": null,
            "overflow_x": null,
            "overflow_y": null,
            "padding": null,
            "right": null,
            "top": null,
            "visibility": null,
            "width": null
          }
        },
        "19e6a46b43724ea1b40fe48322620c17": {
          "model_module": "@jupyter-widgets/base",
          "model_module_version": "1.2.0",
          "model_name": "LayoutModel",
          "state": {
            "_model_module": "@jupyter-widgets/base",
            "_model_module_version": "1.2.0",
            "_model_name": "LayoutModel",
            "_view_count": null,
            "_view_module": "@jupyter-widgets/base",
            "_view_module_version": "1.2.0",
            "_view_name": "LayoutView",
            "align_content": null,
            "align_items": null,
            "align_self": null,
            "border": null,
            "bottom": null,
            "display": null,
            "flex": null,
            "flex_flow": null,
            "grid_area": null,
            "grid_auto_columns": null,
            "grid_auto_flow": null,
            "grid_auto_rows": null,
            "grid_column": null,
            "grid_gap": null,
            "grid_row": null,
            "grid_template_areas": null,
            "grid_template_columns": null,
            "grid_template_rows": null,
            "height": null,
            "justify_content": null,
            "justify_items": null,
            "left": null,
            "margin": null,
            "max_height": null,
            "max_width": null,
            "min_height": null,
            "min_width": null,
            "object_fit": null,
            "object_position": null,
            "order": null,
            "overflow": null,
            "overflow_x": null,
            "overflow_y": null,
            "padding": null,
            "right": null,
            "top": null,
            "visibility": null,
            "width": null
          }
        },
        "20717d2a082146cfa8f3420fead045b1": {
          "model_module": "@jupyter-widgets/base",
          "model_module_version": "1.2.0",
          "model_name": "LayoutModel",
          "state": {
            "_model_module": "@jupyter-widgets/base",
            "_model_module_version": "1.2.0",
            "_model_name": "LayoutModel",
            "_view_count": null,
            "_view_module": "@jupyter-widgets/base",
            "_view_module_version": "1.2.0",
            "_view_name": "LayoutView",
            "align_content": null,
            "align_items": null,
            "align_self": null,
            "border": null,
            "bottom": null,
            "display": null,
            "flex": null,
            "flex_flow": null,
            "grid_area": null,
            "grid_auto_columns": null,
            "grid_auto_flow": null,
            "grid_auto_rows": null,
            "grid_column": null,
            "grid_gap": null,
            "grid_row": null,
            "grid_template_areas": null,
            "grid_template_columns": null,
            "grid_template_rows": null,
            "height": null,
            "justify_content": null,
            "justify_items": null,
            "left": null,
            "margin": null,
            "max_height": null,
            "max_width": null,
            "min_height": null,
            "min_width": null,
            "object_fit": null,
            "object_position": null,
            "order": null,
            "overflow": null,
            "overflow_x": null,
            "overflow_y": null,
            "padding": null,
            "right": null,
            "top": null,
            "visibility": null,
            "width": null
          }
        },
        "2979aec5e52a49e49b071de781332ed3": {
          "model_module": "@jupyter-widgets/controls",
          "model_module_version": "1.5.0",
          "model_name": "HTMLModel",
          "state": {
            "_dom_classes": [],
            "_model_module": "@jupyter-widgets/controls",
            "_model_module_version": "1.5.0",
            "_model_name": "HTMLModel",
            "_view_count": null,
            "_view_module": "@jupyter-widgets/controls",
            "_view_module_version": "1.5.0",
            "_view_name": "HTMLView",
            "description": "",
            "description_tooltip": null,
            "layout": "IPY_MODEL_d81d398fa1cc4bbc8dc8ac06a5db0f2d",
            "placeholder": "​",
            "style": "IPY_MODEL_d31ef18ae3354ac68b322285b25e6546",
            "value": "Pandas Apply: 100%"
          }
        },
        "2b9911be6107458bab20d4ccc0185c19": {
          "model_module": "@jupyter-widgets/controls",
          "model_module_version": "1.5.0",
          "model_name": "HBoxModel",
          "state": {
            "_dom_classes": [],
            "_model_module": "@jupyter-widgets/controls",
            "_model_module_version": "1.5.0",
            "_model_name": "HBoxModel",
            "_view_count": null,
            "_view_module": "@jupyter-widgets/controls",
            "_view_module_version": "1.5.0",
            "_view_name": "HBoxView",
            "box_style": "",
            "children": [
              "IPY_MODEL_73fc25d4146b4c17ae539f49f079d723",
              "IPY_MODEL_49ec41b88624428b9254212e12d8d33f",
              "IPY_MODEL_f662cba479dd48bb816bf13971bc417a"
            ],
            "layout": "IPY_MODEL_76e390ecf438497d99ffcc71ce1dda95"
          }
        },
        "2ef424cd8c0b4be7bc5d7ab2bcf764a8": {
          "model_module": "@jupyter-widgets/base",
          "model_module_version": "1.2.0",
          "model_name": "LayoutModel",
          "state": {
            "_model_module": "@jupyter-widgets/base",
            "_model_module_version": "1.2.0",
            "_model_name": "LayoutModel",
            "_view_count": null,
            "_view_module": "@jupyter-widgets/base",
            "_view_module_version": "1.2.0",
            "_view_name": "LayoutView",
            "align_content": null,
            "align_items": null,
            "align_self": null,
            "border": null,
            "bottom": null,
            "display": null,
            "flex": null,
            "flex_flow": null,
            "grid_area": null,
            "grid_auto_columns": null,
            "grid_auto_flow": null,
            "grid_auto_rows": null,
            "grid_column": null,
            "grid_gap": null,
            "grid_row": null,
            "grid_template_areas": null,
            "grid_template_columns": null,
            "grid_template_rows": null,
            "height": null,
            "justify_content": null,
            "justify_items": null,
            "left": null,
            "margin": null,
            "max_height": null,
            "max_width": null,
            "min_height": null,
            "min_width": null,
            "object_fit": null,
            "object_position": null,
            "order": null,
            "overflow": null,
            "overflow_x": null,
            "overflow_y": null,
            "padding": null,
            "right": null,
            "top": null,
            "visibility": null,
            "width": null
          }
        },
        "32e790b029fc46368ab1100116c20419": {
          "model_module": "@jupyter-widgets/controls",
          "model_module_version": "1.5.0",
          "model_name": "DescriptionStyleModel",
          "state": {
            "_model_module": "@jupyter-widgets/controls",
            "_model_module_version": "1.5.0",
            "_model_name": "DescriptionStyleModel",
            "_view_count": null,
            "_view_module": "@jupyter-widgets/base",
            "_view_module_version": "1.2.0",
            "_view_name": "StyleView",
            "description_width": ""
          }
        },
        "37520c09ca4142aa8217182099d71bad": {
          "model_module": "@jupyter-widgets/controls",
          "model_module_version": "1.5.0",
          "model_name": "DescriptionStyleModel",
          "state": {
            "_model_module": "@jupyter-widgets/controls",
            "_model_module_version": "1.5.0",
            "_model_name": "DescriptionStyleModel",
            "_view_count": null,
            "_view_module": "@jupyter-widgets/base",
            "_view_module_version": "1.2.0",
            "_view_name": "StyleView",
            "description_width": ""
          }
        },
        "3c5f413eb3614de396acb05073d1475c": {
          "model_module": "@jupyter-widgets/controls",
          "model_module_version": "1.5.0",
          "model_name": "HTMLModel",
          "state": {
            "_dom_classes": [],
            "_model_module": "@jupyter-widgets/controls",
            "_model_module_version": "1.5.0",
            "_model_name": "HTMLModel",
            "_view_count": null,
            "_view_module": "@jupyter-widgets/controls",
            "_view_module_version": "1.5.0",
            "_view_name": "HTMLView",
            "description": "",
            "description_tooltip": null,
            "layout": "IPY_MODEL_8d06cbb89fd547479c9d7ead07664eab",
            "placeholder": "​",
            "style": "IPY_MODEL_e114a0e7764e44589bc4dc88c6252907",
            "value": " 200/200 [00:00&lt;00:00, 5540.11it/s]"
          }
        },
        "439b8771265140f1872bb43eaa3675ee": {
          "model_module": "@jupyter-widgets/base",
          "model_module_version": "1.2.0",
          "model_name": "LayoutModel",
          "state": {
            "_model_module": "@jupyter-widgets/base",
            "_model_module_version": "1.2.0",
            "_model_name": "LayoutModel",
            "_view_count": null,
            "_view_module": "@jupyter-widgets/base",
            "_view_module_version": "1.2.0",
            "_view_name": "LayoutView",
            "align_content": null,
            "align_items": null,
            "align_self": null,
            "border": null,
            "bottom": null,
            "display": null,
            "flex": null,
            "flex_flow": null,
            "grid_area": null,
            "grid_auto_columns": null,
            "grid_auto_flow": null,
            "grid_auto_rows": null,
            "grid_column": null,
            "grid_gap": null,
            "grid_row": null,
            "grid_template_areas": null,
            "grid_template_columns": null,
            "grid_template_rows": null,
            "height": null,
            "justify_content": null,
            "justify_items": null,
            "left": null,
            "margin": null,
            "max_height": null,
            "max_width": null,
            "min_height": null,
            "min_width": null,
            "object_fit": null,
            "object_position": null,
            "order": null,
            "overflow": null,
            "overflow_x": null,
            "overflow_y": null,
            "padding": null,
            "right": null,
            "top": null,
            "visibility": null,
            "width": null
          }
        },
        "44a9353725d6401c91f893aab1ded8a3": {
          "model_module": "@jupyter-widgets/controls",
          "model_module_version": "1.5.0",
          "model_name": "FloatProgressModel",
          "state": {
            "_dom_classes": [],
            "_model_module": "@jupyter-widgets/controls",
            "_model_module_version": "1.5.0",
            "_model_name": "FloatProgressModel",
            "_view_count": null,
            "_view_module": "@jupyter-widgets/controls",
            "_view_module_version": "1.5.0",
            "_view_name": "ProgressView",
            "bar_style": "success",
            "description": "",
            "description_tooltip": null,
            "layout": "IPY_MODEL_9242b4f6b6b9457d81ab1c7620759530",
            "max": 200,
            "min": 0,
            "orientation": "horizontal",
            "style": "IPY_MODEL_4db3eaa46a854dee8f8812b5eadb5678",
            "value": 200
          }
        },
        "49ec41b88624428b9254212e12d8d33f": {
          "model_module": "@jupyter-widgets/controls",
          "model_module_version": "1.5.0",
          "model_name": "FloatProgressModel",
          "state": {
            "_dom_classes": [],
            "_model_module": "@jupyter-widgets/controls",
            "_model_module_version": "1.5.0",
            "_model_name": "FloatProgressModel",
            "_view_count": null,
            "_view_module": "@jupyter-widgets/controls",
            "_view_module_version": "1.5.0",
            "_view_name": "ProgressView",
            "bar_style": "success",
            "description": "",
            "description_tooltip": null,
            "layout": "IPY_MODEL_2ef424cd8c0b4be7bc5d7ab2bcf764a8",
            "max": 200,
            "min": 0,
            "orientation": "horizontal",
            "style": "IPY_MODEL_a8946a309a284251a05cbaed1cb8040a",
            "value": 200
          }
        },
        "4db3eaa46a854dee8f8812b5eadb5678": {
          "model_module": "@jupyter-widgets/controls",
          "model_module_version": "1.5.0",
          "model_name": "ProgressStyleModel",
          "state": {
            "_model_module": "@jupyter-widgets/controls",
            "_model_module_version": "1.5.0",
            "_model_name": "ProgressStyleModel",
            "_view_count": null,
            "_view_module": "@jupyter-widgets/base",
            "_view_module_version": "1.2.0",
            "_view_name": "StyleView",
            "bar_color": null,
            "description_width": ""
          }
        },
        "50915c7c09e04922a8280d828a5b5caf": {
          "model_module": "@jupyter-widgets/base",
          "model_module_version": "1.2.0",
          "model_name": "LayoutModel",
          "state": {
            "_model_module": "@jupyter-widgets/base",
            "_model_module_version": "1.2.0",
            "_model_name": "LayoutModel",
            "_view_count": null,
            "_view_module": "@jupyter-widgets/base",
            "_view_module_version": "1.2.0",
            "_view_name": "LayoutView",
            "align_content": null,
            "align_items": null,
            "align_self": null,
            "border": null,
            "bottom": null,
            "display": null,
            "flex": null,
            "flex_flow": null,
            "grid_area": null,
            "grid_auto_columns": null,
            "grid_auto_flow": null,
            "grid_auto_rows": null,
            "grid_column": null,
            "grid_gap": null,
            "grid_row": null,
            "grid_template_areas": null,
            "grid_template_columns": null,
            "grid_template_rows": null,
            "height": null,
            "justify_content": null,
            "justify_items": null,
            "left": null,
            "margin": null,
            "max_height": null,
            "max_width": null,
            "min_height": null,
            "min_width": null,
            "object_fit": null,
            "object_position": null,
            "order": null,
            "overflow": null,
            "overflow_x": null,
            "overflow_y": null,
            "padding": null,
            "right": null,
            "top": null,
            "visibility": null,
            "width": null
          }
        },
        "5ecbbd82c1bc45168682d67c537be29f": {
          "model_module": "@jupyter-widgets/controls",
          "model_module_version": "1.5.0",
          "model_name": "HTMLModel",
          "state": {
            "_dom_classes": [],
            "_model_module": "@jupyter-widgets/controls",
            "_model_module_version": "1.5.0",
            "_model_name": "HTMLModel",
            "_view_count": null,
            "_view_module": "@jupyter-widgets/controls",
            "_view_module_version": "1.5.0",
            "_view_name": "HTMLView",
            "description": "",
            "description_tooltip": null,
            "layout": "IPY_MODEL_a4f5da0d265d43618c32f4b6866b2c17",
            "placeholder": "​",
            "style": "IPY_MODEL_b5656c0d6f3e4c25bfa637c810a59bdb",
            "value": " 200/200 [00:00&lt;00:00,  6.71it/s]"
          }
        },
        "627f363633234d7896228a9aea75a8e2": {
          "model_module": "@jupyter-widgets/base",
          "model_module_version": "1.2.0",
          "model_name": "LayoutModel",
          "state": {
            "_model_module": "@jupyter-widgets/base",
            "_model_module_version": "1.2.0",
            "_model_name": "LayoutModel",
            "_view_count": null,
            "_view_module": "@jupyter-widgets/base",
            "_view_module_version": "1.2.0",
            "_view_name": "LayoutView",
            "align_content": null,
            "align_items": null,
            "align_self": null,
            "border": null,
            "bottom": null,
            "display": null,
            "flex": null,
            "flex_flow": null,
            "grid_area": null,
            "grid_auto_columns": null,
            "grid_auto_flow": null,
            "grid_auto_rows": null,
            "grid_column": null,
            "grid_gap": null,
            "grid_row": null,
            "grid_template_areas": null,
            "grid_template_columns": null,
            "grid_template_rows": null,
            "height": null,
            "justify_content": null,
            "justify_items": null,
            "left": null,
            "margin": null,
            "max_height": null,
            "max_width": null,
            "min_height": null,
            "min_width": null,
            "object_fit": null,
            "object_position": null,
            "order": null,
            "overflow": null,
            "overflow_x": null,
            "overflow_y": null,
            "padding": null,
            "right": null,
            "top": null,
            "visibility": null,
            "width": null
          }
        },
        "62faee7f5a0b4e8eab52689de03a74f0": {
          "model_module": "@jupyter-widgets/controls",
          "model_module_version": "1.5.0",
          "model_name": "HTMLModel",
          "state": {
            "_dom_classes": [],
            "_model_module": "@jupyter-widgets/controls",
            "_model_module_version": "1.5.0",
            "_model_name": "HTMLModel",
            "_view_count": null,
            "_view_module": "@jupyter-widgets/controls",
            "_view_module_version": "1.5.0",
            "_view_name": "HTMLView",
            "description": "",
            "description_tooltip": null,
            "layout": "IPY_MODEL_bc19a92636d04334806ffb828affc036",
            "placeholder": "​",
            "style": "IPY_MODEL_ef126949ff864aed8c31bd894b6de807",
            "value": "Pandas Apply: 100%"
          }
        },
        "6a643a8289fa46228f09ee6169fd2e8c": {
          "model_module": "@jupyter-widgets/controls",
          "model_module_version": "1.5.0",
          "model_name": "HTMLModel",
          "state": {
            "_dom_classes": [],
            "_model_module": "@jupyter-widgets/controls",
            "_model_module_version": "1.5.0",
            "_model_name": "HTMLModel",
            "_view_count": null,
            "_view_module": "@jupyter-widgets/controls",
            "_view_module_version": "1.5.0",
            "_view_name": "HTMLView",
            "description": "",
            "description_tooltip": null,
            "layout": "IPY_MODEL_0f20110392cb4892a40d3fc77ced97b8",
            "placeholder": "​",
            "style": "IPY_MODEL_0156a825fe3b41dea85b28aef36cecd8",
            "value": " 200/200 [00:00&lt;00:00,  7.59it/s]"
          }
        },
        "73fc25d4146b4c17ae539f49f079d723": {
          "model_module": "@jupyter-widgets/controls",
          "model_module_version": "1.5.0",
          "model_name": "HTMLModel",
          "state": {
            "_dom_classes": [],
            "_model_module": "@jupyter-widgets/controls",
            "_model_module_version": "1.5.0",
            "_model_name": "HTMLModel",
            "_view_count": null,
            "_view_module": "@jupyter-widgets/controls",
            "_view_module_version": "1.5.0",
            "_view_name": "HTMLView",
            "description": "",
            "description_tooltip": null,
            "layout": "IPY_MODEL_627f363633234d7896228a9aea75a8e2",
            "placeholder": "​",
            "style": "IPY_MODEL_32e790b029fc46368ab1100116c20419",
            "value": "Pandas Apply: 100%"
          }
        },
        "76e390ecf438497d99ffcc71ce1dda95": {
          "model_module": "@jupyter-widgets/base",
          "model_module_version": "1.2.0",
          "model_name": "LayoutModel",
          "state": {
            "_model_module": "@jupyter-widgets/base",
            "_model_module_version": "1.2.0",
            "_model_name": "LayoutModel",
            "_view_count": null,
            "_view_module": "@jupyter-widgets/base",
            "_view_module_version": "1.2.0",
            "_view_name": "LayoutView",
            "align_content": null,
            "align_items": null,
            "align_self": null,
            "border": null,
            "bottom": null,
            "display": null,
            "flex": null,
            "flex_flow": null,
            "grid_area": null,
            "grid_auto_columns": null,
            "grid_auto_flow": null,
            "grid_auto_rows": null,
            "grid_column": null,
            "grid_gap": null,
            "grid_row": null,
            "grid_template_areas": null,
            "grid_template_columns": null,
            "grid_template_rows": null,
            "height": null,
            "justify_content": null,
            "justify_items": null,
            "left": null,
            "margin": null,
            "max_height": null,
            "max_width": null,
            "min_height": null,
            "min_width": null,
            "object_fit": null,
            "object_position": null,
            "order": null,
            "overflow": null,
            "overflow_x": null,
            "overflow_y": null,
            "padding": null,
            "right": null,
            "top": null,
            "visibility": null,
            "width": null
          }
        },
        "7cfd19c80f46453d92cc7a37ac29dd09": {
          "model_module": "@jupyter-widgets/controls",
          "model_module_version": "1.5.0",
          "model_name": "DescriptionStyleModel",
          "state": {
            "_model_module": "@jupyter-widgets/controls",
            "_model_module_version": "1.5.0",
            "_model_name": "DescriptionStyleModel",
            "_view_count": null,
            "_view_module": "@jupyter-widgets/base",
            "_view_module_version": "1.2.0",
            "_view_name": "StyleView",
            "description_width": ""
          }
        },
        "8c21f905d68a46c2b1215e0701f72bac": {
          "model_module": "@jupyter-widgets/base",
          "model_module_version": "1.2.0",
          "model_name": "LayoutModel",
          "state": {
            "_model_module": "@jupyter-widgets/base",
            "_model_module_version": "1.2.0",
            "_model_name": "LayoutModel",
            "_view_count": null,
            "_view_module": "@jupyter-widgets/base",
            "_view_module_version": "1.2.0",
            "_view_name": "LayoutView",
            "align_content": null,
            "align_items": null,
            "align_self": null,
            "border": null,
            "bottom": null,
            "display": null,
            "flex": null,
            "flex_flow": null,
            "grid_area": null,
            "grid_auto_columns": null,
            "grid_auto_flow": null,
            "grid_auto_rows": null,
            "grid_column": null,
            "grid_gap": null,
            "grid_row": null,
            "grid_template_areas": null,
            "grid_template_columns": null,
            "grid_template_rows": null,
            "height": null,
            "justify_content": null,
            "justify_items": null,
            "left": null,
            "margin": null,
            "max_height": null,
            "max_width": null,
            "min_height": null,
            "min_width": null,
            "object_fit": null,
            "object_position": null,
            "order": null,
            "overflow": null,
            "overflow_x": null,
            "overflow_y": null,
            "padding": null,
            "right": null,
            "top": null,
            "visibility": null,
            "width": null
          }
        },
        "8d06cbb89fd547479c9d7ead07664eab": {
          "model_module": "@jupyter-widgets/base",
          "model_module_version": "1.2.0",
          "model_name": "LayoutModel",
          "state": {
            "_model_module": "@jupyter-widgets/base",
            "_model_module_version": "1.2.0",
            "_model_name": "LayoutModel",
            "_view_count": null,
            "_view_module": "@jupyter-widgets/base",
            "_view_module_version": "1.2.0",
            "_view_name": "LayoutView",
            "align_content": null,
            "align_items": null,
            "align_self": null,
            "border": null,
            "bottom": null,
            "display": null,
            "flex": null,
            "flex_flow": null,
            "grid_area": null,
            "grid_auto_columns": null,
            "grid_auto_flow": null,
            "grid_auto_rows": null,
            "grid_column": null,
            "grid_gap": null,
            "grid_row": null,
            "grid_template_areas": null,
            "grid_template_columns": null,
            "grid_template_rows": null,
            "height": null,
            "justify_content": null,
            "justify_items": null,
            "left": null,
            "margin": null,
            "max_height": null,
            "max_width": null,
            "min_height": null,
            "min_width": null,
            "object_fit": null,
            "object_position": null,
            "order": null,
            "overflow": null,
            "overflow_x": null,
            "overflow_y": null,
            "padding": null,
            "right": null,
            "top": null,
            "visibility": null,
            "width": null
          }
        },
        "8d076c96da3f4e9a8982b36f6ae0ffa8": {
          "model_module": "@jupyter-widgets/base",
          "model_module_version": "1.2.0",
          "model_name": "LayoutModel",
          "state": {
            "_model_module": "@jupyter-widgets/base",
            "_model_module_version": "1.2.0",
            "_model_name": "LayoutModel",
            "_view_count": null,
            "_view_module": "@jupyter-widgets/base",
            "_view_module_version": "1.2.0",
            "_view_name": "LayoutView",
            "align_content": null,
            "align_items": null,
            "align_self": null,
            "border": null,
            "bottom": null,
            "display": null,
            "flex": null,
            "flex_flow": null,
            "grid_area": null,
            "grid_auto_columns": null,
            "grid_auto_flow": null,
            "grid_auto_rows": null,
            "grid_column": null,
            "grid_gap": null,
            "grid_row": null,
            "grid_template_areas": null,
            "grid_template_columns": null,
            "grid_template_rows": null,
            "height": null,
            "justify_content": null,
            "justify_items": null,
            "left": null,
            "margin": null,
            "max_height": null,
            "max_width": null,
            "min_height": null,
            "min_width": null,
            "object_fit": null,
            "object_position": null,
            "order": null,
            "overflow": null,
            "overflow_x": null,
            "overflow_y": null,
            "padding": null,
            "right": null,
            "top": null,
            "visibility": null,
            "width": null
          }
        },
        "8ea385f362df4b9ba3a8a02852f62005": {
          "model_module": "@jupyter-widgets/base",
          "model_module_version": "1.2.0",
          "model_name": "LayoutModel",
          "state": {
            "_model_module": "@jupyter-widgets/base",
            "_model_module_version": "1.2.0",
            "_model_name": "LayoutModel",
            "_view_count": null,
            "_view_module": "@jupyter-widgets/base",
            "_view_module_version": "1.2.0",
            "_view_name": "LayoutView",
            "align_content": null,
            "align_items": null,
            "align_self": null,
            "border": null,
            "bottom": null,
            "display": null,
            "flex": null,
            "flex_flow": null,
            "grid_area": null,
            "grid_auto_columns": null,
            "grid_auto_flow": null,
            "grid_auto_rows": null,
            "grid_column": null,
            "grid_gap": null,
            "grid_row": null,
            "grid_template_areas": null,
            "grid_template_columns": null,
            "grid_template_rows": null,
            "height": null,
            "justify_content": null,
            "justify_items": null,
            "left": null,
            "margin": null,
            "max_height": null,
            "max_width": null,
            "min_height": null,
            "min_width": null,
            "object_fit": null,
            "object_position": null,
            "order": null,
            "overflow": null,
            "overflow_x": null,
            "overflow_y": null,
            "padding": null,
            "right": null,
            "top": null,
            "visibility": null,
            "width": null
          }
        },
        "9174d05517014ec3bc1931d0f7c84a0b": {
          "model_module": "@jupyter-widgets/controls",
          "model_module_version": "1.5.0",
          "model_name": "HTMLModel",
          "state": {
            "_dom_classes": [],
            "_model_module": "@jupyter-widgets/controls",
            "_model_module_version": "1.5.0",
            "_model_name": "HTMLModel",
            "_view_count": null,
            "_view_module": "@jupyter-widgets/controls",
            "_view_module_version": "1.5.0",
            "_view_name": "HTMLView",
            "description": "",
            "description_tooltip": null,
            "layout": "IPY_MODEL_19e6a46b43724ea1b40fe48322620c17",
            "placeholder": "​",
            "style": "IPY_MODEL_cbc78331830640dba63885c1d0f816fc",
            "value": "Pandas Apply: 100%"
          }
        },
        "9242b4f6b6b9457d81ab1c7620759530": {
          "model_module": "@jupyter-widgets/base",
          "model_module_version": "1.2.0",
          "model_name": "LayoutModel",
          "state": {
            "_model_module": "@jupyter-widgets/base",
            "_model_module_version": "1.2.0",
            "_model_name": "LayoutModel",
            "_view_count": null,
            "_view_module": "@jupyter-widgets/base",
            "_view_module_version": "1.2.0",
            "_view_name": "LayoutView",
            "align_content": null,
            "align_items": null,
            "align_self": null,
            "border": null,
            "bottom": null,
            "display": null,
            "flex": null,
            "flex_flow": null,
            "grid_area": null,
            "grid_auto_columns": null,
            "grid_auto_flow": null,
            "grid_auto_rows": null,
            "grid_column": null,
            "grid_gap": null,
            "grid_row": null,
            "grid_template_areas": null,
            "grid_template_columns": null,
            "grid_template_rows": null,
            "height": null,
            "justify_content": null,
            "justify_items": null,
            "left": null,
            "margin": null,
            "max_height": null,
            "max_width": null,
            "min_height": null,
            "min_width": null,
            "object_fit": null,
            "object_position": null,
            "order": null,
            "overflow": null,
            "overflow_x": null,
            "overflow_y": null,
            "padding": null,
            "right": null,
            "top": null,
            "visibility": null,
            "width": null
          }
        },
        "9df32911e0794236b0def28f8cae8ab2": {
          "model_module": "@jupyter-widgets/controls",
          "model_module_version": "1.5.0",
          "model_name": "FloatProgressModel",
          "state": {
            "_dom_classes": [],
            "_model_module": "@jupyter-widgets/controls",
            "_model_module_version": "1.5.0",
            "_model_name": "FloatProgressModel",
            "_view_count": null,
            "_view_module": "@jupyter-widgets/controls",
            "_view_module_version": "1.5.0",
            "_view_name": "ProgressView",
            "bar_style": "success",
            "description": "",
            "description_tooltip": null,
            "layout": "IPY_MODEL_8c21f905d68a46c2b1215e0701f72bac",
            "max": 200,
            "min": 0,
            "orientation": "horizontal",
            "style": "IPY_MODEL_af27d6335cd84a78ac76b37899165413",
            "value": 200
          }
        },
        "a3eaa662c3f1472abb8fec0479014ba3": {
          "model_module": "@jupyter-widgets/controls",
          "model_module_version": "1.5.0",
          "model_name": "HBoxModel",
          "state": {
            "_dom_classes": [],
            "_model_module": "@jupyter-widgets/controls",
            "_model_module_version": "1.5.0",
            "_model_name": "HBoxModel",
            "_view_count": null,
            "_view_module": "@jupyter-widgets/controls",
            "_view_module_version": "1.5.0",
            "_view_name": "HBoxView",
            "box_style": "",
            "children": [
              "IPY_MODEL_9174d05517014ec3bc1931d0f7c84a0b",
              "IPY_MODEL_9df32911e0794236b0def28f8cae8ab2",
              "IPY_MODEL_108c804f7b554bf3925786bcbc791daa"
            ],
            "layout": "IPY_MODEL_a6789ff461e34c47889578525f36c375"
          }
        },
        "a4f5da0d265d43618c32f4b6866b2c17": {
          "model_module": "@jupyter-widgets/base",
          "model_module_version": "1.2.0",
          "model_name": "LayoutModel",
          "state": {
            "_model_module": "@jupyter-widgets/base",
            "_model_module_version": "1.2.0",
            "_model_name": "LayoutModel",
            "_view_count": null,
            "_view_module": "@jupyter-widgets/base",
            "_view_module_version": "1.2.0",
            "_view_name": "LayoutView",
            "align_content": null,
            "align_items": null,
            "align_self": null,
            "border": null,
            "bottom": null,
            "display": null,
            "flex": null,
            "flex_flow": null,
            "grid_area": null,
            "grid_auto_columns": null,
            "grid_auto_flow": null,
            "grid_auto_rows": null,
            "grid_column": null,
            "grid_gap": null,
            "grid_row": null,
            "grid_template_areas": null,
            "grid_template_columns": null,
            "grid_template_rows": null,
            "height": null,
            "justify_content": null,
            "justify_items": null,
            "left": null,
            "margin": null,
            "max_height": null,
            "max_width": null,
            "min_height": null,
            "min_width": null,
            "object_fit": null,
            "object_position": null,
            "order": null,
            "overflow": null,
            "overflow_x": null,
            "overflow_y": null,
            "padding": null,
            "right": null,
            "top": null,
            "visibility": null,
            "width": null
          }
        },
        "a6789ff461e34c47889578525f36c375": {
          "model_module": "@jupyter-widgets/base",
          "model_module_version": "1.2.0",
          "model_name": "LayoutModel",
          "state": {
            "_model_module": "@jupyter-widgets/base",
            "_model_module_version": "1.2.0",
            "_model_name": "LayoutModel",
            "_view_count": null,
            "_view_module": "@jupyter-widgets/base",
            "_view_module_version": "1.2.0",
            "_view_name": "LayoutView",
            "align_content": null,
            "align_items": null,
            "align_self": null,
            "border": null,
            "bottom": null,
            "display": null,
            "flex": null,
            "flex_flow": null,
            "grid_area": null,
            "grid_auto_columns": null,
            "grid_auto_flow": null,
            "grid_auto_rows": null,
            "grid_column": null,
            "grid_gap": null,
            "grid_row": null,
            "grid_template_areas": null,
            "grid_template_columns": null,
            "grid_template_rows": null,
            "height": null,
            "justify_content": null,
            "justify_items": null,
            "left": null,
            "margin": null,
            "max_height": null,
            "max_width": null,
            "min_height": null,
            "min_width": null,
            "object_fit": null,
            "object_position": null,
            "order": null,
            "overflow": null,
            "overflow_x": null,
            "overflow_y": null,
            "padding": null,
            "right": null,
            "top": null,
            "visibility": null,
            "width": null
          }
        },
        "a8946a309a284251a05cbaed1cb8040a": {
          "model_module": "@jupyter-widgets/controls",
          "model_module_version": "1.5.0",
          "model_name": "ProgressStyleModel",
          "state": {
            "_model_module": "@jupyter-widgets/controls",
            "_model_module_version": "1.5.0",
            "_model_name": "ProgressStyleModel",
            "_view_count": null,
            "_view_module": "@jupyter-widgets/base",
            "_view_module_version": "1.2.0",
            "_view_name": "StyleView",
            "bar_color": null,
            "description_width": ""
          }
        },
        "aeeacc2ed1ff495bad4829d86cf07c10": {
          "model_module": "@jupyter-widgets/controls",
          "model_module_version": "1.5.0",
          "model_name": "DescriptionStyleModel",
          "state": {
            "_model_module": "@jupyter-widgets/controls",
            "_model_module_version": "1.5.0",
            "_model_name": "DescriptionStyleModel",
            "_view_count": null,
            "_view_module": "@jupyter-widgets/base",
            "_view_module_version": "1.2.0",
            "_view_name": "StyleView",
            "description_width": ""
          }
        },
        "af27d6335cd84a78ac76b37899165413": {
          "model_module": "@jupyter-widgets/controls",
          "model_module_version": "1.5.0",
          "model_name": "ProgressStyleModel",
          "state": {
            "_model_module": "@jupyter-widgets/controls",
            "_model_module_version": "1.5.0",
            "_model_name": "ProgressStyleModel",
            "_view_count": null,
            "_view_module": "@jupyter-widgets/base",
            "_view_module_version": "1.2.0",
            "_view_name": "StyleView",
            "bar_color": null,
            "description_width": ""
          }
        },
        "b5656c0d6f3e4c25bfa637c810a59bdb": {
          "model_module": "@jupyter-widgets/controls",
          "model_module_version": "1.5.0",
          "model_name": "DescriptionStyleModel",
          "state": {
            "_model_module": "@jupyter-widgets/controls",
            "_model_module_version": "1.5.0",
            "_model_name": "DescriptionStyleModel",
            "_view_count": null,
            "_view_module": "@jupyter-widgets/base",
            "_view_module_version": "1.2.0",
            "_view_name": "StyleView",
            "description_width": ""
          }
        },
        "b90779bc9157489b94af7d3f58a935ea": {
          "model_module": "@jupyter-widgets/controls",
          "model_module_version": "1.5.0",
          "model_name": "FloatProgressModel",
          "state": {
            "_dom_classes": [],
            "_model_module": "@jupyter-widgets/controls",
            "_model_module_version": "1.5.0",
            "_model_name": "FloatProgressModel",
            "_view_count": null,
            "_view_module": "@jupyter-widgets/controls",
            "_view_module_version": "1.5.0",
            "_view_name": "ProgressView",
            "bar_style": "success",
            "description": "",
            "description_tooltip": null,
            "layout": "IPY_MODEL_8ea385f362df4b9ba3a8a02852f62005",
            "max": 200,
            "min": 0,
            "orientation": "horizontal",
            "style": "IPY_MODEL_0c4b8be847974963972ea97123c86558",
            "value": 200
          }
        },
        "bc19a92636d04334806ffb828affc036": {
          "model_module": "@jupyter-widgets/base",
          "model_module_version": "1.2.0",
          "model_name": "LayoutModel",
          "state": {
            "_model_module": "@jupyter-widgets/base",
            "_model_module_version": "1.2.0",
            "_model_name": "LayoutModel",
            "_view_count": null,
            "_view_module": "@jupyter-widgets/base",
            "_view_module_version": "1.2.0",
            "_view_name": "LayoutView",
            "align_content": null,
            "align_items": null,
            "align_self": null,
            "border": null,
            "bottom": null,
            "display": null,
            "flex": null,
            "flex_flow": null,
            "grid_area": null,
            "grid_auto_columns": null,
            "grid_auto_flow": null,
            "grid_auto_rows": null,
            "grid_column": null,
            "grid_gap": null,
            "grid_row": null,
            "grid_template_areas": null,
            "grid_template_columns": null,
            "grid_template_rows": null,
            "height": null,
            "justify_content": null,
            "justify_items": null,
            "left": null,
            "margin": null,
            "max_height": null,
            "max_width": null,
            "min_height": null,
            "min_width": null,
            "object_fit": null,
            "object_position": null,
            "order": null,
            "overflow": null,
            "overflow_x": null,
            "overflow_y": null,
            "padding": null,
            "right": null,
            "top": null,
            "visibility": null,
            "width": null
          }
        },
        "c683cf105d3f425899df5c5592ba75fb": {
          "model_module": "@jupyter-widgets/base",
          "model_module_version": "1.2.0",
          "model_name": "LayoutModel",
          "state": {
            "_model_module": "@jupyter-widgets/base",
            "_model_module_version": "1.2.0",
            "_model_name": "LayoutModel",
            "_view_count": null,
            "_view_module": "@jupyter-widgets/base",
            "_view_module_version": "1.2.0",
            "_view_name": "LayoutView",
            "align_content": null,
            "align_items": null,
            "align_self": null,
            "border": null,
            "bottom": null,
            "display": null,
            "flex": null,
            "flex_flow": null,
            "grid_area": null,
            "grid_auto_columns": null,
            "grid_auto_flow": null,
            "grid_auto_rows": null,
            "grid_column": null,
            "grid_gap": null,
            "grid_row": null,
            "grid_template_areas": null,
            "grid_template_columns": null,
            "grid_template_rows": null,
            "height": null,
            "justify_content": null,
            "justify_items": null,
            "left": null,
            "margin": null,
            "max_height": null,
            "max_width": null,
            "min_height": null,
            "min_width": null,
            "object_fit": null,
            "object_position": null,
            "order": null,
            "overflow": null,
            "overflow_x": null,
            "overflow_y": null,
            "padding": null,
            "right": null,
            "top": null,
            "visibility": null,
            "width": null
          }
        },
        "c7ad6d09b4fc497593f6a9fe3c9e9f85": {
          "model_module": "@jupyter-widgets/controls",
          "model_module_version": "1.5.0",
          "model_name": "HTMLModel",
          "state": {
            "_dom_classes": [],
            "_model_module": "@jupyter-widgets/controls",
            "_model_module_version": "1.5.0",
            "_model_name": "HTMLModel",
            "_view_count": null,
            "_view_module": "@jupyter-widgets/controls",
            "_view_module_version": "1.5.0",
            "_view_name": "HTMLView",
            "description": "",
            "description_tooltip": null,
            "layout": "IPY_MODEL_439b8771265140f1872bb43eaa3675ee",
            "placeholder": "​",
            "style": "IPY_MODEL_37520c09ca4142aa8217182099d71bad",
            "value": "Pandas Apply: 100%"
          }
        },
        "cbc78331830640dba63885c1d0f816fc": {
          "model_module": "@jupyter-widgets/controls",
          "model_module_version": "1.5.0",
          "model_name": "DescriptionStyleModel",
          "state": {
            "_model_module": "@jupyter-widgets/controls",
            "_model_module_version": "1.5.0",
            "_model_name": "DescriptionStyleModel",
            "_view_count": null,
            "_view_module": "@jupyter-widgets/base",
            "_view_module_version": "1.2.0",
            "_view_name": "StyleView",
            "description_width": ""
          }
        },
        "d31ef18ae3354ac68b322285b25e6546": {
          "model_module": "@jupyter-widgets/controls",
          "model_module_version": "1.5.0",
          "model_name": "DescriptionStyleModel",
          "state": {
            "_model_module": "@jupyter-widgets/controls",
            "_model_module_version": "1.5.0",
            "_model_name": "DescriptionStyleModel",
            "_view_count": null,
            "_view_module": "@jupyter-widgets/base",
            "_view_module_version": "1.2.0",
            "_view_name": "StyleView",
            "description_width": ""
          }
        },
        "d81d398fa1cc4bbc8dc8ac06a5db0f2d": {
          "model_module": "@jupyter-widgets/base",
          "model_module_version": "1.2.0",
          "model_name": "LayoutModel",
          "state": {
            "_model_module": "@jupyter-widgets/base",
            "_model_module_version": "1.2.0",
            "_model_name": "LayoutModel",
            "_view_count": null,
            "_view_module": "@jupyter-widgets/base",
            "_view_module_version": "1.2.0",
            "_view_name": "LayoutView",
            "align_content": null,
            "align_items": null,
            "align_self": null,
            "border": null,
            "bottom": null,
            "display": null,
            "flex": null,
            "flex_flow": null,
            "grid_area": null,
            "grid_auto_columns": null,
            "grid_auto_flow": null,
            "grid_auto_rows": null,
            "grid_column": null,
            "grid_gap": null,
            "grid_row": null,
            "grid_template_areas": null,
            "grid_template_columns": null,
            "grid_template_rows": null,
            "height": null,
            "justify_content": null,
            "justify_items": null,
            "left": null,
            "margin": null,
            "max_height": null,
            "max_width": null,
            "min_height": null,
            "min_width": null,
            "object_fit": null,
            "object_position": null,
            "order": null,
            "overflow": null,
            "overflow_x": null,
            "overflow_y": null,
            "padding": null,
            "right": null,
            "top": null,
            "visibility": null,
            "width": null
          }
        },
        "df3bcdae2588414f918249f14fe14d0d": {
          "model_module": "@jupyter-widgets/base",
          "model_module_version": "1.2.0",
          "model_name": "LayoutModel",
          "state": {
            "_model_module": "@jupyter-widgets/base",
            "_model_module_version": "1.2.0",
            "_model_name": "LayoutModel",
            "_view_count": null,
            "_view_module": "@jupyter-widgets/base",
            "_view_module_version": "1.2.0",
            "_view_name": "LayoutView",
            "align_content": null,
            "align_items": null,
            "align_self": null,
            "border": null,
            "bottom": null,
            "display": null,
            "flex": null,
            "flex_flow": null,
            "grid_area": null,
            "grid_auto_columns": null,
            "grid_auto_flow": null,
            "grid_auto_rows": null,
            "grid_column": null,
            "grid_gap": null,
            "grid_row": null,
            "grid_template_areas": null,
            "grid_template_columns": null,
            "grid_template_rows": null,
            "height": null,
            "justify_content": null,
            "justify_items": null,
            "left": null,
            "margin": null,
            "max_height": null,
            "max_width": null,
            "min_height": null,
            "min_width": null,
            "object_fit": null,
            "object_position": null,
            "order": null,
            "overflow": null,
            "overflow_x": null,
            "overflow_y": null,
            "padding": null,
            "right": null,
            "top": null,
            "visibility": null,
            "width": null
          }
        },
        "e114a0e7764e44589bc4dc88c6252907": {
          "model_module": "@jupyter-widgets/controls",
          "model_module_version": "1.5.0",
          "model_name": "DescriptionStyleModel",
          "state": {
            "_model_module": "@jupyter-widgets/controls",
            "_model_module_version": "1.5.0",
            "_model_name": "DescriptionStyleModel",
            "_view_count": null,
            "_view_module": "@jupyter-widgets/base",
            "_view_module_version": "1.2.0",
            "_view_name": "StyleView",
            "description_width": ""
          }
        },
        "e50803d79dd14314b3e5125a2b618fd8": {
          "model_module": "@jupyter-widgets/controls",
          "model_module_version": "1.5.0",
          "model_name": "HBoxModel",
          "state": {
            "_dom_classes": [],
            "_model_module": "@jupyter-widgets/controls",
            "_model_module_version": "1.5.0",
            "_model_name": "HBoxModel",
            "_view_count": null,
            "_view_module": "@jupyter-widgets/controls",
            "_view_module_version": "1.5.0",
            "_view_name": "HBoxView",
            "box_style": "",
            "children": [
              "IPY_MODEL_2979aec5e52a49e49b071de781332ed3",
              "IPY_MODEL_b90779bc9157489b94af7d3f58a935ea",
              "IPY_MODEL_5ecbbd82c1bc45168682d67c537be29f"
            ],
            "layout": "IPY_MODEL_c683cf105d3f425899df5c5592ba75fb"
          }
        },
        "ee3948f90247460f8b2d1f9a8db16fd0": {
          "model_module": "@jupyter-widgets/controls",
          "model_module_version": "1.5.0",
          "model_name": "HBoxModel",
          "state": {
            "_dom_classes": [],
            "_model_module": "@jupyter-widgets/controls",
            "_model_module_version": "1.5.0",
            "_model_name": "HBoxModel",
            "_view_count": null,
            "_view_module": "@jupyter-widgets/controls",
            "_view_module_version": "1.5.0",
            "_view_name": "HBoxView",
            "box_style": "",
            "children": [
              "IPY_MODEL_62faee7f5a0b4e8eab52689de03a74f0",
              "IPY_MODEL_f35e3f48cfa8451991e7dc356f6d9739",
              "IPY_MODEL_3c5f413eb3614de396acb05073d1475c"
            ],
            "layout": "IPY_MODEL_172354f35b5c4aefb9dd8167b67bfdb8"
          }
        },
        "ef126949ff864aed8c31bd894b6de807": {
          "model_module": "@jupyter-widgets/controls",
          "model_module_version": "1.5.0",
          "model_name": "DescriptionStyleModel",
          "state": {
            "_model_module": "@jupyter-widgets/controls",
            "_model_module_version": "1.5.0",
            "_model_name": "DescriptionStyleModel",
            "_view_count": null,
            "_view_module": "@jupyter-widgets/base",
            "_view_module_version": "1.2.0",
            "_view_name": "StyleView",
            "description_width": ""
          }
        },
        "f35e3f48cfa8451991e7dc356f6d9739": {
          "model_module": "@jupyter-widgets/controls",
          "model_module_version": "1.5.0",
          "model_name": "FloatProgressModel",
          "state": {
            "_dom_classes": [],
            "_model_module": "@jupyter-widgets/controls",
            "_model_module_version": "1.5.0",
            "_model_name": "FloatProgressModel",
            "_view_count": null,
            "_view_module": "@jupyter-widgets/controls",
            "_view_module_version": "1.5.0",
            "_view_name": "ProgressView",
            "bar_style": "success",
            "description": "",
            "description_tooltip": null,
            "layout": "IPY_MODEL_50915c7c09e04922a8280d828a5b5caf",
            "max": 200,
            "min": 0,
            "orientation": "horizontal",
            "style": "IPY_MODEL_f6ad36a72fe843afa2d91563605a1e05",
            "value": 200
          }
        },
        "f662cba479dd48bb816bf13971bc417a": {
          "model_module": "@jupyter-widgets/controls",
          "model_module_version": "1.5.0",
          "model_name": "HTMLModel",
          "state": {
            "_dom_classes": [],
            "_model_module": "@jupyter-widgets/controls",
            "_model_module_version": "1.5.0",
            "_model_name": "HTMLModel",
            "_view_count": null,
            "_view_module": "@jupyter-widgets/controls",
            "_view_module_version": "1.5.0",
            "_view_name": "HTMLView",
            "description": "",
            "description_tooltip": null,
            "layout": "IPY_MODEL_df3bcdae2588414f918249f14fe14d0d",
            "placeholder": "​",
            "style": "IPY_MODEL_aeeacc2ed1ff495bad4829d86cf07c10",
            "value": " 200/200 [00:00&lt;00:00, 6115.88it/s]"
          }
        },
        "f6ad36a72fe843afa2d91563605a1e05": {
          "model_module": "@jupyter-widgets/controls",
          "model_module_version": "1.5.0",
          "model_name": "ProgressStyleModel",
          "state": {
            "_model_module": "@jupyter-widgets/controls",
            "_model_module_version": "1.5.0",
            "_model_name": "ProgressStyleModel",
            "_view_count": null,
            "_view_module": "@jupyter-widgets/base",
            "_view_module_version": "1.2.0",
            "_view_name": "StyleView",
            "bar_color": null,
            "description_width": ""
          }
        },
        "ff6fcabc1a104a26aae28337f0c7901a": {
          "model_module": "@jupyter-widgets/controls",
          "model_module_version": "1.5.0",
          "model_name": "HBoxModel",
          "state": {
            "_dom_classes": [],
            "_model_module": "@jupyter-widgets/controls",
            "_model_module_version": "1.5.0",
            "_model_name": "HBoxModel",
            "_view_count": null,
            "_view_module": "@jupyter-widgets/controls",
            "_view_module_version": "1.5.0",
            "_view_name": "HBoxView",
            "box_style": "",
            "children": [
              "IPY_MODEL_c7ad6d09b4fc497593f6a9fe3c9e9f85",
              "IPY_MODEL_44a9353725d6401c91f893aab1ded8a3",
              "IPY_MODEL_6a643a8289fa46228f09ee6169fd2e8c"
            ],
            "layout": "IPY_MODEL_8d076c96da3f4e9a8982b36f6ae0ffa8"
          }
        }
      }
    }
  },
  "nbformat": 4,
  "nbformat_minor": 0
}
