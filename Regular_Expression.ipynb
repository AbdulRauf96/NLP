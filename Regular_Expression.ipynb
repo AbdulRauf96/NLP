{
  "cells": [
    {
      "cell_type": "markdown",
      "metadata": {
        "id": "view-in-github",
        "colab_type": "text"
      },
      "source": [
        "<a href=\"https://colab.research.google.com/github/AbdulRauf96/NLP/blob/main/Regular_Expression.ipynb\" target=\"_parent\"><img src=\"https://colab.research.google.com/assets/colab-badge.svg\" alt=\"Open In Colab\"/></a>"
      ]
    },
    {
      "cell_type": "markdown",
      "metadata": {
        "id": "cBHdRHrJujh5"
      },
      "source": [
        "# <font color='pickle'>**Install Libraries**\n",
        "\n",
        "We will use swifter package in this notebook.\n",
        "**swifter** package is a third-party package that provides a set of tools to speed up data processing tasks on Pandas DataFrame and Series objects. It's built on top of Pandas and uses techniques such as vectorization, Cython, and Dask to accelerate data processing operations.\n",
        "\n",
        "The package provides a swifter.apply() function that can be used as a drop-in replacement for the pandas df.apply() function. This function applies a given function to each element of a DataFrame or Series in parallel, which can significantly speed up the processing time for large datasets. It also provides a swifter.progress_apply() function that shows progress while the function is applied.\n",
        "\n",
        "It's a powerful package that can significantly speed up data processing tasks on large datasets, but it's not a part of the Python Standard Library. So, it has to be installed using pip or conda package manager before using it."
      ]
    },
    {
      "cell_type": "code",
      "execution_count": 69,
      "metadata": {
        "id": "O1Uf22FaP5JW"
      },
      "outputs": [],
      "source": [
        "%%capture\n",
        "!pip install swifter"
      ]
    },
    {
      "cell_type": "markdown",
      "source": [
        "# <font color='pickle'>**Import Libraries**"
      ],
      "metadata": {
        "id": "rg9u8p57M1HJ"
      }
    },
    {
      "cell_type": "code",
      "execution_count": null,
      "metadata": {
        "id": "Xu0hwLMKme8S"
      },
      "outputs": [],
      "source": [
        "# Import the pandas library to work with dataframes\n",
        "import pandas as pd\n",
        "\n",
        "# Import the re module to work with regular expressions\n",
        "import re\n",
        "\n",
        "# Import the Counter class from the collections module to create frequency tables\n",
        "from collections import Counter\n",
        "\n",
        "# Import the Path class from the pathlib module to work with file paths\n",
        "from pathlib import Path\n",
        "\n",
        "# Import the swifter package to speed up data processing tasks on pandas DataFrame and Series objects\n",
        "import swifter"
      ]
    },
    {
      "cell_type": "markdown",
      "source": [
        "# <font color='pickle'>**Mount Google Drive and specify data folder**\n",
        "\n",
        "Mounting Google Drive in Colab allows you to access and work with files stored in your Google Drive from within a Colab notebook. It eliminates the need to manually download and upload files between Google Drive and Colab, and allows you to read and write files stored in your Google Drive directly from the Colab notebook.\n",
        "\n",
        "When you mount Google Drive in Colab, it creates a virtual file system that maps the directories and files in your Google Drive to a local directory on the Colab virtual machine. This allows you to use standard Python file operations (e.g. Path.open(), Path.iterdir(), Path.mkdir()) to read, write, and manipulate files stored in your Google Drive, just as if they were stored locally on the Colab virtual machine.\n",
        "\n",
        "Mounting Google Drive in Colab can be useful in several scenarios:\n",
        "\n",
        "- Working with large datasets: If you have large datasets that you don't want to download and upload manually, you can store them in your Google Drive and mount it in Colab to access them directly.\n",
        "\n",
        "- Collaboration: If you are working on a project with multiple collaborators, you can store the project files in a shared Google Drive and mount it in Colab to access and work with the files directly.\n",
        "\n",
        "- Backup: Mounting Google Drive in Colab can also be used as a backup option, you can easily save the important files in google drive and work on them from any device.\n",
        "\n",
        "Mounting Google Drive in Colab is easy, you just need to import the drive module from the google.colab library and use the mount() function to mount your Google Drive to the Colab virtual machine. You will be prompted to enter an authorization code, which is provided by a link after running the code. Once you have entered the authorization code, your Google Drive will be mounted to the specified directory and you can access and work with files stored in your Google Drive directly from the Colab notebook.\n",
        "\n"
      ],
      "metadata": {
        "id": "Ku3CngGCNH7-"
      }
    },
    {
      "cell_type": "code",
      "execution_count": null,
      "metadata": {
        "colab": {
          "base_uri": "https://localhost:8080/"
        },
        "id": "n2UcegSlFLny",
        "outputId": "59e70653-1c75-43cb-8bc9-fabf23716d36"
      },
      "outputs": [
        {
          "output_type": "stream",
          "name": "stdout",
          "text": [
            "Mounted at /content/drive\n"
          ]
        }
      ],
      "source": [
        "# mount google drive\n",
        "from google.colab import drive\n",
        "drive.mount('/content/drive')"
      ]
    },
    {
      "cell_type": "markdown",
      "source": [
        "# <font color='pickle'>**Specify data folder**"
      ],
      "metadata": {
        "id": "dJnPDBgzPH2p"
      }
    },
    {
      "cell_type": "code",
      "execution_count": null,
      "metadata": {
        "id": "OD32M0CPnlce"
      },
      "outputs": [],
      "source": [
        "# path for data files\n",
        "# this is the loaction on my google drive where I am keeping the datasets for this course\n",
        "# you can choose a different path\n",
        "# note that the /content/drive/MyDrive wil be same - this is the location where google drive is mounted.\n",
        "# /data/datasets - can be different for you\n",
        "\n",
        "basepath='/content/drive/MyDrive/colab_notebooks/nlp/datasets' "
      ]
    },
    {
      "cell_type": "markdown",
      "source": [
        "## <font color='pickle'>**Create Path Object**\n",
        "\n",
        "- the following code creates a new object of the Path class from the pathlib module. This object represents a file path.\n",
        "- The resulting Path object can then be used to interact with the file system and perform various operations on the file or folder represented by the path.\n",
        "- For example, you can use data_folder.exists() to check if the folder represented by the data_folder path exists or data_folder.mkdir() to create a new folder.\n",
        "- It's a good practice to use pathlib instead of using string manipulation to work with file paths, it's more readable and less error-prone."
      ],
      "metadata": {
        "id": "HzA1R_7Pnejy"
      }
    },
    {
      "cell_type": "code",
      "source": [
        "data_folder = Path(basepath)"
      ],
      "metadata": {
        "id": "RCt_yx4uQqTq"
      },
      "execution_count": null,
      "outputs": []
    },
    {
      "cell_type": "code",
      "execution_count": null,
      "metadata": {
        "colab": {
          "base_uri": "https://localhost:8080/"
        },
        "id": "uteN05gVTJBq",
        "outputId": "e24aa79f-5305-44ee-e69c-d34f16f07ef9"
      },
      "outputs": [
        {
          "output_type": "stream",
          "name": "stdout",
          "text": [
            "/content/drive/MyDrive/colab_notebooks/nlp/datasets\n"
          ]
        }
      ],
      "source": [
        "# print data folder\n",
        "print(data_folder)"
      ]
    },
    {
      "cell_type": "code",
      "execution_count": null,
      "metadata": {
        "id": "Y3ykG7spnojF"
      },
      "outputs": [],
      "source": [
        "# Craete path to the dataset \n",
        "# we can use / opertaor to join folders with files or subfolders\n",
        "# The second line creates a variable called \"file\" and assigns to it the result of concatenating \"data_folder\" and the string \"/trump_tweets.csv\" using the \"/\" operator. \n",
        "# This creates a new \"Path\" object that represents the file \"trump_tweets.csv\" \n",
        "# located in the \"data_folder\" directory.\n",
        "\n",
        "file = data_folder/\"trump_tweets.csv\""
      ]
    },
    {
      "cell_type": "markdown",
      "source": [
        "# <font color='pickle'>**Load data**"
      ],
      "metadata": {
        "id": "ySuTna3WSVZp"
      }
    },
    {
      "cell_type": "code",
      "execution_count": null,
      "metadata": {
        "id": "PW7kNj8Xujh8"
      },
      "outputs": [],
      "source": [
        "# Load the dataset using pd.read_csv\n",
        "df = pd.read_csv(file)"
      ]
    },
    {
      "cell_type": "code",
      "execution_count": null,
      "metadata": {
        "colab": {
          "base_uri": "https://localhost:8080/"
        },
        "id": "ElW14a5pHXSd",
        "outputId": "123b88f5-6e61-431e-c665-a5b6702f08ec"
      },
      "outputs": [
        {
          "output_type": "execute_result",
          "data": {
            "text/plain": [
              "                                                text       Username  \\\n",
              "0  RT @CaslerNoel: Trump didn’t order all those f...      MwhalenCy   \n",
              "1  RT @bellausa17: @POTUS Biden pandering again a...       java1836   \n",
              "2  RT @realLizUSA: \"There are now two sets of law...     EricDrevon   \n",
              "3  RT @Blklivesmatter: Biden is currently sending...     kacekochel   \n",
              "4                                            💯 true!  frank_venezia   \n",
              "\n",
              "                        Timestamp  \n",
              "0  Sun Jul 11 21:57:37 +0000 2021  \n",
              "1  Sun Jul 11 21:57:37 +0000 2021  \n",
              "2  Sun Jul 11 21:57:37 +0000 2021  \n",
              "3  Sun Jul 11 21:57:38 +0000 2021  \n",
              "4  Sun Jul 11 21:57:38 +0000 2021  "
            ],
            "text/html": [
              "\n",
              "  <div id=\"df-5bef5f4f-2b2b-4ac3-b9da-40024fc65ad8\">\n",
              "    <div class=\"colab-df-container\">\n",
              "      <div>\n",
              "<style scoped>\n",
              "    .dataframe tbody tr th:only-of-type {\n",
              "        vertical-align: middle;\n",
              "    }\n",
              "\n",
              "    .dataframe tbody tr th {\n",
              "        vertical-align: top;\n",
              "    }\n",
              "\n",
              "    .dataframe thead th {\n",
              "        text-align: right;\n",
              "    }\n",
              "</style>\n",
              "<table border=\"1\" class=\"dataframe\">\n",
              "  <thead>\n",
              "    <tr style=\"text-align: right;\">\n",
              "      <th></th>\n",
              "      <th>text</th>\n",
              "      <th>Username</th>\n",
              "      <th>Timestamp</th>\n",
              "    </tr>\n",
              "  </thead>\n",
              "  <tbody>\n",
              "    <tr>\n",
              "      <th>0</th>\n",
              "      <td>RT @CaslerNoel: Trump didn’t order all those f...</td>\n",
              "      <td>MwhalenCy</td>\n",
              "      <td>Sun Jul 11 21:57:37 +0000 2021</td>\n",
              "    </tr>\n",
              "    <tr>\n",
              "      <th>1</th>\n",
              "      <td>RT @bellausa17: @POTUS Biden pandering again a...</td>\n",
              "      <td>java1836</td>\n",
              "      <td>Sun Jul 11 21:57:37 +0000 2021</td>\n",
              "    </tr>\n",
              "    <tr>\n",
              "      <th>2</th>\n",
              "      <td>RT @realLizUSA: \"There are now two sets of law...</td>\n",
              "      <td>EricDrevon</td>\n",
              "      <td>Sun Jul 11 21:57:37 +0000 2021</td>\n",
              "    </tr>\n",
              "    <tr>\n",
              "      <th>3</th>\n",
              "      <td>RT @Blklivesmatter: Biden is currently sending...</td>\n",
              "      <td>kacekochel</td>\n",
              "      <td>Sun Jul 11 21:57:38 +0000 2021</td>\n",
              "    </tr>\n",
              "    <tr>\n",
              "      <th>4</th>\n",
              "      <td>💯 true!</td>\n",
              "      <td>frank_venezia</td>\n",
              "      <td>Sun Jul 11 21:57:38 +0000 2021</td>\n",
              "    </tr>\n",
              "  </tbody>\n",
              "</table>\n",
              "</div>\n",
              "      <button class=\"colab-df-convert\" onclick=\"convertToInteractive('df-5bef5f4f-2b2b-4ac3-b9da-40024fc65ad8')\"\n",
              "              title=\"Convert this dataframe to an interactive table.\"\n",
              "              style=\"display:none;\">\n",
              "        \n",
              "  <svg xmlns=\"http://www.w3.org/2000/svg\" height=\"24px\"viewBox=\"0 0 24 24\"\n",
              "       width=\"24px\">\n",
              "    <path d=\"M0 0h24v24H0V0z\" fill=\"none\"/>\n",
              "    <path d=\"M18.56 5.44l.94 2.06.94-2.06 2.06-.94-2.06-.94-.94-2.06-.94 2.06-2.06.94zm-11 1L8.5 8.5l.94-2.06 2.06-.94-2.06-.94L8.5 2.5l-.94 2.06-2.06.94zm10 10l.94 2.06.94-2.06 2.06-.94-2.06-.94-.94-2.06-.94 2.06-2.06.94z\"/><path d=\"M17.41 7.96l-1.37-1.37c-.4-.4-.92-.59-1.43-.59-.52 0-1.04.2-1.43.59L10.3 9.45l-7.72 7.72c-.78.78-.78 2.05 0 2.83L4 21.41c.39.39.9.59 1.41.59.51 0 1.02-.2 1.41-.59l7.78-7.78 2.81-2.81c.8-.78.8-2.07 0-2.86zM5.41 20L4 18.59l7.72-7.72 1.47 1.35L5.41 20z\"/>\n",
              "  </svg>\n",
              "      </button>\n",
              "      \n",
              "  <style>\n",
              "    .colab-df-container {\n",
              "      display:flex;\n",
              "      flex-wrap:wrap;\n",
              "      gap: 12px;\n",
              "    }\n",
              "\n",
              "    .colab-df-convert {\n",
              "      background-color: #E8F0FE;\n",
              "      border: none;\n",
              "      border-radius: 50%;\n",
              "      cursor: pointer;\n",
              "      display: none;\n",
              "      fill: #1967D2;\n",
              "      height: 32px;\n",
              "      padding: 0 0 0 0;\n",
              "      width: 32px;\n",
              "    }\n",
              "\n",
              "    .colab-df-convert:hover {\n",
              "      background-color: #E2EBFA;\n",
              "      box-shadow: 0px 1px 2px rgba(60, 64, 67, 0.3), 0px 1px 3px 1px rgba(60, 64, 67, 0.15);\n",
              "      fill: #174EA6;\n",
              "    }\n",
              "\n",
              "    [theme=dark] .colab-df-convert {\n",
              "      background-color: #3B4455;\n",
              "      fill: #D2E3FC;\n",
              "    }\n",
              "\n",
              "    [theme=dark] .colab-df-convert:hover {\n",
              "      background-color: #434B5C;\n",
              "      box-shadow: 0px 1px 3px 1px rgba(0, 0, 0, 0.15);\n",
              "      filter: drop-shadow(0px 1px 2px rgba(0, 0, 0, 0.3));\n",
              "      fill: #FFFFFF;\n",
              "    }\n",
              "  </style>\n",
              "\n",
              "      <script>\n",
              "        const buttonEl =\n",
              "          document.querySelector('#df-5bef5f4f-2b2b-4ac3-b9da-40024fc65ad8 button.colab-df-convert');\n",
              "        buttonEl.style.display =\n",
              "          google.colab.kernel.accessAllowed ? 'block' : 'none';\n",
              "\n",
              "        async function convertToInteractive(key) {\n",
              "          const element = document.querySelector('#df-5bef5f4f-2b2b-4ac3-b9da-40024fc65ad8');\n",
              "          const dataTable =\n",
              "            await google.colab.kernel.invokeFunction('convertToInteractive',\n",
              "                                                     [key], {});\n",
              "          if (!dataTable) return;\n",
              "\n",
              "          const docLinkHtml = 'Like what you see? Visit the ' +\n",
              "            '<a target=\"_blank\" href=https://colab.research.google.com/notebooks/data_table.ipynb>data table notebook</a>'\n",
              "            + ' to learn more about interactive tables.';\n",
              "          element.innerHTML = '';\n",
              "          dataTable['output_type'] = 'display_data';\n",
              "          await google.colab.output.renderOutput(dataTable, element);\n",
              "          const docLink = document.createElement('div');\n",
              "          docLink.innerHTML = docLinkHtml;\n",
              "          element.appendChild(docLink);\n",
              "        }\n",
              "      </script>\n",
              "    </div>\n",
              "  </div>\n",
              "  "
            ]
          },
          "metadata": {},
          "execution_count": 10
        }
      ],
      "source": [
        "# check the top five rows of the data set\n",
        "df.head()"
      ]
    },
    {
      "cell_type": "markdown",
      "metadata": {
        "id": "GPYLjXMPujjz"
      },
      "source": [
        "# <font color='pickle'>**Q1 Extracting hashtags from the tweets**"
      ]
    },
    {
      "cell_type": "code",
      "execution_count": null,
      "metadata": {
        "colab": {
          "base_uri": "https://localhost:8080/"
        },
        "id": "_B6fnDJAH4Uf",
        "outputId": "2c0dfc3b-44f3-4523-c41f-f3e4d1430216"
      },
      "outputs": [
        {
          "output_type": "stream",
          "name": "stdout",
          "text": [
            "#TRUMP 47*\n",
            "#AMERICA 1ST #MAGA #CPAC* THERES NOTHING LIKE IT_SO #FREEDOM LOVING AMERICANS_CAN GET AWAY FROM THE BULL… https://t.co/NCxINeoqvd\n",
            "RT @TeaPainUSA: Trump will continue to divide the GOP until it's only him and Don Jr. left. \n",
            "\n",
            "https://t.co/ONPWBrtUbi\n",
            "RT @kelly2277: 🔥Trump’s Incompetent Team Waited For Wisconsin Election Updates And Blamed A “Delay” On A Conspiracy Theory BUT The Idiots H…\n",
            "RT @RSBNetwork: President Trump roasting Hunter Biden!!! https://t.co/291BoMKDXo\n",
            "RT @ShutUpAmanda: They already chose Trump. https://t.co/dXtMQR0EpG\n"
          ]
        }
      ],
      "source": [
        "# Inspect tweet texts - we will use rows 140 - 150\n",
        "for text in df['text'][140:145]:\n",
        "  print (text)"
      ]
    },
    {
      "cell_type": "code",
      "execution_count": null,
      "metadata": {
        "id": "zObGjIZOCws8"
      },
      "outputs": [],
      "source": [
        "# write a regular expression to extract hashtags \n",
        "search_hashtags = re.compile(r\"(?:#+[\\w]+[\\w'-]*[\\w]+)\")"
      ]
    },
    {
      "cell_type": "markdown",
      "source": [
        "This code above is using the re.compile() function to create a regular expression pattern object that can be used to search for hashtags in a string.\n",
        "\n",
        "The regular expression inside the compile function is \"(?:\\#+[\\w]+[\\w\\'\\-]*[\\w]+)\".\n",
        "\n",
        "This regular expression is looking for the following pattern:\n",
        "\n",
        "- It starts with one or more \"#\" characters, which are used to match the hashtag symbol: \\#+\n",
        "- Followed by one or more word characters: [\\w]+\n",
        "- Followed by zero or more word characters, apostrophes, or dashes: [\\w\\'\\-]*\n",
        "- Finally, it ends with one or more word characters: [\\w]+\n",
        "- The (?:) is a non-capturing group, it means that the group is included in the match but the group is not captured as a separate element in the result.\n",
        "\n",
        "The compiled regular expression object can be used with functions like findall(), search(), and match() to find matches of the pattern in a string.\n",
        "\n",
        "Using the re.compile() function to create a regular expression pattern object has several advantages:\n",
        "\n",
        "- When you use the re module to search for a pattern in a string, it creates a new regular expression object for each search. This can be slow if you are searching for the same pattern multiple times. Compiling the regular expression ahead of time and using the compiled object for multiple searches can improve performance.\n",
        "\n",
        "- Optimization: The re.compile() function will optimize the regular expression for faster execution. This can be useful when working with very large input strings or when searching for a pattern multiple times in a loop."
      ],
      "metadata": {
        "id": "4FVItbOJTT51"
      }
    },
    {
      "cell_type": "code",
      "execution_count": null,
      "metadata": {
        "colab": {
          "base_uri": "https://localhost:8080/",
          "referenced_widgets": [
            "05d60b0b0afe4b4195eaa497dc0ff683",
            "e518eb08821d45f5bd34e2a5ffba4d7f",
            "60ff61fa38be4582924ae7fe6db27439",
            "cb6ae02d7609406b81ef97f8464f5602",
            "b2b87b8cd9ec46049756e6829453735f",
            "366accdd917d466fa4ab0ee9a1c77fe8",
            "354e834c23254b0aa21a6e4d3046e997",
            "b7f4031594bd4981af9f367c0a68a053",
            "23a491dd228f46ff9ad7509a2d9f8072",
            "fe04c888315540b5acab2ab6cdb8a3cb",
            "25eccdafec8d45e084d5eaab0c02e4ba"
          ]
        },
        "id": "Wor3akWLouwb",
        "outputId": "2d146501-088a-4d33-eae6-48efd6ea2b58"
      },
      "outputs": [
        {
          "output_type": "display_data",
          "data": {
            "text/plain": [
              "Pandas Apply:   0%|          | 0/200 [00:00<?, ?it/s]"
            ],
            "application/vnd.jupyter.widget-view+json": {
              "version_major": 2,
              "version_minor": 0,
              "model_id": "05d60b0b0afe4b4195eaa497dc0ff683"
            }
          },
          "metadata": {}
        }
      ],
      "source": [
        "# apply function to create new column 'hashtags'\n",
        "df['hashtags'] = df['text'].swifter.apply(lambda x: re.findall(search_hashtags, x))"
      ]
    },
    {
      "cell_type": "markdown",
      "source": [
        "The above code is using the .swifter.apply() method to extract hashtags from the \"text\" column of a DataFrame df and add a new column \"hashtags\" to the DataFrame.\n",
        "\n",
        "The .swifter.apply() method is a variant of the .apply() method that is optimized for large DataFrames and uses parallelization to speed up the computation.\n",
        "\n",
        "The method takes a lambda function as an argument, which is applied to each element of the \"text\" column. The lambda function takes in one argument, x, which represents an element of the \"text\" column. Inside the lambda function, re.findall(search_hashtags, x) is used to search for all hashtags that match the search_hashtags regular expression pattern in the element x of the \"text\" column.\n",
        "\n",
        "The resulting list of hashtags for each element is then assigned as the value for the corresponding row in the new \"hashtags\" column.\n",
        "\n",
        "<font color = 'red'> Overall, this code will extract hashtags from the 'text' column of dataframe and add a new column 'hashtags' to the dataframe with lists of hashtags for each element in the 'text' column."
      ],
      "metadata": {
        "id": "q9vd_Ib_Xbe4"
      }
    },
    {
      "cell_type": "code",
      "execution_count": null,
      "metadata": {
        "colab": {
          "base_uri": "https://localhost:8080/"
        },
        "id": "fS_4HDiKCOi5",
        "outputId": "0d07062c-532a-4716-b4b0-572c90d15754"
      },
      "outputs": [
        {
          "output_type": "execute_result",
          "data": {
            "text/plain": [
              "140    [#TRUMP, #AMERICA, #MAGA, #CPAC, #FREEDOM]\n",
              "141                                            []\n",
              "142                                            []\n",
              "143                                            []\n",
              "144                                            []\n",
              "Name: hashtags, dtype: object"
            ]
          },
          "metadata": {},
          "execution_count": 14
        }
      ],
      "source": [
        "# check rows 140 - 150 of dataframe for column hashtags\n",
        "df.hashtags[140:145]"
      ]
    },
    {
      "cell_type": "code",
      "execution_count": null,
      "metadata": {
        "id": "Z_5q11zqDQGz"
      },
      "outputs": [],
      "source": [
        "# drop columns Username, Timestamp\n",
        "df = df.drop(['Username','Timestamp'],axis=1)"
      ]
    },
    {
      "cell_type": "code",
      "execution_count": null,
      "metadata": {
        "colab": {
          "base_uri": "https://localhost:8080/"
        },
        "id": "P8aBMuqAIshx",
        "outputId": "14b962b1-027b-4890-b7da-46c7f995379b"
      },
      "outputs": [
        {
          "output_type": "execute_result",
          "data": {
            "text/plain": [
              "text        #TRUMP 47*\\n#AMERICA 1ST #MAGA #CPAC* THERES N...\n",
              "hashtags           [#TRUMP, #AMERICA, #MAGA, #CPAC, #FREEDOM]\n",
              "Name: 140, dtype: object"
            ]
          },
          "metadata": {},
          "execution_count": 16
        }
      ],
      "source": [
        "# check first ten rows of the dataset\n",
        "df.loc[140]"
      ]
    },
    {
      "cell_type": "markdown",
      "metadata": {
        "id": "jGXFs7YIujkH"
      },
      "source": [
        "# <font color='pickle'>**Q2: Removing URLs from tweets**\n",
        "\n",
        "There are multiple URLs present in individual tweet's `text` Remove the URL from the tweets.\n"
      ]
    },
    {
      "cell_type": "code",
      "source": [
        "url_pattern1 = re.compile(r\"(http|ftp|https):\\S+\")"
      ],
      "metadata": {
        "id": "S2ntS9TYX0FN"
      },
      "execution_count": null,
      "outputs": []
    },
    {
      "cell_type": "markdown",
      "source": [
        "This regular expression will not match URLs that contain characters outside of the set A-Za-z0-9:/._\\-, for example:\n",
        "\n",
        "- URLs that include spaces, such as \"http://example.com/my file.html\"\n",
        "- URLs that include special characters, such as \"http://example.com/my%20file.html\"\n",
        "- URLs that include non-ascii characters, such as \"http://example.com/my檔案.html\"\n",
        "- URLs that include query parameters, such as \"http://example.com/myfile.html?param=value\"\n",
        "\n",
        "Also, this regular expression will not match URLs that starts with ftp protocol, or other protocols, and it will not match URLs that don't include http or https as the protocol. For example:\n",
        "\n",
        "- ftp://example.com/file.txt"
      ],
      "metadata": {
        "id": "SmT3vFkTZki5"
      }
    },
    {
      "cell_type": "code",
      "source": [
        "url_pattern2 = re.compile(r\"(http|ftp|https)://([\\w_-]+(?:(?:\\.[\\w_-]+)+))([\\w.,@?^=%&:/~+#-]*[\\w@?^=%&/~+#-])?\")"
      ],
      "metadata": {
        "id": "f-QP2Z8WaLef"
      },
      "execution_count": null,
      "outputs": []
    },
    {
      "cell_type": "markdown",
      "source": [
        "This regular expression is looking for the following pattern:\n",
        "\n",
        "- It starts with http, ftp, or https: (http|ftp|https)\n",
        "- Followed by ://\n",
        "- Followed by one or more word characters, underscores, or dashes: [\\w_-]\n",
        "- Followed by zero or more repetitions of a dot and one or more word characters, underscores, or dashes: (?:(?:\\.[\\w_-]+)+)\n",
        "- Followed by zero or more repetitions of word characters, punctuation, or special characters: [\\w.,@?^=%&:/~+#-]*\n",
        "- Finally, it ends with one or more word characters, punctuation, or special characters: [\\w@?^=%&/~+#-]\n",
        "                                                                                          \n",
        "This regular expression will match any valid http, https and ftp URLs."
      ],
      "metadata": {
        "id": "QMWF2IvZaSi8"
      }
    },
    {
      "cell_type": "code",
      "execution_count": null,
      "metadata": {
        "colab": {
          "base_uri": "https://localhost:8080/",
          "referenced_widgets": [
            "e3eeff68bc3a46a79bdeb61b14586c5a",
            "c337080921a14694a39a4010c7f7f8b8",
            "10d005a283fb4cb9b085fc775db2cf6b",
            "16f120e258754edfa05ab69b10ceff21",
            "9e097bb426124a6bbe3bbe7d2043c395",
            "2953fc36d16e45a5af96441742ebb43b",
            "afb2efcda3cd46da848ec5bd910c5f61",
            "8c7c1e1870a94a778410f56d5a6f1267",
            "50c171f0b4104d9e9ece526950cb7b1a",
            "356dc8b3d6ee4ab9aa33216946632297",
            "3cccbeccef3b44bbb485332ea9582f12"
          ]
        },
        "id": "o6I4k1QuujkJ",
        "outputId": "5fcd25e4-dc83-442e-9fd7-046a7eded635"
      },
      "outputs": [
        {
          "output_type": "display_data",
          "data": {
            "text/plain": [
              "Pandas Apply:   0%|          | 0/200 [00:00<?, ?it/s]"
            ],
            "application/vnd.jupyter.widget-view+json": {
              "version_major": 2,
              "version_minor": 0,
              "model_id": "e3eeff68bc3a46a79bdeb61b14586c5a"
            }
          },
          "metadata": {}
        }
      ],
      "source": [
        "# create new column clean_text. We will remove urls from the text column to create new column\n",
        "df['clean_text_1'] = df['text'].swifter.apply(lambda x: re.sub(url_pattern1 ,'',x))"
      ]
    },
    {
      "cell_type": "code",
      "source": [
        "df['clean_text_2'] = df['text'].swifter.apply(lambda x: re.sub(url_pattern2 ,'',x))"
      ],
      "metadata": {
        "colab": {
          "base_uri": "https://localhost:8080/",
          "referenced_widgets": [
            "9463adbce44540d08738b6798acf848a",
            "fd1721224be34f5ea24591a5f014f1d2",
            "24f383b152c44ec3985505ef61e27359",
            "f8d0ef74f174499b836596a78c5fd695",
            "438fa0458ae84824bf2f6f3e22b62caf",
            "43ffcb8882204e438c58d979e2a52f54",
            "f46949f605544777a754f55cb22b2d1b",
            "d62ef80716184be9a1505c3be56ae42f",
            "fce4312f7f454c1c9d94a47e9eeda2db",
            "d4f6173ae6af4dbea6e8eca41f3c91d7",
            "78c8d6b4ff2f4222ad941449adb38a84"
          ]
        },
        "id": "_wLU5XhgayhG",
        "outputId": "1e8a0e4e-4940-4573-bbd7-b8af30cfbadb"
      },
      "execution_count": null,
      "outputs": [
        {
          "output_type": "display_data",
          "data": {
            "text/plain": [
              "Pandas Apply:   0%|          | 0/200 [00:00<?, ?it/s]"
            ],
            "application/vnd.jupyter.widget-view+json": {
              "version_major": 2,
              "version_minor": 0,
              "model_id": "9463adbce44540d08738b6798acf848a"
            }
          },
          "metadata": {}
        }
      ]
    },
    {
      "cell_type": "code",
      "execution_count": null,
      "metadata": {
        "colab": {
          "base_uri": "https://localhost:8080/"
        },
        "id": "vVGR7GimObF7",
        "outputId": "963c6261-7385-43c3-ae99-618cdd9bfb83"
      },
      "outputs": [
        {
          "output_type": "stream",
          "name": "stdout",
          "text": [
            "#TRUMP 47*\n",
            "#AMERICA 1ST #MAGA #CPAC* THERES NOTHING LIKE IT_SO #FREEDOM LOVING AMERICANS_CAN GET AWAY FROM THE BULL… \n",
            "RT @TeaPainUSA: Trump will continue to divide the GOP until it's only him and Don Jr. left. \n",
            "\n",
            "\n",
            "RT @kelly2277: 🔥Trump’s Incompetent Team Waited For Wisconsin Election Updates And Blamed A “Delay” On A Conspiracy Theory BUT The Idiots H…\n",
            "RT @RSBNetwork: President Trump roasting Hunter Biden!!! \n",
            "RT @ShutUpAmanda: They already chose Trump. \n",
            "@ReadingJudith He’s another dangerous grifter and agitator allowed to flourish thanks to Trump &amp; the GOP.  He’s rotten snot.\n",
            "@snarkiekimmie @ananavarro They hate communists and the dem party is overflowing with em. Duhhh. Yeah Trump was suc… \n",
            "RT @CNN: Trump doesn't have a strong case against Big Tech for deplatforming him. Private companies aren't required to provide him a platfo…\n",
            "RT @kelly2277: 🔥Trump’s Incompetent Team Waited For Wisconsin Election Updates And Blamed A “Delay” On A Conspiracy Theory BUT The Idiots H…\n",
            "RT @prchovanec: Trump says Democrats are to blame for 1/6 because they didn’t take the potential for violence from his supporters, in the p…\n"
          ]
        }
      ],
      "source": [
        "# print rows 140-150 from clean_text column to see if the urls have been removed\n",
        "for text in df['clean_text_1'][140:150]:\n",
        "  print(text)"
      ]
    },
    {
      "cell_type": "code",
      "source": [
        "for text in df['clean_text_2'][140:150]:\n",
        "  print(text)"
      ],
      "metadata": {
        "colab": {
          "base_uri": "https://localhost:8080/"
        },
        "id": "CSgEt6J0a8e2",
        "outputId": "1bccb439-5d4c-44c7-c42d-360a1eb300bb"
      },
      "execution_count": null,
      "outputs": [
        {
          "output_type": "stream",
          "name": "stdout",
          "text": [
            "#TRUMP 47*\n",
            "#AMERICA 1ST #MAGA #CPAC* THERES NOTHING LIKE IT_SO #FREEDOM LOVING AMERICANS_CAN GET AWAY FROM THE BULL… \n",
            "RT @TeaPainUSA: Trump will continue to divide the GOP until it's only him and Don Jr. left. \n",
            "\n",
            "\n",
            "RT @kelly2277: 🔥Trump’s Incompetent Team Waited For Wisconsin Election Updates And Blamed A “Delay” On A Conspiracy Theory BUT The Idiots H…\n",
            "RT @RSBNetwork: President Trump roasting Hunter Biden!!! \n",
            "RT @ShutUpAmanda: They already chose Trump. \n",
            "@ReadingJudith He’s another dangerous grifter and agitator allowed to flourish thanks to Trump &amp; the GOP.  He’s rotten snot.\n",
            "@snarkiekimmie @ananavarro They hate communists and the dem party is overflowing with em. Duhhh. Yeah Trump was suc… \n",
            "RT @CNN: Trump doesn't have a strong case against Big Tech for deplatforming him. Private companies aren't required to provide him a platfo…\n",
            "RT @kelly2277: 🔥Trump’s Incompetent Team Waited For Wisconsin Election Updates And Blamed A “Delay” On A Conspiracy Theory BUT The Idiots H…\n",
            "RT @prchovanec: Trump says Democrats are to blame for 1/6 because they didn’t take the potential for violence from his supporters, in the p…\n"
          ]
        }
      ]
    },
    {
      "cell_type": "markdown",
      "metadata": {
        "id": "5Fbl6z9iujkO"
      },
      "source": [
        "# <font color='pickle'>**Q3 Extract Top 10 Mentions and add mentions as new column**\n",
        "\n",
        "Many of the tweets have mentions of people in the form *@username*, for example see the following tweet - \n",
        "\n",
        "RT @kelly2277: 🔥Trump’s Incompetent Team Waited For Wisconsin Election Updates\n",
        "\n",
        "Here @kelly2277 is a mention. You need to extract mentions from all the tweets and find which are the top 10 mentions"
      ]
    },
    {
      "cell_type": "code",
      "source": [
        "mention_pattern_1 = re.compile(r'@([\\w\\-]+):?')"
      ],
      "metadata": {
        "id": "tuan6_jDwhdP"
      },
      "execution_count": null,
      "outputs": []
    },
    {
      "cell_type": "markdown",
      "source": [
        "The pattern consists of the following parts:\n",
        "\n",
        "- The @ character, which must appear at the beginning of the pattern.\n",
        "- A group of one or more word characters (\\w) or hyphens (-), captured within parentheses () . This group is denoted by ([\\w\\-]+)\n",
        "- An optional colon : denoted by :?.\n",
        "\n",
        "- The parentheses in the pattern define a group. In this case, the group captures the word characters and hyphens that immediately follow the '@' character.\n",
        "\n",
        "- If the parentheses were removed, the pattern would still match the same strings, but the re.findall() function would return the entire match, rather than just the part of the match that is captured by the group"
      ],
      "metadata": {
        "id": "-8IvqALixGjv"
      }
    },
    {
      "cell_type": "code",
      "execution_count": null,
      "metadata": {
        "colab": {
          "base_uri": "https://localhost:8080/",
          "height": 49,
          "referenced_widgets": [
            "51c1897537a646b3968a5b56c6ec07f4",
            "0aad4f6769804e1f92c1523329bbb8e0",
            "5d227f7b814b4b0682137855df5f7eaa",
            "cb3dc73d9fb949328a9069be0b2dc285",
            "be96666e05f24555a62103112d7bf66c",
            "9a44c39b889c42f88680f8331045612c",
            "1b8fd513a094416e96d6be0db26de5d4",
            "2d64dc47dfa44a458830278a93e89424",
            "71653d1b92c44b38931a70cfa11d2b5b",
            "37ec71503943462a8dcba8491567fabf",
            "042a9928f4c44d949634ea0c4992b5dd"
          ]
        },
        "id": "9lceE1LBPoYE",
        "outputId": "2ed4f6c4-8b41-48c9-9275-99f90b1df58f"
      },
      "outputs": [
        {
          "output_type": "display_data",
          "data": {
            "text/plain": [
              "Pandas Apply:   0%|          | 0/200 [00:00<?, ?it/s]"
            ],
            "application/vnd.jupyter.widget-view+json": {
              "version_major": 2,
              "version_minor": 0,
              "model_id": "51c1897537a646b3968a5b56c6ec07f4"
            }
          },
          "metadata": {}
        }
      ],
      "source": [
        "# create column mentions that has @mentions in tweets\n",
        "df['mentions'] = df['text'].swifter.apply(lambda x: re.findall(mention_pattern_1, x))"
      ]
    },
    {
      "cell_type": "code",
      "execution_count": null,
      "metadata": {
        "colab": {
          "base_uri": "https://localhost:8080/"
        },
        "id": "Mx0Bzi46Pyl9",
        "outputId": "6dc98ce8-c7b9-432b-8432-82b3ffcf5f9b"
      },
      "outputs": [
        {
          "output_type": "execute_result",
          "data": {
            "text/plain": [
              "0                                           [CaslerNoel]\n",
              "1                                    [bellausa17, POTUS]\n",
              "2                                           [realLizUSA]\n",
              "3                                       [Blklivesmatter]\n",
              "4                                                     []\n",
              "                             ...                        \n",
              "195    [Vesemirr, C_Stroop, Mr_JamesLandis, mattsheff...\n",
              "196                       [JennaEllisEsq, GOPChairwoman]\n",
              "197                                        [ElectionWiz]\n",
              "198                        [chsbulldogs92, ericswalwell]\n",
              "199                                     [RonFilipkowski]\n",
              "Name: mentions, Length: 200, dtype: object"
            ]
          },
          "metadata": {},
          "execution_count": 42
        }
      ],
      "source": [
        "df['mentions']"
      ]
    },
    {
      "cell_type": "code",
      "execution_count": null,
      "metadata": {
        "id": "dEY09x-mkNSo",
        "colab": {
          "base_uri": "https://localhost:8080/"
        },
        "outputId": "40c0317b-741e-4c93-ea9a-0db398f5c072"
      },
      "outputs": [
        {
          "output_type": "stream",
          "name": "stdout",
          "text": [
            "['CaslerNoel', 'bellausa17', 'POTUS', 'realLizUSA', 'Blklivesmatter', 'July041776', 'NnameTrump', '2021_free', 'Keitikinz', 'thebradfordfile', 'GregAbbott_TX', 'JamesrossrJames', '_ROB_29', 'miniver', 'shadowcat_mst', 'peterme', 'gracesaldanaa', 'CPAC', 'RSBNetwork', 'SpiroAgnewGhost', 'Funky8_0', 'beingrealmac', 'MacFarlaneNews', 'TPostMillennial', 'BernardKerik', 'JoeBiden', 'KamalaHarris', 'cruadin', 'redsteeze', 'TheSpectator', 'mmpadellan', 'Davidlaz', 'TerraBrasilnot', 'SwainForSenate', 'catturd2', 'TeaPainUSA', 'FredBachman2', 'marcorubio', 'CNN', 'SwainForSenate', 'marceelias', 'Shawn_Farash', 'Out5p0ken', 'glennkirschner2', 'Greenjen46Susan', 'tedcruz', 'DonCorneliano2', 'BombshellDAILY', 'realLizUSA', '2019IBeatCancer', 'jeffpearlman', 'NjDeplorables', 'SBSmolen', 'Grump_USMC', 'SharonCoryell3', 'LevineJonathan', 'MSNBC', 'CNN', 'JennaEllisEsq', 'mtaibbi', 'ByronDonalds', 'Novafan23', 'pollygolightly', 'HopeisaBison', 'RBReich', 'MysterySolvent', 'glennkirschner2', 'bennyjohnson', 'atrupar', 'SwainForSenate', 'Greeney17595412', 'realLizUSA', 'mdeperno', 'johncardillo', 'GOPChairwoman', 'CaslerNoel', 'TeaPainUSA', 'ColumbiaBugle', 'Facebook', 'Google', 'Twitter', 'ColumbiaBugle', 'CenTexKev', 'Wolfe321', 'nypost', 'CaslerNoel', 'raysawhill', 'nytimes', 'CaslerNoel', 'PauletteParis1', 'realLizUSA', 'GOPChairwoman', 'TeaPainUSA', 'jonnasima', 'Keitikinz', 'ericgarland', 'gracesaldanaa', 'CPAC', 'RSBNetwork', 'foxnation', 'Out5p0ken', 'RepSwalwell', 'MysterySolvent', 'ImSpeaking13', 'KeithOlbermann', 'MariaBartiromo', 'thebradfordfile', 'JackPosobiec', 'CWakeman4', 'ActionTime', 'DJComrade2', 'glennkirschner2', 'NotAlexSheppard', 'LindaMi14118735', 'realpfigueiredo', 'RSBNetwork', 'politvidchannel', 'JennaEllisEsq', 'BMeiselas', 'TeaPainUSA', 'glennkirschner2', 'Chris_SactoCA', 'IBeBarb', 'mtaibbi', 'Teri_Kanefield', 'unscriptedmike', 'DailyCaller', 'ToscaAusten', 'TheLastRefuge2', 'Out5p0ken', 'glennkirschner2', 'CaslerNoel', 'AnnieGabstonH', 'prchovanec', 'goodblackdude', 'ElectionWiz', 'mandyleigh1976', 'bennyjohnson', 'CPAC', 'CaslerNoel', 'Bentell8', 'TPostMillennial', 'realLizUSA', 'kylegriffin1', 'TeaPainUSA', 'atrupar', 'JennaEllisEsq', 'FloodD17', 'IndyColo', 'DailyMail', 'realLizUSA', 'Truth_Gazette', 'CPAC', 'RonDeSantisFL', 'mikepompeo', 'DonaldJTrum', 'johncardillo', 'GOPChairwoman', 'HorrorchickNick', 'MusubiBrand', 'FluffykinsT', 'TerraBrasilnot', 'whoknew9', 'POTUS', 'Twitter', 'UnionLeader', 'Melisandre6', 'glennkirschner2', 'YouTube', 'bennyjohnson', 'TeaPainUSA', 'kelly2277', 'RSBNetwork', 'ShutUpAmanda', 'ReadingJudith', 'snarkiekimmie', 'ananavarro', 'CNN', 'kelly2277', 'prchovanec', 'RepSwalwell', 'CharlesHurt', 'SwainForSenate', 'QTAnon1', 'glennkirschner2', 'SethAbramson', 'CSinclairtv', 'OANN', 'tribelaw', 'B52Malmet', 'julie_kelly2', 'atrupar', 'CariKelemen', 'atrupar', 'Acyn', 'atrupar', 'QTAnon1', 'bennyjohnson', 'Out5p0ken', 'eldestapeweb', 'mmpadellan', 'MacFarlaneNews', 'iamstellar1', 'LizardKing_XII', 'RubenThawne', 'FallerForIt', 'angrydeathhippy', 'SwainForSenate', 'JoyAnnReid', 'Chicago1Ray', 'SethAbramson', 'SpiroAgnewGhost', 'catturd2', 'hasanthehun', 'atrupar', 'MonaSalama_', 'GuntherEagleman', 'atrupar', 'DeanObeidallah', 'VelshiMSNBC', 'TristanSnell', 'GregAbbott_TX', 'Newsmax', 'FoxNews', 'tere_marinovic', 'GilesPalaeoLab', 'Vesemirr', 'C_Stroop', 'Mr_JamesLandis', 'mattsheffield', 'JennaEllisEsq', 'GOPChairwoman', 'ElectionWiz', 'chsbulldogs92', 'ericswalwell', 'RonFilipkowski', 'CaslerNoel', 'bellausa17', 'POTUS', 'realLizUSA', 'Blklivesmatter', 'July041776', 'NnameTrump', '2021_free', 'Keitikinz', 'thebradfordfile', 'GregAbbott_TX', 'JamesrossrJames', '_ROB_29', 'miniver', 'shadowcat_mst', 'peterme', 'gracesaldanaa', 'CPAC', 'RSBNetwork', 'SpiroAgnewGhost', 'Funky8_0', 'beingrealmac', 'MacFarlaneNews', 'TPostMillennial', 'BernardKerik', 'JoeBiden', 'KamalaHarris', 'cruadin', 'redsteeze', 'TheSpectator', 'mmpadellan', 'Davidlaz', 'TerraBrasilnot', 'SwainForSenate', 'catturd2', 'TeaPainUSA', 'FredBachman2', 'marcorubio', 'CNN', 'SwainForSenate', 'marceelias', 'Shawn_Farash', 'Out5p0ken', 'glennkirschner2', 'Greenjen46Susan', 'tedcruz', 'DonCorneliano2', 'BombshellDAILY', 'realLizUSA', '2019IBeatCancer', 'jeffpearlman', 'NjDeplorables', 'SBSmolen', 'Grump_USMC', 'SharonCoryell3', 'LevineJonathan', 'MSNBC', 'CNN', 'JennaEllisEsq', 'mtaibbi', 'ByronDonalds', 'Novafan23', 'pollygolightly', 'HopeisaBison', 'RBReich', 'MysterySolvent', 'glennkirschner2', 'bennyjohnson', 'atrupar', 'SwainForSenate', 'Greeney17595412', 'realLizUSA', 'mdeperno', 'johncardillo', 'GOPChairwoman', 'CaslerNoel', 'TeaPainUSA', 'ColumbiaBugle', 'Facebook', 'Google', 'Twitter', 'ColumbiaBugle', 'CenTexKev', 'Wolfe321', 'nypost', 'CaslerNoel', 'raysawhill', 'nytimes', 'CaslerNoel', 'PauletteParis1', 'realLizUSA', 'GOPChairwoman', 'TeaPainUSA', 'jonnasima', 'Keitikinz', 'ericgarland', 'gracesaldanaa', 'CPAC', 'RSBNetwork', 'foxnation', 'Out5p0ken', 'RepSwalwell', 'MysterySolvent', 'ImSpeaking13', 'KeithOlbermann', 'MariaBartiromo', 'thebradfordfile', 'JackPosobiec', 'CWakeman4', 'ActionTime', 'DJComrade2', 'glennkirschner2', 'NotAlexSheppard', 'LindaMi14118735', 'realpfigueiredo', 'RSBNetwork', 'politvidchannel', 'JennaEllisEsq', 'BMeiselas', 'TeaPainUSA', 'glennkirschner2', 'Chris_SactoCA', 'IBeBarb', 'mtaibbi', 'Teri_Kanefield', 'unscriptedmike', 'DailyCaller', 'ToscaAusten', 'TheLastRefuge2', 'Out5p0ken', 'glennkirschner2', 'CaslerNoel', 'AnnieGabstonH', 'prchovanec', 'goodblackdude', 'ElectionWiz', 'mandyleigh1976', 'bennyjohnson', 'CPAC', 'CaslerNoel', 'Bentell8', 'TPostMillennial', 'realLizUSA', 'kylegriffin1', 'TeaPainUSA', 'atrupar', 'JennaEllisEsq', 'FloodD17', 'IndyColo', 'DailyMail', 'realLizUSA', 'Truth_Gazette', 'CPAC', 'RonDeSantisFL', 'mikepompeo', 'DonaldJTrum', 'johncardillo', 'GOPChairwoman', 'HorrorchickNick', 'MusubiBrand', 'FluffykinsT', 'TerraBrasilnot', 'whoknew9', 'POTUS', 'Twitter', 'UnionLeader', 'Melisandre6', 'glennkirschner2', 'YouTube', 'bennyjohnson', 'TeaPainUSA', 'kelly2277', 'RSBNetwork', 'ShutUpAmanda', 'ReadingJudith', 'snarkiekimmie', 'ananavarro', 'CNN', 'kelly2277', 'prchovanec', 'RepSwalwell', 'CharlesHurt', 'SwainForSenate', 'QTAnon1', 'glennkirschner2', 'SethAbramson', 'CSinclairtv', 'OANN', 'tribelaw', 'B52Malmet', 'julie_kelly2', 'atrupar', 'CariKelemen', 'atrupar', 'Acyn', 'atrupar', 'QTAnon1', 'bennyjohnson', 'Out5p0ken', 'eldestapeweb', 'mmpadellan', 'MacFarlaneNews', 'iamstellar1', 'LizardKing_XII', 'RubenThawne', 'FallerForIt', 'angrydeathhippy', 'SwainForSenate', 'JoyAnnReid', 'Chicago1Ray', 'SethAbramson', 'SpiroAgnewGhost', 'catturd2', 'hasanthehun', 'atrupar', 'MonaSalama_', 'GuntherEagleman', 'atrupar', 'DeanObeidallah', 'VelshiMSNBC', 'TristanSnell', 'GregAbbott_TX', 'Newsmax', 'FoxNews', 'tere_marinovic', 'GilesPalaeoLab', 'Vesemirr', 'C_Stroop', 'Mr_JamesLandis', 'mattsheffield', 'JennaEllisEsq', 'GOPChairwoman', 'ElectionWiz', 'chsbulldogs92', 'ericswalwell', 'RonFilipkowski', 'CaslerNoel', 'bellausa17', 'POTUS', 'realLizUSA', 'Blklivesmatter', 'July041776', 'NnameTrump', '2021_free', 'Keitikinz', 'thebradfordfile', 'GregAbbott_TX', 'JamesrossrJames', '_ROB_29', 'miniver', 'shadowcat_mst', 'peterme', 'gracesaldanaa', 'CPAC', 'RSBNetwork', 'SpiroAgnewGhost', 'Funky8_0', 'beingrealmac', 'MacFarlaneNews', 'TPostMillennial', 'BernardKerik', 'JoeBiden', 'KamalaHarris', 'cruadin', 'redsteeze', 'TheSpectator', 'mmpadellan', 'Davidlaz', 'TerraBrasilnot', 'SwainForSenate', 'catturd2', 'TeaPainUSA', 'FredBachman2', 'marcorubio', 'CNN', 'SwainForSenate', 'marceelias', 'Shawn_Farash', 'Out5p0ken', 'glennkirschner2', 'Greenjen46Susan', 'tedcruz', 'DonCorneliano2', 'BombshellDAILY', 'realLizUSA', '2019IBeatCancer', 'jeffpearlman', 'NjDeplorables', 'SBSmolen', 'Grump_USMC', 'SharonCoryell3', 'LevineJonathan', 'MSNBC', 'CNN', 'JennaEllisEsq', 'mtaibbi', 'ByronDonalds', 'Novafan23', 'pollygolightly', 'HopeisaBison', 'RBReich', 'MysterySolvent', 'glennkirschner2', 'bennyjohnson', 'atrupar', 'SwainForSenate', 'Greeney17595412', 'realLizUSA', 'mdeperno', 'johncardillo', 'GOPChairwoman', 'CaslerNoel', 'TeaPainUSA', 'ColumbiaBugle', 'Facebook', 'Google', 'Twitter', 'ColumbiaBugle', 'CenTexKev', 'Wolfe321', 'nypost', 'CaslerNoel', 'raysawhill', 'nytimes', 'CaslerNoel', 'PauletteParis1', 'realLizUSA', 'GOPChairwoman', 'TeaPainUSA', 'jonnasima', 'Keitikinz', 'ericgarland', 'gracesaldanaa', 'CPAC', 'RSBNetwork', 'foxnation', 'Out5p0ken', 'RepSwalwell', 'MysterySolvent', 'ImSpeaking13', 'KeithOlbermann', 'MariaBartiromo', 'thebradfordfile', 'JackPosobiec', 'CWakeman4', 'ActionTime', 'DJComrade2', 'glennkirschner2', 'NotAlexSheppard', 'LindaMi14118735', 'realpfigueiredo', 'RSBNetwork', 'politvidchannel', 'JennaEllisEsq', 'BMeiselas', 'TeaPainUSA', 'glennkirschner2', 'Chris_SactoCA', 'IBeBarb', 'mtaibbi', 'Teri_Kanefield', 'unscriptedmike', 'DailyCaller', 'ToscaAusten', 'TheLastRefuge2', 'Out5p0ken', 'glennkirschner2', 'CaslerNoel', 'AnnieGabstonH', 'prchovanec', 'goodblackdude', 'ElectionWiz', 'mandyleigh1976', 'bennyjohnson', 'CPAC', 'CaslerNoel', 'Bentell8', 'TPostMillennial', 'realLizUSA', 'kylegriffin1', 'TeaPainUSA', 'atrupar', 'JennaEllisEsq', 'FloodD17', 'IndyColo', 'DailyMail', 'realLizUSA', 'Truth_Gazette', 'CPAC', 'RonDeSantisFL', 'mikepompeo', 'DonaldJTrum', 'johncardillo', 'GOPChairwoman', 'HorrorchickNick', 'MusubiBrand', 'FluffykinsT', 'TerraBrasilnot', 'whoknew9', 'POTUS', 'Twitter', 'UnionLeader', 'Melisandre6', 'glennkirschner2', 'YouTube', 'bennyjohnson', 'TeaPainUSA', 'kelly2277', 'RSBNetwork', 'ShutUpAmanda', 'ReadingJudith', 'snarkiekimmie', 'ananavarro', 'CNN', 'kelly2277', 'prchovanec', 'RepSwalwell', 'CharlesHurt', 'SwainForSenate', 'QTAnon1', 'glennkirschner2', 'SethAbramson', 'CSinclairtv', 'OANN', 'tribelaw', 'B52Malmet', 'julie_kelly2', 'atrupar', 'CariKelemen', 'atrupar', 'Acyn', 'atrupar', 'QTAnon1', 'bennyjohnson', 'Out5p0ken', 'eldestapeweb', 'mmpadellan', 'MacFarlaneNews', 'iamstellar1', 'LizardKing_XII', 'RubenThawne', 'FallerForIt', 'angrydeathhippy', 'SwainForSenate', 'JoyAnnReid', 'Chicago1Ray', 'SethAbramson', 'SpiroAgnewGhost', 'catturd2', 'hasanthehun', 'atrupar', 'MonaSalama_', 'GuntherEagleman', 'atrupar', 'DeanObeidallah', 'VelshiMSNBC', 'TristanSnell', 'GregAbbott_TX', 'Newsmax', 'FoxNews', 'tere_marinovic', 'GilesPalaeoLab', 'Vesemirr', 'C_Stroop', 'Mr_JamesLandis', 'mattsheffield', 'JennaEllisEsq', 'GOPChairwoman', 'ElectionWiz', 'chsbulldogs92', 'ericswalwell', 'RonFilipkowski', 'CaslerNoel', 'bellausa17', 'POTUS', 'realLizUSA', 'Blklivesmatter', 'July041776', 'NnameTrump', '2021_free', 'Keitikinz', 'thebradfordfile', 'GregAbbott_TX', 'JamesrossrJames', '_ROB_29', 'miniver', 'shadowcat_mst', 'peterme', 'gracesaldanaa', 'CPAC', 'RSBNetwork', 'SpiroAgnewGhost', 'Funky8_0', 'beingrealmac', 'MacFarlaneNews', 'TPostMillennial', 'BernardKerik', 'JoeBiden', 'KamalaHarris', 'cruadin', 'redsteeze', 'TheSpectator', 'mmpadellan', 'Davidlaz', 'TerraBrasilnot', 'SwainForSenate', 'catturd2', 'TeaPainUSA', 'FredBachman2', 'marcorubio', 'CNN', 'SwainForSenate', 'marceelias', 'Shawn_Farash', 'Out5p0ken', 'glennkirschner2', 'Greenjen46Susan', 'tedcruz', 'DonCorneliano2', 'BombshellDAILY', 'realLizUSA', '2019IBeatCancer', 'jeffpearlman', 'NjDeplorables', 'SBSmolen', 'Grump_USMC', 'SharonCoryell3', 'LevineJonathan', 'MSNBC', 'CNN', 'JennaEllisEsq', 'mtaibbi', 'ByronDonalds', 'Novafan23', 'pollygolightly', 'HopeisaBison', 'RBReich', 'MysterySolvent', 'glennkirschner2', 'bennyjohnson', 'atrupar', 'SwainForSenate', 'Greeney17595412', 'realLizUSA', 'mdeperno', 'johncardillo', 'GOPChairwoman', 'CaslerNoel', 'TeaPainUSA', 'ColumbiaBugle', 'Facebook', 'Google', 'Twitter', 'ColumbiaBugle', 'CenTexKev', 'Wolfe321', 'nypost', 'CaslerNoel', 'raysawhill', 'nytimes', 'CaslerNoel', 'PauletteParis1', 'realLizUSA', 'GOPChairwoman', 'TeaPainUSA', 'jonnasima', 'Keitikinz', 'ericgarland', 'gracesaldanaa', 'CPAC', 'RSBNetwork', 'foxnation', 'Out5p0ken', 'RepSwalwell', 'MysterySolvent', 'ImSpeaking13', 'KeithOlbermann', 'MariaBartiromo', 'thebradfordfile', 'JackPosobiec', 'CWakeman4', 'ActionTime', 'DJComrade2', 'glennkirschner2', 'NotAlexSheppard', 'LindaMi14118735', 'realpfigueiredo', 'RSBNetwork', 'politvidchannel', 'JennaEllisEsq', 'BMeiselas', 'TeaPainUSA', 'glennkirschner2', 'Chris_SactoCA', 'IBeBarb', 'mtaibbi', 'Teri_Kanefield', 'unscriptedmike', 'DailyCaller', 'ToscaAusten', 'TheLastRefuge2', 'Out5p0ken', 'glennkirschner2', 'CaslerNoel', 'AnnieGabstonH', 'prchovanec', 'goodblackdude', 'ElectionWiz', 'mandyleigh1976', 'bennyjohnson', 'CPAC', 'CaslerNoel', 'Bentell8', 'TPostMillennial', 'realLizUSA', 'kylegriffin1', 'TeaPainUSA', 'atrupar', 'JennaEllisEsq', 'FloodD17', 'IndyColo', 'DailyMail', 'realLizUSA', 'Truth_Gazette', 'CPAC', 'RonDeSantisFL', 'mikepompeo', 'DonaldJTrum', 'johncardillo', 'GOPChairwoman', 'HorrorchickNick', 'MusubiBrand', 'FluffykinsT', 'TerraBrasilnot', 'whoknew9', 'POTUS', 'Twitter', 'UnionLeader', 'Melisandre6', 'glennkirschner2', 'YouTube', 'bennyjohnson', 'TeaPainUSA', 'kelly2277', 'RSBNetwork', 'ShutUpAmanda', 'ReadingJudith', 'snarkiekimmie', 'ananavarro', 'CNN', 'kelly2277', 'prchovanec', 'RepSwalwell', 'CharlesHurt', 'SwainForSenate', 'QTAnon1', 'glennkirschner2', 'SethAbramson', 'CSinclairtv', 'OANN', 'tribelaw', 'B52Malmet', 'julie_kelly2', 'atrupar', 'CariKelemen', 'atrupar', 'Acyn', 'atrupar', 'QTAnon1', 'bennyjohnson', 'Out5p0ken', 'eldestapeweb', 'mmpadellan', 'MacFarlaneNews', 'iamstellar1', 'LizardKing_XII', 'RubenThawne', 'FallerForIt', 'angrydeathhippy', 'SwainForSenate', 'JoyAnnReid', 'Chicago1Ray', 'SethAbramson', 'SpiroAgnewGhost', 'catturd2', 'hasanthehun', 'atrupar', 'MonaSalama_', 'GuntherEagleman', 'atrupar', 'DeanObeidallah', 'VelshiMSNBC', 'TristanSnell', 'GregAbbott_TX', 'Newsmax', 'FoxNews', 'tere_marinovic', 'GilesPalaeoLab', 'Vesemirr', 'C_Stroop', 'Mr_JamesLandis', 'mattsheffield', 'JennaEllisEsq', 'GOPChairwoman', 'ElectionWiz', 'chsbulldogs92', 'ericswalwell', 'RonFilipkowski', 'CaslerNoel', 'bellausa17', 'POTUS', 'realLizUSA', 'Blklivesmatter', 'July041776', 'NnameTrump', '2021_free', 'Keitikinz', 'thebradfordfile', 'GregAbbott_TX', 'JamesrossrJames', '_ROB_29', 'miniver', 'shadowcat_mst', 'peterme', 'gracesaldanaa', 'CPAC', 'RSBNetwork', 'SpiroAgnewGhost', 'Funky8_0', 'beingrealmac', 'MacFarlaneNews', 'TPostMillennial', 'BernardKerik', 'JoeBiden', 'KamalaHarris', 'cruadin', 'redsteeze', 'TheSpectator', 'mmpadellan', 'Davidlaz', 'TerraBrasilnot', 'SwainForSenate', 'catturd2', 'TeaPainUSA', 'FredBachman2', 'marcorubio', 'CNN', 'SwainForSenate', 'marceelias', 'Shawn_Farash', 'Out5p0ken', 'glennkirschner2', 'Greenjen46Susan', 'tedcruz', 'DonCorneliano2', 'BombshellDAILY', 'realLizUSA', '2019IBeatCancer', 'jeffpearlman', 'NjDeplorables', 'SBSmolen', 'Grump_USMC', 'SharonCoryell3', 'LevineJonathan', 'MSNBC', 'CNN', 'JennaEllisEsq', 'mtaibbi', 'ByronDonalds', 'Novafan23', 'pollygolightly', 'HopeisaBison', 'RBReich', 'MysterySolvent', 'glennkirschner2', 'bennyjohnson', 'atrupar', 'SwainForSenate', 'Greeney17595412', 'realLizUSA', 'mdeperno', 'johncardillo', 'GOPChairwoman', 'CaslerNoel', 'TeaPainUSA', 'ColumbiaBugle', 'Facebook', 'Google', 'Twitter', 'ColumbiaBugle', 'CenTexKev', 'Wolfe321', 'nypost', 'CaslerNoel', 'raysawhill', 'nytimes', 'CaslerNoel', 'PauletteParis1', 'realLizUSA', 'GOPChairwoman', 'TeaPainUSA', 'jonnasima', 'Keitikinz', 'ericgarland', 'gracesaldanaa', 'CPAC', 'RSBNetwork', 'foxnation', 'Out5p0ken', 'RepSwalwell', 'MysterySolvent', 'ImSpeaking13', 'KeithOlbermann', 'MariaBartiromo', 'thebradfordfile', 'JackPosobiec', 'CWakeman4', 'ActionTime', 'DJComrade2', 'glennkirschner2', 'NotAlexSheppard', 'LindaMi14118735', 'realpfigueiredo', 'RSBNetwork', 'politvidchannel', 'JennaEllisEsq', 'BMeiselas', 'TeaPainUSA', 'glennkirschner2', 'Chris_SactoCA', 'IBeBarb', 'mtaibbi', 'Teri_Kanefield', 'unscriptedmike', 'DailyCaller', 'ToscaAusten', 'TheLastRefuge2', 'Out5p0ken', 'glennkirschner2', 'CaslerNoel', 'AnnieGabstonH', 'prchovanec', 'goodblackdude', 'ElectionWiz', 'mandyleigh1976', 'bennyjohnson', 'CPAC', 'CaslerNoel', 'Bentell8', 'TPostMillennial', 'realLizUSA', 'kylegriffin1', 'TeaPainUSA', 'atrupar', 'JennaEllisEsq', 'FloodD17', 'IndyColo', 'DailyMail', 'realLizUSA', 'Truth_Gazette', 'CPAC', 'RonDeSantisFL', 'mikepompeo', 'DonaldJTrum', 'johncardillo', 'GOPChairwoman', 'HorrorchickNick', 'MusubiBrand', 'FluffykinsT', 'TerraBrasilnot', 'whoknew9', 'POTUS', 'Twitter', 'UnionLeader', 'Melisandre6', 'glennkirschner2', 'YouTube', 'bennyjohnson', 'TeaPainUSA', 'kelly2277', 'RSBNetwork', 'ShutUpAmanda', 'ReadingJudith', 'snarkiekimmie', 'ananavarro', 'CNN', 'kelly2277', 'prchovanec', 'RepSwalwell', 'CharlesHurt', 'SwainForSenate', 'QTAnon1', 'glennkirschner2', 'SethAbramson', 'CSinclairtv', 'OANN', 'tribelaw', 'B52Malmet', 'julie_kelly2', 'atrupar', 'CariKelemen', 'atrupar', 'Acyn', 'atrupar', 'QTAnon1', 'bennyjohnson', 'Out5p0ken', 'eldestapeweb', 'mmpadellan', 'MacFarlaneNews', 'iamstellar1', 'LizardKing_XII', 'RubenThawne', 'FallerForIt', 'angrydeathhippy', 'SwainForSenate', 'JoyAnnReid', 'Chicago1Ray', 'SethAbramson', 'SpiroAgnewGhost', 'catturd2', 'hasanthehun', 'atrupar', 'MonaSalama_', 'GuntherEagleman', 'atrupar', 'DeanObeidallah', 'VelshiMSNBC', 'TristanSnell', 'GregAbbott_TX', 'Newsmax', 'FoxNews', 'tere_marinovic', 'GilesPalaeoLab', 'Vesemirr', 'C_Stroop', 'Mr_JamesLandis', 'mattsheffield', 'JennaEllisEsq', 'GOPChairwoman', 'ElectionWiz', 'chsbulldogs92', 'ericswalwell', 'RonFilipkowski', 'CaslerNoel', 'bellausa17', 'POTUS', 'realLizUSA', 'Blklivesmatter', 'July041776', 'NnameTrump', '2021_free', 'Keitikinz', 'thebradfordfile', 'GregAbbott_TX', 'JamesrossrJames', '_ROB_29', 'miniver', 'shadowcat_mst', 'peterme', 'gracesaldanaa', 'CPAC', 'RSBNetwork', 'SpiroAgnewGhost', 'Funky8_0', 'beingrealmac', 'MacFarlaneNews', 'TPostMillennial', 'BernardKerik', 'JoeBiden', 'KamalaHarris', 'cruadin', 'redsteeze', 'TheSpectator', 'mmpadellan', 'Davidlaz', 'TerraBrasilnot', 'SwainForSenate', 'catturd2', 'TeaPainUSA', 'FredBachman2', 'marcorubio', 'CNN', 'SwainForSenate', 'marceelias', 'Shawn_Farash', 'Out5p0ken', 'glennkirschner2', 'Greenjen46Susan', 'tedcruz', 'DonCorneliano2', 'BombshellDAILY', 'realLizUSA', '2019IBeatCancer', 'jeffpearlman', 'NjDeplorables', 'SBSmolen', 'Grump_USMC', 'SharonCoryell3', 'LevineJonathan', 'MSNBC', 'CNN', 'JennaEllisEsq', 'mtaibbi', 'ByronDonalds', 'Novafan23', 'pollygolightly', 'HopeisaBison', 'RBReich', 'MysterySolvent', 'glennkirschner2', 'bennyjohnson', 'atrupar', 'SwainForSenate', 'Greeney17595412', 'realLizUSA', 'mdeperno', 'johncardillo', 'GOPChairwoman', 'CaslerNoel', 'TeaPainUSA', 'ColumbiaBugle', 'Facebook', 'Google', 'Twitter', 'ColumbiaBugle', 'CenTexKev', 'Wolfe321', 'nypost', 'CaslerNoel', 'raysawhill', 'nytimes', 'CaslerNoel', 'PauletteParis1', 'realLizUSA', 'GOPChairwoman', 'TeaPainUSA', 'jonnasima', 'Keitikinz', 'ericgarland', 'gracesaldanaa', 'CPAC', 'RSBNetwork', 'foxnation', 'Out5p0ken', 'RepSwalwell', 'MysterySolvent', 'ImSpeaking13', 'KeithOlbermann', 'MariaBartiromo', 'thebradfordfile', 'JackPosobiec', 'CWakeman4', 'ActionTime', 'DJComrade2', 'glennkirschner2', 'NotAlexSheppard', 'LindaMi14118735', 'realpfigueiredo', 'RSBNetwork', 'politvidchannel', 'JennaEllisEsq', 'BMeiselas', 'TeaPainUSA', 'glennkirschner2', 'Chris_SactoCA', 'IBeBarb', 'mtaibbi', 'Teri_Kanefield', 'unscriptedmike', 'DailyCaller', 'ToscaAusten', 'TheLastRefuge2', 'Out5p0ken', 'glennkirschner2', 'CaslerNoel', 'AnnieGabstonH', 'prchovanec', 'goodblackdude', 'ElectionWiz', 'mandyleigh1976', 'bennyjohnson', 'CPAC', 'CaslerNoel', 'Bentell8', 'TPostMillennial', 'realLizUSA', 'kylegriffin1', 'TeaPainUSA', 'atrupar', 'JennaEllisEsq', 'FloodD17', 'IndyColo', 'DailyMail', 'realLizUSA', 'Truth_Gazette', 'CPAC', 'RonDeSantisFL', 'mikepompeo', 'DonaldJTrum', 'johncardillo', 'GOPChairwoman', 'HorrorchickNick', 'MusubiBrand', 'FluffykinsT', 'TerraBrasilnot', 'whoknew9', 'POTUS', 'Twitter', 'UnionLeader', 'Melisandre6', 'glennkirschner2', 'YouTube', 'bennyjohnson', 'TeaPainUSA', 'kelly2277', 'RSBNetwork', 'ShutUpAmanda', 'ReadingJudith', 'snarkiekimmie', 'ananavarro', 'CNN', 'kelly2277', 'prchovanec', 'RepSwalwell', 'CharlesHurt', 'SwainForSenate', 'QTAnon1', 'glennkirschner2', 'SethAbramson', 'CSinclairtv', 'OANN', 'tribelaw', 'B52Malmet', 'julie_kelly2', 'atrupar', 'CariKelemen', 'atrupar', 'Acyn', 'atrupar', 'QTAnon1', 'bennyjohnson', 'Out5p0ken', 'eldestapeweb', 'mmpadellan', 'MacFarlaneNews', 'iamstellar1', 'LizardKing_XII', 'RubenThawne', 'FallerForIt', 'angrydeathhippy', 'SwainForSenate', 'JoyAnnReid', 'Chicago1Ray', 'SethAbramson', 'SpiroAgnewGhost', 'catturd2', 'hasanthehun', 'atrupar', 'MonaSalama_', 'GuntherEagleman', 'atrupar', 'DeanObeidallah', 'VelshiMSNBC', 'TristanSnell', 'GregAbbott_TX', 'Newsmax', 'FoxNews', 'tere_marinovic', 'GilesPalaeoLab', 'Vesemirr', 'C_Stroop', 'Mr_JamesLandis', 'mattsheffield', 'JennaEllisEsq', 'GOPChairwoman', 'ElectionWiz', 'chsbulldogs92', 'ericswalwell', 'RonFilipkowski', 'CaslerNoel', 'bellausa17', 'POTUS', 'realLizUSA', 'Blklivesmatter', 'July041776', 'NnameTrump', '2021_free', 'Keitikinz', 'thebradfordfile', 'GregAbbott_TX', 'JamesrossrJames', '_ROB_29', 'miniver', 'shadowcat_mst', 'peterme', 'gracesaldanaa', 'CPAC', 'RSBNetwork', 'SpiroAgnewGhost', 'Funky8_0', 'beingrealmac', 'MacFarlaneNews', 'TPostMillennial', 'BernardKerik', 'JoeBiden', 'KamalaHarris', 'cruadin', 'redsteeze', 'TheSpectator', 'mmpadellan', 'Davidlaz', 'TerraBrasilnot', 'SwainForSenate', 'catturd2', 'TeaPainUSA', 'FredBachman2', 'marcorubio', 'CNN', 'SwainForSenate', 'marceelias', 'Shawn_Farash', 'Out5p0ken', 'glennkirschner2', 'Greenjen46Susan', 'tedcruz', 'DonCorneliano2', 'BombshellDAILY', 'realLizUSA', '2019IBeatCancer', 'jeffpearlman', 'NjDeplorables', 'SBSmolen', 'Grump_USMC', 'SharonCoryell3', 'LevineJonathan', 'MSNBC', 'CNN', 'JennaEllisEsq', 'mtaibbi', 'ByronDonalds', 'Novafan23', 'pollygolightly', 'HopeisaBison', 'RBReich', 'MysterySolvent', 'glennkirschner2', 'bennyjohnson', 'atrupar', 'SwainForSenate', 'Greeney17595412', 'realLizUSA', 'mdeperno', 'johncardillo', 'GOPChairwoman', 'CaslerNoel', 'TeaPainUSA', 'ColumbiaBugle', 'Facebook', 'Google', 'Twitter', 'ColumbiaBugle', 'CenTexKev', 'Wolfe321', 'nypost', 'CaslerNoel', 'raysawhill', 'nytimes', 'CaslerNoel', 'PauletteParis1', 'realLizUSA', 'GOPChairwoman', 'TeaPainUSA', 'jonnasima', 'Keitikinz', 'ericgarland', 'gracesaldanaa', 'CPAC', 'RSBNetwork', 'foxnation', 'Out5p0ken', 'RepSwalwell', 'MysterySolvent', 'ImSpeaking13', 'KeithOlbermann', 'MariaBartiromo', 'thebradfordfile', 'JackPosobiec', 'CWakeman4', 'ActionTime', 'DJComrade2', 'glennkirschner2', 'NotAlexSheppard', 'LindaMi14118735', 'realpfigueiredo', 'RSBNetwork', 'politvidchannel', 'JennaEllisEsq', 'BMeiselas', 'TeaPainUSA', 'glennkirschner2', 'Chris_SactoCA', 'IBeBarb', 'mtaibbi', 'Teri_Kanefield', 'unscriptedmike', 'DailyCaller', 'ToscaAusten', 'TheLastRefuge2', 'Out5p0ken', 'glennkirschner2', 'CaslerNoel', 'AnnieGabstonH', 'prchovanec', 'goodblackdude', 'ElectionWiz', 'mandyleigh1976', 'bennyjohnson', 'CPAC', 'CaslerNoel', 'Bentell8', 'TPostMillennial', 'realLizUSA', 'kylegriffin1', 'TeaPainUSA', 'atrupar', 'JennaEllisEsq', 'FloodD17', 'IndyColo', 'DailyMail', 'realLizUSA', 'Truth_Gazette', 'CPAC', 'RonDeSantisFL', 'mikepompeo', 'DonaldJTrum', 'johncardillo', 'GOPChairwoman', 'HorrorchickNick', 'MusubiBrand', 'FluffykinsT', 'TerraBrasilnot', 'whoknew9', 'POTUS', 'Twitter', 'UnionLeader', 'Melisandre6', 'glennkirschner2', 'YouTube', 'bennyjohnson', 'TeaPainUSA', 'kelly2277', 'RSBNetwork', 'ShutUpAmanda', 'ReadingJudith', 'snarkiekimmie', 'ananavarro', 'CNN', 'kelly2277', 'prchovanec', 'RepSwalwell', 'CharlesHurt', 'SwainForSenate', 'QTAnon1', 'glennkirschner2', 'SethAbramson', 'CSinclairtv', 'OANN', 'tribelaw', 'B52Malmet', 'julie_kelly2', 'atrupar', 'CariKelemen', 'atrupar', 'Acyn', 'atrupar', 'QTAnon1', 'bennyjohnson', 'Out5p0ken', 'eldestapeweb', 'mmpadellan', 'MacFarlaneNews', 'iamstellar1', 'LizardKing_XII', 'RubenThawne', 'FallerForIt', 'angrydeathhippy', 'SwainForSenate', 'JoyAnnReid', 'Chicago1Ray', 'SethAbramson', 'SpiroAgnewGhost', 'catturd2', 'hasanthehun', 'atrupar', 'MonaSalama_', 'GuntherEagleman', 'atrupar', 'DeanObeidallah', 'VelshiMSNBC', 'TristanSnell', 'GregAbbott_TX', 'Newsmax', 'FoxNews', 'tere_marinovic', 'GilesPalaeoLab', 'Vesemirr', 'C_Stroop', 'Mr_JamesLandis', 'mattsheffield', 'JennaEllisEsq', 'GOPChairwoman', 'ElectionWiz', 'chsbulldogs92', 'ericswalwell', 'RonFilipkowski', 'CaslerNoel', 'bellausa17', 'POTUS', 'realLizUSA', 'Blklivesmatter', 'July041776', 'NnameTrump', '2021_free', 'Keitikinz', 'thebradfordfile', 'GregAbbott_TX', 'JamesrossrJames', '_ROB_29', 'miniver', 'shadowcat_mst', 'peterme', 'gracesaldanaa', 'CPAC', 'RSBNetwork', 'SpiroAgnewGhost', 'Funky8_0', 'beingrealmac', 'MacFarlaneNews', 'TPostMillennial', 'BernardKerik', 'JoeBiden', 'KamalaHarris', 'cruadin', 'redsteeze', 'TheSpectator', 'mmpadellan', 'Davidlaz', 'TerraBrasilnot', 'SwainForSenate', 'catturd2', 'TeaPainUSA', 'FredBachman2', 'marcorubio', 'CNN', 'SwainForSenate', 'marceelias', 'Shawn_Farash', 'Out5p0ken', 'glennkirschner2', 'Greenjen46Susan', 'tedcruz', 'DonCorneliano2', 'BombshellDAILY', 'realLizUSA', '2019IBeatCancer', 'jeffpearlman', 'NjDeplorables', 'SBSmolen', 'Grump_USMC', 'SharonCoryell3', 'LevineJonathan', 'MSNBC', 'CNN', 'JennaEllisEsq', 'mtaibbi', 'ByronDonalds', 'Novafan23', 'pollygolightly', 'HopeisaBison', 'RBReich', 'MysterySolvent', 'glennkirschner2', 'bennyjohnson', 'atrupar', 'SwainForSenate', 'Greeney17595412', 'realLizUSA', 'mdeperno', 'johncardillo', 'GOPChairwoman', 'CaslerNoel', 'TeaPainUSA', 'ColumbiaBugle', 'Facebook', 'Google', 'Twitter', 'ColumbiaBugle', 'CenTexKev', 'Wolfe321', 'nypost', 'CaslerNoel', 'raysawhill', 'nytimes', 'CaslerNoel', 'PauletteParis1', 'realLizUSA', 'GOPChairwoman', 'TeaPainUSA', 'jonnasima', 'Keitikinz', 'ericgarland', 'gracesaldanaa', 'CPAC', 'RSBNetwork', 'foxnation', 'Out5p0ken', 'RepSwalwell', 'MysterySolvent', 'ImSpeaking13', 'KeithOlbermann', 'MariaBartiromo', 'thebradfordfile', 'JackPosobiec', 'CWakeman4', 'ActionTime', 'DJComrade2', 'glennkirschner2', 'NotAlexSheppard', 'LindaMi14118735', 'realpfigueiredo', 'RSBNetwork', 'politvidchannel', 'JennaEllisEsq', 'BMeiselas', 'TeaPainUSA', 'glennkirschner2', 'Chris_SactoCA', 'IBeBarb', 'mtaibbi', 'Teri_Kanefield', 'unscriptedmike', 'DailyCaller', 'ToscaAusten', 'TheLastRefuge2', 'Out5p0ken', 'glennkirschner2', 'CaslerNoel', 'AnnieGabstonH', 'prchovanec', 'goodblackdude', 'ElectionWiz', 'mandyleigh1976', 'bennyjohnson', 'CPAC', 'CaslerNoel', 'Bentell8', 'TPostMillennial', 'realLizUSA', 'kylegriffin1', 'TeaPainUSA', 'atrupar', 'JennaEllisEsq', 'FloodD17', 'IndyColo', 'DailyMail', 'realLizUSA', 'Truth_Gazette', 'CPAC', 'RonDeSantisFL', 'mikepompeo', 'DonaldJTrum', 'johncardillo', 'GOPChairwoman', 'HorrorchickNick', 'MusubiBrand', 'FluffykinsT', 'TerraBrasilnot', 'whoknew9', 'POTUS', 'Twitter', 'UnionLeader', 'Melisandre6', 'glennkirschner2', 'YouTube', 'bennyjohnson', 'TeaPainUSA', 'kelly2277', 'RSBNetwork', 'ShutUpAmanda', 'ReadingJudith', 'snarkiekimmie', 'ananavarro', 'CNN', 'kelly2277', 'prchovanec', 'RepSwalwell', 'CharlesHurt', 'SwainForSenate', 'QTAnon1', 'glennkirschner2', 'SethAbramson', 'CSinclairtv', 'OANN', 'tribelaw', 'B52Malmet', 'julie_kelly2', 'atrupar', 'CariKelemen', 'atrupar', 'Acyn', 'atrupar', 'QTAnon1', 'bennyjohnson', 'Out5p0ken', 'eldestapeweb', 'mmpadellan', 'MacFarlaneNews', 'iamstellar1', 'LizardKing_XII', 'RubenThawne', 'FallerForIt', 'angrydeathhippy', 'SwainForSenate', 'JoyAnnReid', 'Chicago1Ray', 'SethAbramson', 'SpiroAgnewGhost', 'catturd2', 'hasanthehun', 'atrupar', 'MonaSalama_', 'GuntherEagleman', 'atrupar', 'DeanObeidallah', 'VelshiMSNBC', 'TristanSnell', 'GregAbbott_TX', 'Newsmax', 'FoxNews', 'tere_marinovic', 'GilesPalaeoLab', 'Vesemirr', 'C_Stroop', 'Mr_JamesLandis', 'mattsheffield', 'JennaEllisEsq', 'GOPChairwoman', 'ElectionWiz', 'chsbulldogs92', 'ericswalwell', 'RonFilipkowski', 'CaslerNoel', 'bellausa17', 'POTUS', 'realLizUSA', 'Blklivesmatter', 'July041776', 'NnameTrump', '2021_free', 'Keitikinz', 'thebradfordfile', 'GregAbbott_TX', 'JamesrossrJames', '_ROB_29', 'miniver', 'shadowcat_mst', 'peterme', 'gracesaldanaa', 'CPAC', 'RSBNetwork', 'SpiroAgnewGhost', 'Funky8_0', 'beingrealmac', 'MacFarlaneNews', 'TPostMillennial', 'BernardKerik', 'JoeBiden', 'KamalaHarris', 'cruadin', 'redsteeze', 'TheSpectator', 'mmpadellan', 'Davidlaz', 'TerraBrasilnot', 'SwainForSenate', 'catturd2', 'TeaPainUSA', 'FredBachman2', 'marcorubio', 'CNN', 'SwainForSenate', 'marceelias', 'Shawn_Farash', 'Out5p0ken', 'glennkirschner2', 'Greenjen46Susan', 'tedcruz', 'DonCorneliano2', 'BombshellDAILY', 'realLizUSA', '2019IBeatCancer', 'jeffpearlman', 'NjDeplorables', 'SBSmolen', 'Grump_USMC', 'SharonCoryell3', 'LevineJonathan', 'MSNBC', 'CNN', 'JennaEllisEsq', 'mtaibbi', 'ByronDonalds', 'Novafan23', 'pollygolightly', 'HopeisaBison', 'RBReich', 'MysterySolvent', 'glennkirschner2', 'bennyjohnson', 'atrupar', 'SwainForSenate', 'Greeney17595412', 'realLizUSA', 'mdeperno', 'johncardillo', 'GOPChairwoman', 'CaslerNoel', 'TeaPainUSA', 'ColumbiaBugle', 'Facebook', 'Google', 'Twitter', 'ColumbiaBugle', 'CenTexKev', 'Wolfe321', 'nypost', 'CaslerNoel', 'raysawhill', 'nytimes', 'CaslerNoel', 'PauletteParis1', 'realLizUSA', 'GOPChairwoman', 'TeaPainUSA', 'jonnasima', 'Keitikinz', 'ericgarland', 'gracesaldanaa', 'CPAC', 'RSBNetwork', 'foxnation', 'Out5p0ken', 'RepSwalwell', 'MysterySolvent', 'ImSpeaking13', 'KeithOlbermann', 'MariaBartiromo', 'thebradfordfile', 'JackPosobiec', 'CWakeman4', 'ActionTime', 'DJComrade2', 'glennkirschner2', 'NotAlexSheppard', 'LindaMi14118735', 'realpfigueiredo', 'RSBNetwork', 'politvidchannel', 'JennaEllisEsq', 'BMeiselas', 'TeaPainUSA', 'glennkirschner2', 'Chris_SactoCA', 'IBeBarb', 'mtaibbi', 'Teri_Kanefield', 'unscriptedmike', 'DailyCaller', 'ToscaAusten', 'TheLastRefuge2', 'Out5p0ken', 'glennkirschner2', 'CaslerNoel', 'AnnieGabstonH', 'prchovanec', 'goodblackdude', 'ElectionWiz', 'mandyleigh1976', 'bennyjohnson', 'CPAC', 'CaslerNoel', 'Bentell8', 'TPostMillennial', 'realLizUSA', 'kylegriffin1', 'TeaPainUSA', 'atrupar', 'JennaEllisEsq', 'FloodD17', 'IndyColo', 'DailyMail', 'realLizUSA', 'Truth_Gazette', 'CPAC', 'RonDeSantisFL', 'mikepompeo', 'DonaldJTrum', 'johncardillo', 'GOPChairwoman', 'HorrorchickNick', 'MusubiBrand', 'FluffykinsT', 'TerraBrasilnot', 'whoknew9', 'POTUS', 'Twitter', 'UnionLeader', 'Melisandre6', 'glennkirschner2', 'YouTube', 'bennyjohnson', 'TeaPainUSA', 'kelly2277', 'RSBNetwork', 'ShutUpAmanda', 'ReadingJudith', 'snarkiekimmie', 'ananavarro', 'CNN', 'kelly2277', 'prchovanec', 'RepSwalwell', 'CharlesHurt', 'SwainForSenate', 'QTAnon1', 'glennkirschner2', 'SethAbramson', 'CSinclairtv', 'OANN', 'tribelaw', 'B52Malmet', 'julie_kelly2', 'atrupar', 'CariKelemen', 'atrupar', 'Acyn', 'atrupar', 'QTAnon1', 'bennyjohnson', 'Out5p0ken', 'eldestapeweb', 'mmpadellan', 'MacFarlaneNews', 'iamstellar1', 'LizardKing_XII', 'RubenThawne', 'FallerForIt', 'angrydeathhippy', 'SwainForSenate', 'JoyAnnReid', 'Chicago1Ray', 'SethAbramson', 'SpiroAgnewGhost', 'catturd2', 'hasanthehun', 'atrupar', 'MonaSalama_', 'GuntherEagleman', 'atrupar', 'DeanObeidallah', 'VelshiMSNBC', 'TristanSnell', 'GregAbbott_TX', 'Newsmax', 'FoxNews', 'tere_marinovic', 'GilesPalaeoLab', 'Vesemirr', 'C_Stroop', 'Mr_JamesLandis', 'mattsheffield', 'JennaEllisEsq', 'GOPChairwoman', 'ElectionWiz', 'chsbulldogs92', 'ericswalwell', 'RonFilipkowski', 'CaslerNoel', 'bellausa17', 'POTUS', 'realLizUSA', 'Blklivesmatter', 'July041776', 'NnameTrump', '2021_free', 'Keitikinz', 'thebradfordfile', 'GregAbbott_TX', 'JamesrossrJames', '_ROB_29', 'miniver', 'shadowcat_mst', 'peterme', 'gracesaldanaa', 'CPAC', 'RSBNetwork', 'SpiroAgnewGhost', 'Funky8_0', 'beingrealmac', 'MacFarlaneNews', 'TPostMillennial', 'BernardKerik', 'JoeBiden', 'KamalaHarris', 'cruadin', 'redsteeze', 'TheSpectator', 'mmpadellan', 'Davidlaz', 'TerraBrasilnot', 'SwainForSenate', 'catturd2', 'TeaPainUSA', 'FredBachman2', 'marcorubio', 'CNN', 'SwainForSenate', 'marceelias', 'Shawn_Farash', 'Out5p0ken', 'glennkirschner2', 'Greenjen46Susan', 'tedcruz', 'DonCorneliano2', 'BombshellDAILY', 'realLizUSA', '2019IBeatCancer', 'jeffpearlman', 'NjDeplorables', 'SBSmolen', 'Grump_USMC', 'SharonCoryell3', 'LevineJonathan', 'MSNBC', 'CNN', 'JennaEllisEsq', 'mtaibbi', 'ByronDonalds', 'Novafan23', 'pollygolightly', 'HopeisaBison', 'RBReich', 'MysterySolvent', 'glennkirschner2', 'bennyjohnson', 'atrupar', 'SwainForSenate', 'Greeney17595412', 'realLizUSA', 'mdeperno', 'johncardillo', 'GOPChairwoman', 'CaslerNoel', 'TeaPainUSA', 'ColumbiaBugle', 'Facebook', 'Google', 'Twitter', 'ColumbiaBugle', 'CenTexKev', 'Wolfe321', 'nypost', 'CaslerNoel', 'raysawhill', 'nytimes', 'CaslerNoel', 'PauletteParis1', 'realLizUSA', 'GOPChairwoman', 'TeaPainUSA', 'jonnasima', 'Keitikinz', 'ericgarland', 'gracesaldanaa', 'CPAC', 'RSBNetwork', 'foxnation', 'Out5p0ken', 'RepSwalwell', 'MysterySolvent', 'ImSpeaking13', 'KeithOlbermann', 'MariaBartiromo', 'thebradfordfile', 'JackPosobiec', 'CWakeman4', 'ActionTime', 'DJComrade2', 'glennkirschner2', 'NotAlexSheppard', 'LindaMi14118735', 'realpfigueiredo', 'RSBNetwork', 'politvidchannel', 'JennaEllisEsq', 'BMeiselas', 'TeaPainUSA', 'glennkirschner2', 'Chris_SactoCA', 'IBeBarb', 'mtaibbi', 'Teri_Kanefield', 'unscriptedmike', 'DailyCaller', 'ToscaAusten', 'TheLastRefuge2', 'Out5p0ken', 'glennkirschner2', 'CaslerNoel', 'AnnieGabstonH', 'prchovanec', 'goodblackdude', 'ElectionWiz', 'mandyleigh1976', 'bennyjohnson', 'CPAC', 'CaslerNoel', 'Bentell8', 'TPostMillennial', 'realLizUSA', 'kylegriffin1', 'TeaPainUSA', 'atrupar', 'JennaEllisEsq', 'FloodD17', 'IndyColo', 'DailyMail', 'realLizUSA', 'Truth_Gazette', 'CPAC', 'RonDeSantisFL', 'mikepompeo', 'DonaldJTrum', 'johncardillo', 'GOPChairwoman', 'HorrorchickNick', 'MusubiBrand', 'FluffykinsT', 'TerraBrasilnot', 'whoknew9', 'POTUS', 'Twitter', 'UnionLeader', 'Melisandre6', 'glennkirschner2', 'YouTube', 'bennyjohnson', 'TeaPainUSA', 'kelly2277', 'RSBNetwork', 'ShutUpAmanda', 'ReadingJudith', 'snarkiekimmie', 'ananavarro', 'CNN', 'kelly2277', 'prchovanec', 'RepSwalwell', 'CharlesHurt', 'SwainForSenate', 'QTAnon1', 'glennkirschner2', 'SethAbramson', 'CSinclairtv', 'OANN', 'tribelaw', 'B52Malmet', 'julie_kelly2', 'atrupar', 'CariKelemen', 'atrupar', 'Acyn', 'atrupar', 'QTAnon1', 'bennyjohnson', 'Out5p0ken', 'eldestapeweb', 'mmpadellan', 'MacFarlaneNews', 'iamstellar1', 'LizardKing_XII', 'RubenThawne', 'FallerForIt', 'angrydeathhippy', 'SwainForSenate', 'JoyAnnReid', 'Chicago1Ray', 'SethAbramson', 'SpiroAgnewGhost', 'catturd2', 'hasanthehun', 'atrupar', 'MonaSalama_', 'GuntherEagleman', 'atrupar', 'DeanObeidallah', 'VelshiMSNBC', 'TristanSnell', 'GregAbbott_TX', 'Newsmax', 'FoxNews', 'tere_marinovic', 'GilesPalaeoLab', 'Vesemirr', 'C_Stroop', 'Mr_JamesLandis', 'mattsheffield', 'JennaEllisEsq', 'GOPChairwoman', 'ElectionWiz', 'chsbulldogs92', 'ericswalwell', 'RonFilipkowski']\n"
          ]
        }
      ],
      "source": [
        "# combine mention in a single list\n",
        "mentions = df['mentions']\n",
        "mentions_combined=[]\n",
        "for mention in mentions:\n",
        "  if mention != None:\n",
        "    mentions_combined.extend(mention)\n",
        "\n",
        "print(mentions_cobmined)"
      ]
    },
    {
      "cell_type": "markdown",
      "source": [
        "Explanation of the above code:\n",
        "\n",
        "- The first line mentions = df['mentions'] retrieves the 'mentions' column from the DataFrame and assigns it to the variable mentions.\n",
        "\n",
        "- The second line mentions_combined=[] creates an empty list called mentions_combined that will be used to store all of the mentions.\n",
        "\n",
        "- The following lines define a for loop that iterates over each element of the mentions variable.\n",
        "\n",
        "- The first line within the for loop if mention != None: checks if the current element (mention) is not None\n",
        "\n",
        "- The second line within the for loop mentions_combined.extend(mention) uses the extend() method to add all elements of the current mention (which is a list) to the mentions_combined list.\n",
        "\n",
        "- This code will combine all the lists of mentions into a single list and store it in the mentions_combined variable.\n",
        "\n",
        "- It's important to note that the extend() method is used to add elements of a list to another list, whereas the append() method would add the list as a single element to the other list."
      ],
      "metadata": {
        "id": "SvxndbxNzQni"
      }
    },
    {
      "cell_type": "code",
      "source": [
        "combined_list1 = []\n",
        "combined_list2 = []\n",
        "list1 = [1, 2, 3]\n",
        "list2 = [4, 5, 6]\n",
        "\n",
        "# Using the append() method\n",
        "combined_list1.append(list1)\n",
        "combined_list1.append(list2)\n",
        "print(combined_list1)\n",
        "\n",
        "# Using the append() method\n",
        "combined_list2.extend(list1)\n",
        "combined_list2.extend(list2)\n",
        "print(combined_list2)"
      ],
      "metadata": {
        "colab": {
          "base_uri": "https://localhost:8080/"
        },
        "id": "QaZyXnNlzvF6",
        "outputId": "e5360222-da26-47b1-e0f5-be484b90f34c"
      },
      "execution_count": null,
      "outputs": [
        {
          "output_type": "stream",
          "name": "stdout",
          "text": [
            "[[1, 2, 3], [4, 5, 6]]\n",
            "[1, 2, 3, 4, 5, 6]\n"
          ]
        }
      ]
    },
    {
      "cell_type": "markdown",
      "source": [
        "Explanation of the above code: \n",
        "- the first block of code uses the append() method to add the list1 and list2 as individual elements to combined_list1.\n",
        "- the second block of code uses the extend() method to add all the elements of list1 and list2 to combined_list2."
      ],
      "metadata": {
        "id": "sGF43zyU00Iy"
      }
    },
    {
      "cell_type": "code",
      "execution_count": null,
      "metadata": {
        "id": "xRi9z_17kG47"
      },
      "outputs": [],
      "source": [
        "# use Counter to get top mentions\n",
        "top_mentions = Counter(mentions_combined).most_common(10)"
      ]
    },
    {
      "cell_type": "markdown",
      "source": [
        "Explanation of the above code: \n",
        "- This code is using the Counter class from the Python collections module to count the occurrences of each element in the list mentions_combined.\n",
        "\n",
        "- Then it is calling the most_common(n) method on the resulting Counter object, which returns a list of the n most common elements and their counts. In this case n is set to 10, so the most_common(10) method will return a list of the 10 most common elements and their counts."
      ],
      "metadata": {
        "id": "Vff37BIw1Nj3"
      }
    },
    {
      "cell_type": "code",
      "execution_count": null,
      "metadata": {
        "colab": {
          "base_uri": "https://localhost:8080/"
        },
        "id": "AZIzPSr6kPV4",
        "outputId": "2afdbf2b-aed1-4ec0-eb45-ede9c4fd7e0e"
      },
      "outputs": [
        {
          "output_type": "execute_result",
          "data": {
            "text/plain": [
              "[('glennkirschner2', 7),\n",
              " ('atrupar', 7),\n",
              " ('CaslerNoel', 6),\n",
              " ('realLizUSA', 6),\n",
              " ('TeaPainUSA', 6),\n",
              " ('SwainForSenate', 5),\n",
              " ('CPAC', 4),\n",
              " ('RSBNetwork', 4),\n",
              " ('Out5p0ken', 4),\n",
              " ('JennaEllisEsq', 4)]"
            ]
          },
          "metadata": {},
          "execution_count": 59
        }
      ],
      "source": [
        "# print top mentions\n",
        "top_mentions"
      ]
    },
    {
      "cell_type": "markdown",
      "source": [
        "## Improved version of mention pattern\n",
        "\n",
        "Let us reevaluate our mention_pattern"
      ],
      "metadata": {
        "id": "TsdxVD1Ky4Hu"
      }
    },
    {
      "cell_type": "code",
      "source": [
        "# test this pattern\n",
        "text1 = 'RT @kelly2277: 🔥Trump’s Incompetent Team Waited For Wisconsin Election Updates. abc@gmail.com  @kelly-2277 @kelly_2277 @kel @kellyhoward_12345678'"
      ],
      "metadata": {
        "id": "A6piuNmFxzx2"
      },
      "execution_count": null,
      "outputs": []
    },
    {
      "cell_type": "code",
      "source": [
        "re.findall(mention_pattern_1, text1)"
      ],
      "metadata": {
        "colab": {
          "base_uri": "https://localhost:8080/"
        },
        "id": "BgSDxtVuyBog",
        "outputId": "3cbe5ab6-3c58-4e4c-d376-50c5515fbb60"
      },
      "execution_count": null,
      "outputs": [
        {
          "output_type": "execute_result",
          "data": {
            "text/plain": [
              "['kelly2277',\n",
              " 'gmail',\n",
              " 'kelly-2277',\n",
              " 'kelly_2277',\n",
              " 'kel',\n",
              " 'kellyhoward_12345678']"
            ]
          },
          "metadata": {},
          "execution_count": 61
        }
      ]
    },
    {
      "cell_type": "markdown",
      "source": [
        "[ Twitter user names rules](https://help.twitter.com/en/managing-your-account/twitter-username-rules#:~:text=Your%20username%20cannot%20be%20longer,of%20underscores%2C%20as%20noted%20above.)\n",
        "- Your username cannot be longer than 15 characters. Your name can be longer (50 characters) or shorter than 4 characters, but usernames are kept shorter for the sake of ease.\n",
        "- A username can only contain alphanumeric characters (letters A-Z, numbers 0-9) with the exception of underscores, as noted above. Check to make sure your desired username doesn't contain any symbols, dashes, or spaces."
      ],
      "metadata": {
        "id": "fdBovlKs8ty0"
      }
    },
    {
      "cell_type": "code",
      "source": [
        "mention_pattern_2 = re.compile(r\"(?<=^|(?<=[^a-zA-Z0-9-_\\.]))@([A-Za-z0-9_]{4,15})\")"
      ],
      "metadata": {
        "id": "gY3p7ECg3ICd"
      },
      "execution_count": null,
      "outputs": []
    },
    {
      "cell_type": "markdown",
      "source": [
        "Explanation of the pattern:\n",
        "- (?<=^|(?<=[^a-zA-Z0-9-_\\.])): This is a positive lookbehind assertion. It asserts that what immediately precedes the current position in the string is the start of the line (^) or a character that is not a letter, digit, underscore, hyphen, or period ([^a-zA-Z0-9-_\\.]). This is used to ensure that the \"@\" symbol is not part of another word or email address.\n",
        "\n",
        "- @: This matches the \"@\" symbol, which is the character that precedes a mention (username) on Twitter.\n",
        "\n",
        "- ([A-Za-z0-9_]{4,15}): This is a capturing group that matches 4 to 15 alphanumeric characters including letters, numbers, and underscores. This group captures the actual mention (username) on twitter."
      ],
      "metadata": {
        "id": "IRx75G4BBYAh"
      }
    },
    {
      "cell_type": "code",
      "source": [
        "re.findall(mention_pattern_2, text1)"
      ],
      "metadata": {
        "colab": {
          "base_uri": "https://localhost:8080/"
        },
        "id": "RjYe8s9v3cYX",
        "outputId": "7d499d18-9a05-4400-b283-a3c97ad8b3c7"
      },
      "execution_count": null,
      "outputs": [
        {
          "output_type": "execute_result",
          "data": {
            "text/plain": [
              "['kelly2277', 'kelly', 'kelly_2277', 'kellyhoward_123']"
            ]
          },
          "metadata": {},
          "execution_count": 63
        }
      ]
    },
    {
      "cell_type": "markdown",
      "source": [
        "The above code is still extracting usernames longer than 15 characters. Although it extracts only first fifteen characters of these longer usernames."
      ],
      "metadata": {
        "id": "dgAmj68v_p5n"
      }
    },
    {
      "cell_type": "code",
      "source": [
        "mention_pattern_2 = re.compile(r\"(?<=^|(?<=[^a-zA-Z0-9-_\\.]))@([A-Za-z0-9_]{4,15})\\b\")"
      ],
      "metadata": {
        "id": "JeI8amPd_9qO"
      },
      "execution_count": null,
      "outputs": []
    },
    {
      "cell_type": "code",
      "source": [
        "re.findall(mention_pattern_2, text1)"
      ],
      "metadata": {
        "colab": {
          "base_uri": "https://localhost:8080/"
        },
        "id": "mxKuh3di__zW",
        "outputId": "a6ff9c6a-93a1-4775-bc6f-54e9683b06dd"
      },
      "execution_count": null,
      "outputs": [
        {
          "output_type": "execute_result",
          "data": {
            "text/plain": [
              "['kelly2277', 'kelly', 'kelly_2277']"
            ]
          },
          "metadata": {},
          "execution_count": 65
        }
      ]
    },
    {
      "cell_type": "markdown",
      "source": [
        "Explanation of the pattern:\n",
        "- (?<=^|(?<=[^a-zA-Z0-9-_\\.])): This is a positive lookbehind assertion. It asserts that what immediately precedes the current position in the string is the start of the line (^) or a character that is not a letter, digit, underscore, hyphen, or period ([^a-zA-Z0-9-_\\.]). This is used to ensure that the \"@\" symbol is not part of another word or email address.\n",
        "\n",
        "- @: This matches the \"@\" symbol, which is the character that precedes a mention (username) on Twitter.\n",
        "\n",
        "- ([A-Za-z0-9_]{4,15}): This is a capturing group that matches 4 to 15 alphanumeric characters including letters, numbers, and underscores. This group captures the actual mention (username) on twitter.\n",
        "\n",
        "- \\b: This is a word boundary assertion. It asserts that the match is at a position where a word character (letter, digit, or underscore) is on one side, and a non-word character (anything other than a letter, digit, or underscore) is on the other side. This is used to ensure that the match does not include any additional characters after the mention."
      ],
      "metadata": {
        "id": "p3Tw8iGK3fuc"
      }
    },
    {
      "cell_type": "markdown",
      "metadata": {
        "id": "-MRi5gJYEBSM"
      },
      "source": [
        "# <font color='pickle'>**Q4 Count Words**\n",
        "Count the number of words 'trump' or 'Trump' appearing in every tweet. Add this as an additional feature to the data set."
      ]
    },
    {
      "cell_type": "code",
      "execution_count": null,
      "metadata": {
        "colab": {
          "base_uri": "https://localhost:8080/",
          "height": 49,
          "referenced_widgets": [
            "018fbc303c66446fb7aeff9293288018",
            "a8ca3ae60311404eb61f2d88e8b5f26d",
            "7a89af58540448b1971204b01552ba2d",
            "b2421303787046d6886953a2c88a1283",
            "ec2ec63965ca4b98bc95e5f394a088a1",
            "1c24bb80291b4e07a5f439c133e32c5b",
            "3e6693703eb7472b8fed1a8e996aa8c1",
            "a731a43b6c1e4d6b91ff651e62b7525f",
            "33a1bd3d2e6b4a85826821272b483bef",
            "1a18f2efa9c7453da12509df72583dd3",
            "b3c56fc286d24e2ea5361d29071df62b"
          ]
        },
        "id": "Cb2z7IqFD8rr",
        "outputId": "07b6b091-c7da-4dba-abdd-e7056fadf969"
      },
      "outputs": [
        {
          "output_type": "display_data",
          "data": {
            "text/plain": [
              "Pandas Apply:   0%|          | 0/200 [00:00<?, ?it/s]"
            ],
            "application/vnd.jupyter.widget-view+json": {
              "version_major": 2,
              "version_minor": 0,
              "model_id": "018fbc303c66446fb7aeff9293288018"
            }
          },
          "metadata": {}
        }
      ],
      "source": [
        "df['n_trumps'] = df['text'].swifter.apply(lambda x: len(re.findall('[Tt]rump',x)))"
      ]
    },
    {
      "cell_type": "markdown",
      "source": [
        "Here's a breakdown of the code:\n",
        "\n",
        "- df['n_trumps'] =: This creates a new column called 'n_trumps' in the DataFrame df.\n",
        "- df['text'].swifter.apply(: This applies the lambda function on the 'text' column of the DataFrame using the swifter.apply() function. The swifter package is an extension of the pandas package and it's used to speed up the apply() function by using multiple cores of the CPU for parallel processing.\n",
        "- lambda x: len(re.findall('[Tt]rump',x)): This is the lambda function. It takes one argument x which is an element of the 'text' column of the DataFrame. It uses the re.findall() function to find all the occurrences of the string \"Trump\" or \"trump\" (the [Tt] character class matches both uppercase and lowercase \"T\" and \"t\") in the element x. The len() function is then used to get the number of occurrences found.\n",
        "\n",
        "Finally, the new column 'n_trumps' is created in the DataFrame df and it contains the number of times the string \"Trump\" or \"trump\" appears in each element of the 'text' column."
      ],
      "metadata": {
        "id": "Iko7RgueBtnl"
      }
    },
    {
      "cell_type": "code",
      "execution_count": null,
      "metadata": {
        "colab": {
          "base_uri": "https://localhost:8080/"
        },
        "id": "Tz6vxV6HrJMM",
        "outputId": "e30b0310-2742-411d-ec14-baf41b85b28f"
      },
      "outputs": [
        {
          "output_type": "execute_result",
          "data": {
            "text/plain": [
              "0      1\n",
              "1      0\n",
              "2      0\n",
              "3      1\n",
              "4      0\n",
              "      ..\n",
              "195    0\n",
              "196    0\n",
              "197    0\n",
              "198    1\n",
              "199    1\n",
              "Name: n_trumps, Length: 200, dtype: int64"
            ]
          },
          "metadata": {},
          "execution_count": 67
        }
      ],
      "source": [
        "df['n_trumps'] "
      ]
    },
    {
      "cell_type": "code",
      "execution_count": null,
      "metadata": {
        "colab": {
          "base_uri": "https://localhost:8080/"
        },
        "id": "x7zTkRBaEug_",
        "outputId": "af0dfc8c-7576-4fb4-efdd-f3cf67f38a06"
      },
      "outputs": [
        {
          "output_type": "execute_result",
          "data": {
            "text/plain": [
              "127"
            ]
          },
          "metadata": {},
          "execution_count": 68
        }
      ],
      "source": [
        "total_trump_mentions = df['n_trumps'].sum()\n",
        "total_trump_mentions"
      ]
    }
  ],
  "metadata": {
    "colab": {
      "provenance": [],
      "collapsed_sections": [
        "cBHdRHrJujh5",
        "rg9u8p57M1HJ",
        "Ku3CngGCNH7-",
        "dJnPDBgzPH2p",
        "HzA1R_7Pnejy",
        "ySuTna3WSVZp",
        "GPYLjXMPujjz",
        "jGXFs7YIujkH"
      ],
      "include_colab_link": true
    },
    "kernelspec": {
      "display_name": "Python 3 (ipykernel)",
      "language": "python",
      "name": "python3"
    },
    "language_info": {
      "codemirror_mode": {
        "name": "ipython",
        "version": 3
      },
      "file_extension": ".py",
      "mimetype": "text/x-python",
      "name": "python",
      "nbconvert_exporter": "python",
      "pygments_lexer": "ipython3",
      "version": "3.9.13"
    },
    "widgets": {
      "application/vnd.jupyter.widget-state+json": {
        "05d60b0b0afe4b4195eaa497dc0ff683": {
          "model_module": "@jupyter-widgets/controls",
          "model_name": "HBoxModel",
          "model_module_version": "1.5.0",
          "state": {
            "_dom_classes": [],
            "_model_module": "@jupyter-widgets/controls",
            "_model_module_version": "1.5.0",
            "_model_name": "HBoxModel",
            "_view_count": null,
            "_view_module": "@jupyter-widgets/controls",
            "_view_module_version": "1.5.0",
            "_view_name": "HBoxView",
            "box_style": "",
            "children": [
              "IPY_MODEL_e518eb08821d45f5bd34e2a5ffba4d7f",
              "IPY_MODEL_60ff61fa38be4582924ae7fe6db27439",
              "IPY_MODEL_cb6ae02d7609406b81ef97f8464f5602"
            ],
            "layout": "IPY_MODEL_b2b87b8cd9ec46049756e6829453735f"
          }
        },
        "e518eb08821d45f5bd34e2a5ffba4d7f": {
          "model_module": "@jupyter-widgets/controls",
          "model_name": "HTMLModel",
          "model_module_version": "1.5.0",
          "state": {
            "_dom_classes": [],
            "_model_module": "@jupyter-widgets/controls",
            "_model_module_version": "1.5.0",
            "_model_name": "HTMLModel",
            "_view_count": null,
            "_view_module": "@jupyter-widgets/controls",
            "_view_module_version": "1.5.0",
            "_view_name": "HTMLView",
            "description": "",
            "description_tooltip": null,
            "layout": "IPY_MODEL_366accdd917d466fa4ab0ee9a1c77fe8",
            "placeholder": "​",
            "style": "IPY_MODEL_354e834c23254b0aa21a6e4d3046e997",
            "value": "Pandas Apply: 100%"
          }
        },
        "60ff61fa38be4582924ae7fe6db27439": {
          "model_module": "@jupyter-widgets/controls",
          "model_name": "FloatProgressModel",
          "model_module_version": "1.5.0",
          "state": {
            "_dom_classes": [],
            "_model_module": "@jupyter-widgets/controls",
            "_model_module_version": "1.5.0",
            "_model_name": "FloatProgressModel",
            "_view_count": null,
            "_view_module": "@jupyter-widgets/controls",
            "_view_module_version": "1.5.0",
            "_view_name": "ProgressView",
            "bar_style": "success",
            "description": "",
            "description_tooltip": null,
            "layout": "IPY_MODEL_b7f4031594bd4981af9f367c0a68a053",
            "max": 200,
            "min": 0,
            "orientation": "horizontal",
            "style": "IPY_MODEL_23a491dd228f46ff9ad7509a2d9f8072",
            "value": 200
          }
        },
        "cb6ae02d7609406b81ef97f8464f5602": {
          "model_module": "@jupyter-widgets/controls",
          "model_name": "HTMLModel",
          "model_module_version": "1.5.0",
          "state": {
            "_dom_classes": [],
            "_model_module": "@jupyter-widgets/controls",
            "_model_module_version": "1.5.0",
            "_model_name": "HTMLModel",
            "_view_count": null,
            "_view_module": "@jupyter-widgets/controls",
            "_view_module_version": "1.5.0",
            "_view_name": "HTMLView",
            "description": "",
            "description_tooltip": null,
            "layout": "IPY_MODEL_fe04c888315540b5acab2ab6cdb8a3cb",
            "placeholder": "​",
            "style": "IPY_MODEL_25eccdafec8d45e084d5eaab0c02e4ba",
            "value": " 200/200 [00:00&lt;00:00, 6872.30it/s]"
          }
        },
        "b2b87b8cd9ec46049756e6829453735f": {
          "model_module": "@jupyter-widgets/base",
          "model_name": "LayoutModel",
          "model_module_version": "1.2.0",
          "state": {
            "_model_module": "@jupyter-widgets/base",
            "_model_module_version": "1.2.0",
            "_model_name": "LayoutModel",
            "_view_count": null,
            "_view_module": "@jupyter-widgets/base",
            "_view_module_version": "1.2.0",
            "_view_name": "LayoutView",
            "align_content": null,
            "align_items": null,
            "align_self": null,
            "border": null,
            "bottom": null,
            "display": null,
            "flex": null,
            "flex_flow": null,
            "grid_area": null,
            "grid_auto_columns": null,
            "grid_auto_flow": null,
            "grid_auto_rows": null,
            "grid_column": null,
            "grid_gap": null,
            "grid_row": null,
            "grid_template_areas": null,
            "grid_template_columns": null,
            "grid_template_rows": null,
            "height": null,
            "justify_content": null,
            "justify_items": null,
            "left": null,
            "margin": null,
            "max_height": null,
            "max_width": null,
            "min_height": null,
            "min_width": null,
            "object_fit": null,
            "object_position": null,
            "order": null,
            "overflow": null,
            "overflow_x": null,
            "overflow_y": null,
            "padding": null,
            "right": null,
            "top": null,
            "visibility": null,
            "width": null
          }
        },
        "366accdd917d466fa4ab0ee9a1c77fe8": {
          "model_module": "@jupyter-widgets/base",
          "model_name": "LayoutModel",
          "model_module_version": "1.2.0",
          "state": {
            "_model_module": "@jupyter-widgets/base",
            "_model_module_version": "1.2.0",
            "_model_name": "LayoutModel",
            "_view_count": null,
            "_view_module": "@jupyter-widgets/base",
            "_view_module_version": "1.2.0",
            "_view_name": "LayoutView",
            "align_content": null,
            "align_items": null,
            "align_self": null,
            "border": null,
            "bottom": null,
            "display": null,
            "flex": null,
            "flex_flow": null,
            "grid_area": null,
            "grid_auto_columns": null,
            "grid_auto_flow": null,
            "grid_auto_rows": null,
            "grid_column": null,
            "grid_gap": null,
            "grid_row": null,
            "grid_template_areas": null,
            "grid_template_columns": null,
            "grid_template_rows": null,
            "height": null,
            "justify_content": null,
            "justify_items": null,
            "left": null,
            "margin": null,
            "max_height": null,
            "max_width": null,
            "min_height": null,
            "min_width": null,
            "object_fit": null,
            "object_position": null,
            "order": null,
            "overflow": null,
            "overflow_x": null,
            "overflow_y": null,
            "padding": null,
            "right": null,
            "top": null,
            "visibility": null,
            "width": null
          }
        },
        "354e834c23254b0aa21a6e4d3046e997": {
          "model_module": "@jupyter-widgets/controls",
          "model_name": "DescriptionStyleModel",
          "model_module_version": "1.5.0",
          "state": {
            "_model_module": "@jupyter-widgets/controls",
            "_model_module_version": "1.5.0",
            "_model_name": "DescriptionStyleModel",
            "_view_count": null,
            "_view_module": "@jupyter-widgets/base",
            "_view_module_version": "1.2.0",
            "_view_name": "StyleView",
            "description_width": ""
          }
        },
        "b7f4031594bd4981af9f367c0a68a053": {
          "model_module": "@jupyter-widgets/base",
          "model_name": "LayoutModel",
          "model_module_version": "1.2.0",
          "state": {
            "_model_module": "@jupyter-widgets/base",
            "_model_module_version": "1.2.0",
            "_model_name": "LayoutModel",
            "_view_count": null,
            "_view_module": "@jupyter-widgets/base",
            "_view_module_version": "1.2.0",
            "_view_name": "LayoutView",
            "align_content": null,
            "align_items": null,
            "align_self": null,
            "border": null,
            "bottom": null,
            "display": null,
            "flex": null,
            "flex_flow": null,
            "grid_area": null,
            "grid_auto_columns": null,
            "grid_auto_flow": null,
            "grid_auto_rows": null,
            "grid_column": null,
            "grid_gap": null,
            "grid_row": null,
            "grid_template_areas": null,
            "grid_template_columns": null,
            "grid_template_rows": null,
            "height": null,
            "justify_content": null,
            "justify_items": null,
            "left": null,
            "margin": null,
            "max_height": null,
            "max_width": null,
            "min_height": null,
            "min_width": null,
            "object_fit": null,
            "object_position": null,
            "order": null,
            "overflow": null,
            "overflow_x": null,
            "overflow_y": null,
            "padding": null,
            "right": null,
            "top": null,
            "visibility": null,
            "width": null
          }
        },
        "23a491dd228f46ff9ad7509a2d9f8072": {
          "model_module": "@jupyter-widgets/controls",
          "model_name": "ProgressStyleModel",
          "model_module_version": "1.5.0",
          "state": {
            "_model_module": "@jupyter-widgets/controls",
            "_model_module_version": "1.5.0",
            "_model_name": "ProgressStyleModel",
            "_view_count": null,
            "_view_module": "@jupyter-widgets/base",
            "_view_module_version": "1.2.0",
            "_view_name": "StyleView",
            "bar_color": null,
            "description_width": ""
          }
        },
        "fe04c888315540b5acab2ab6cdb8a3cb": {
          "model_module": "@jupyter-widgets/base",
          "model_name": "LayoutModel",
          "model_module_version": "1.2.0",
          "state": {
            "_model_module": "@jupyter-widgets/base",
            "_model_module_version": "1.2.0",
            "_model_name": "LayoutModel",
            "_view_count": null,
            "_view_module": "@jupyter-widgets/base",
            "_view_module_version": "1.2.0",
            "_view_name": "LayoutView",
            "align_content": null,
            "align_items": null,
            "align_self": null,
            "border": null,
            "bottom": null,
            "display": null,
            "flex": null,
            "flex_flow": null,
            "grid_area": null,
            "grid_auto_columns": null,
            "grid_auto_flow": null,
            "grid_auto_rows": null,
            "grid_column": null,
            "grid_gap": null,
            "grid_row": null,
            "grid_template_areas": null,
            "grid_template_columns": null,
            "grid_template_rows": null,
            "height": null,
            "justify_content": null,
            "justify_items": null,
            "left": null,
            "margin": null,
            "max_height": null,
            "max_width": null,
            "min_height": null,
            "min_width": null,
            "object_fit": null,
            "object_position": null,
            "order": null,
            "overflow": null,
            "overflow_x": null,
            "overflow_y": null,
            "padding": null,
            "right": null,
            "top": null,
            "visibility": null,
            "width": null
          }
        },
        "25eccdafec8d45e084d5eaab0c02e4ba": {
          "model_module": "@jupyter-widgets/controls",
          "model_name": "DescriptionStyleModel",
          "model_module_version": "1.5.0",
          "state": {
            "_model_module": "@jupyter-widgets/controls",
            "_model_module_version": "1.5.0",
            "_model_name": "DescriptionStyleModel",
            "_view_count": null,
            "_view_module": "@jupyter-widgets/base",
            "_view_module_version": "1.2.0",
            "_view_name": "StyleView",
            "description_width": ""
          }
        },
        "e3eeff68bc3a46a79bdeb61b14586c5a": {
          "model_module": "@jupyter-widgets/controls",
          "model_name": "HBoxModel",
          "model_module_version": "1.5.0",
          "state": {
            "_dom_classes": [],
            "_model_module": "@jupyter-widgets/controls",
            "_model_module_version": "1.5.0",
            "_model_name": "HBoxModel",
            "_view_count": null,
            "_view_module": "@jupyter-widgets/controls",
            "_view_module_version": "1.5.0",
            "_view_name": "HBoxView",
            "box_style": "",
            "children": [
              "IPY_MODEL_c337080921a14694a39a4010c7f7f8b8",
              "IPY_MODEL_10d005a283fb4cb9b085fc775db2cf6b",
              "IPY_MODEL_16f120e258754edfa05ab69b10ceff21"
            ],
            "layout": "IPY_MODEL_9e097bb426124a6bbe3bbe7d2043c395"
          }
        },
        "c337080921a14694a39a4010c7f7f8b8": {
          "model_module": "@jupyter-widgets/controls",
          "model_name": "HTMLModel",
          "model_module_version": "1.5.0",
          "state": {
            "_dom_classes": [],
            "_model_module": "@jupyter-widgets/controls",
            "_model_module_version": "1.5.0",
            "_model_name": "HTMLModel",
            "_view_count": null,
            "_view_module": "@jupyter-widgets/controls",
            "_view_module_version": "1.5.0",
            "_view_name": "HTMLView",
            "description": "",
            "description_tooltip": null,
            "layout": "IPY_MODEL_2953fc36d16e45a5af96441742ebb43b",
            "placeholder": "​",
            "style": "IPY_MODEL_afb2efcda3cd46da848ec5bd910c5f61",
            "value": "Pandas Apply: 100%"
          }
        },
        "10d005a283fb4cb9b085fc775db2cf6b": {
          "model_module": "@jupyter-widgets/controls",
          "model_name": "FloatProgressModel",
          "model_module_version": "1.5.0",
          "state": {
            "_dom_classes": [],
            "_model_module": "@jupyter-widgets/controls",
            "_model_module_version": "1.5.0",
            "_model_name": "FloatProgressModel",
            "_view_count": null,
            "_view_module": "@jupyter-widgets/controls",
            "_view_module_version": "1.5.0",
            "_view_name": "ProgressView",
            "bar_style": "success",
            "description": "",
            "description_tooltip": null,
            "layout": "IPY_MODEL_8c7c1e1870a94a778410f56d5a6f1267",
            "max": 200,
            "min": 0,
            "orientation": "horizontal",
            "style": "IPY_MODEL_50c171f0b4104d9e9ece526950cb7b1a",
            "value": 200
          }
        },
        "16f120e258754edfa05ab69b10ceff21": {
          "model_module": "@jupyter-widgets/controls",
          "model_name": "HTMLModel",
          "model_module_version": "1.5.0",
          "state": {
            "_dom_classes": [],
            "_model_module": "@jupyter-widgets/controls",
            "_model_module_version": "1.5.0",
            "_model_name": "HTMLModel",
            "_view_count": null,
            "_view_module": "@jupyter-widgets/controls",
            "_view_module_version": "1.5.0",
            "_view_name": "HTMLView",
            "description": "",
            "description_tooltip": null,
            "layout": "IPY_MODEL_356dc8b3d6ee4ab9aa33216946632297",
            "placeholder": "​",
            "style": "IPY_MODEL_3cccbeccef3b44bbb485332ea9582f12",
            "value": " 200/200 [00:00&lt;00:00, 5465.21it/s]"
          }
        },
        "9e097bb426124a6bbe3bbe7d2043c395": {
          "model_module": "@jupyter-widgets/base",
          "model_name": "LayoutModel",
          "model_module_version": "1.2.0",
          "state": {
            "_model_module": "@jupyter-widgets/base",
            "_model_module_version": "1.2.0",
            "_model_name": "LayoutModel",
            "_view_count": null,
            "_view_module": "@jupyter-widgets/base",
            "_view_module_version": "1.2.0",
            "_view_name": "LayoutView",
            "align_content": null,
            "align_items": null,
            "align_self": null,
            "border": null,
            "bottom": null,
            "display": null,
            "flex": null,
            "flex_flow": null,
            "grid_area": null,
            "grid_auto_columns": null,
            "grid_auto_flow": null,
            "grid_auto_rows": null,
            "grid_column": null,
            "grid_gap": null,
            "grid_row": null,
            "grid_template_areas": null,
            "grid_template_columns": null,
            "grid_template_rows": null,
            "height": null,
            "justify_content": null,
            "justify_items": null,
            "left": null,
            "margin": null,
            "max_height": null,
            "max_width": null,
            "min_height": null,
            "min_width": null,
            "object_fit": null,
            "object_position": null,
            "order": null,
            "overflow": null,
            "overflow_x": null,
            "overflow_y": null,
            "padding": null,
            "right": null,
            "top": null,
            "visibility": null,
            "width": null
          }
        },
        "2953fc36d16e45a5af96441742ebb43b": {
          "model_module": "@jupyter-widgets/base",
          "model_name": "LayoutModel",
          "model_module_version": "1.2.0",
          "state": {
            "_model_module": "@jupyter-widgets/base",
            "_model_module_version": "1.2.0",
            "_model_name": "LayoutModel",
            "_view_count": null,
            "_view_module": "@jupyter-widgets/base",
            "_view_module_version": "1.2.0",
            "_view_name": "LayoutView",
            "align_content": null,
            "align_items": null,
            "align_self": null,
            "border": null,
            "bottom": null,
            "display": null,
            "flex": null,
            "flex_flow": null,
            "grid_area": null,
            "grid_auto_columns": null,
            "grid_auto_flow": null,
            "grid_auto_rows": null,
            "grid_column": null,
            "grid_gap": null,
            "grid_row": null,
            "grid_template_areas": null,
            "grid_template_columns": null,
            "grid_template_rows": null,
            "height": null,
            "justify_content": null,
            "justify_items": null,
            "left": null,
            "margin": null,
            "max_height": null,
            "max_width": null,
            "min_height": null,
            "min_width": null,
            "object_fit": null,
            "object_position": null,
            "order": null,
            "overflow": null,
            "overflow_x": null,
            "overflow_y": null,
            "padding": null,
            "right": null,
            "top": null,
            "visibility": null,
            "width": null
          }
        },
        "afb2efcda3cd46da848ec5bd910c5f61": {
          "model_module": "@jupyter-widgets/controls",
          "model_name": "DescriptionStyleModel",
          "model_module_version": "1.5.0",
          "state": {
            "_model_module": "@jupyter-widgets/controls",
            "_model_module_version": "1.5.0",
            "_model_name": "DescriptionStyleModel",
            "_view_count": null,
            "_view_module": "@jupyter-widgets/base",
            "_view_module_version": "1.2.0",
            "_view_name": "StyleView",
            "description_width": ""
          }
        },
        "8c7c1e1870a94a778410f56d5a6f1267": {
          "model_module": "@jupyter-widgets/base",
          "model_name": "LayoutModel",
          "model_module_version": "1.2.0",
          "state": {
            "_model_module": "@jupyter-widgets/base",
            "_model_module_version": "1.2.0",
            "_model_name": "LayoutModel",
            "_view_count": null,
            "_view_module": "@jupyter-widgets/base",
            "_view_module_version": "1.2.0",
            "_view_name": "LayoutView",
            "align_content": null,
            "align_items": null,
            "align_self": null,
            "border": null,
            "bottom": null,
            "display": null,
            "flex": null,
            "flex_flow": null,
            "grid_area": null,
            "grid_auto_columns": null,
            "grid_auto_flow": null,
            "grid_auto_rows": null,
            "grid_column": null,
            "grid_gap": null,
            "grid_row": null,
            "grid_template_areas": null,
            "grid_template_columns": null,
            "grid_template_rows": null,
            "height": null,
            "justify_content": null,
            "justify_items": null,
            "left": null,
            "margin": null,
            "max_height": null,
            "max_width": null,
            "min_height": null,
            "min_width": null,
            "object_fit": null,
            "object_position": null,
            "order": null,
            "overflow": null,
            "overflow_x": null,
            "overflow_y": null,
            "padding": null,
            "right": null,
            "top": null,
            "visibility": null,
            "width": null
          }
        },
        "50c171f0b4104d9e9ece526950cb7b1a": {
          "model_module": "@jupyter-widgets/controls",
          "model_name": "ProgressStyleModel",
          "model_module_version": "1.5.0",
          "state": {
            "_model_module": "@jupyter-widgets/controls",
            "_model_module_version": "1.5.0",
            "_model_name": "ProgressStyleModel",
            "_view_count": null,
            "_view_module": "@jupyter-widgets/base",
            "_view_module_version": "1.2.0",
            "_view_name": "StyleView",
            "bar_color": null,
            "description_width": ""
          }
        },
        "356dc8b3d6ee4ab9aa33216946632297": {
          "model_module": "@jupyter-widgets/base",
          "model_name": "LayoutModel",
          "model_module_version": "1.2.0",
          "state": {
            "_model_module": "@jupyter-widgets/base",
            "_model_module_version": "1.2.0",
            "_model_name": "LayoutModel",
            "_view_count": null,
            "_view_module": "@jupyter-widgets/base",
            "_view_module_version": "1.2.0",
            "_view_name": "LayoutView",
            "align_content": null,
            "align_items": null,
            "align_self": null,
            "border": null,
            "bottom": null,
            "display": null,
            "flex": null,
            "flex_flow": null,
            "grid_area": null,
            "grid_auto_columns": null,
            "grid_auto_flow": null,
            "grid_auto_rows": null,
            "grid_column": null,
            "grid_gap": null,
            "grid_row": null,
            "grid_template_areas": null,
            "grid_template_columns": null,
            "grid_template_rows": null,
            "height": null,
            "justify_content": null,
            "justify_items": null,
            "left": null,
            "margin": null,
            "max_height": null,
            "max_width": null,
            "min_height": null,
            "min_width": null,
            "object_fit": null,
            "object_position": null,
            "order": null,
            "overflow": null,
            "overflow_x": null,
            "overflow_y": null,
            "padding": null,
            "right": null,
            "top": null,
            "visibility": null,
            "width": null
          }
        },
        "3cccbeccef3b44bbb485332ea9582f12": {
          "model_module": "@jupyter-widgets/controls",
          "model_name": "DescriptionStyleModel",
          "model_module_version": "1.5.0",
          "state": {
            "_model_module": "@jupyter-widgets/controls",
            "_model_module_version": "1.5.0",
            "_model_name": "DescriptionStyleModel",
            "_view_count": null,
            "_view_module": "@jupyter-widgets/base",
            "_view_module_version": "1.2.0",
            "_view_name": "StyleView",
            "description_width": ""
          }
        },
        "9463adbce44540d08738b6798acf848a": {
          "model_module": "@jupyter-widgets/controls",
          "model_name": "HBoxModel",
          "model_module_version": "1.5.0",
          "state": {
            "_dom_classes": [],
            "_model_module": "@jupyter-widgets/controls",
            "_model_module_version": "1.5.0",
            "_model_name": "HBoxModel",
            "_view_count": null,
            "_view_module": "@jupyter-widgets/controls",
            "_view_module_version": "1.5.0",
            "_view_name": "HBoxView",
            "box_style": "",
            "children": [
              "IPY_MODEL_fd1721224be34f5ea24591a5f014f1d2",
              "IPY_MODEL_24f383b152c44ec3985505ef61e27359",
              "IPY_MODEL_f8d0ef74f174499b836596a78c5fd695"
            ],
            "layout": "IPY_MODEL_438fa0458ae84824bf2f6f3e22b62caf"
          }
        },
        "fd1721224be34f5ea24591a5f014f1d2": {
          "model_module": "@jupyter-widgets/controls",
          "model_name": "HTMLModel",
          "model_module_version": "1.5.0",
          "state": {
            "_dom_classes": [],
            "_model_module": "@jupyter-widgets/controls",
            "_model_module_version": "1.5.0",
            "_model_name": "HTMLModel",
            "_view_count": null,
            "_view_module": "@jupyter-widgets/controls",
            "_view_module_version": "1.5.0",
            "_view_name": "HTMLView",
            "description": "",
            "description_tooltip": null,
            "layout": "IPY_MODEL_43ffcb8882204e438c58d979e2a52f54",
            "placeholder": "​",
            "style": "IPY_MODEL_f46949f605544777a754f55cb22b2d1b",
            "value": "Pandas Apply: 100%"
          }
        },
        "24f383b152c44ec3985505ef61e27359": {
          "model_module": "@jupyter-widgets/controls",
          "model_name": "FloatProgressModel",
          "model_module_version": "1.5.0",
          "state": {
            "_dom_classes": [],
            "_model_module": "@jupyter-widgets/controls",
            "_model_module_version": "1.5.0",
            "_model_name": "FloatProgressModel",
            "_view_count": null,
            "_view_module": "@jupyter-widgets/controls",
            "_view_module_version": "1.5.0",
            "_view_name": "ProgressView",
            "bar_style": "success",
            "description": "",
            "description_tooltip": null,
            "layout": "IPY_MODEL_d62ef80716184be9a1505c3be56ae42f",
            "max": 200,
            "min": 0,
            "orientation": "horizontal",
            "style": "IPY_MODEL_fce4312f7f454c1c9d94a47e9eeda2db",
            "value": 200
          }
        },
        "f8d0ef74f174499b836596a78c5fd695": {
          "model_module": "@jupyter-widgets/controls",
          "model_name": "HTMLModel",
          "model_module_version": "1.5.0",
          "state": {
            "_dom_classes": [],
            "_model_module": "@jupyter-widgets/controls",
            "_model_module_version": "1.5.0",
            "_model_name": "HTMLModel",
            "_view_count": null,
            "_view_module": "@jupyter-widgets/controls",
            "_view_module_version": "1.5.0",
            "_view_name": "HTMLView",
            "description": "",
            "description_tooltip": null,
            "layout": "IPY_MODEL_d4f6173ae6af4dbea6e8eca41f3c91d7",
            "placeholder": "​",
            "style": "IPY_MODEL_78c8d6b4ff2f4222ad941449adb38a84",
            "value": " 200/200 [00:00&lt;00:00, 6273.50it/s]"
          }
        },
        "438fa0458ae84824bf2f6f3e22b62caf": {
          "model_module": "@jupyter-widgets/base",
          "model_name": "LayoutModel",
          "model_module_version": "1.2.0",
          "state": {
            "_model_module": "@jupyter-widgets/base",
            "_model_module_version": "1.2.0",
            "_model_name": "LayoutModel",
            "_view_count": null,
            "_view_module": "@jupyter-widgets/base",
            "_view_module_version": "1.2.0",
            "_view_name": "LayoutView",
            "align_content": null,
            "align_items": null,
            "align_self": null,
            "border": null,
            "bottom": null,
            "display": null,
            "flex": null,
            "flex_flow": null,
            "grid_area": null,
            "grid_auto_columns": null,
            "grid_auto_flow": null,
            "grid_auto_rows": null,
            "grid_column": null,
            "grid_gap": null,
            "grid_row": null,
            "grid_template_areas": null,
            "grid_template_columns": null,
            "grid_template_rows": null,
            "height": null,
            "justify_content": null,
            "justify_items": null,
            "left": null,
            "margin": null,
            "max_height": null,
            "max_width": null,
            "min_height": null,
            "min_width": null,
            "object_fit": null,
            "object_position": null,
            "order": null,
            "overflow": null,
            "overflow_x": null,
            "overflow_y": null,
            "padding": null,
            "right": null,
            "top": null,
            "visibility": null,
            "width": null
          }
        },
        "43ffcb8882204e438c58d979e2a52f54": {
          "model_module": "@jupyter-widgets/base",
          "model_name": "LayoutModel",
          "model_module_version": "1.2.0",
          "state": {
            "_model_module": "@jupyter-widgets/base",
            "_model_module_version": "1.2.0",
            "_model_name": "LayoutModel",
            "_view_count": null,
            "_view_module": "@jupyter-widgets/base",
            "_view_module_version": "1.2.0",
            "_view_name": "LayoutView",
            "align_content": null,
            "align_items": null,
            "align_self": null,
            "border": null,
            "bottom": null,
            "display": null,
            "flex": null,
            "flex_flow": null,
            "grid_area": null,
            "grid_auto_columns": null,
            "grid_auto_flow": null,
            "grid_auto_rows": null,
            "grid_column": null,
            "grid_gap": null,
            "grid_row": null,
            "grid_template_areas": null,
            "grid_template_columns": null,
            "grid_template_rows": null,
            "height": null,
            "justify_content": null,
            "justify_items": null,
            "left": null,
            "margin": null,
            "max_height": null,
            "max_width": null,
            "min_height": null,
            "min_width": null,
            "object_fit": null,
            "object_position": null,
            "order": null,
            "overflow": null,
            "overflow_x": null,
            "overflow_y": null,
            "padding": null,
            "right": null,
            "top": null,
            "visibility": null,
            "width": null
          }
        },
        "f46949f605544777a754f55cb22b2d1b": {
          "model_module": "@jupyter-widgets/controls",
          "model_name": "DescriptionStyleModel",
          "model_module_version": "1.5.0",
          "state": {
            "_model_module": "@jupyter-widgets/controls",
            "_model_module_version": "1.5.0",
            "_model_name": "DescriptionStyleModel",
            "_view_count": null,
            "_view_module": "@jupyter-widgets/base",
            "_view_module_version": "1.2.0",
            "_view_name": "StyleView",
            "description_width": ""
          }
        },
        "d62ef80716184be9a1505c3be56ae42f": {
          "model_module": "@jupyter-widgets/base",
          "model_name": "LayoutModel",
          "model_module_version": "1.2.0",
          "state": {
            "_model_module": "@jupyter-widgets/base",
            "_model_module_version": "1.2.0",
            "_model_name": "LayoutModel",
            "_view_count": null,
            "_view_module": "@jupyter-widgets/base",
            "_view_module_version": "1.2.0",
            "_view_name": "LayoutView",
            "align_content": null,
            "align_items": null,
            "align_self": null,
            "border": null,
            "bottom": null,
            "display": null,
            "flex": null,
            "flex_flow": null,
            "grid_area": null,
            "grid_auto_columns": null,
            "grid_auto_flow": null,
            "grid_auto_rows": null,
            "grid_column": null,
            "grid_gap": null,
            "grid_row": null,
            "grid_template_areas": null,
            "grid_template_columns": null,
            "grid_template_rows": null,
            "height": null,
            "justify_content": null,
            "justify_items": null,
            "left": null,
            "margin": null,
            "max_height": null,
            "max_width": null,
            "min_height": null,
            "min_width": null,
            "object_fit": null,
            "object_position": null,
            "order": null,
            "overflow": null,
            "overflow_x": null,
            "overflow_y": null,
            "padding": null,
            "right": null,
            "top": null,
            "visibility": null,
            "width": null
          }
        },
        "fce4312f7f454c1c9d94a47e9eeda2db": {
          "model_module": "@jupyter-widgets/controls",
          "model_name": "ProgressStyleModel",
          "model_module_version": "1.5.0",
          "state": {
            "_model_module": "@jupyter-widgets/controls",
            "_model_module_version": "1.5.0",
            "_model_name": "ProgressStyleModel",
            "_view_count": null,
            "_view_module": "@jupyter-widgets/base",
            "_view_module_version": "1.2.0",
            "_view_name": "StyleView",
            "bar_color": null,
            "description_width": ""
          }
        },
        "d4f6173ae6af4dbea6e8eca41f3c91d7": {
          "model_module": "@jupyter-widgets/base",
          "model_name": "LayoutModel",
          "model_module_version": "1.2.0",
          "state": {
            "_model_module": "@jupyter-widgets/base",
            "_model_module_version": "1.2.0",
            "_model_name": "LayoutModel",
            "_view_count": null,
            "_view_module": "@jupyter-widgets/base",
            "_view_module_version": "1.2.0",
            "_view_name": "LayoutView",
            "align_content": null,
            "align_items": null,
            "align_self": null,
            "border": null,
            "bottom": null,
            "display": null,
            "flex": null,
            "flex_flow": null,
            "grid_area": null,
            "grid_auto_columns": null,
            "grid_auto_flow": null,
            "grid_auto_rows": null,
            "grid_column": null,
            "grid_gap": null,
            "grid_row": null,
            "grid_template_areas": null,
            "grid_template_columns": null,
            "grid_template_rows": null,
            "height": null,
            "justify_content": null,
            "justify_items": null,
            "left": null,
            "margin": null,
            "max_height": null,
            "max_width": null,
            "min_height": null,
            "min_width": null,
            "object_fit": null,
            "object_position": null,
            "order": null,
            "overflow": null,
            "overflow_x": null,
            "overflow_y": null,
            "padding": null,
            "right": null,
            "top": null,
            "visibility": null,
            "width": null
          }
        },
        "78c8d6b4ff2f4222ad941449adb38a84": {
          "model_module": "@jupyter-widgets/controls",
          "model_name": "DescriptionStyleModel",
          "model_module_version": "1.5.0",
          "state": {
            "_model_module": "@jupyter-widgets/controls",
            "_model_module_version": "1.5.0",
            "_model_name": "DescriptionStyleModel",
            "_view_count": null,
            "_view_module": "@jupyter-widgets/base",
            "_view_module_version": "1.2.0",
            "_view_name": "StyleView",
            "description_width": ""
          }
        },
        "51c1897537a646b3968a5b56c6ec07f4": {
          "model_module": "@jupyter-widgets/controls",
          "model_name": "HBoxModel",
          "model_module_version": "1.5.0",
          "state": {
            "_dom_classes": [],
            "_model_module": "@jupyter-widgets/controls",
            "_model_module_version": "1.5.0",
            "_model_name": "HBoxModel",
            "_view_count": null,
            "_view_module": "@jupyter-widgets/controls",
            "_view_module_version": "1.5.0",
            "_view_name": "HBoxView",
            "box_style": "",
            "children": [
              "IPY_MODEL_0aad4f6769804e1f92c1523329bbb8e0",
              "IPY_MODEL_5d227f7b814b4b0682137855df5f7eaa",
              "IPY_MODEL_cb3dc73d9fb949328a9069be0b2dc285"
            ],
            "layout": "IPY_MODEL_be96666e05f24555a62103112d7bf66c"
          }
        },
        "0aad4f6769804e1f92c1523329bbb8e0": {
          "model_module": "@jupyter-widgets/controls",
          "model_name": "HTMLModel",
          "model_module_version": "1.5.0",
          "state": {
            "_dom_classes": [],
            "_model_module": "@jupyter-widgets/controls",
            "_model_module_version": "1.5.0",
            "_model_name": "HTMLModel",
            "_view_count": null,
            "_view_module": "@jupyter-widgets/controls",
            "_view_module_version": "1.5.0",
            "_view_name": "HTMLView",
            "description": "",
            "description_tooltip": null,
            "layout": "IPY_MODEL_9a44c39b889c42f88680f8331045612c",
            "placeholder": "​",
            "style": "IPY_MODEL_1b8fd513a094416e96d6be0db26de5d4",
            "value": "Pandas Apply: 100%"
          }
        },
        "5d227f7b814b4b0682137855df5f7eaa": {
          "model_module": "@jupyter-widgets/controls",
          "model_name": "FloatProgressModel",
          "model_module_version": "1.5.0",
          "state": {
            "_dom_classes": [],
            "_model_module": "@jupyter-widgets/controls",
            "_model_module_version": "1.5.0",
            "_model_name": "FloatProgressModel",
            "_view_count": null,
            "_view_module": "@jupyter-widgets/controls",
            "_view_module_version": "1.5.0",
            "_view_name": "ProgressView",
            "bar_style": "success",
            "description": "",
            "description_tooltip": null,
            "layout": "IPY_MODEL_2d64dc47dfa44a458830278a93e89424",
            "max": 200,
            "min": 0,
            "orientation": "horizontal",
            "style": "IPY_MODEL_71653d1b92c44b38931a70cfa11d2b5b",
            "value": 200
          }
        },
        "cb3dc73d9fb949328a9069be0b2dc285": {
          "model_module": "@jupyter-widgets/controls",
          "model_name": "HTMLModel",
          "model_module_version": "1.5.0",
          "state": {
            "_dom_classes": [],
            "_model_module": "@jupyter-widgets/controls",
            "_model_module_version": "1.5.0",
            "_model_name": "HTMLModel",
            "_view_count": null,
            "_view_module": "@jupyter-widgets/controls",
            "_view_module_version": "1.5.0",
            "_view_name": "HTMLView",
            "description": "",
            "description_tooltip": null,
            "layout": "IPY_MODEL_37ec71503943462a8dcba8491567fabf",
            "placeholder": "​",
            "style": "IPY_MODEL_042a9928f4c44d949634ea0c4992b5dd",
            "value": " 200/200 [00:00&lt;00:00, 5223.72it/s]"
          }
        },
        "be96666e05f24555a62103112d7bf66c": {
          "model_module": "@jupyter-widgets/base",
          "model_name": "LayoutModel",
          "model_module_version": "1.2.0",
          "state": {
            "_model_module": "@jupyter-widgets/base",
            "_model_module_version": "1.2.0",
            "_model_name": "LayoutModel",
            "_view_count": null,
            "_view_module": "@jupyter-widgets/base",
            "_view_module_version": "1.2.0",
            "_view_name": "LayoutView",
            "align_content": null,
            "align_items": null,
            "align_self": null,
            "border": null,
            "bottom": null,
            "display": null,
            "flex": null,
            "flex_flow": null,
            "grid_area": null,
            "grid_auto_columns": null,
            "grid_auto_flow": null,
            "grid_auto_rows": null,
            "grid_column": null,
            "grid_gap": null,
            "grid_row": null,
            "grid_template_areas": null,
            "grid_template_columns": null,
            "grid_template_rows": null,
            "height": null,
            "justify_content": null,
            "justify_items": null,
            "left": null,
            "margin": null,
            "max_height": null,
            "max_width": null,
            "min_height": null,
            "min_width": null,
            "object_fit": null,
            "object_position": null,
            "order": null,
            "overflow": null,
            "overflow_x": null,
            "overflow_y": null,
            "padding": null,
            "right": null,
            "top": null,
            "visibility": null,
            "width": null
          }
        },
        "9a44c39b889c42f88680f8331045612c": {
          "model_module": "@jupyter-widgets/base",
          "model_name": "LayoutModel",
          "model_module_version": "1.2.0",
          "state": {
            "_model_module": "@jupyter-widgets/base",
            "_model_module_version": "1.2.0",
            "_model_name": "LayoutModel",
            "_view_count": null,
            "_view_module": "@jupyter-widgets/base",
            "_view_module_version": "1.2.0",
            "_view_name": "LayoutView",
            "align_content": null,
            "align_items": null,
            "align_self": null,
            "border": null,
            "bottom": null,
            "display": null,
            "flex": null,
            "flex_flow": null,
            "grid_area": null,
            "grid_auto_columns": null,
            "grid_auto_flow": null,
            "grid_auto_rows": null,
            "grid_column": null,
            "grid_gap": null,
            "grid_row": null,
            "grid_template_areas": null,
            "grid_template_columns": null,
            "grid_template_rows": null,
            "height": null,
            "justify_content": null,
            "justify_items": null,
            "left": null,
            "margin": null,
            "max_height": null,
            "max_width": null,
            "min_height": null,
            "min_width": null,
            "object_fit": null,
            "object_position": null,
            "order": null,
            "overflow": null,
            "overflow_x": null,
            "overflow_y": null,
            "padding": null,
            "right": null,
            "top": null,
            "visibility": null,
            "width": null
          }
        },
        "1b8fd513a094416e96d6be0db26de5d4": {
          "model_module": "@jupyter-widgets/controls",
          "model_name": "DescriptionStyleModel",
          "model_module_version": "1.5.0",
          "state": {
            "_model_module": "@jupyter-widgets/controls",
            "_model_module_version": "1.5.0",
            "_model_name": "DescriptionStyleModel",
            "_view_count": null,
            "_view_module": "@jupyter-widgets/base",
            "_view_module_version": "1.2.0",
            "_view_name": "StyleView",
            "description_width": ""
          }
        },
        "2d64dc47dfa44a458830278a93e89424": {
          "model_module": "@jupyter-widgets/base",
          "model_name": "LayoutModel",
          "model_module_version": "1.2.0",
          "state": {
            "_model_module": "@jupyter-widgets/base",
            "_model_module_version": "1.2.0",
            "_model_name": "LayoutModel",
            "_view_count": null,
            "_view_module": "@jupyter-widgets/base",
            "_view_module_version": "1.2.0",
            "_view_name": "LayoutView",
            "align_content": null,
            "align_items": null,
            "align_self": null,
            "border": null,
            "bottom": null,
            "display": null,
            "flex": null,
            "flex_flow": null,
            "grid_area": null,
            "grid_auto_columns": null,
            "grid_auto_flow": null,
            "grid_auto_rows": null,
            "grid_column": null,
            "grid_gap": null,
            "grid_row": null,
            "grid_template_areas": null,
            "grid_template_columns": null,
            "grid_template_rows": null,
            "height": null,
            "justify_content": null,
            "justify_items": null,
            "left": null,
            "margin": null,
            "max_height": null,
            "max_width": null,
            "min_height": null,
            "min_width": null,
            "object_fit": null,
            "object_position": null,
            "order": null,
            "overflow": null,
            "overflow_x": null,
            "overflow_y": null,
            "padding": null,
            "right": null,
            "top": null,
            "visibility": null,
            "width": null
          }
        },
        "71653d1b92c44b38931a70cfa11d2b5b": {
          "model_module": "@jupyter-widgets/controls",
          "model_name": "ProgressStyleModel",
          "model_module_version": "1.5.0",
          "state": {
            "_model_module": "@jupyter-widgets/controls",
            "_model_module_version": "1.5.0",
            "_model_name": "ProgressStyleModel",
            "_view_count": null,
            "_view_module": "@jupyter-widgets/base",
            "_view_module_version": "1.2.0",
            "_view_name": "StyleView",
            "bar_color": null,
            "description_width": ""
          }
        },
        "37ec71503943462a8dcba8491567fabf": {
          "model_module": "@jupyter-widgets/base",
          "model_name": "LayoutModel",
          "model_module_version": "1.2.0",
          "state": {
            "_model_module": "@jupyter-widgets/base",
            "_model_module_version": "1.2.0",
            "_model_name": "LayoutModel",
            "_view_count": null,
            "_view_module": "@jupyter-widgets/base",
            "_view_module_version": "1.2.0",
            "_view_name": "LayoutView",
            "align_content": null,
            "align_items": null,
            "align_self": null,
            "border": null,
            "bottom": null,
            "display": null,
            "flex": null,
            "flex_flow": null,
            "grid_area": null,
            "grid_auto_columns": null,
            "grid_auto_flow": null,
            "grid_auto_rows": null,
            "grid_column": null,
            "grid_gap": null,
            "grid_row": null,
            "grid_template_areas": null,
            "grid_template_columns": null,
            "grid_template_rows": null,
            "height": null,
            "justify_content": null,
            "justify_items": null,
            "left": null,
            "margin": null,
            "max_height": null,
            "max_width": null,
            "min_height": null,
            "min_width": null,
            "object_fit": null,
            "object_position": null,
            "order": null,
            "overflow": null,
            "overflow_x": null,
            "overflow_y": null,
            "padding": null,
            "right": null,
            "top": null,
            "visibility": null,
            "width": null
          }
        },
        "042a9928f4c44d949634ea0c4992b5dd": {
          "model_module": "@jupyter-widgets/controls",
          "model_name": "DescriptionStyleModel",
          "model_module_version": "1.5.0",
          "state": {
            "_model_module": "@jupyter-widgets/controls",
            "_model_module_version": "1.5.0",
            "_model_name": "DescriptionStyleModel",
            "_view_count": null,
            "_view_module": "@jupyter-widgets/base",
            "_view_module_version": "1.2.0",
            "_view_name": "StyleView",
            "description_width": ""
          }
        },
        "018fbc303c66446fb7aeff9293288018": {
          "model_module": "@jupyter-widgets/controls",
          "model_name": "HBoxModel",
          "model_module_version": "1.5.0",
          "state": {
            "_dom_classes": [],
            "_model_module": "@jupyter-widgets/controls",
            "_model_module_version": "1.5.0",
            "_model_name": "HBoxModel",
            "_view_count": null,
            "_view_module": "@jupyter-widgets/controls",
            "_view_module_version": "1.5.0",
            "_view_name": "HBoxView",
            "box_style": "",
            "children": [
              "IPY_MODEL_a8ca3ae60311404eb61f2d88e8b5f26d",
              "IPY_MODEL_7a89af58540448b1971204b01552ba2d",
              "IPY_MODEL_b2421303787046d6886953a2c88a1283"
            ],
            "layout": "IPY_MODEL_ec2ec63965ca4b98bc95e5f394a088a1"
          }
        },
        "a8ca3ae60311404eb61f2d88e8b5f26d": {
          "model_module": "@jupyter-widgets/controls",
          "model_name": "HTMLModel",
          "model_module_version": "1.5.0",
          "state": {
            "_dom_classes": [],
            "_model_module": "@jupyter-widgets/controls",
            "_model_module_version": "1.5.0",
            "_model_name": "HTMLModel",
            "_view_count": null,
            "_view_module": "@jupyter-widgets/controls",
            "_view_module_version": "1.5.0",
            "_view_name": "HTMLView",
            "description": "",
            "description_tooltip": null,
            "layout": "IPY_MODEL_1c24bb80291b4e07a5f439c133e32c5b",
            "placeholder": "​",
            "style": "IPY_MODEL_3e6693703eb7472b8fed1a8e996aa8c1",
            "value": "Pandas Apply: 100%"
          }
        },
        "7a89af58540448b1971204b01552ba2d": {
          "model_module": "@jupyter-widgets/controls",
          "model_name": "FloatProgressModel",
          "model_module_version": "1.5.0",
          "state": {
            "_dom_classes": [],
            "_model_module": "@jupyter-widgets/controls",
            "_model_module_version": "1.5.0",
            "_model_name": "FloatProgressModel",
            "_view_count": null,
            "_view_module": "@jupyter-widgets/controls",
            "_view_module_version": "1.5.0",
            "_view_name": "ProgressView",
            "bar_style": "success",
            "description": "",
            "description_tooltip": null,
            "layout": "IPY_MODEL_a731a43b6c1e4d6b91ff651e62b7525f",
            "max": 200,
            "min": 0,
            "orientation": "horizontal",
            "style": "IPY_MODEL_33a1bd3d2e6b4a85826821272b483bef",
            "value": 200
          }
        },
        "b2421303787046d6886953a2c88a1283": {
          "model_module": "@jupyter-widgets/controls",
          "model_name": "HTMLModel",
          "model_module_version": "1.5.0",
          "state": {
            "_dom_classes": [],
            "_model_module": "@jupyter-widgets/controls",
            "_model_module_version": "1.5.0",
            "_model_name": "HTMLModel",
            "_view_count": null,
            "_view_module": "@jupyter-widgets/controls",
            "_view_module_version": "1.5.0",
            "_view_name": "HTMLView",
            "description": "",
            "description_tooltip": null,
            "layout": "IPY_MODEL_1a18f2efa9c7453da12509df72583dd3",
            "placeholder": "​",
            "style": "IPY_MODEL_b3c56fc286d24e2ea5361d29071df62b",
            "value": " 200/200 [00:00&lt;00:00, 6660.00it/s]"
          }
        },
        "ec2ec63965ca4b98bc95e5f394a088a1": {
          "model_module": "@jupyter-widgets/base",
          "model_name": "LayoutModel",
          "model_module_version": "1.2.0",
          "state": {
            "_model_module": "@jupyter-widgets/base",
            "_model_module_version": "1.2.0",
            "_model_name": "LayoutModel",
            "_view_count": null,
            "_view_module": "@jupyter-widgets/base",
            "_view_module_version": "1.2.0",
            "_view_name": "LayoutView",
            "align_content": null,
            "align_items": null,
            "align_self": null,
            "border": null,
            "bottom": null,
            "display": null,
            "flex": null,
            "flex_flow": null,
            "grid_area": null,
            "grid_auto_columns": null,
            "grid_auto_flow": null,
            "grid_auto_rows": null,
            "grid_column": null,
            "grid_gap": null,
            "grid_row": null,
            "grid_template_areas": null,
            "grid_template_columns": null,
            "grid_template_rows": null,
            "height": null,
            "justify_content": null,
            "justify_items": null,
            "left": null,
            "margin": null,
            "max_height": null,
            "max_width": null,
            "min_height": null,
            "min_width": null,
            "object_fit": null,
            "object_position": null,
            "order": null,
            "overflow": null,
            "overflow_x": null,
            "overflow_y": null,
            "padding": null,
            "right": null,
            "top": null,
            "visibility": null,
            "width": null
          }
        },
        "1c24bb80291b4e07a5f439c133e32c5b": {
          "model_module": "@jupyter-widgets/base",
          "model_name": "LayoutModel",
          "model_module_version": "1.2.0",
          "state": {
            "_model_module": "@jupyter-widgets/base",
            "_model_module_version": "1.2.0",
            "_model_name": "LayoutModel",
            "_view_count": null,
            "_view_module": "@jupyter-widgets/base",
            "_view_module_version": "1.2.0",
            "_view_name": "LayoutView",
            "align_content": null,
            "align_items": null,
            "align_self": null,
            "border": null,
            "bottom": null,
            "display": null,
            "flex": null,
            "flex_flow": null,
            "grid_area": null,
            "grid_auto_columns": null,
            "grid_auto_flow": null,
            "grid_auto_rows": null,
            "grid_column": null,
            "grid_gap": null,
            "grid_row": null,
            "grid_template_areas": null,
            "grid_template_columns": null,
            "grid_template_rows": null,
            "height": null,
            "justify_content": null,
            "justify_items": null,
            "left": null,
            "margin": null,
            "max_height": null,
            "max_width": null,
            "min_height": null,
            "min_width": null,
            "object_fit": null,
            "object_position": null,
            "order": null,
            "overflow": null,
            "overflow_x": null,
            "overflow_y": null,
            "padding": null,
            "right": null,
            "top": null,
            "visibility": null,
            "width": null
          }
        },
        "3e6693703eb7472b8fed1a8e996aa8c1": {
          "model_module": "@jupyter-widgets/controls",
          "model_name": "DescriptionStyleModel",
          "model_module_version": "1.5.0",
          "state": {
            "_model_module": "@jupyter-widgets/controls",
            "_model_module_version": "1.5.0",
            "_model_name": "DescriptionStyleModel",
            "_view_count": null,
            "_view_module": "@jupyter-widgets/base",
            "_view_module_version": "1.2.0",
            "_view_name": "StyleView",
            "description_width": ""
          }
        },
        "a731a43b6c1e4d6b91ff651e62b7525f": {
          "model_module": "@jupyter-widgets/base",
          "model_name": "LayoutModel",
          "model_module_version": "1.2.0",
          "state": {
            "_model_module": "@jupyter-widgets/base",
            "_model_module_version": "1.2.0",
            "_model_name": "LayoutModel",
            "_view_count": null,
            "_view_module": "@jupyter-widgets/base",
            "_view_module_version": "1.2.0",
            "_view_name": "LayoutView",
            "align_content": null,
            "align_items": null,
            "align_self": null,
            "border": null,
            "bottom": null,
            "display": null,
            "flex": null,
            "flex_flow": null,
            "grid_area": null,
            "grid_auto_columns": null,
            "grid_auto_flow": null,
            "grid_auto_rows": null,
            "grid_column": null,
            "grid_gap": null,
            "grid_row": null,
            "grid_template_areas": null,
            "grid_template_columns": null,
            "grid_template_rows": null,
            "height": null,
            "justify_content": null,
            "justify_items": null,
            "left": null,
            "margin": null,
            "max_height": null,
            "max_width": null,
            "min_height": null,
            "min_width": null,
            "object_fit": null,
            "object_position": null,
            "order": null,
            "overflow": null,
            "overflow_x": null,
            "overflow_y": null,
            "padding": null,
            "right": null,
            "top": null,
            "visibility": null,
            "width": null
          }
        },
        "33a1bd3d2e6b4a85826821272b483bef": {
          "model_module": "@jupyter-widgets/controls",
          "model_name": "ProgressStyleModel",
          "model_module_version": "1.5.0",
          "state": {
            "_model_module": "@jupyter-widgets/controls",
            "_model_module_version": "1.5.0",
            "_model_name": "ProgressStyleModel",
            "_view_count": null,
            "_view_module": "@jupyter-widgets/base",
            "_view_module_version": "1.2.0",
            "_view_name": "StyleView",
            "bar_color": null,
            "description_width": ""
          }
        },
        "1a18f2efa9c7453da12509df72583dd3": {
          "model_module": "@jupyter-widgets/base",
          "model_name": "LayoutModel",
          "model_module_version": "1.2.0",
          "state": {
            "_model_module": "@jupyter-widgets/base",
            "_model_module_version": "1.2.0",
            "_model_name": "LayoutModel",
            "_view_count": null,
            "_view_module": "@jupyter-widgets/base",
            "_view_module_version": "1.2.0",
            "_view_name": "LayoutView",
            "align_content": null,
            "align_items": null,
            "align_self": null,
            "border": null,
            "bottom": null,
            "display": null,
            "flex": null,
            "flex_flow": null,
            "grid_area": null,
            "grid_auto_columns": null,
            "grid_auto_flow": null,
            "grid_auto_rows": null,
            "grid_column": null,
            "grid_gap": null,
            "grid_row": null,
            "grid_template_areas": null,
            "grid_template_columns": null,
            "grid_template_rows": null,
            "height": null,
            "justify_content": null,
            "justify_items": null,
            "left": null,
            "margin": null,
            "max_height": null,
            "max_width": null,
            "min_height": null,
            "min_width": null,
            "object_fit": null,
            "object_position": null,
            "order": null,
            "overflow": null,
            "overflow_x": null,
            "overflow_y": null,
            "padding": null,
            "right": null,
            "top": null,
            "visibility": null,
            "width": null
          }
        },
        "b3c56fc286d24e2ea5361d29071df62b": {
          "model_module": "@jupyter-widgets/controls",
          "model_name": "DescriptionStyleModel",
          "model_module_version": "1.5.0",
          "state": {
            "_model_module": "@jupyter-widgets/controls",
            "_model_module_version": "1.5.0",
            "_model_name": "DescriptionStyleModel",
            "_view_count": null,
            "_view_module": "@jupyter-widgets/base",
            "_view_module_version": "1.2.0",
            "_view_name": "StyleView",
            "description_width": ""
          }
        }
      }
    }
  },
  "nbformat": 4,
  "nbformat_minor": 0
}