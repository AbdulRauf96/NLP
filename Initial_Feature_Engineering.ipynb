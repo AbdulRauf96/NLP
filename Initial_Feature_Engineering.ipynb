{
  "cells": [
    {
      "cell_type": "markdown",
      "metadata": {
        "colab_type": "text",
        "id": "view-in-github"
      },
      "source": [
        "<a href=\"https://colab.research.google.com/github/AbdulRauf96/NLP/blob/main/Initial_Feature_Engineering.ipynb\" target=\"_parent\"><img src=\"https://colab.research.google.com/assets/colab-badge.svg\" alt=\"Open In Colab\"/></a>"
      ]
    },
    {
      "cell_type": "markdown",
      "metadata": {
        "id": "3cfCXWzzuZKE"
      },
      "source": [
        "# <font color = 'dodgerblue'>**Feature Engineering**"
      ]
    },
    {
      "cell_type": "markdown",
      "metadata": {
        "id": "3xB7FNlVw-cV"
      },
      "source": [
        "# <font color = 'dodgerblue'>**Installing/Importing libraries**"
      ]
    },
    {
      "cell_type": "code",
      "execution_count": 12,
      "metadata": {
        "colab": {
          "base_uri": "https://localhost:8080/"
        },
        "execution": {
          "iopub.execute_input": "2023-01-30T06:29:21.937749Z",
          "iopub.status.busy": "2023-01-30T06:29:21.937549Z",
          "iopub.status.idle": "2023-01-30T06:29:21.941020Z",
          "shell.execute_reply": "2023-01-30T06:29:21.940449Z",
          "shell.execute_reply.started": "2023-01-30T06:29:21.937737Z"
        },
        "id": "du0SiStFg-hm",
        "outputId": "35438806-1203-4e58-9c96-762a8092bf05",
        "tags": []
      },
      "outputs": [],
      "source": [
        "# import pandas library for data manipulation\n",
        "import pandas as pd\n",
        "\n",
        "# import spacy library for natural language processing\n",
        "import spacy\n",
        "\n",
        "# import Path library from pathlib for file system management\n",
        "from pathlib import Path\n",
        "\n",
        "# import Counter library from collections for counting words\n",
        "from collections import Counter\n",
        "\n",
        "# import custom functions\n",
        "from basic import basic_functions as bf\n",
        "\n",
        "# import os library for operating system management\n",
        "import os"
      ]
    },
    {
      "cell_type": "code",
      "execution_count": 2,
      "metadata": {
        "colab": {
          "base_uri": "https://localhost:8080/"
        },
        "execution": {
          "iopub.execute_input": "2023-01-30T06:31:48.759738Z",
          "iopub.status.busy": "2023-01-30T06:31:48.759498Z",
          "iopub.status.idle": "2023-01-30T06:31:48.764122Z",
          "shell.execute_reply": "2023-01-30T06:31:48.763392Z",
          "shell.execute_reply.started": "2023-01-30T06:31:48.759712Z"
        },
        "id": "P4xtTA7pZd1y",
        "outputId": "640a6489-fbff-4e66-a06f-cffe2f1ba752",
        "tags": []
      },
      "outputs": [
        {
          "name": "stdout",
          "output_type": "stream",
          "text": [
            "3.5.1\n"
          ]
        }
      ],
      "source": [
        "# check the version of spacy\n",
        "print(spacy.__version__)"
      ]
    },
    {
      "cell_type": "code",
      "execution_count": 3,
      "metadata": {
        "colab": {
          "base_uri": "https://localhost:8080/"
        },
        "execution": {
          "iopub.execute_input": "2023-01-30T06:31:56.009774Z",
          "iopub.status.busy": "2023-01-30T06:31:56.009543Z",
          "iopub.status.idle": "2023-01-30T06:32:00.294283Z",
          "shell.execute_reply": "2023-01-30T06:32:00.293368Z",
          "shell.execute_reply.started": "2023-01-30T06:31:56.009749Z"
        },
        "id": "hooWvvbaR1eH",
        "outputId": "b1d99689-8b3b-4d7d-8600-1ede6d9d7b8b",
        "tags": []
      },
      "outputs": [
        {
          "name": "stdout",
          "output_type": "stream",
          "text": [
            "\u001b[38;5;2m✔ Download and installation successful\u001b[0m\n",
            "You can now load the package via spacy.load('en_core_web_sm')\n"
          ]
        }
      ],
      "source": [
        "!python -m spacy download en_core_web_sm -qq"
      ]
    },
    {
      "cell_type": "markdown",
      "metadata": {
        "id": "w3mpAUM_tud0"
      },
      "source": [
        "# <font color = 'dodgerblue'>**Specify Data Folders**"
      ]
    },
    {
      "cell_type": "code",
      "execution_count": 5,
      "metadata": {
        "colab": {
          "base_uri": "https://localhost:8080/"
        },
        "execution": {
          "iopub.execute_input": "2023-01-30T06:33:57.335248Z",
          "iopub.status.busy": "2023-01-30T06:33:57.335005Z",
          "iopub.status.idle": "2023-01-30T06:33:57.340987Z",
          "shell.execute_reply": "2023-01-30T06:33:57.340210Z",
          "shell.execute_reply.started": "2023-01-30T06:33:57.335221Z"
        },
        "id": "12evQUDmH6Ls",
        "outputId": "e06b54de-37d9-4ae5-92a7-e79c3a4dfdf6",
        "tags": []
      },
      "outputs": [
        {
          "name": "stdout",
          "output_type": "stream",
          "text": [
            "Not Running on Colab\n",
            "Base Folder is C:\\Users\\abdul\\OneDrive\\Documents\\MSBA\n",
            "Data Folder is C:\\Users\\abdul\\OneDrive\\Documents\\MSBA\\data_sets\n",
            "Archive Folder is C:\\Users\\abdul\\OneDrive\\Documents\\MSBA\\archive\n",
            "Output Folder is C:\\Users\\abdul\\OneDrive\\Documents\\MSBA\\output\n",
            "The path to the custom functions is C:/Users/abdul/OneDrive/Documents/MSBA/custom_functions\n",
            "The working directory is c:\\Users\\abdul\\OneDrive\\Documents\\MSBA\\notebooks\\NLP\n"
          ]
        }
      ],
      "source": [
        "base_folder,data,archive,output = bf.set_folders()"
      ]
    },
    {
      "attachments": {},
      "cell_type": "markdown",
      "metadata": {
        "id": "TDLexGQV3w3t"
      },
      "source": [
        "# <font color = 'dodgerblue'>**Loading Data Set** </font>\n",
        "\n",
        "Note: We have allready downloaded the imdb data set and created train and test csv files\n",
        "    \n",
        "\n",
        "The data was downloaded from following link : https://ai.stanford.edu/~amaas/data/sentiment/.\n",
        "\n",
        "Description of the data from the above link :\n",
        "\"*This is a dataset for binary sentiment classification containing substantially more data than previous benchmark datasets. We provide a set of 25,000 highly polar movie reviews for training, and 25,000 for testing. There is additional unlabeled data for use as well. Raw text and already processed bag of words formats are provided. See the README file contained in the release for more details.*\"."
      ]
    },
    {
      "cell_type": "code",
      "execution_count": 8,
      "metadata": {
        "execution": {
          "iopub.execute_input": "2023-01-30T06:34:42.006135Z",
          "iopub.status.busy": "2023-01-30T06:34:42.005896Z",
          "iopub.status.idle": "2023-01-30T06:34:42.210714Z",
          "shell.execute_reply": "2023-01-30T06:34:42.210067Z",
          "shell.execute_reply.started": "2023-01-30T06:34:42.006109Z"
        },
        "id": "wqX7u4cfRWmc",
        "tags": []
      },
      "outputs": [],
      "source": [
        "df = pd.read_csv(data/ 'train.csv', index_col=0)"
      ]
    },
    {
      "cell_type": "code",
      "execution_count": 9,
      "metadata": {
        "colab": {
          "base_uri": "https://localhost:8080/"
        },
        "execution": {
          "iopub.execute_input": "2023-01-30T06:34:43.000806Z",
          "iopub.status.busy": "2023-01-30T06:34:43.000680Z",
          "iopub.status.idle": "2023-01-30T06:34:43.012959Z",
          "shell.execute_reply": "2023-01-30T06:34:43.012333Z",
          "shell.execute_reply.started": "2023-01-30T06:34:43.000795Z"
        },
        "id": "IccGIyLq5Ekl",
        "outputId": "129249fd-7386-4452-8535-697d0e399122",
        "tags": []
      },
      "outputs": [
        {
          "name": "stdout",
          "output_type": "stream",
          "text": [
            "<class 'pandas.core.frame.DataFrame'>\n",
            "Int64Index: 25000 entries, 0 to 24999\n",
            "Data columns (total 2 columns):\n",
            " #   Column   Non-Null Count  Dtype \n",
            "---  ------   --------------  ----- \n",
            " 0   Reviews  25000 non-null  object\n",
            " 1   Labels   25000 non-null  int64 \n",
            "dtypes: int64(1), object(1)\n",
            "memory usage: 585.9+ KB\n"
          ]
        }
      ],
      "source": [
        "df.info()"
      ]
    },
    {
      "cell_type": "code",
      "execution_count": 10,
      "metadata": {
        "colab": {
          "base_uri": "https://localhost:8080/",
          "height": 206
        },
        "execution": {
          "iopub.execute_input": "2023-01-30T06:34:45.499980Z",
          "iopub.status.busy": "2023-01-30T06:34:45.499738Z",
          "iopub.status.idle": "2023-01-30T06:34:45.516055Z",
          "shell.execute_reply": "2023-01-30T06:34:45.515436Z",
          "shell.execute_reply.started": "2023-01-30T06:34:45.499954Z"
        },
        "id": "IEoSbgNQ5H5e",
        "outputId": "6af67980-84ee-4775-aca5-e2094e8f9342",
        "tags": []
      },
      "outputs": [
        {
          "data": {
            "text/html": [
              "<div>\n",
              "<style scoped>\n",
              "    .dataframe tbody tr th:only-of-type {\n",
              "        vertical-align: middle;\n",
              "    }\n",
              "\n",
              "    .dataframe tbody tr th {\n",
              "        vertical-align: top;\n",
              "    }\n",
              "\n",
              "    .dataframe thead th {\n",
              "        text-align: right;\n",
              "    }\n",
              "</style>\n",
              "<table border=\"1\" class=\"dataframe\">\n",
              "  <thead>\n",
              "    <tr style=\"text-align: right;\">\n",
              "      <th></th>\n",
              "      <th>Reviews</th>\n",
              "      <th>Labels</th>\n",
              "    </tr>\n",
              "  </thead>\n",
              "  <tbody>\n",
              "    <tr>\n",
              "      <th>0</th>\n",
              "      <td>I think this movie would be more enjoyable if ...</td>\n",
              "      <td>1</td>\n",
              "    </tr>\n",
              "    <tr>\n",
              "      <th>1</th>\n",
              "      <td>Timeless musical gem, with Gene Kelly in top f...</td>\n",
              "      <td>1</td>\n",
              "    </tr>\n",
              "    <tr>\n",
              "      <th>2</th>\n",
              "      <td>I just found the IMDb and searched this film a...</td>\n",
              "      <td>1</td>\n",
              "    </tr>\n",
              "    <tr>\n",
              "      <th>3</th>\n",
              "      <td>It's a short movie from David Lynch with just ...</td>\n",
              "      <td>1</td>\n",
              "    </tr>\n",
              "    <tr>\n",
              "      <th>4</th>\n",
              "      <td>I dug out from my garage some old musicals and...</td>\n",
              "      <td>1</td>\n",
              "    </tr>\n",
              "  </tbody>\n",
              "</table>\n",
              "</div>"
            ],
            "text/plain": [
              "                                             Reviews  Labels\n",
              "0  I think this movie would be more enjoyable if ...       1\n",
              "1  Timeless musical gem, with Gene Kelly in top f...       1\n",
              "2  I just found the IMDb and searched this film a...       1\n",
              "3  It's a short movie from David Lynch with just ...       1\n",
              "4  I dug out from my garage some old musicals and...       1"
            ]
          },
          "execution_count": 10,
          "metadata": {},
          "output_type": "execute_result"
        }
      ],
      "source": [
        "df.head()"
      ]
    },
    {
      "cell_type": "markdown",
      "metadata": {
        "id": "8ZdVixnuzXvU"
      },
      "source": [
        "# <font color = 'dodgerblue'>**Feature Engineering on IMDB dataset**"
      ]
    },
    {
      "cell_type": "markdown",
      "metadata": {
        "id": "KdRILCF477fE"
      },
      "source": [
        "* If we look at the dataset it cotains reviews and thier labels, where labels can be 1 for positive and 0 for negative.\n",
        "* Now let see what kind of feature engineering can be done for this dataset.\n",
        "* Since, review is a text data so we can count the total number of words because some times user tends to right a big review if they dislike it, although this is just an assumption, and we always tends to do experiment and check assumptions in feature engineering.\n",
        "* Similarly, we can create features for character count, digit count, pos tags count such as noun, adjective, verb counts, and we can also count entities in a review.\n",
        "\n",
        "We can also extract POS tags and Named Entities as features. **Do we need to preprocess data before this steps. What pre-prpcessing steps should we do?**\n",
        "\n",
        "  1. number of nouns or propernouns\n",
        "  2. number of aux\n",
        "  3. number of verbs\n",
        "  4. number of adjectives\n",
        "  5. number of ner (entiites)\n",
        "\n",
        "**Do we need to preprocess data before this steps. What pre-prpcessing steps should we do?**\n",
        "\n",
        "  6. number of words\n",
        "  7. number of characters\n",
        "  8. number of characters without space\n",
        "  9. average word length\n",
        "  10. number of digits"
      ]
    },
    {
      "cell_type": "markdown",
      "metadata": {
        "id": "Ox9oIlT0DYAm"
      },
      "source": [
        "## <font color = 'dodgerblue'>**Extracting POS**\n",
        "\n"
      ]
    },
    {
      "cell_type": "code",
      "execution_count": 13,
      "metadata": {
        "execution": {
          "iopub.execute_input": "2023-01-30T06:39:29.899039Z",
          "iopub.status.busy": "2023-01-30T06:39:29.898912Z",
          "iopub.status.idle": "2023-01-30T06:39:30.365299Z",
          "shell.execute_reply": "2023-01-30T06:39:30.364837Z",
          "shell.execute_reply.started": "2023-01-30T06:39:29.899027Z"
        },
        "id": "U3jbGgoWRyZE",
        "tags": []
      },
      "outputs": [],
      "source": [
        "nlp = spacy.load('en_core_web_sm')"
      ]
    },
    {
      "cell_type": "code",
      "execution_count": 14,
      "metadata": {
        "colab": {
          "base_uri": "https://localhost:8080/"
        },
        "id": "sTOjESArHhs-",
        "outputId": "d8932bf7-760b-4702-a20b-847392e6e471"
      },
      "outputs": [
        {
          "data": {
            "text/plain": [
              "8"
            ]
          },
          "execution_count": 14,
          "metadata": {},
          "output_type": "execute_result"
        }
      ],
      "source": [
        "os.cpu_count()"
      ]
    },
    {
      "cell_type": "code",
      "execution_count": 15,
      "metadata": {
        "execution": {
          "iopub.execute_input": "2023-01-30T06:39:31.299636Z",
          "iopub.status.busy": "2023-01-30T06:39:31.299536Z",
          "iopub.status.idle": "2023-01-30T06:40:15.169720Z",
          "shell.execute_reply": "2023-01-30T06:40:15.165962Z",
          "shell.execute_reply.started": "2023-01-30T06:39:31.299624Z"
        },
        "id": "CMY2cnb5hhV5",
        "tags": []
      },
      "outputs": [],
      "source": [
        "# This cell can take more than 1 hour to execute on colab\n",
        "\n",
        "noun_count = [] # create a list to store the noun count for each document\n",
        "aux_count = [] # create a list to store the auxiliary verb count for each document\n",
        "verb_count = [] # create a list to store the verb count for each document\n",
        "adj_count =[] # create a list to store the adjective count for each document\n",
        "\n",
        "# disable lemmatizer and named entity recognizer\n",
        "disabled = nlp.select_pipes(disable= ['lemmatizer', 'ner'])\n",
        "\n",
        "# iterate over the documents in the dataframe using the spacy pipe method\n",
        "for doc in nlp.pipe(df.Reviews.values, batch_size=1000, n_process=3):\n",
        "    \n",
        "    # find all nouns and proper nouns in the document and store in a list\n",
        "    nouns = [token.text for token in doc if (token.pos_ in [\"NOUN\",\"PROPN\"])] \n",
        "    \n",
        "    # find all auxiliary verbs in the document and store in a list\n",
        "    auxs =  [token.text for token in doc if (token.pos_ in [\"AUX\"])] \n",
        "    \n",
        "    # find all verbs in the document and store in a list\n",
        "    verbs =  [token.text for token in doc if (token.pos_ in [\"VERB\"])] \n",
        "    \n",
        "    # find all adjectives in the document and store in a list\n",
        "    adjectives =  [token.text for token in doc if (token.pos_ in [\"ADJ\"])]         \n",
        "    \n",
        "    # store the count of nouns in the noun_count list\n",
        "    noun_count.append(len(nouns))\n",
        "    \n",
        "    # store the count of auxiliary verbs in the aux_count list\n",
        "    aux_count.append(len(aux_count))\n",
        "    \n",
        "    # store the count of verbs in the verb_count list\n",
        "    verb_count.append(len(verb_count))\n",
        "    \n",
        "    # store the count of adjectives in the adj_count list\n",
        "    adj_count.append(len(adj_count))\n",
        "\n",
        "# restore the lemmatizer and named entity recognizer\n",
        "disabled.restore()"
      ]
    },
    {
      "cell_type": "markdown",
      "metadata": {
        "id": "J7vt2C7y_R6K"
      },
      "source": [
        "### <font color = 'dodgerblue'>**1. number of nouns or proper nouns**\n",
        "Extract number of nouns or proper nouns in a review in a new column 'noun_count'."
      ]
    },
    {
      "cell_type": "code",
      "execution_count": 16,
      "metadata": {
        "colab": {
          "base_uri": "https://localhost:8080/",
          "height": 206
        },
        "execution": {
          "iopub.execute_input": "2023-01-30T06:40:53.889678Z",
          "iopub.status.busy": "2023-01-30T06:40:53.889546Z",
          "iopub.status.idle": "2023-01-30T06:40:53.898996Z",
          "shell.execute_reply": "2023-01-30T06:40:53.898553Z",
          "shell.execute_reply.started": "2023-01-30T06:40:53.889665Z"
        },
        "id": "2DH7Jy0Mpodh",
        "outputId": "6dab5de6-aab3-4804-ad2a-94f2193dc3c9",
        "tags": []
      },
      "outputs": [
        {
          "data": {
            "text/html": [
              "<div>\n",
              "<style scoped>\n",
              "    .dataframe tbody tr th:only-of-type {\n",
              "        vertical-align: middle;\n",
              "    }\n",
              "\n",
              "    .dataframe tbody tr th {\n",
              "        vertical-align: top;\n",
              "    }\n",
              "\n",
              "    .dataframe thead th {\n",
              "        text-align: right;\n",
              "    }\n",
              "</style>\n",
              "<table border=\"1\" class=\"dataframe\">\n",
              "  <thead>\n",
              "    <tr style=\"text-align: right;\">\n",
              "      <th></th>\n",
              "      <th>Reviews</th>\n",
              "      <th>Labels</th>\n",
              "      <th>noun_count</th>\n",
              "    </tr>\n",
              "  </thead>\n",
              "  <tbody>\n",
              "    <tr>\n",
              "      <th>0</th>\n",
              "      <td>I think this movie would be more enjoyable if ...</td>\n",
              "      <td>1</td>\n",
              "      <td>29</td>\n",
              "    </tr>\n",
              "    <tr>\n",
              "      <th>1</th>\n",
              "      <td>Timeless musical gem, with Gene Kelly in top f...</td>\n",
              "      <td>1</td>\n",
              "      <td>24</td>\n",
              "    </tr>\n",
              "    <tr>\n",
              "      <th>2</th>\n",
              "      <td>I just found the IMDb and searched this film a...</td>\n",
              "      <td>1</td>\n",
              "      <td>31</td>\n",
              "    </tr>\n",
              "    <tr>\n",
              "      <th>3</th>\n",
              "      <td>It's a short movie from David Lynch with just ...</td>\n",
              "      <td>1</td>\n",
              "      <td>33</td>\n",
              "    </tr>\n",
              "    <tr>\n",
              "      <th>4</th>\n",
              "      <td>I dug out from my garage some old musicals and...</td>\n",
              "      <td>1</td>\n",
              "      <td>45</td>\n",
              "    </tr>\n",
              "  </tbody>\n",
              "</table>\n",
              "</div>"
            ],
            "text/plain": [
              "                                             Reviews  Labels  noun_count\n",
              "0  I think this movie would be more enjoyable if ...       1          29\n",
              "1  Timeless musical gem, with Gene Kelly in top f...       1          24\n",
              "2  I just found the IMDb and searched this film a...       1          31\n",
              "3  It's a short movie from David Lynch with just ...       1          33\n",
              "4  I dug out from my garage some old musicals and...       1          45"
            ]
          },
          "execution_count": 16,
          "metadata": {},
          "output_type": "execute_result"
        }
      ],
      "source": [
        "df['noun_count'] = noun_count\n",
        "df.head()"
      ]
    },
    {
      "cell_type": "markdown",
      "metadata": {
        "id": "9Sk95KGEtNHs"
      },
      "source": [
        "### <font color = 'dodgerblue'>**2. number of aux**\n",
        "Extract number of auxilaries (auxilary verbs) in a review in a new column 'aux_count'. Hint: pos tag in spacy is AUX."
      ]
    },
    {
      "cell_type": "code",
      "execution_count": 18,
      "metadata": {
        "colab": {
          "base_uri": "https://localhost:8080/",
          "height": 206
        },
        "execution": {
          "iopub.execute_input": "2023-01-30T06:40:57.979920Z",
          "iopub.status.busy": "2023-01-30T06:40:57.979677Z",
          "iopub.status.idle": "2023-01-30T06:40:57.997519Z",
          "shell.execute_reply": "2023-01-30T06:40:57.996902Z",
          "shell.execute_reply.started": "2023-01-30T06:40:57.979894Z"
        },
        "id": "nxZ1VvYhi16c",
        "outputId": "f208ab17-2584-4715-e21f-d7a940cd9401",
        "tags": []
      },
      "outputs": [
        {
          "data": {
            "text/html": [
              "<div>\n",
              "<style scoped>\n",
              "    .dataframe tbody tr th:only-of-type {\n",
              "        vertical-align: middle;\n",
              "    }\n",
              "\n",
              "    .dataframe tbody tr th {\n",
              "        vertical-align: top;\n",
              "    }\n",
              "\n",
              "    .dataframe thead th {\n",
              "        text-align: right;\n",
              "    }\n",
              "</style>\n",
              "<table border=\"1\" class=\"dataframe\">\n",
              "  <thead>\n",
              "    <tr style=\"text-align: right;\">\n",
              "      <th></th>\n",
              "      <th>Reviews</th>\n",
              "      <th>Labels</th>\n",
              "      <th>noun_count</th>\n",
              "      <th>aux_count</th>\n",
              "    </tr>\n",
              "  </thead>\n",
              "  <tbody>\n",
              "    <tr>\n",
              "      <th>0</th>\n",
              "      <td>I think this movie would be more enjoyable if ...</td>\n",
              "      <td>1</td>\n",
              "      <td>29</td>\n",
              "      <td>0</td>\n",
              "    </tr>\n",
              "    <tr>\n",
              "      <th>1</th>\n",
              "      <td>Timeless musical gem, with Gene Kelly in top f...</td>\n",
              "      <td>1</td>\n",
              "      <td>24</td>\n",
              "      <td>1</td>\n",
              "    </tr>\n",
              "    <tr>\n",
              "      <th>2</th>\n",
              "      <td>I just found the IMDb and searched this film a...</td>\n",
              "      <td>1</td>\n",
              "      <td>31</td>\n",
              "      <td>2</td>\n",
              "    </tr>\n",
              "    <tr>\n",
              "      <th>3</th>\n",
              "      <td>It's a short movie from David Lynch with just ...</td>\n",
              "      <td>1</td>\n",
              "      <td>33</td>\n",
              "      <td>3</td>\n",
              "    </tr>\n",
              "    <tr>\n",
              "      <th>4</th>\n",
              "      <td>I dug out from my garage some old musicals and...</td>\n",
              "      <td>1</td>\n",
              "      <td>45</td>\n",
              "      <td>4</td>\n",
              "    </tr>\n",
              "  </tbody>\n",
              "</table>\n",
              "</div>"
            ],
            "text/plain": [
              "                                             Reviews  Labels  noun_count  \\\n",
              "0  I think this movie would be more enjoyable if ...       1          29   \n",
              "1  Timeless musical gem, with Gene Kelly in top f...       1          24   \n",
              "2  I just found the IMDb and searched this film a...       1          31   \n",
              "3  It's a short movie from David Lynch with just ...       1          33   \n",
              "4  I dug out from my garage some old musicals and...       1          45   \n",
              "\n",
              "   aux_count  \n",
              "0          0  \n",
              "1          1  \n",
              "2          2  \n",
              "3          3  \n",
              "4          4  "
            ]
          },
          "execution_count": 18,
          "metadata": {},
          "output_type": "execute_result"
        }
      ],
      "source": [
        "df['aux_count'] = aux_count\n",
        "df.head()"
      ]
    },
    {
      "cell_type": "markdown",
      "metadata": {
        "id": "24Mzy3kbtRk4"
      },
      "source": [
        "### <font color = 'dodgerblue'>**3. number of verbs**\n",
        "Extract number of verbs in a review in a new column 'verb_count'. "
      ]
    },
    {
      "cell_type": "code",
      "execution_count": 19,
      "metadata": {
        "colab": {
          "base_uri": "https://localhost:8080/",
          "height": 206
        },
        "execution": {
          "iopub.execute_input": "2023-01-30T06:41:01.953148Z",
          "iopub.status.busy": "2023-01-30T06:41:01.952911Z",
          "iopub.status.idle": "2023-01-30T06:41:01.971119Z",
          "shell.execute_reply": "2023-01-30T06:41:01.970498Z",
          "shell.execute_reply.started": "2023-01-30T06:41:01.953122Z"
        },
        "id": "SXT-oBVii2Bg",
        "outputId": "1fe0c6d7-9235-402a-9c29-f6f3c66e6c63",
        "tags": []
      },
      "outputs": [
        {
          "data": {
            "text/html": [
              "<div>\n",
              "<style scoped>\n",
              "    .dataframe tbody tr th:only-of-type {\n",
              "        vertical-align: middle;\n",
              "    }\n",
              "\n",
              "    .dataframe tbody tr th {\n",
              "        vertical-align: top;\n",
              "    }\n",
              "\n",
              "    .dataframe thead th {\n",
              "        text-align: right;\n",
              "    }\n",
              "</style>\n",
              "<table border=\"1\" class=\"dataframe\">\n",
              "  <thead>\n",
              "    <tr style=\"text-align: right;\">\n",
              "      <th></th>\n",
              "      <th>Reviews</th>\n",
              "      <th>Labels</th>\n",
              "      <th>noun_count</th>\n",
              "      <th>aux_count</th>\n",
              "      <th>verb_count</th>\n",
              "    </tr>\n",
              "  </thead>\n",
              "  <tbody>\n",
              "    <tr>\n",
              "      <th>0</th>\n",
              "      <td>I think this movie would be more enjoyable if ...</td>\n",
              "      <td>1</td>\n",
              "      <td>29</td>\n",
              "      <td>0</td>\n",
              "      <td>0</td>\n",
              "    </tr>\n",
              "    <tr>\n",
              "      <th>1</th>\n",
              "      <td>Timeless musical gem, with Gene Kelly in top f...</td>\n",
              "      <td>1</td>\n",
              "      <td>24</td>\n",
              "      <td>1</td>\n",
              "      <td>1</td>\n",
              "    </tr>\n",
              "    <tr>\n",
              "      <th>2</th>\n",
              "      <td>I just found the IMDb and searched this film a...</td>\n",
              "      <td>1</td>\n",
              "      <td>31</td>\n",
              "      <td>2</td>\n",
              "      <td>2</td>\n",
              "    </tr>\n",
              "    <tr>\n",
              "      <th>3</th>\n",
              "      <td>It's a short movie from David Lynch with just ...</td>\n",
              "      <td>1</td>\n",
              "      <td>33</td>\n",
              "      <td>3</td>\n",
              "      <td>3</td>\n",
              "    </tr>\n",
              "    <tr>\n",
              "      <th>4</th>\n",
              "      <td>I dug out from my garage some old musicals and...</td>\n",
              "      <td>1</td>\n",
              "      <td>45</td>\n",
              "      <td>4</td>\n",
              "      <td>4</td>\n",
              "    </tr>\n",
              "  </tbody>\n",
              "</table>\n",
              "</div>"
            ],
            "text/plain": [
              "                                             Reviews  Labels  noun_count  \\\n",
              "0  I think this movie would be more enjoyable if ...       1          29   \n",
              "1  Timeless musical gem, with Gene Kelly in top f...       1          24   \n",
              "2  I just found the IMDb and searched this film a...       1          31   \n",
              "3  It's a short movie from David Lynch with just ...       1          33   \n",
              "4  I dug out from my garage some old musicals and...       1          45   \n",
              "\n",
              "   aux_count  verb_count  \n",
              "0          0           0  \n",
              "1          1           1  \n",
              "2          2           2  \n",
              "3          3           3  \n",
              "4          4           4  "
            ]
          },
          "execution_count": 19,
          "metadata": {},
          "output_type": "execute_result"
        }
      ],
      "source": [
        "df['verb_count'] = verb_count\n",
        "df.head()"
      ]
    },
    {
      "cell_type": "markdown",
      "metadata": {
        "id": "HliR5wG4tVQk"
      },
      "source": [
        "### <font color = 'dodgerblue'>**4. number of adjectives**\n",
        "Extract number of adjectives in a review in a new column 'adj_count'."
      ]
    },
    {
      "cell_type": "code",
      "execution_count": 20,
      "metadata": {
        "colab": {
          "base_uri": "https://localhost:8080/",
          "height": 206
        },
        "execution": {
          "iopub.execute_input": "2023-01-30T06:41:05.370930Z",
          "iopub.status.busy": "2023-01-30T06:41:05.370689Z",
          "iopub.status.idle": "2023-01-30T06:41:05.389252Z",
          "shell.execute_reply": "2023-01-30T06:41:05.388625Z",
          "shell.execute_reply.started": "2023-01-30T06:41:05.370903Z"
        },
        "id": "OqLQtj-Ui2J_",
        "outputId": "140f5053-8f1e-4b50-9135-0aa5bea446db",
        "tags": []
      },
      "outputs": [
        {
          "data": {
            "text/html": [
              "<div>\n",
              "<style scoped>\n",
              "    .dataframe tbody tr th:only-of-type {\n",
              "        vertical-align: middle;\n",
              "    }\n",
              "\n",
              "    .dataframe tbody tr th {\n",
              "        vertical-align: top;\n",
              "    }\n",
              "\n",
              "    .dataframe thead th {\n",
              "        text-align: right;\n",
              "    }\n",
              "</style>\n",
              "<table border=\"1\" class=\"dataframe\">\n",
              "  <thead>\n",
              "    <tr style=\"text-align: right;\">\n",
              "      <th></th>\n",
              "      <th>Reviews</th>\n",
              "      <th>Labels</th>\n",
              "      <th>noun_count</th>\n",
              "      <th>aux_count</th>\n",
              "      <th>verb_count</th>\n",
              "      <th>adj_count</th>\n",
              "    </tr>\n",
              "  </thead>\n",
              "  <tbody>\n",
              "    <tr>\n",
              "      <th>0</th>\n",
              "      <td>I think this movie would be more enjoyable if ...</td>\n",
              "      <td>1</td>\n",
              "      <td>29</td>\n",
              "      <td>0</td>\n",
              "      <td>0</td>\n",
              "      <td>0</td>\n",
              "    </tr>\n",
              "    <tr>\n",
              "      <th>1</th>\n",
              "      <td>Timeless musical gem, with Gene Kelly in top f...</td>\n",
              "      <td>1</td>\n",
              "      <td>24</td>\n",
              "      <td>1</td>\n",
              "      <td>1</td>\n",
              "      <td>1</td>\n",
              "    </tr>\n",
              "    <tr>\n",
              "      <th>2</th>\n",
              "      <td>I just found the IMDb and searched this film a...</td>\n",
              "      <td>1</td>\n",
              "      <td>31</td>\n",
              "      <td>2</td>\n",
              "      <td>2</td>\n",
              "      <td>2</td>\n",
              "    </tr>\n",
              "    <tr>\n",
              "      <th>3</th>\n",
              "      <td>It's a short movie from David Lynch with just ...</td>\n",
              "      <td>1</td>\n",
              "      <td>33</td>\n",
              "      <td>3</td>\n",
              "      <td>3</td>\n",
              "      <td>3</td>\n",
              "    </tr>\n",
              "    <tr>\n",
              "      <th>4</th>\n",
              "      <td>I dug out from my garage some old musicals and...</td>\n",
              "      <td>1</td>\n",
              "      <td>45</td>\n",
              "      <td>4</td>\n",
              "      <td>4</td>\n",
              "      <td>4</td>\n",
              "    </tr>\n",
              "  </tbody>\n",
              "</table>\n",
              "</div>"
            ],
            "text/plain": [
              "                                             Reviews  Labels  noun_count  \\\n",
              "0  I think this movie would be more enjoyable if ...       1          29   \n",
              "1  Timeless musical gem, with Gene Kelly in top f...       1          24   \n",
              "2  I just found the IMDb and searched this film a...       1          31   \n",
              "3  It's a short movie from David Lynch with just ...       1          33   \n",
              "4  I dug out from my garage some old musicals and...       1          45   \n",
              "\n",
              "   aux_count  verb_count  adj_count  \n",
              "0          0           0          0  \n",
              "1          1           1          1  \n",
              "2          2           2          2  \n",
              "3          3           3          3  \n",
              "4          4           4          4  "
            ]
          },
          "execution_count": 20,
          "metadata": {},
          "output_type": "execute_result"
        }
      ],
      "source": [
        "df['adj_count'] = adj_count\n",
        "df.head()"
      ]
    },
    {
      "cell_type": "markdown",
      "metadata": {
        "id": "AKnxg7E9tYyk"
      },
      "source": [
        "## <font color = 'dodgerblue'>**Extracting Named Entities**\n",
        "Extract number of named entities (ner) in a review in a new column 'ner_count'."
      ]
    },
    {
      "cell_type": "code",
      "execution_count": 21,
      "metadata": {
        "execution": {
          "iopub.execute_input": "2023-01-30T06:49:13.212998Z",
          "iopub.status.busy": "2023-01-30T06:49:13.212757Z",
          "iopub.status.idle": "2023-01-30T06:49:43.150034Z",
          "shell.execute_reply": "2023-01-30T06:49:43.149345Z",
          "shell.execute_reply.started": "2023-01-30T06:49:13.212973Z"
        },
        "id": "K0GtD-2EhvVO",
        "tags": []
      },
      "outputs": [],
      "source": [
        "# Initialize empty list to store the number of named entities in each document\n",
        "count_ner  = []\n",
        "\n",
        "# Disable specified components in the spaCy pipeline\n",
        "disabled = nlp.select_pipes(disable= ['tok2vec', 'tagger', 'parser', 'attribute_ruler', 'lemmatizer'])\n",
        "\n",
        "# Loop over the reviews in the dataframe, processing each in batches of 1000 using spaCy's nlp.pipe method with parallel processing enabled (-1)\n",
        "for doc in nlp.pipe(df.Reviews.values, batch_size=1000, n_process=2):\n",
        "    # Get the named entities from the processed document\n",
        "    ners = [ent.label_ for ent in doc.ents] \n",
        "    # Add the count of named entities to the list\n",
        "    count_ner.append(len(ners))\n",
        "\n",
        "# Restore the components in the spaCy pipeline\n",
        "disabled.restore()"
      ]
    },
    {
      "cell_type": "code",
      "execution_count": 22,
      "metadata": {
        "colab": {
          "base_uri": "https://localhost:8080/",
          "height": 206
        },
        "execution": {
          "iopub.execute_input": "2023-01-30T06:49:48.349092Z",
          "iopub.status.busy": "2023-01-30T06:49:48.348832Z",
          "iopub.status.idle": "2023-01-30T06:49:48.358649Z",
          "shell.execute_reply": "2023-01-30T06:49:48.358091Z",
          "shell.execute_reply.started": "2023-01-30T06:49:48.349058Z"
        },
        "id": "m-FyWvVtrDVE",
        "outputId": "3494d782-fbdf-4aad-d5af-de603078d5ff",
        "tags": []
      },
      "outputs": [
        {
          "data": {
            "text/html": [
              "<div>\n",
              "<style scoped>\n",
              "    .dataframe tbody tr th:only-of-type {\n",
              "        vertical-align: middle;\n",
              "    }\n",
              "\n",
              "    .dataframe tbody tr th {\n",
              "        vertical-align: top;\n",
              "    }\n",
              "\n",
              "    .dataframe thead th {\n",
              "        text-align: right;\n",
              "    }\n",
              "</style>\n",
              "<table border=\"1\" class=\"dataframe\">\n",
              "  <thead>\n",
              "    <tr style=\"text-align: right;\">\n",
              "      <th></th>\n",
              "      <th>Reviews</th>\n",
              "      <th>Labels</th>\n",
              "      <th>noun_count</th>\n",
              "      <th>aux_count</th>\n",
              "      <th>verb_count</th>\n",
              "      <th>adj_count</th>\n",
              "      <th>ner_count</th>\n",
              "    </tr>\n",
              "  </thead>\n",
              "  <tbody>\n",
              "    <tr>\n",
              "      <th>0</th>\n",
              "      <td>I think this movie would be more enjoyable if ...</td>\n",
              "      <td>1</td>\n",
              "      <td>29</td>\n",
              "      <td>0</td>\n",
              "      <td>0</td>\n",
              "      <td>0</td>\n",
              "      <td>7</td>\n",
              "    </tr>\n",
              "    <tr>\n",
              "      <th>1</th>\n",
              "      <td>Timeless musical gem, with Gene Kelly in top f...</td>\n",
              "      <td>1</td>\n",
              "      <td>24</td>\n",
              "      <td>1</td>\n",
              "      <td>1</td>\n",
              "      <td>1</td>\n",
              "      <td>3</td>\n",
              "    </tr>\n",
              "    <tr>\n",
              "      <th>2</th>\n",
              "      <td>I just found the IMDb and searched this film a...</td>\n",
              "      <td>1</td>\n",
              "      <td>31</td>\n",
              "      <td>2</td>\n",
              "      <td>2</td>\n",
              "      <td>2</td>\n",
              "      <td>10</td>\n",
              "    </tr>\n",
              "    <tr>\n",
              "      <th>3</th>\n",
              "      <td>It's a short movie from David Lynch with just ...</td>\n",
              "      <td>1</td>\n",
              "      <td>33</td>\n",
              "      <td>3</td>\n",
              "      <td>3</td>\n",
              "      <td>3</td>\n",
              "      <td>3</td>\n",
              "    </tr>\n",
              "    <tr>\n",
              "      <th>4</th>\n",
              "      <td>I dug out from my garage some old musicals and...</td>\n",
              "      <td>1</td>\n",
              "      <td>45</td>\n",
              "      <td>4</td>\n",
              "      <td>4</td>\n",
              "      <td>4</td>\n",
              "      <td>15</td>\n",
              "    </tr>\n",
              "  </tbody>\n",
              "</table>\n",
              "</div>"
            ],
            "text/plain": [
              "                                             Reviews  Labels  noun_count  \\\n",
              "0  I think this movie would be more enjoyable if ...       1          29   \n",
              "1  Timeless musical gem, with Gene Kelly in top f...       1          24   \n",
              "2  I just found the IMDb and searched this film a...       1          31   \n",
              "3  It's a short movie from David Lynch with just ...       1          33   \n",
              "4  I dug out from my garage some old musicals and...       1          45   \n",
              "\n",
              "   aux_count  verb_count  adj_count  ner_count  \n",
              "0          0           0          0          7  \n",
              "1          1           1          1          3  \n",
              "2          2           2          2         10  \n",
              "3          3           3          3          3  \n",
              "4          4           4          4         15  "
            ]
          },
          "execution_count": 22,
          "metadata": {},
          "output_type": "execute_result"
        }
      ],
      "source": [
        "df['ner_count'] = count_ner\n",
        "df.head()"
      ]
    }
  ],
  "metadata": {
    "colab": {
      "collapsed_sections": [
        "3xB7FNlVw-cV",
        "w3mpAUM_tud0",
        "TDLexGQV3w3t"
      ],
      "include_colab_link": true,
      "machine_shape": "hm",
      "provenance": []
    },
    "gpuClass": "standard",
    "kernelspec": {
      "display_name": "Python 3 (ipykernel)",
      "language": "python",
      "name": "python3"
    },
    "language_info": {
      "codemirror_mode": {
        "name": "ipython",
        "version": 3
      },
      "file_extension": ".py",
      "mimetype": "text/x-python",
      "name": "python",
      "nbconvert_exporter": "python",
      "pygments_lexer": "ipython3",
      "version": "3.10.9"
    }
  },
  "nbformat": 4,
  "nbformat_minor": 0
}
