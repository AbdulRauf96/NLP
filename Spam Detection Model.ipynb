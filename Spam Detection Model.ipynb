{
  "cells": [
    {
      "cell_type": "markdown",
      "metadata": {
        "id": "_mJQGbTFOCAx"
      },
      "source": [
        "<h1 align='center'><b><font color='indianred'></p>Spam Detection HW</b></h1>\n",
        "\n",
        "<font color = 'indianred' size = 4 >**Read complete instructions before starting the HW** </font>\n"
      ]
    },
    {
      "cell_type": "markdown",
      "metadata": {
        "id": "cXeG6ZQ4OVDj"
      },
      "source": [
        "# <font color='indianred'> **Q1: Load the dataset  (1 Point)**\n",
        "\n",
        "- For this Hw you will usespam dataset from kaggle which can be found from [this](https://www.kaggle.com/uciml/sms-spam-collection-dataset) link. You can download this data and either upload it in google drive or in colab workspace. Load the data in pandas dataframe. \n",
        "\n",
        "- There are only two useful columns. These columns are related to (1) label (ham and spam) and the (2) text of email.\n",
        "\n",
        "- Rename columns as label and message\n",
        "\n",
        "- Find the %  ham amd spam in the data.\n",
        "\n",
        "\n",
        "\n"
      ]
    },
    {
      "cell_type": "markdown",
      "metadata": {
        "id": "Q9D1B5l-PyXG"
      },
      "source": [
        "#### <font color='ember'>Connect to Drive"
      ]
    },
    {
      "cell_type": "code",
      "execution_count": 1,
      "metadata": {
        "colab": {
          "base_uri": "https://localhost:8080/"
        },
        "id": "BD0hDyk5LqH7",
        "outputId": "0a6ae96f-513c-4550-d733-12ca759488c9"
      },
      "outputs": [
        {
          "name": "stdout",
          "output_type": "stream",
          "text": [
            "Not Running on Colab\n"
          ]
        }
      ],
      "source": [
        "import sys\n",
        "from pathlib import Path\n",
        "if 'google.colab' in str(get_ipython()):\n",
        "  print('Running on Colab')\n",
        "  !pip install -U nltk -qq\n",
        "  !pip install -U spacy -qq\n",
        "  !python -m spacy download en_core_web_sm -qq\n",
        "\n",
        "  # Import the drive module from google.colab\n",
        "  # Mount Google Drive to access files and directories\n",
        "  from google.colab import drive  \n",
        "  drive.mount('/content/drive')\n",
        "  # Set the basepath to the data directory in Google Drive\n",
        "  base_folder = Path('/content/drive/MyDrive/colab_notebooks')\n",
        "  subject = 'nlp'\n",
        "  data = base_folder/subject/'data/'\n",
        "  archive = base_folder/subject/'archive/'\n",
        "  output = base_folder/subject/'output'\n",
        "  model_folder = base_folder/subject/'models/HW3'\n",
        "  custom_functions = base_folder/subject/'custom_functions'\n",
        "  # Add the path to the custom-functions directory in Google Drive to sys.path\n",
        "  sys.path.append('/content/drive/MyDrive/colab_notebooks/nlp/custom_functions')\n",
        "else:\n",
        "  print('Not Running on Colab')\n",
        "  # Add the path to the custom-functions directory in the local file system to sys.path\n",
        "  sys.path.append('C:/Users/Abdul Rauf Maroof/OneDrive/Documents/MSBA/custom_functions')\n",
        "  base_folder = Path('C:/Users/Abdul Rauf Maroof/OneDrive/Documents/MSBA')\n",
        "  data = base_folder/'data/'\n",
        "  archive = base_folder/'archive/'\n",
        "  output = base_folder/'output'\n",
        "  custom_functions = base_folder/'custom_functions'"
      ]
    },
    {
      "cell_type": "markdown",
      "metadata": {
        "id": "cV-kQdSNPvVq"
      },
      "source": [
        "#### <font color = 'ember'>Import Library"
      ]
    },
    {
      "cell_type": "code",
      "execution_count": 2,
      "metadata": {
        "id": "ioFXZRDXQKLN"
      },
      "outputs": [],
      "source": [
        "%load_ext autoreload\n",
        "%autoreload 2"
      ]
    },
    {
      "cell_type": "code",
      "execution_count": 3,
      "metadata": {
        "colab": {
          "base_uri": "https://localhost:8080/"
        },
        "id": "cB2uUUngQKLN",
        "outputId": "89506e39-3a93-4e5d-9321-8e68bde1d88f"
      },
      "outputs": [],
      "source": [
        "import pandas as pd\n",
        "import numpy as np\n",
        "import matplotlib.pyplot as plt\n",
        "import zipfile\n",
        "from pathlib import Path\n",
        "from featurizer import ManualFeatures"
      ]
    },
    {
      "cell_type": "code",
      "execution_count": 4,
      "metadata": {
        "id": "46iiXdVV1D2E"
      },
      "outputs": [],
      "source": [
        "# Import the joblib library for saving and loading models\n",
        "import joblib\n",
        "\n",
        "# Import scikit-learn classes for building models\n",
        "from sklearn.model_selection import train_test_split\n",
        "from sklearn.linear_model import LogisticRegression\n",
        "from sklearn.feature_extraction.text import TfidfVectorizer\n",
        "from sklearn.model_selection import GridSearchCV\n",
        "from sklearn.model_selection import RandomizedSearchCV\n",
        "from sklearn.metrics import classification_report, make_scorer, f1_score, roc_auc_score\n",
        "from sklearn.pipeline import Pipeline\n",
        "from sklearn.compose import ColumnTransformer\n",
        "from sklearn.base import TransformerMixin, BaseEstimator\n",
        "\n",
        "# Import the scipy library for working with sparse matrices\n",
        "from scipy.sparse import csr_matrix"
      ]
    },
    {
      "cell_type": "code",
      "execution_count": 5,
      "metadata": {
        "id": "Ikx6mxJl1L3P"
      },
      "outputs": [],
      "source": [
        "import custom_preprocessor_mod as cp\n",
        "from  featurizer import ManualFeatures\n",
        "from  plot_learning_curve import plot_learning_curve"
      ]
    },
    {
      "cell_type": "markdown",
      "metadata": {
        "id": "SonQMXH9SW-F"
      },
      "source": [
        "#### <font color='ember'> Unzip File"
      ]
    },
    {
      "cell_type": "code",
      "execution_count": 6,
      "metadata": {
        "colab": {
          "base_uri": "https://localhost:8080/"
        },
        "id": "Dlif4-z0PotY",
        "outputId": "a4d31525-6dce-4ead-c528-913ca9a577b8"
      },
      "outputs": [
        {
          "name": "stdout",
          "output_type": "stream",
          "text": [
            "my_spotify_data.zip\n",
            "Spotify-20230303T164824Z-001.zip\n"
          ]
        }
      ],
      "source": [
        "for entry in archive.iterdir():\n",
        "  if 'zip' in entry.name:\n",
        "    print(entry.name)"
      ]
    },
    {
      "cell_type": "code",
      "execution_count": null,
      "metadata": {
        "id": "Z7d7y_r2PotZ"
      },
      "outputs": [],
      "source": [
        "file = archive/'SMS_spam.zip'"
      ]
    },
    {
      "cell_type": "code",
      "execution_count": null,
      "metadata": {
        "colab": {
          "base_uri": "https://localhost:8080/"
        },
        "id": "9lXVQwxjPotZ",
        "outputId": "00670c49-2b1d-457c-baf2-6213ebafbb82"
      },
      "outputs": [
        {
          "name": "stdout",
          "output_type": "stream",
          "text": [
            "['spam.csv']\n"
          ]
        }
      ],
      "source": [
        "with zipfile.ZipFile(file,'r') as f:\n",
        "  print(f.namelist())"
      ]
    },
    {
      "cell_type": "code",
      "execution_count": null,
      "metadata": {
        "id": "JS6cZFQzQZHk"
      },
      "outputs": [],
      "source": [
        "with zipfile.ZipFile(file, 'r') as f:\n",
        "  f.extract('spam.csv', path = data)"
      ]
    },
    {
      "cell_type": "code",
      "execution_count": null,
      "metadata": {
        "colab": {
          "base_uri": "https://localhost:8080/"
        },
        "id": "0pqQRqEURbFG",
        "outputId": "c4c504a5-fc90-46e2-8a9c-1b6fd1955c87"
      },
      "outputs": [
        {
          "name": "stdout",
          "output_type": "stream",
          "text": [
            "v1,v2,,,\r\n",
            "ham,\"Go until jurong point, crazy.. Available only in bugis n great world la e buffet... Cine there got amore wat...\",,,\r\n",
            "ham,Ok lar... Joking wif u oni...,,,\r\n",
            "spam,Free entry in 2 a wkly comp to win FA Cup final tkts 21st May 2005. Text FA to 87121 to receive entry question(std txt rate)T&C's apply 08452810075over18's,,,\r\n",
            "ham,U dun say so early hor... U c already then say...,,,\r\n"
          ]
        }
      ],
      "source": [
        "file_csv = data/'spam.csv'\n",
        "!head -n 5 {str(file_csv)}"
      ]
    },
    {
      "cell_type": "markdown",
      "metadata": {
        "id": "i48r2gkBThuW"
      },
      "source": [
        "#### <font color='ember'>Cleaning Dataframe and Checking Data"
      ]
    },
    {
      "cell_type": "code",
      "execution_count": null,
      "metadata": {
        "colab": {
          "base_uri": "https://localhost:8080/"
        },
        "id": "Bphl4E-MR6fT",
        "outputId": "b24a6a66-9aac-4c87-9819-5ba79ccc354b"
      },
      "outputs": [
        {
          "name": "stdout",
          "output_type": "stream",
          "text": [
            "<class 'pandas.core.frame.DataFrame'>\n",
            "RangeIndex: 5572 entries, 0 to 5571\n",
            "Data columns (total 2 columns):\n",
            " #   Column   Non-Null Count  Dtype \n",
            "---  ------   --------------  ----- \n",
            " 0   label    5572 non-null   object\n",
            " 1   message  5572 non-null   object\n",
            "dtypes: object(2)\n",
            "memory usage: 87.2+ KB\n"
          ]
        }
      ],
      "source": [
        "df = pd.read_csv(file_csv, encoding = 'ISO-8859-1')\n",
        "df = df.iloc[:,:2]\n",
        "df = df.rename({'v1':'label','v2':'message'}, axis=1)\n",
        "df.info()"
      ]
    },
    {
      "cell_type": "code",
      "execution_count": null,
      "metadata": {
        "colab": {
          "base_uri": "https://localhost:8080/"
        },
        "id": "q7-ykswgUGbS",
        "outputId": "55125c22-0aba-48c8-fdfa-a96f9fe1552e"
      },
      "outputs": [
        {
          "data": {
            "text/html": [
              "\n",
              "  <div id=\"df-afd254d7-cd6e-4eff-a671-e15a31948ee6\">\n",
              "    <div class=\"colab-df-container\">\n",
              "      <div>\n",
              "<style scoped>\n",
              "    .dataframe tbody tr th:only-of-type {\n",
              "        vertical-align: middle;\n",
              "    }\n",
              "\n",
              "    .dataframe tbody tr th {\n",
              "        vertical-align: top;\n",
              "    }\n",
              "\n",
              "    .dataframe thead th {\n",
              "        text-align: right;\n",
              "    }\n",
              "</style>\n",
              "<table border=\"1\" class=\"dataframe\">\n",
              "  <thead>\n",
              "    <tr style=\"text-align: right;\">\n",
              "      <th></th>\n",
              "      <th>label</th>\n",
              "      <th>message</th>\n",
              "      <th>percent</th>\n",
              "    </tr>\n",
              "  </thead>\n",
              "  <tbody>\n",
              "    <tr>\n",
              "      <th>0</th>\n",
              "      <td>ham</td>\n",
              "      <td>4825</td>\n",
              "      <td>86.59</td>\n",
              "    </tr>\n",
              "    <tr>\n",
              "      <th>1</th>\n",
              "      <td>spam</td>\n",
              "      <td>747</td>\n",
              "      <td>13.41</td>\n",
              "    </tr>\n",
              "  </tbody>\n",
              "</table>\n",
              "</div>\n",
              "      <button class=\"colab-df-convert\" onclick=\"convertToInteractive('df-afd254d7-cd6e-4eff-a671-e15a31948ee6')\"\n",
              "              title=\"Convert this dataframe to an interactive table.\"\n",
              "              style=\"display:none;\">\n",
              "        \n",
              "  <svg xmlns=\"http://www.w3.org/2000/svg\" height=\"24px\"viewBox=\"0 0 24 24\"\n",
              "       width=\"24px\">\n",
              "    <path d=\"M0 0h24v24H0V0z\" fill=\"none\"/>\n",
              "    <path d=\"M18.56 5.44l.94 2.06.94-2.06 2.06-.94-2.06-.94-.94-2.06-.94 2.06-2.06.94zm-11 1L8.5 8.5l.94-2.06 2.06-.94-2.06-.94L8.5 2.5l-.94 2.06-2.06.94zm10 10l.94 2.06.94-2.06 2.06-.94-2.06-.94-.94-2.06-.94 2.06-2.06.94z\"/><path d=\"M17.41 7.96l-1.37-1.37c-.4-.4-.92-.59-1.43-.59-.52 0-1.04.2-1.43.59L10.3 9.45l-7.72 7.72c-.78.78-.78 2.05 0 2.83L4 21.41c.39.39.9.59 1.41.59.51 0 1.02-.2 1.41-.59l7.78-7.78 2.81-2.81c.8-.78.8-2.07 0-2.86zM5.41 20L4 18.59l7.72-7.72 1.47 1.35L5.41 20z\"/>\n",
              "  </svg>\n",
              "      </button>\n",
              "      \n",
              "  <style>\n",
              "    .colab-df-container {\n",
              "      display:flex;\n",
              "      flex-wrap:wrap;\n",
              "      gap: 12px;\n",
              "    }\n",
              "\n",
              "    .colab-df-convert {\n",
              "      background-color: #E8F0FE;\n",
              "      border: none;\n",
              "      border-radius: 50%;\n",
              "      cursor: pointer;\n",
              "      display: none;\n",
              "      fill: #1967D2;\n",
              "      height: 32px;\n",
              "      padding: 0 0 0 0;\n",
              "      width: 32px;\n",
              "    }\n",
              "\n",
              "    .colab-df-convert:hover {\n",
              "      background-color: #E2EBFA;\n",
              "      box-shadow: 0px 1px 2px rgba(60, 64, 67, 0.3), 0px 1px 3px 1px rgba(60, 64, 67, 0.15);\n",
              "      fill: #174EA6;\n",
              "    }\n",
              "\n",
              "    [theme=dark] .colab-df-convert {\n",
              "      background-color: #3B4455;\n",
              "      fill: #D2E3FC;\n",
              "    }\n",
              "\n",
              "    [theme=dark] .colab-df-convert:hover {\n",
              "      background-color: #434B5C;\n",
              "      box-shadow: 0px 1px 3px 1px rgba(0, 0, 0, 0.15);\n",
              "      filter: drop-shadow(0px 1px 2px rgba(0, 0, 0, 0.3));\n",
              "      fill: #FFFFFF;\n",
              "    }\n",
              "  </style>\n",
              "\n",
              "      <script>\n",
              "        const buttonEl =\n",
              "          document.querySelector('#df-afd254d7-cd6e-4eff-a671-e15a31948ee6 button.colab-df-convert');\n",
              "        buttonEl.style.display =\n",
              "          google.colab.kernel.accessAllowed ? 'block' : 'none';\n",
              "\n",
              "        async function convertToInteractive(key) {\n",
              "          const element = document.querySelector('#df-afd254d7-cd6e-4eff-a671-e15a31948ee6');\n",
              "          const dataTable =\n",
              "            await google.colab.kernel.invokeFunction('convertToInteractive',\n",
              "                                                     [key], {});\n",
              "          if (!dataTable) return;\n",
              "\n",
              "          const docLinkHtml = 'Like what you see? Visit the ' +\n",
              "            '<a target=\"_blank\" href=https://colab.research.google.com/notebooks/data_table.ipynb>data table notebook</a>'\n",
              "            + ' to learn more about interactive tables.';\n",
              "          element.innerHTML = '';\n",
              "          dataTable['output_type'] = 'display_data';\n",
              "          await google.colab.output.renderOutput(dataTable, element);\n",
              "          const docLink = document.createElement('div');\n",
              "          docLink.innerHTML = docLinkHtml;\n",
              "          element.appendChild(docLink);\n",
              "        }\n",
              "      </script>\n",
              "    </div>\n",
              "  </div>\n",
              "  "
            ],
            "text/plain": [
              "  label  message  percent\n",
              "0   ham     4825    86.59\n",
              "1  spam      747    13.41"
            ]
          },
          "execution_count": 12,
          "metadata": {},
          "output_type": "execute_result"
        }
      ],
      "source": [
        "df2 = df.groupby('label').count(); df2.reset_index(inplace=True)\n",
        "df2['percent'] = round((df2['message'] / \n",
        "                  df2['message'].sum()) * 100, 2)\n",
        "df2"
      ]
    },
    {
      "cell_type": "markdown",
      "metadata": {
        "id": "WnwETC_viCSS"
      },
      "source": [
        "##### <font Color = 'ember'> Based on the dataframe we can see that ham is 86.59%  while spam is 13.41% "
      ]
    },
    {
      "cell_type": "code",
      "execution_count": null,
      "metadata": {
        "id": "yQznUFXwv0qG"
      },
      "outputs": [],
      "source": [
        "# For the purpose of this assignment we assume spam is positive and ham is negative given that this is a spam detection model.\n",
        "df.label = df.label.replace({'ham':0,'spam':1})"
      ]
    },
    {
      "cell_type": "markdown",
      "metadata": {
        "id": "pNdWCViagO4F"
      },
      "source": [
        "# <font color='indianred'> **Q2 : Provide the metric for evaluating model (1 Point)**</font>\n",
        "\n",
        "As you will notice, the  data is highly imbalanced (most messages are labelled as ham and only few are labelled as spam). Always predicting ham will give us very good accuracy (close to 90%). So you need to choose a different metric.\n",
        "\n",
        "Task: Provde the metric you will choose to evaluate your model. Explain why this is an appropriate metric for this case."
      ]
    },
    {
      "cell_type": "markdown",
      "metadata": {
        "id": "Z2G2vgmPd2qt"
      },
      "source": [
        "#### <font color = 'ember'> Some alternative metrics we can use in substitute of accuracy for an imbalanced dataset are as follows:\n",
        "\n",
        "1. **Recall** is the ratio of true positive predictions to the total number of actual positive instances. The formula would be as follows: $\\frac{TP}{TP+FN}$ this measure is useful when false negatives are costly so it may not be appropriate in this case. \n",
        "\n",
        "2. **Precision** is the ratio of true positive predictions to the total number of positive predictions. The formula would be as follows: $\\frac{TP}{TP+FP}$ this measure would be better suited in this case as there is a hiigh number of positive instances. \n",
        "\n",
        "3. **F1-score** is the harmonic mean of precision and recall. It is a useful metric when both false negatives and false positives are equally important. F1 score is often used in imbalanced datasets. For the formula for the F1 score is:\n",
        "$2*\\frac{(precision * recall)}{(precision + recall)}$\n",
        "\n",
        "4. **ROC Curve** and AOC is a graphical representation of the true positive rate (TPR) against the false positive rate (FPR) and the AUC (area under the ROC curve) is a measure of the classifier's performance. It is useful for evaluating models that predict probabilities so in this case it would not be as useful\n",
        "\n",
        "5. **PR Curve and AUPRC** The PR (precision-recall) curve is a graphical representation of the precision against recall, and the AUPRC (area under the PR curve) is a measure of the classifier's performance. The PR curve is useful for evaluating models that predict probabilities, and is often used in imbalanced datasets where precision and recall are important. It is a good alternative for the ROC Curve when we are working with an imbalanced dataset\n",
        "\n",
        "6. **Weighted and Macro-Averaged Metrics** are useful when evaluating models on imbalanced datasets, as they give more weight to the minority class and can help ensure that the performance of the model on the minority class is not overlooked. Weighted metrics calculate the average of the metric, weighted by the number of instances in each class, while macro-averaged metrics calculate the average of the metric for each class separately and then take the unweighted average.\n",
        "\n",
        "\n",
        "For the purpose of our project we will use F1 score with macro averaging as well as precision as these would be better metrics as compared to accuracy given that:\n",
        "\n",
        "  1. We have an imbalanced dataset that is more weighted towards positive instances therefore a precision would be a better metric as compared to accuracy and recall.\n",
        "  2. Since we have an imbalanced dataset a F1 score is generally better suited for and using a macro averaged metric would be better as it would give the minority class more weight as compared to weighted approach\n",
        "  3. For the purpose of my assignment it makes the most sense to use F1 score wiht a macro averaging as the most reliable metric in this case as it gives a harmonic mean of both precision and recall. By using macro weighting we can ensure that we give equal weight in an unbalanced dataset"
      ]
    },
    {
      "cell_type": "markdown",
      "metadata": {
        "id": "rH8_mvGhiThV"
      },
      "source": [
        "# <font color='indianred'> **Q3 : Classification Pipelines (18 Points)**</font>\n",
        "\n",
        "In the previous lectures you learned Data processing, Featurization such as CountVectorizer, TFIDFVectorizer, and also Feature Engineering.\n",
        "* You will now use folllowing methods to create fearures which you can use in your model. \n",
        "\n",
        "    1. Sparse Embeddings (TF-IDF) (6 Points)\n",
        "    2. Feature Engineering (see examples below) (6 Points)\n",
        "    3. Sparse Embeddings (TF-IDF) + Feature Engineering (6 Points)\n",
        "\n",
        "**Approach:**\n",
        "\n",
        "<font color='indianred'> ****Use a smaller subset of dataset (e.g. 10 %) to evaluate the three pipelines . Based on your analysis (e.g. model score, learning curves) , choose one pipeline from the three. Provde your rational for choosing the pipleine. Train only the final pipeline on randomly selected larger subset (e.g. 40%) of the data.** </font>\n",
        "\n",
        "**Requirements:** \n",
        "\n",
        "1. You can use any ML model (Logistic Regression, XgBoost) for the classification. You will need to tune the **model for imbalanced dataset** (The link on XGBoost tutorial for imbalanced data: https://machinelearningmastery.com/xgboost-for-imbalanced-classification/).\n",
        "\n",
        "2. For feature engineering, you can choose from the examples below. You do not  have to use all of them. You can add other featues as well. Think about what faetures can distinguish a spam from a regular email. Some examples :\n",
        "\n",
        ">> Count of following  (Words, characters, digits, exclamation marks, numbers, Nouns, ProperNouns, AUX, VERBS, Adjectives, named entities, spelling mistakes (see the link on how to get spelling mistakes https://pypi.org/project/pyspellchecker/). \n",
        "\n",
        "3. For Sparse embeddings you will use **tfidf vectorization**. You need to choose appopriate parameters e.g. min_df, max_df, max_faetures, n-grams etc.). \n",
        "\n",
        "4. Think carefully about the pre-processing you will do.\n",
        "\n",
        "Tip: <font color = 'indianred'>**Using GridSearch for hyperparameter tuning might take a lot of time. Try using RandomizedSearch.**</font> You can also explore faster implementation of Gridsearch and RandomizedSearch in sklearn: \n",
        "\n",
        "1. [Halving Grid Search](https://scikit-learn.org/stable/modules/generated/sklearn.model_selection.HalvingGridSearchCV.html?highlight=halving#sklearn.model_selection.HalvingGridSearchCV)\n",
        "\n",
        "2. [HalvingRandomSearchCV](https://scikit-learn.org/stable/modules/generated/sklearn.model_selection.HalvingRandomSearchCV.html?highlight=halving#sklearn.model_selection.HalvingRandomSearchCV)\n",
        "\n",
        "\n",
        "\n"
      ]
    },
    {
      "cell_type": "markdown",
      "metadata": {
        "id": "iuTFiitW3IOa"
      },
      "source": [
        "#### <font color = 'ember'>Preprocessing"
      ]
    },
    {
      "cell_type": "code",
      "execution_count": null,
      "metadata": {
        "colab": {
          "base_uri": "https://localhost:8080/"
        },
        "id": "00lXk4XPd7Qf",
        "outputId": "5e996e7c-93f8-475a-ad91-886764897cf9"
      },
      "outputs": [
        {
          "name": "stdout",
          "output_type": "stream",
          "text": [
            "<class 'pandas.core.frame.DataFrame'>\n",
            "Int64Index: 557 entries, 5157 to 2195\n",
            "Data columns (total 2 columns):\n",
            " #   Column   Non-Null Count  Dtype \n",
            "---  ------   --------------  ----- \n",
            " 0   label    557 non-null    int64 \n",
            " 1   message  557 non-null    object\n",
            "dtypes: int64(1), object(1)\n",
            "memory usage: 13.1+ KB\n"
          ]
        }
      ],
      "source": [
        "train_smaller = df.sample(frac=0.1, replace=True, random_state=1)\n",
        "train_smaller.info()"
      ]
    },
    {
      "cell_type": "code",
      "execution_count": null,
      "metadata": {
        "colab": {
          "base_uri": "https://localhost:8080/"
        },
        "id": "aISb1XI5_hb6",
        "outputId": "bb31721d-faa1-4691-8a25-2aa6c5e30040"
      },
      "outputs": [
        {
          "name": "stdout",
          "output_type": "stream",
          "text": [
            "X_train: (389,) y_train: (389,)\n",
            "X_test: (168,) y_test: (168,)\n"
          ]
        }
      ],
      "source": [
        "X = train_smaller['message'].values\n",
        "y = train_smaller['label'].values\n",
        "X_train, X_test, y_train, y_test = train_test_split(X, y, test_size=0.3, random_state=432)\n",
        "print(f'X_train: {X_train.shape} y_train: {y_train.shape}')\n",
        "print(f'X_test: {X_test.shape} y_test: {y_test.shape}')"
      ]
    },
    {
      "cell_type": "code",
      "execution_count": null,
      "metadata": {
        "colab": {
          "base_uri": "https://localhost:8080/"
        },
        "id": "fwlbVbpr4SPE",
        "outputId": "acb835dd-ad4f-4ae7-a42d-bc6629483fb1"
      },
      "outputs": [
        {
          "data": {
            "text/plain": [
              "['/content/drive/MyDrive/colab_notebooks/nlp/data/x_train_cleaned_sparse_embed.pkl']"
            ]
          },
          "execution_count": 16,
          "metadata": {},
          "output_type": "execute_result"
        }
      ],
      "source": [
        "X_train_cleaned = cp.SpacyPreprocessor(model='en_core_web_sm').transform(X_train)\n",
        "# save this to a file\n",
        "file_X_train_cleaned_sparse_embed = data / 'x_train_cleaned_sparse_embed.pkl'\n",
        "joblib.dump(X_train_cleaned, file_X_train_cleaned_sparse_embed)"
      ]
    },
    {
      "cell_type": "code",
      "execution_count": null,
      "metadata": {
        "colab": {
          "base_uri": "https://localhost:8080/"
        },
        "id": "NciQrcWFGQSR",
        "outputId": "9527daf1-32ce-45c6-eb8a-378dc81f9670"
      },
      "outputs": [
        {
          "data": {
            "text/plain": [
              "['/content/drive/MyDrive/colab_notebooks/nlp/data/x_test_cleaned_sparse_embed.pkl']"
            ]
          },
          "execution_count": 17,
          "metadata": {},
          "output_type": "execute_result"
        }
      ],
      "source": [
        "X_test_cleaned = cp.SpacyPreprocessor(model='en_core_web_sm').transform(X_test)\n",
        "# save  this to a file\n",
        "file_X_test_cleaned_sparse_embed = data / 'x_test_cleaned_sparse_embed.pkl'\n",
        "joblib.dump(X_test_cleaned, file_X_test_cleaned_sparse_embed)"
      ]
    },
    {
      "cell_type": "markdown",
      "metadata": {
        "id": "lnTpqb8k387g"
      },
      "source": [
        "### <Font Color = 'skyblue'> Pipeline 1: Data Preprocessing + Sparse Embeddings (TF-IDF)"
      ]
    },
    {
      "cell_type": "markdown",
      "metadata": {
        "id": "b5Ah0b6l5gX0"
      },
      "source": [
        "#### <font color='ember'> Create Pipeline"
      ]
    },
    {
      "cell_type": "code",
      "execution_count": null,
      "metadata": {
        "id": "rVY2Z6KW5OwQ"
      },
      "outputs": [],
      "source": [
        "classifier_1 = Pipeline([\n",
        "    ('vectorizer', TfidfVectorizer(max_features=10, ngram_range=(2, 3), lowercase=False, token_pattern=r'\\b\\w\\w+\\b')),\n",
        "    ('classifier', LogisticRegression(max_iter=10000)),\n",
        "                        ])"
      ]
    },
    {
      "cell_type": "markdown",
      "metadata": {
        "id": "Al4CXFQhDRl1"
      },
      "source": [
        "#### <font color = 'ember'> Parameter Grid"
      ]
    },
    {
      "cell_type": "code",
      "execution_count": null,
      "metadata": {
        "id": "Hlb5-Y9W5se7"
      },
      "outputs": [],
      "source": [
        "param_grid_classifier_1 = {'vectorizer__max_features': [100, 500, 1000, 2000, 5000],\n",
        "                           'classifier__C': [0.01, 0.05, 0.1, 1, 10, 100, 1000,100000],\n",
        "                           'classifier__class_weight': [{0:1, 1: cw} for cw in [1,2,10,15,20,25,30]]\n",
        "                           }"
      ]
    },
    {
      "cell_type": "markdown",
      "metadata": {
        "id": "W8aJuA71DhyQ"
      },
      "source": [
        "#### <font color='ember'>Specify GridSearch"
      ]
    },
    {
      "cell_type": "code",
      "execution_count": null,
      "metadata": {
        "id": "-Gsqc4b95wMn"
      },
      "outputs": [],
      "source": [
        "grid_classifier_1 = RandomizedSearchCV(estimator=classifier_1,  param_distributions=param_grid_classifier_1, cv = 8, n_jobs=-1, scoring=['f1_macro', 'roc_auc'], refit='f1_macro')"
      ]
    },
    {
      "cell_type": "markdown",
      "metadata": {
        "id": "2fTEvCgYDn3j"
      },
      "source": [
        "#### <font color='ember'> Fit the Model"
      ]
    },
    {
      "cell_type": "code",
      "execution_count": null,
      "metadata": {
        "colab": {
          "base_uri": "https://localhost:8080/"
        },
        "id": "U3M_wuT-5yL2",
        "outputId": "12a2c16b-9131-4084-cb03-e6f54ae41b3d"
      },
      "outputs": [
        {
          "data": {
            "text/plain": [
              "RandomizedSearchCV(cv=8,\n",
              "                   estimator=Pipeline(steps=[('vectorizer',\n",
              "                                              TfidfVectorizer(lowercase=False,\n",
              "                                                              max_features=10,\n",
              "                                                              ngram_range=(2,\n",
              "                                                                           3),\n",
              "                                                              token_pattern='\\\\b\\\\w\\\\w+\\\\b')),\n",
              "                                             ('classifier',\n",
              "                                              LogisticRegression(max_iter=10000))]),\n",
              "                   n_jobs=-1,\n",
              "                   param_distributions={'classifier__C': [0.01, 0.05, 0.1, 1,\n",
              "                                                          10, 100, 1000,\n",
              "                                                          100000],\n",
              "                                        'classifier__class_weight': [{0: 1,\n",
              "                                                                      1: 1},\n",
              "                                                                     {0: 1,\n",
              "                                                                      1: 2},\n",
              "                                                                     {0: 1,\n",
              "                                                                      1: 10},\n",
              "                                                                     {0: 1,\n",
              "                                                                      1: 15},\n",
              "                                                                     {0: 1,\n",
              "                                                                      1: 20},\n",
              "                                                                     {0: 1,\n",
              "                                                                      1: 25},\n",
              "                                                                     {0: 1,\n",
              "                                                                      1: 30}],\n",
              "                                        'vectorizer__max_features': [100, 500,\n",
              "                                                                     1000, 2000,\n",
              "                                                                     5000]},\n",
              "                   refit='f1_macro', scoring=['f1_macro', 'roc_auc'])"
            ]
          },
          "execution_count": 21,
          "metadata": {},
          "output_type": "execute_result"
        }
      ],
      "source": [
        "# Fit the model on training data\n",
        "X_train_cleaned_sparse_embed = joblib.load(file_X_train_cleaned_sparse_embed)\n",
        "grid_classifier_1.fit(X_train_cleaned_sparse_embed, y_train)"
      ]
    },
    {
      "cell_type": "markdown",
      "metadata": {
        "id": "Qc6tQ-kUD0I_"
      },
      "source": [
        "#### <font color = 'ember'> Get Best Parameters"
      ]
    },
    {
      "cell_type": "code",
      "execution_count": null,
      "metadata": {
        "colab": {
          "base_uri": "https://localhost:8080/"
        },
        "id": "IQgA3mzg53_G",
        "outputId": "01512133-5d63-4ceb-894e-c4cea9d8dc50"
      },
      "outputs": [
        {
          "name": "stdout",
          "output_type": "stream",
          "text": [
            "Best cross-validation score: 0.67\n",
            "\n",
            "Best parameters:  {'vectorizer__max_features': 1000, 'classifier__class_weight': {0: 1, 1: 10}, 'classifier__C': 10}\n",
            "\n",
            "Best estimator:  Pipeline(steps=[('vectorizer',\n",
            "                 TfidfVectorizer(lowercase=False, max_features=1000,\n",
            "                                 ngram_range=(2, 3),\n",
            "                                 token_pattern='\\\\b\\\\w\\\\w+\\\\b')),\n",
            "                ('classifier',\n",
            "                 LogisticRegression(C=10, class_weight={0: 1, 1: 10},\n",
            "                                    max_iter=10000))])\n"
          ]
        }
      ],
      "source": [
        "print(f'Best cross-validation score: {grid_classifier_1.best_score_:.2f}')\n",
        "print(\"\\nBest parameters: \", grid_classifier_1.best_params_)\n",
        "print(\"\\nBest estimator: \", grid_classifier_1.best_estimator_)"
      ]
    },
    {
      "cell_type": "markdown",
      "metadata": {
        "id": "Kpfss7pyGoUt"
      },
      "source": [
        "#### <font color='ember'> Save and Load Model "
      ]
    },
    {
      "cell_type": "code",
      "execution_count": null,
      "metadata": {
        "id": "5-49fxn2GuQI"
      },
      "outputs": [],
      "source": [
        "file_best_estimator_pipeline1_round1 = model_folder / 'pipeline1_round1_best_estimator.pkl'\n",
        "file_complete_grid_pipeline1_round1 = model_folder / 'pipeline1_round1_complete_grid.pkl'"
      ]
    },
    {
      "cell_type": "code",
      "execution_count": null,
      "metadata": {
        "colab": {
          "base_uri": "https://localhost:8080/"
        },
        "id": "Ppsje4qQGzE_",
        "outputId": "a4fe8f01-17c7-4c53-98bc-d4662e6314a6"
      },
      "outputs": [
        {
          "data": {
            "text/plain": [
              "['/content/drive/MyDrive/colab_notebooks/nlp/models/HW3/pipeline1_round1_complete_grid.pkl']"
            ]
          },
          "execution_count": 24,
          "metadata": {},
          "output_type": "execute_result"
        }
      ],
      "source": [
        "joblib.dump(grid_classifier_1.best_estimator_, file_best_estimator_pipeline1_round1)\n",
        "joblib.dump(grid_classifier_1, file_complete_grid_pipeline1_round1)"
      ]
    },
    {
      "cell_type": "code",
      "execution_count": null,
      "metadata": {
        "id": "Adoaeb_sG063"
      },
      "outputs": [],
      "source": [
        "# load the saved model\n",
        "best_estimator_pipeline1_round1 = joblib.load(file_best_estimator_pipeline1_round1)\n",
        "complete_grid_pipeline1_round1 = joblib.load(file_complete_grid_pipeline1_round1)"
      ]
    },
    {
      "cell_type": "markdown",
      "metadata": {
        "id": "xWVHNuxqitmb"
      },
      "source": [
        "#### <font color='ember'> Plot Learning Curve"
      ]
    },
    {
      "cell_type": "code",
      "execution_count": null,
      "metadata": {
        "colab": {
          "base_uri": "https://localhost:8080/"
        },
        "id": "fYA2gTBw6EAB",
        "outputId": "5303fee0-1222-46be-9679-3bc150cee616"
      },
      "outputs": [
        {
          "data": {
            "text/plain": [
              "<module 'matplotlib.pyplot' from '/usr/local/lib/python3.8/dist-packages/matplotlib/pyplot.py'>"
            ]
          },
          "execution_count": 26,
          "metadata": {},
          "output_type": "execute_result"
        },
        {
          "data": {
            "image/png": "[encoded data removed]",
            "text/plain": [
              "<Figure size 1440x360 with 3 Axes>"
            ]
          },
          "metadata": {
            "needs_background": "light"
          },
          "output_type": "display_data"
        }
      ],
      "source": [
        "plot_learning_curve(best_estimator_pipeline1_round1, 'Learning Curves',\n",
        "                    X_train_cleaned_sparse_embed, y_train, n_jobs=-1,scoring='f1_macro')"
      ]
    },
    {
      "cell_type": "markdown",
      "metadata": {
        "id": "Nu6botBOEBt-"
      },
      "source": [
        "#### <font color ='ember'> Check Cross Validation and Train Score"
      ]
    },
    {
      "cell_type": "code",
      "execution_count": null,
      "metadata": {
        "colab": {
          "base_uri": "https://localhost:8080/"
        },
        "id": "TLvtc-WE6T-O",
        "outputId": "1f7e4f42-77ae-45eb-abce-1bfe95a72494"
      },
      "outputs": [
        {
          "name": "stdout",
          "output_type": "stream",
          "text": [
            "0.9974293059125964\n",
            "0.6745462862399128\n"
          ]
        }
      ],
      "source": [
        "# let's check the train scores\n",
        "print(best_estimator_pipeline1_round1.score(X_train_cleaned, y_train))\n",
        "\n",
        "# let's check the cross validation score\n",
        "print(complete_grid_pipeline1_round1.best_score_)"
      ]
    },
    {
      "cell_type": "markdown",
      "metadata": {
        "id": "e9XQV2wEEH6U"
      },
      "source": [
        "#### <font color = 'ember'> Evaluate model on test data"
      ]
    },
    {
      "cell_type": "code",
      "execution_count": null,
      "metadata": {
        "id": "UdkExwKJKjGl"
      },
      "outputs": [],
      "source": [
        "# Final Pipeline\n",
        "def final_pipeline(text):\n",
        "    # X_test_cleaned = cp.SpacyPreprocessor(model='en_core_web_sm').transform(text)\n",
        "    cleaned_text = joblib.load(file_X_test_cleaned_sparse_embed)\n",
        "    best_estimator_pipeline1_round1 = joblib.load(file_best_estimator_pipeline1_round1)\n",
        "    predictions = best_estimator_pipeline1_round1.predict(cleaned_text)\n",
        "    return predictions"
      ]
    },
    {
      "cell_type": "code",
      "execution_count": null,
      "metadata": {
        "id": "irnfk33fkUdf"
      },
      "outputs": [],
      "source": [
        "# predicted values for Test data set\n",
        "y_test_pred = final_pipeline(X_test)"
      ]
    },
    {
      "cell_type": "markdown",
      "metadata": {
        "id": "SFk536hWES0I"
      },
      "source": [
        "#### <font color='ember'> Classification report for test dataset"
      ]
    },
    {
      "cell_type": "code",
      "execution_count": null,
      "metadata": {
        "colab": {
          "base_uri": "https://localhost:8080/"
        },
        "id": "Y_qMfirH6aGA",
        "outputId": "df845486-b125-4b93-a56f-944685aa884b"
      },
      "outputs": [
        {
          "name": "stdout",
          "output_type": "stream",
          "text": [
            "\n",
            "Test set classification report:\n",
            "\n",
            "               precision    recall  f1-score   support\n",
            "\n",
            "           0       0.90      1.00      0.94       145\n",
            "           1       1.00      0.26      0.41        23\n",
            "\n",
            "    accuracy                           0.90       168\n",
            "   macro avg       0.95      0.63      0.68       168\n",
            "weighted avg       0.91      0.90      0.87       168\n",
            "\n"
          ]
        }
      ],
      "source": [
        "print('\\nTest set classification report:\\n\\n', \n",
        "      classification_report(y_test, y_test_pred))"
      ]
    },
    {
      "cell_type": "markdown",
      "metadata": {
        "id": "LIAddVthzbO6"
      },
      "source": [
        "### <font color = 'skyblue'>Pipeline 2: Manual Featues with a Machine Learning Model pipeline"
      ]
    },
    {
      "cell_type": "markdown",
      "metadata": {
        "id": "56ZxF3oMElW4"
      },
      "source": [
        "#### <font color='ember'> Generate Manual Features"
      ]
    },
    {
      "cell_type": "code",
      "execution_count": null,
      "metadata": {
        "id": "z4iAoQrdza52"
      },
      "outputs": [],
      "source": [
        "featurizer =  ManualFeatures(spacy_model='en_core_web_sm')"
      ]
    },
    {
      "cell_type": "code",
      "execution_count": null,
      "metadata": {
        "id": "MWVj-TGoz6RX"
      },
      "outputs": [],
      "source": [
        "X_train_features, feature_names = featurizer.fit_transform(X_train)"
      ]
    },
    {
      "cell_type": "code",
      "execution_count": null,
      "metadata": {
        "colab": {
          "base_uri": "https://localhost:8080/"
        },
        "id": "ETpJR_k80XuV",
        "outputId": "4b857cbd-300b-448c-ca10-8316a47ceb33"
      },
      "outputs": [
        {
          "data": {
            "text/plain": [
              "(389, 11)"
            ]
          },
          "execution_count": 33,
          "metadata": {},
          "output_type": "execute_result"
        }
      ],
      "source": [
        "X_train_features.shape"
      ]
    },
    {
      "cell_type": "code",
      "execution_count": null,
      "metadata": {
        "colab": {
          "base_uri": "https://localhost:8080/"
        },
        "id": "Ym5Qctw50YM_",
        "outputId": "7c2f2f3d-de61-49c0-fe8b-a139ab11508d"
      },
      "outputs": [
        {
          "data": {
            "text/plain": [
              "['count_words',\n",
              " 'count_characters',\n",
              " 'count_characters_no_space',\n",
              " 'avg_word_length',\n",
              " 'count_digits',\n",
              " 'count_numbers',\n",
              " 'noun_count',\n",
              " 'aux_count',\n",
              " 'verb_count',\n",
              " 'adj_count',\n",
              " 'ner']"
            ]
          },
          "execution_count": 34,
          "metadata": {},
          "output_type": "execute_result"
        }
      ],
      "source": [
        "feature_names"
      ]
    },
    {
      "cell_type": "markdown",
      "metadata": {
        "id": "S0dbv2Wm0wQN"
      },
      "source": [
        "#### <font color='ember'>Create Pipelines"
      ]
    },
    {
      "cell_type": "code",
      "execution_count": null,
      "metadata": {
        "id": "THFktkQR0y0K"
      },
      "outputs": [],
      "source": [
        "classifier_2 = Pipeline([\n",
        "    ('classifier', LogisticRegression(max_iter=10000)),\n",
        "                        ])"
      ]
    },
    {
      "cell_type": "markdown",
      "metadata": {
        "id": "ZdS8k7HqEzJD"
      },
      "source": [
        "#### <font color='ember'> Parameter Grid"
      ]
    },
    {
      "cell_type": "code",
      "execution_count": null,
      "metadata": {
        "id": "fr5ERJ_101C2"
      },
      "outputs": [],
      "source": [
        "param_grid_classifier_2 = {'classifier__C': [0.01, 0.05, 0.1, 1, 10, 100, 1000, 10000,100000],\n",
        "                           'classifier__class_weight': [{0:1, 1: cw} for cw in [1,2,10,15,20,25,30]]}"
      ]
    },
    {
      "cell_type": "markdown",
      "metadata": {
        "id": "kHFE4EjCEzhp"
      },
      "source": [
        "#### <font color='ember'> Specify GridSearch"
      ]
    },
    {
      "cell_type": "code",
      "execution_count": null,
      "metadata": {
        "id": "lWvgLipi02eV"
      },
      "outputs": [],
      "source": [
        "grid_classifier_2 = RandomizedSearchCV(estimator=classifier_2,\n",
        "                                 param_distributions=param_grid_classifier_2,\n",
        "                                 cv=8, n_jobs=-1, scoring=['f1_macro', 'roc_auc'], refit='f1_macro')"
      ]
    },
    {
      "cell_type": "markdown",
      "metadata": {
        "id": "6D4Nlh25Ez6E"
      },
      "source": [
        "#### <font color='ember'> Fit the Model"
      ]
    },
    {
      "cell_type": "code",
      "execution_count": null,
      "metadata": {
        "colab": {
          "base_uri": "https://localhost:8080/"
        },
        "id": "6qJ5ieZU04pO",
        "outputId": "3f226faf-dd28-4464-948a-c6075f08c2fc"
      },
      "outputs": [
        {
          "data": {
            "text/plain": [
              "RandomizedSearchCV(cv=8,\n",
              "                   estimator=Pipeline(steps=[('classifier',\n",
              "                                              LogisticRegression(max_iter=10000))]),\n",
              "                   n_jobs=-1,\n",
              "                   param_distributions={'classifier__C': [0.01, 0.05, 0.1, 1,\n",
              "                                                          10, 100, 1000, 10000,\n",
              "                                                          100000],\n",
              "                                        'classifier__class_weight': [{0: 1,\n",
              "                                                                      1: 1},\n",
              "                                                                     {0: 1,\n",
              "                                                                      1: 2},\n",
              "                                                                     {0: 1,\n",
              "                                                                      1: 10},\n",
              "                                                                     {0: 1,\n",
              "                                                                      1: 15},\n",
              "                                                                     {0: 1,\n",
              "                                                                      1: 20},\n",
              "                                                                     {0: 1,\n",
              "                                                                      1: 25},\n",
              "                                                                     {0: 1,\n",
              "                                                                      1: 30}]},\n",
              "                   refit='f1_macro', scoring=['f1_macro', 'roc_auc'])"
            ]
          },
          "execution_count": 38,
          "metadata": {},
          "output_type": "execute_result"
        }
      ],
      "source": [
        "# Fit the model on training data\n",
        "grid_classifier_2.fit(X_train_features, y_train)"
      ]
    },
    {
      "cell_type": "markdown",
      "metadata": {
        "id": "BTwjW7uOE0fs"
      },
      "source": [
        "#### <font color='ember'> Get the best Parameters"
      ]
    },
    {
      "cell_type": "code",
      "execution_count": null,
      "metadata": {
        "colab": {
          "base_uri": "https://localhost:8080/"
        },
        "id": "xDH1cmdl1Brs",
        "outputId": "f4462abd-2cdd-455e-ce90-3807b43531b5"
      },
      "outputs": [
        {
          "name": "stdout",
          "output_type": "stream",
          "text": [
            "Best cross-validation score: 0.97\n",
            "\n",
            "Best parameters:  {'classifier__class_weight': {0: 1, 1: 2}, 'classifier__C': 1000}\n",
            "\n",
            "Best estimator:  Pipeline(steps=[('classifier',\n",
            "                 LogisticRegression(C=1000, class_weight={0: 1, 1: 2},\n",
            "                                    max_iter=10000))])\n"
          ]
        }
      ],
      "source": [
        "print(f'Best cross-validation score: {grid_classifier_2.best_score_:.2f}')\n",
        "print(\"\\nBest parameters: \", grid_classifier_2.best_params_)\n",
        "print(\"\\nBest estimator: \", grid_classifier_2.best_estimator_)"
      ]
    },
    {
      "cell_type": "markdown",
      "metadata": {
        "id": "yU_WS6C1Ikyl"
      },
      "source": [
        "#### <font color='ember'> Save and Load Model "
      ]
    },
    {
      "cell_type": "code",
      "execution_count": null,
      "metadata": {
        "id": "gGoHKJdLIrSy"
      },
      "outputs": [],
      "source": [
        "file_best_estimator_pipeline2_round1 = model_folder / 'pipeline2_round1_best_estimator.pkl'\n",
        "file_complete_grid_pipeline2_round1 = model_folder / 'pipeline2_round1_complete_grid.pkl'"
      ]
    },
    {
      "cell_type": "code",
      "execution_count": null,
      "metadata": {
        "colab": {
          "base_uri": "https://localhost:8080/"
        },
        "id": "fCRMLPVWIs1h",
        "outputId": "8f089a67-d3b6-49e8-b15f-f116b2333690"
      },
      "outputs": [
        {
          "data": {
            "text/plain": [
              "['/content/drive/MyDrive/colab_notebooks/nlp/models/HW3/pipeline2_round1_complete_grid.pkl']"
            ]
          },
          "execution_count": 41,
          "metadata": {},
          "output_type": "execute_result"
        }
      ],
      "source": [
        "joblib.dump(grid_classifier_2.best_estimator_, file_best_estimator_pipeline2_round1)\n",
        "joblib.dump(grid_classifier_2, file_complete_grid_pipeline2_round1)"
      ]
    },
    {
      "cell_type": "code",
      "execution_count": null,
      "metadata": {
        "id": "gnk8o5PSIuoc"
      },
      "outputs": [],
      "source": [
        "# load the saved model\n",
        "best_estimator_pipeline2_round1 = joblib.load(file_best_estimator_pipeline2_round1)\n",
        "complete_grid_pipeline2_round1 = joblib.load(file_complete_grid_pipeline2_round1)"
      ]
    },
    {
      "cell_type": "markdown",
      "metadata": {
        "id": "LktRgPZjE0_P"
      },
      "source": [
        "#### <font color='ember'> Plot Learning Curves"
      ]
    },
    {
      "cell_type": "code",
      "execution_count": null,
      "metadata": {
        "colab": {
          "base_uri": "https://localhost:8080/"
        },
        "id": "nSf86O0J1DuL",
        "outputId": "6a170c40-8181-49dd-ab2c-058f4ed79039"
      },
      "outputs": [
        {
          "data": {
            "text/plain": [
              "<module 'matplotlib.pyplot' from '/usr/local/lib/python3.8/dist-packages/matplotlib/pyplot.py'>"
            ]
          },
          "execution_count": 43,
          "metadata": {},
          "output_type": "execute_result"
        },
        {
          "data": {
            "image/png": "[encoded data removed]",
            "text/plain": [
              "<Figure size 1440x360 with 3 Axes>"
            ]
          },
          "metadata": {
            "needs_background": "light"
          },
          "output_type": "display_data"
        }
      ],
      "source": [
        "# plot learning curces\n",
        "plot_learning_curve(best_estimator_pipeline2_round1, 'Learning Curves',\n",
        "                    X_train_features, y_train, n_jobs=-1,scoring='f1_macro')"
      ]
    },
    {
      "cell_type": "markdown",
      "metadata": {
        "id": "1fY_w5i_E2Mj"
      },
      "source": [
        "#### <font color='ember'> Check Cross Validation and Train Score"
      ]
    },
    {
      "cell_type": "code",
      "execution_count": null,
      "metadata": {
        "colab": {
          "base_uri": "https://localhost:8080/"
        },
        "id": "n3awC-nM1Htn",
        "outputId": "05d3eea0-5968-4a01-a049-6d375a9fb8ce"
      },
      "outputs": [
        {
          "name": "stdout",
          "output_type": "stream",
          "text": [
            "0.9922879177377892\n",
            "0.9679313418157232\n"
          ]
        }
      ],
      "source": [
        "# let's check the train scores\n",
        "print(grid_classifier_2.best_estimator_.score(X_train_features, y_train))\n",
        "\n",
        "# let's check the cross validation score\n",
        "print(grid_classifier_2.best_score_)"
      ]
    },
    {
      "cell_type": "markdown",
      "metadata": {
        "id": "m1ujRIA1E2xG"
      },
      "source": [
        "#### <font color='ember'> Evaluate Model on Test Data"
      ]
    },
    {
      "cell_type": "code",
      "execution_count": null,
      "metadata": {
        "id": "yXggCcNz1O3f"
      },
      "outputs": [],
      "source": [
        "# Final Pipeline\n",
        "def final_pipeline(text):\n",
        "    features, feature_names = featurizer.fit_transform(text)\n",
        "    best_estimator_pipeline2_round1 = joblib.load(file_best_estimator_pipeline2_round1)\n",
        "    predictions = best_estimator_pipeline2_round1.predict(features)\n",
        "    return predictions"
      ]
    },
    {
      "cell_type": "code",
      "execution_count": null,
      "metadata": {
        "id": "k0ystZ5N1VbG"
      },
      "outputs": [],
      "source": [
        "# predicted values for Test data set\n",
        "y_test_pred = final_pipeline(X_test)"
      ]
    },
    {
      "cell_type": "markdown",
      "metadata": {
        "id": "HpK9ycHdE3go"
      },
      "source": [
        "#### <font color='ember'> Classification report for test dataset"
      ]
    },
    {
      "cell_type": "code",
      "execution_count": null,
      "metadata": {
        "colab": {
          "base_uri": "https://localhost:8080/"
        },
        "id": "k-BBGkmm1X78",
        "outputId": "55efb1be-1ab7-4a39-ad62-6327d041824b"
      },
      "outputs": [
        {
          "name": "stdout",
          "output_type": "stream",
          "text": [
            "\n",
            "Test set classification report:\n",
            "\n",
            "               precision    recall  f1-score   support\n",
            "\n",
            "           0       0.97      0.98      0.98       145\n",
            "           1       0.86      0.83      0.84        23\n",
            "\n",
            "    accuracy                           0.96       168\n",
            "   macro avg       0.92      0.90      0.91       168\n",
            "weighted avg       0.96      0.96      0.96       168\n",
            "\n"
          ]
        }
      ],
      "source": [
        "print('\\nTest set classification report:\\n\\n', \n",
        "      classification_report(y_test, y_test_pred))"
      ]
    },
    {
      "cell_type": "markdown",
      "metadata": {
        "id": "-uqBT3h82gJe"
      },
      "source": [
        "### <font color='skyblue'>Pipeline 3: Combine Manual Features and TfIDF Vectors"
      ]
    },
    {
      "cell_type": "markdown",
      "metadata": {
        "id": "Efygc7DRXNks"
      },
      "source": [
        "#### <font color='ember'> Combine Manual Features and TFIDF Features"
      ]
    },
    {
      "cell_type": "code",
      "execution_count": null,
      "metadata": {
        "id": "xoYM7VDwJlnU"
      },
      "outputs": [],
      "source": [
        "X_train_cleaned_sparse_embed = joblib.load(file_X_train_cleaned_sparse_embed)"
      ]
    },
    {
      "cell_type": "code",
      "execution_count": null,
      "metadata": {
        "id": "9fXVjuoh3bPJ"
      },
      "outputs": [],
      "source": [
        "X_train_final = pd.concat((pd.DataFrame(X_train_cleaned_sparse_embed, columns=['cleaned_text']),\n",
        "                           pd.DataFrame(X_train_features, columns=feature_names)), axis =1)"
      ]
    },
    {
      "cell_type": "code",
      "execution_count": null,
      "metadata": {
        "colab": {
          "base_uri": "https://localhost:8080/"
        },
        "id": "Ts4-UrvGVBZn",
        "outputId": "f9384360-8d2c-4953-8dc5-2a330831f36b"
      },
      "outputs": [
        {
          "data": {
            "text/html": [
              "\n",
              "  <div id=\"df-397cb906-f4d2-463a-bb05-33ed44ef1dbb\">\n",
              "    <div class=\"colab-df-container\">\n",
              "      <div>\n",
              "<style scoped>\n",
              "    .dataframe tbody tr th:only-of-type {\n",
              "        vertical-align: middle;\n",
              "    }\n",
              "\n",
              "    .dataframe tbody tr th {\n",
              "        vertical-align: top;\n",
              "    }\n",
              "\n",
              "    .dataframe thead th {\n",
              "        text-align: right;\n",
              "    }\n",
              "</style>\n",
              "<table border=\"1\" class=\"dataframe\">\n",
              "  <thead>\n",
              "    <tr style=\"text-align: right;\">\n",
              "      <th></th>\n",
              "      <th>cleaned_text</th>\n",
              "      <th>count_words</th>\n",
              "      <th>count_characters</th>\n",
              "      <th>count_characters_no_space</th>\n",
              "      <th>avg_word_length</th>\n",
              "      <th>count_digits</th>\n",
              "      <th>count_numbers</th>\n",
              "      <th>noun_count</th>\n",
              "      <th>aux_count</th>\n",
              "      <th>verb_count</th>\n",
              "      <th>adj_count</th>\n",
              "      <th>ner</th>\n",
              "    </tr>\n",
              "  </thead>\n",
              "  <tbody>\n",
              "    <tr>\n",
              "      <th>0</th>\n",
              "      <td>û r stayin extra week d. rugby weekend hi c u...</td>\n",
              "      <td>29.0</td>\n",
              "      <td>116.0</td>\n",
              "      <td>88.0</td>\n",
              "      <td>2.933333</td>\n",
              "      <td>0.0</td>\n",
              "      <td>0.0</td>\n",
              "      <td>3.0</td>\n",
              "      <td>10.0</td>\n",
              "      <td>1.0</td>\n",
              "      <td>3.0</td>\n",
              "      <td>1.0</td>\n",
              "    </tr>\n",
              "    <tr>\n",
              "      <th>1</th>\n",
              "      <td>weekend fine excuse decorate</td>\n",
              "      <td>12.0</td>\n",
              "      <td>60.0</td>\n",
              "      <td>49.0</td>\n",
              "      <td>3.769231</td>\n",
              "      <td>0.0</td>\n",
              "      <td>0.0</td>\n",
              "      <td>1.0</td>\n",
              "      <td>2.0</td>\n",
              "      <td>2.0</td>\n",
              "      <td>1.0</td>\n",
              "      <td>2.0</td>\n",
              "    </tr>\n",
              "    <tr>\n",
              "      <th>2</th>\n",
              "      <td>text82228 &gt; &gt; ringtone logo game question</td>\n",
              "      <td>10.0</td>\n",
              "      <td>57.0</td>\n",
              "      <td>48.0</td>\n",
              "      <td>4.363636</td>\n",
              "      <td>5.0</td>\n",
              "      <td>1.0</td>\n",
              "      <td>1.0</td>\n",
              "      <td>5.0</td>\n",
              "      <td>0.0</td>\n",
              "      <td>1.0</td>\n",
              "      <td>1.0</td>\n",
              "    </tr>\n",
              "    <tr>\n",
              "      <th>3</th>\n",
              "      <td>week savamob member offer accessible 087095015...</td>\n",
              "      <td>20.0</td>\n",
              "      <td>129.0</td>\n",
              "      <td>110.0</td>\n",
              "      <td>5.238095</td>\n",
              "      <td>19.0</td>\n",
              "      <td>6.0</td>\n",
              "      <td>7.0</td>\n",
              "      <td>12.0</td>\n",
              "      <td>1.0</td>\n",
              "      <td>2.0</td>\n",
              "      <td>1.0</td>\n",
              "    </tr>\n",
              "    <tr>\n",
              "      <th>4</th>\n",
              "      <td>auction round 4 high bid å£54 maximum bid å£71...</td>\n",
              "      <td>22.0</td>\n",
              "      <td>105.0</td>\n",
              "      <td>84.0</td>\n",
              "      <td>3.652174</td>\n",
              "      <td>14.0</td>\n",
              "      <td>6.0</td>\n",
              "      <td>3.0</td>\n",
              "      <td>9.0</td>\n",
              "      <td>2.0</td>\n",
              "      <td>3.0</td>\n",
              "      <td>5.0</td>\n",
              "    </tr>\n",
              "  </tbody>\n",
              "</table>\n",
              "</div>\n",
              "      <button class=\"colab-df-convert\" onclick=\"convertToInteractive('df-397cb906-f4d2-463a-bb05-33ed44ef1dbb')\"\n",
              "              title=\"Convert this dataframe to an interactive table.\"\n",
              "              style=\"display:none;\">\n",
              "        \n",
              "  <svg xmlns=\"http://www.w3.org/2000/svg\" height=\"24px\"viewBox=\"0 0 24 24\"\n",
              "       width=\"24px\">\n",
              "    <path d=\"M0 0h24v24H0V0z\" fill=\"none\"/>\n",
              "    <path d=\"M18.56 5.44l.94 2.06.94-2.06 2.06-.94-2.06-.94-.94-2.06-.94 2.06-2.06.94zm-11 1L8.5 8.5l.94-2.06 2.06-.94-2.06-.94L8.5 2.5l-.94 2.06-2.06.94zm10 10l.94 2.06.94-2.06 2.06-.94-2.06-.94-.94-2.06-.94 2.06-2.06.94z\"/><path d=\"M17.41 7.96l-1.37-1.37c-.4-.4-.92-.59-1.43-.59-.52 0-1.04.2-1.43.59L10.3 9.45l-7.72 7.72c-.78.78-.78 2.05 0 2.83L4 21.41c.39.39.9.59 1.41.59.51 0 1.02-.2 1.41-.59l7.78-7.78 2.81-2.81c.8-.78.8-2.07 0-2.86zM5.41 20L4 18.59l7.72-7.72 1.47 1.35L5.41 20z\"/>\n",
              "  </svg>\n",
              "      </button>\n",
              "      \n",
              "  <style>\n",
              "    .colab-df-container {\n",
              "      display:flex;\n",
              "      flex-wrap:wrap;\n",
              "      gap: 12px;\n",
              "    }\n",
              "\n",
              "    .colab-df-convert {\n",
              "      background-color: #E8F0FE;\n",
              "      border: none;\n",
              "      border-radius: 50%;\n",
              "      cursor: pointer;\n",
              "      display: none;\n",
              "      fill: #1967D2;\n",
              "      height: 32px;\n",
              "      padding: 0 0 0 0;\n",
              "      width: 32px;\n",
              "    }\n",
              "\n",
              "    .colab-df-convert:hover {\n",
              "      background-color: #E2EBFA;\n",
              "      box-shadow: 0px 1px 2px rgba(60, 64, 67, 0.3), 0px 1px 3px 1px rgba(60, 64, 67, 0.15);\n",
              "      fill: #174EA6;\n",
              "    }\n",
              "\n",
              "    [theme=dark] .colab-df-convert {\n",
              "      background-color: #3B4455;\n",
              "      fill: #D2E3FC;\n",
              "    }\n",
              "\n",
              "    [theme=dark] .colab-df-convert:hover {\n",
              "      background-color: #434B5C;\n",
              "      box-shadow: 0px 1px 3px 1px rgba(0, 0, 0, 0.15);\n",
              "      filter: drop-shadow(0px 1px 2px rgba(0, 0, 0, 0.3));\n",
              "      fill: #FFFFFF;\n",
              "    }\n",
              "  </style>\n",
              "\n",
              "      <script>\n",
              "        const buttonEl =\n",
              "          document.querySelector('#df-397cb906-f4d2-463a-bb05-33ed44ef1dbb button.colab-df-convert');\n",
              "        buttonEl.style.display =\n",
              "          google.colab.kernel.accessAllowed ? 'block' : 'none';\n",
              "\n",
              "        async function convertToInteractive(key) {\n",
              "          const element = document.querySelector('#df-397cb906-f4d2-463a-bb05-33ed44ef1dbb');\n",
              "          const dataTable =\n",
              "            await google.colab.kernel.invokeFunction('convertToInteractive',\n",
              "                                                     [key], {});\n",
              "          if (!dataTable) return;\n",
              "\n",
              "          const docLinkHtml = 'Like what you see? Visit the ' +\n",
              "            '<a target=\"_blank\" href=https://colab.research.google.com/notebooks/data_table.ipynb>data table notebook</a>'\n",
              "            + ' to learn more about interactive tables.';\n",
              "          element.innerHTML = '';\n",
              "          dataTable['output_type'] = 'display_data';\n",
              "          await google.colab.output.renderOutput(dataTable, element);\n",
              "          const docLink = document.createElement('div');\n",
              "          docLink.innerHTML = docLinkHtml;\n",
              "          element.appendChild(docLink);\n",
              "        }\n",
              "      </script>\n",
              "    </div>\n",
              "  </div>\n",
              "  "
            ],
            "text/plain": [
              "                                        cleaned_text  count_words  \\\n",
              "0  û r stayin extra week d. rugby weekend hi c u...         29.0   \n",
              "1                       weekend fine excuse decorate         12.0   \n",
              "2          text82228 > > ringtone logo game question         10.0   \n",
              "3  week savamob member offer accessible 087095015...         20.0   \n",
              "4  auction round 4 high bid å£54 maximum bid å£71...         22.0   \n",
              "\n",
              "   count_characters  count_characters_no_space  avg_word_length  count_digits  \\\n",
              "0             116.0                       88.0         2.933333           0.0   \n",
              "1              60.0                       49.0         3.769231           0.0   \n",
              "2              57.0                       48.0         4.363636           5.0   \n",
              "3             129.0                      110.0         5.238095          19.0   \n",
              "4             105.0                       84.0         3.652174          14.0   \n",
              "\n",
              "   count_numbers  noun_count  aux_count  verb_count  adj_count  ner  \n",
              "0            0.0         3.0       10.0         1.0        3.0  1.0  \n",
              "1            0.0         1.0        2.0         2.0        1.0  2.0  \n",
              "2            1.0         1.0        5.0         0.0        1.0  1.0  \n",
              "3            6.0         7.0       12.0         1.0        2.0  1.0  \n",
              "4            6.0         3.0        9.0         2.0        3.0  5.0  "
            ]
          },
          "execution_count": 50,
          "metadata": {},
          "output_type": "execute_result"
        }
      ],
      "source": [
        "X_train_final.head()"
      ]
    },
    {
      "cell_type": "code",
      "execution_count": null,
      "metadata": {
        "colab": {
          "base_uri": "https://localhost:8080/"
        },
        "id": "pi42H77pVHX1",
        "outputId": "29fd03c1-79b1-4fe5-a93d-d053f6c4c33f"
      },
      "outputs": [
        {
          "name": "stdout",
          "output_type": "stream",
          "text": [
            "<class 'pandas.core.frame.DataFrame'>\n",
            "RangeIndex: 389 entries, 0 to 388\n",
            "Data columns (total 12 columns):\n",
            " #   Column                     Non-Null Count  Dtype  \n",
            "---  ------                     --------------  -----  \n",
            " 0   cleaned_text               389 non-null    object \n",
            " 1   count_words                389 non-null    float64\n",
            " 2   count_characters           389 non-null    float64\n",
            " 3   count_characters_no_space  389 non-null    float64\n",
            " 4   avg_word_length            389 non-null    float64\n",
            " 5   count_digits               389 non-null    float64\n",
            " 6   count_numbers              389 non-null    float64\n",
            " 7   noun_count                 389 non-null    float64\n",
            " 8   aux_count                  389 non-null    float64\n",
            " 9   verb_count                 389 non-null    float64\n",
            " 10  adj_count                  389 non-null    float64\n",
            " 11  ner                        389 non-null    float64\n",
            "dtypes: float64(11), object(1)\n",
            "memory usage: 36.6+ KB\n"
          ]
        }
      ],
      "source": [
        "X_train_final.info()"
      ]
    },
    {
      "cell_type": "code",
      "execution_count": null,
      "metadata": {
        "id": "Uj6UJwBzVKrh"
      },
      "outputs": [],
      "source": [
        "subset = X_train_final[0:10]"
      ]
    },
    {
      "cell_type": "code",
      "execution_count": null,
      "metadata": {
        "colab": {
          "base_uri": "https://localhost:8080/"
        },
        "id": "f5j_iuJeVMQt",
        "outputId": "7a7a63da-772a-4f9a-eca8-7f8e371be219"
      },
      "outputs": [
        {
          "data": {
            "text/plain": [
              "(10, 12)"
            ]
          },
          "execution_count": 53,
          "metadata": {},
          "output_type": "execute_result"
        }
      ],
      "source": [
        "subset.shape"
      ]
    },
    {
      "cell_type": "code",
      "execution_count": null,
      "metadata": {
        "id": "XGsfI8z5VNp6"
      },
      "outputs": [],
      "source": [
        "class SparseTransformer(TransformerMixin, BaseEstimator):\n",
        "    def __init__(self):\n",
        "        pass\n",
        "\n",
        "    def fit(self, X, y=None):\n",
        "        return self\n",
        "\n",
        "    def transform(self, X, y=None):\n",
        "        return csr_matrix(X)"
      ]
    },
    {
      "cell_type": "code",
      "execution_count": null,
      "metadata": {
        "id": "wRZF9XviVPma"
      },
      "outputs": [],
      "source": [
        "sparse_features = Pipeline([('sparse', SparseTransformer()), ])\n",
        "''' \n",
        "we are testing with the following parameters:\n",
        "1. max_features: means that only the top 10 most frequent words will be considered\n",
        "2. n_grams: In this case would mean that both bi-grams and tri-grams will be considered\n",
        "3. lowercase: We specify that the words should not be changed to lowercase\n",
        "4. Token Pattern: this pattern matches 2 or more alphanumeric characters bounded by word boundaries\n",
        "'''\n",
        "vectorizer = Pipeline([('tfidf', TfidfVectorizer(max_features=10, ngram_range=(2, 3), lowercase=False, token_pattern=r'\\b\\w\\w+\\b')), ])"
      ]
    },
    {
      "cell_type": "code",
      "execution_count": null,
      "metadata": {
        "colab": {
          "base_uri": "https://localhost:8080/"
        },
        "id": "CLo1sPOXVSpA",
        "outputId": "4409b7ba-9140-4bc4-b847-d73bf88c394d"
      },
      "outputs": [
        {
          "data": {
            "text/plain": [
              "<10x11 sparse matrix of type '<class 'numpy.float64'>'\n",
              "\twith 88 stored elements in Compressed Sparse Row format>"
            ]
          },
          "execution_count": 56,
          "metadata": {},
          "output_type": "execute_result"
        }
      ],
      "source": [
        "sparse_features.fit_transform(subset.iloc[:, 1:])"
      ]
    },
    {
      "cell_type": "code",
      "execution_count": null,
      "metadata": {
        "colab": {
          "base_uri": "https://localhost:8080/"
        },
        "id": "UUvTLSkTVULP",
        "outputId": "d422b8e8-6c2b-4545-c647-c0e2bfc758b2"
      },
      "outputs": [
        {
          "data": {
            "text/plain": [
              "<10x10 sparse matrix of type '<class 'numpy.float64'>'\n",
              "\twith 10 stored elements in Compressed Sparse Row format>"
            ]
          },
          "execution_count": 57,
          "metadata": {},
          "output_type": "execute_result"
        }
      ],
      "source": [
        "vectorizer.fit_transform(subset.iloc[:, 0])"
      ]
    },
    {
      "cell_type": "code",
      "execution_count": null,
      "metadata": {
        "id": "AgRI5HbzVVp5"
      },
      "outputs": [],
      "source": [
        "combined_features = ColumnTransformer(\n",
        " transformers=[\n",
        "     ('tfidf', vectorizer, 'cleaned_text'),\n",
        "      ], remainder=sparse_features\n",
        "     )"
      ]
    },
    {
      "cell_type": "code",
      "execution_count": null,
      "metadata": {
        "id": "nIHzYJ64VXoO"
      },
      "outputs": [],
      "source": [
        "test = combined_features.fit_transform(subset)"
      ]
    },
    {
      "cell_type": "code",
      "execution_count": null,
      "metadata": {
        "colab": {
          "base_uri": "https://localhost:8080/"
        },
        "id": "o7n7jXA0VZEg",
        "outputId": "4b1972c2-c3b2-4539-aee5-49cd51ef5beb"
      },
      "outputs": [
        {
          "data": {
            "text/plain": [
              "dtype('float64')"
            ]
          },
          "execution_count": 60,
          "metadata": {},
          "output_type": "execute_result"
        }
      ],
      "source": [
        "test.dtype"
      ]
    },
    {
      "cell_type": "markdown",
      "metadata": {
        "id": "1y3y3najVc7X"
      },
      "source": [
        "#### <font color='ember'> Create Final Pipeline"
      ]
    },
    {
      "cell_type": "code",
      "execution_count": null,
      "metadata": {
        "id": "tBgPWDBSVcPI"
      },
      "outputs": [],
      "source": [
        "classifier_3 = Pipeline([('combined_features',  combined_features),\n",
        "                         ('classifier', LogisticRegression(max_iter=10000)),\n",
        "                        ])"
      ]
    },
    {
      "cell_type": "code",
      "execution_count": null,
      "metadata": {
        "colab": {
          "base_uri": "https://localhost:8080/"
        },
        "id": "d2olKUYUVlRq",
        "outputId": "ba2cde9d-da37-4967-d40d-09379475f583"
      },
      "outputs": [
        {
          "data": {
            "text/plain": [
              "dict_keys(['memory', 'steps', 'verbose', 'combined_features', 'classifier', 'combined_features__n_jobs', 'combined_features__remainder__memory', 'combined_features__remainder__steps', 'combined_features__remainder__verbose', 'combined_features__remainder__sparse', 'combined_features__remainder', 'combined_features__sparse_threshold', 'combined_features__transformer_weights', 'combined_features__transformers', 'combined_features__verbose', 'combined_features__verbose_feature_names_out', 'combined_features__tfidf', 'combined_features__tfidf__memory', 'combined_features__tfidf__steps', 'combined_features__tfidf__verbose', 'combined_features__tfidf__tfidf', 'combined_features__tfidf__tfidf__analyzer', 'combined_features__tfidf__tfidf__binary', 'combined_features__tfidf__tfidf__decode_error', 'combined_features__tfidf__tfidf__dtype', 'combined_features__tfidf__tfidf__encoding', 'combined_features__tfidf__tfidf__input', 'combined_features__tfidf__tfidf__lowercase', 'combined_features__tfidf__tfidf__max_df', 'combined_features__tfidf__tfidf__max_features', 'combined_features__tfidf__tfidf__min_df', 'combined_features__tfidf__tfidf__ngram_range', 'combined_features__tfidf__tfidf__norm', 'combined_features__tfidf__tfidf__preprocessor', 'combined_features__tfidf__tfidf__smooth_idf', 'combined_features__tfidf__tfidf__stop_words', 'combined_features__tfidf__tfidf__strip_accents', 'combined_features__tfidf__tfidf__sublinear_tf', 'combined_features__tfidf__tfidf__token_pattern', 'combined_features__tfidf__tfidf__tokenizer', 'combined_features__tfidf__tfidf__use_idf', 'combined_features__tfidf__tfidf__vocabulary', 'classifier__C', 'classifier__class_weight', 'classifier__dual', 'classifier__fit_intercept', 'classifier__intercept_scaling', 'classifier__l1_ratio', 'classifier__max_iter', 'classifier__multi_class', 'classifier__n_jobs', 'classifier__penalty', 'classifier__random_state', 'classifier__solver', 'classifier__tol', 'classifier__verbose', 'classifier__warm_start'])"
            ]
          },
          "execution_count": 62,
          "metadata": {},
          "output_type": "execute_result"
        }
      ],
      "source": [
        "classifier_3.get_params().keys()"
      ]
    },
    {
      "cell_type": "markdown",
      "metadata": {
        "id": "2TNnHPHgVnUR"
      },
      "source": [
        "#### <font color='ember'> Parameter Grid"
      ]
    },
    {
      "cell_type": "code",
      "execution_count": null,
      "metadata": {
        "id": "NeJ1maZGVuRt"
      },
      "outputs": [],
      "source": [
        "# We are exploring a small combination of parameters\n",
        "# If the search space is very large then we should use RandomSerachCV or some other methods\n",
        "\n",
        "param_grid_classifier_3 = {'combined_features__tfidf__tfidf__max_features': [500, 1000, 2000, 4000, 8000, 16000], \n",
        "                           'classifier__C': [0.01, 0.05, 0.1, 1, 10, 100, 1000, 10000,100000],\n",
        "                           'classifier__class_weight': [{0:1, 1: cw} for cw in [1,2,10,15,20,25,30]]\n",
        "                          }"
      ]
    },
    {
      "cell_type": "markdown",
      "metadata": {
        "id": "cd1RHj9hXh2s"
      },
      "source": [
        "#### <font color='ember'>Specify GridSearch"
      ]
    },
    {
      "cell_type": "code",
      "execution_count": null,
      "metadata": {
        "id": "7Fbjipv1XsND"
      },
      "outputs": [],
      "source": [
        "# We will now use Gridserach to find fine tune hyperparameters using cross validation\n",
        "# the typical value of cv used is 5. We are using 3, just for demonstration.\n",
        "\n",
        "grid_classifier_3 = RandomizedSearchCV(estimator=classifier_3, \n",
        "                                 param_distributions=param_grid_classifier_3,\n",
        "                                 cv=8, n_jobs=-1, scoring=['f1_macro', 'roc_auc'], refit='f1_macro')"
      ]
    },
    {
      "cell_type": "markdown",
      "metadata": {
        "id": "9h0SlXzdXuoI"
      },
      "source": [
        "#### <font color='ember'> Fit the Model"
      ]
    },
    {
      "cell_type": "code",
      "execution_count": null,
      "metadata": {
        "colab": {
          "base_uri": "https://localhost:8080/"
        },
        "id": "N-Ja-nYzXy_v",
        "outputId": "d0af84fe-a63a-4613-ee5a-6e8b909102df"
      },
      "outputs": [
        {
          "data": {
            "text/plain": [
              "RandomizedSearchCV(cv=8,\n",
              "                   estimator=Pipeline(steps=[('combined_features',\n",
              "                                              ColumnTransformer(remainder=Pipeline(steps=[('sparse',\n",
              "                                                                                           SparseTransformer())]),\n",
              "                                                                transformers=[('tfidf',\n",
              "                                                                               Pipeline(steps=[('tfidf',\n",
              "                                                                                                TfidfVectorizer(lowercase=False,\n",
              "                                                                                                                max_features=10,\n",
              "                                                                                                                ngram_range=(2,\n",
              "                                                                                                                             3),\n",
              "                                                                                                                token_pattern='\\\\b\\\\w\\\\w+\\\\b'))]),\n",
              "                                                                               'cleaned_text')])),\n",
              "                                             ('classifier',\n",
              "                                              LogisticRegression(max_iter=10000))]),\n",
              "                   n_jobs=-1,\n",
              "                   param_distributions={'classifier__C': [0.01, 0.05, 0.1, 1,\n",
              "                                                          10, 100, 1000, 10000,\n",
              "                                                          100000],\n",
              "                                        'classifier__class_weight': [{0: 1,\n",
              "                                                                      1: 1},\n",
              "                                                                     {0: 1,\n",
              "                                                                      1: 2},\n",
              "                                                                     {0: 1,\n",
              "                                                                      1: 10},\n",
              "                                                                     {0: 1,\n",
              "                                                                      1: 15},\n",
              "                                                                     {0: 1,\n",
              "                                                                      1: 20},\n",
              "                                                                     {0: 1,\n",
              "                                                                      1: 25},\n",
              "                                                                     {0: 1,\n",
              "                                                                      1: 30}],\n",
              "                                        'combined_features__tfidf__tfidf__max_features': [500,\n",
              "                                                                                          1000,\n",
              "                                                                                          2000,\n",
              "                                                                                          4000,\n",
              "                                                                                          8000,\n",
              "                                                                                          16000]},\n",
              "                   refit='f1_macro', scoring=['f1_macro', 'roc_auc'])"
            ]
          },
          "execution_count": 65,
          "metadata": {},
          "output_type": "execute_result"
        }
      ],
      "source": [
        "# Fit the model on training data\n",
        "grid_classifier_3.fit(X_train_final, y_train)"
      ]
    },
    {
      "cell_type": "markdown",
      "metadata": {
        "id": "5mpEdRBbX1ts"
      },
      "source": [
        "#### <font color='ember'>Get Best Parameters"
      ]
    },
    {
      "cell_type": "code",
      "execution_count": null,
      "metadata": {
        "colab": {
          "base_uri": "https://localhost:8080/"
        },
        "id": "RTd3YIhOX98r",
        "outputId": "98ffdce5-e344-4456-8271-75c9f6c801ec"
      },
      "outputs": [
        {
          "name": "stdout",
          "output_type": "stream",
          "text": [
            "Best cross-validation score: 0.97\n",
            "\n",
            "Best parameters:  {'combined_features__tfidf__tfidf__max_features': 16000, 'classifier__class_weight': {0: 1, 1: 10}, 'classifier__C': 1000}\n",
            "\n",
            "Best estimator:  Pipeline(steps=[('combined_features',\n",
            "                 ColumnTransformer(remainder=Pipeline(steps=[('sparse',\n",
            "                                                              SparseTransformer())]),\n",
            "                                   transformers=[('tfidf',\n",
            "                                                  Pipeline(steps=[('tfidf',\n",
            "                                                                   TfidfVectorizer(lowercase=False,\n",
            "                                                                                   max_features=16000,\n",
            "                                                                                   ngram_range=(2,\n",
            "                                                                                                3),\n",
            "                                                                                   token_pattern='\\\\b\\\\w\\\\w+\\\\b'))]),\n",
            "                                                  'cleaned_text')])),\n",
            "                ('classifier',\n",
            "                 LogisticRegression(C=1000, class_weight={0: 1, 1: 10},\n",
            "                                    max_iter=10000))])\n"
          ]
        }
      ],
      "source": [
        "print(\"Best cross-validation score: {:.2f}\".format(grid_classifier_3.best_score_))\n",
        "print(\"\\nBest parameters: \", grid_classifier_3.best_params_)\n",
        "print(\"\\nBest estimator: \", grid_classifier_3.best_estimator_)"
      ]
    },
    {
      "cell_type": "markdown",
      "metadata": {
        "id": "VwAXPQe-YLF2"
      },
      "source": [
        "#### <font color = 'ember'> Plot Learnning Curve"
      ]
    },
    {
      "cell_type": "code",
      "execution_count": null,
      "metadata": {
        "colab": {
          "base_uri": "https://localhost:8080/"
        },
        "id": "SvVqkWzhYKoy",
        "outputId": "6344405e-7f8d-4945-ecb4-d6275cea378a"
      },
      "outputs": [
        {
          "data": {
            "text/plain": [
              "<module 'matplotlib.pyplot' from '/usr/local/lib/python3.8/dist-packages/matplotlib/pyplot.py'>"
            ]
          },
          "execution_count": 67,
          "metadata": {},
          "output_type": "execute_result"
        },
        {
          "data": {
            "image/png": "[encoded data removed]",
            "text/plain": [
              "<Figure size 1440x360 with 3 Axes>"
            ]
          },
          "metadata": {
            "needs_background": "light"
          },
          "output_type": "display_data"
        }
      ],
      "source": [
        "# plot learning curces\n",
        "plot_learning_curve(grid_classifier_3.best_estimator_, 'Learning Curves',\n",
        "                    X_train_final, y_train, n_jobs=-1,scoring='f1_macro')"
      ]
    },
    {
      "cell_type": "markdown",
      "metadata": {
        "id": "wafLzS-JYt9e"
      },
      "source": [
        "#### <font color = 'ember'> Check Cross Validation Score and Train Score"
      ]
    },
    {
      "cell_type": "code",
      "execution_count": null,
      "metadata": {
        "colab": {
          "base_uri": "https://localhost:8080/"
        },
        "id": "GszBy3CdYtKR",
        "outputId": "96c54191-405d-45f2-955e-0c7035cda463"
      },
      "outputs": [
        {
          "name": "stdout",
          "output_type": "stream",
          "text": [
            "1.0\n",
            "0.9676862039166865\n"
          ]
        }
      ],
      "source": [
        "# let's check the train scores\n",
        "print(grid_classifier_3.best_estimator_.score(X_train_final, y_train))\n",
        "\n",
        "# let's check the cross validation score\n",
        "print(grid_classifier_3.best_score_)"
      ]
    },
    {
      "cell_type": "markdown",
      "metadata": {
        "id": "hobZcQznY4AW"
      },
      "source": [
        "#### <font color = 'ember'> Evaluate model on test data"
      ]
    },
    {
      "cell_type": "code",
      "execution_count": null,
      "metadata": {
        "colab": {
          "base_uri": "https://localhost:8080/"
        },
        "id": "EL6ITDH7Y2yX",
        "outputId": "b1437143-fe0d-463a-a6ad-90d8dcb5ae3f"
      },
      "outputs": [
        {
          "data": {
            "text/plain": [
              "(168,)"
            ]
          },
          "execution_count": 69,
          "metadata": {},
          "output_type": "execute_result"
        }
      ],
      "source": [
        "X_test.shape"
      ]
    },
    {
      "cell_type": "code",
      "execution_count": null,
      "metadata": {
        "id": "PizsE5fBZD-Y"
      },
      "outputs": [],
      "source": [
        "# Final Pipeline\n",
        "def final_pipeline(text):\n",
        "    X_test_cleaned = cp.SpacyPreprocessor(model='en_core_web_sm').transform(text)\n",
        "    X_features, feature_names = featurizer.fit_transform(text)\n",
        "    X_final = pd.concat((pd.DataFrame(X_test_cleaned, columns=['cleaned_text']),\n",
        "                         pd.DataFrame(X_features, columns=feature_names)), axis=1)\n",
        "    predictions = grid_classifier_3.best_estimator_.predict(X_final)\n",
        "    return predictions"
      ]
    },
    {
      "cell_type": "code",
      "execution_count": null,
      "metadata": {
        "id": "avZ-B9Q3ZGgp"
      },
      "outputs": [],
      "source": [
        "# predicted values for Test data set\n",
        "y_test_pred = final_pipeline(X_test)"
      ]
    },
    {
      "cell_type": "markdown",
      "metadata": {
        "id": "cL0ZicICNcuC"
      },
      "source": [
        "#### <font color='ember'> Classification Report"
      ]
    },
    {
      "cell_type": "code",
      "execution_count": null,
      "metadata": {
        "colab": {
          "base_uri": "https://localhost:8080/"
        },
        "id": "FNBW5uSKbECx",
        "outputId": "24b1dffd-711b-47ef-9c68-bef27e13d8ca"
      },
      "outputs": [
        {
          "name": "stdout",
          "output_type": "stream",
          "text": [
            "\n",
            "Test set classification report:\n",
            "\n",
            "               precision    recall  f1-score   support\n",
            "\n",
            "           0       0.97      0.99      0.98       145\n",
            "           1       0.90      0.83      0.86        23\n",
            "\n",
            "    accuracy                           0.96       168\n",
            "   macro avg       0.94      0.91      0.92       168\n",
            "weighted avg       0.96      0.96      0.96       168\n",
            "\n"
          ]
        }
      ],
      "source": [
        "print('\\nTest set classification report:\\n\\n', classification_report(y_test, y_test_pred))"
      ]
    },
    {
      "cell_type": "markdown",
      "metadata": {
        "id": "c9pb1adeUk_f"
      },
      "source": [
        "#### Based on the output of the three models we would choose model 3 as it has the highest f1 score amongst the 3 models and shows to have the highest precision thus reducing the number of false positives and showing a less chance of tagging emails as spam incorrectly. It also has a lower difference between the cross valdiation score and train score thus there seems to be a less chance of overfitting while in the case of model 1 there is a significant difference in cross validation score and train score which is indicative of overfitting "
      ]
    }
  ],
  "metadata": {
    "colab": {
      "collapsed_sections": [
        "SonQMXH9SW-F",
        "i48r2gkBThuW",
        "WnwETC_viCSS",
        "pNdWCViagO4F",
        "Z2G2vgmPd2qt",
        "iuTFiitW3IOa",
        "b5Ah0b6l5gX0",
        "Al4CXFQhDRl1",
        "W8aJuA71DhyQ",
        "2fTEvCgYDn3j",
        "Qc6tQ-kUD0I_",
        "Kpfss7pyGoUt",
        "xWVHNuxqitmb",
        "Nu6botBOEBt-",
        "e9XQV2wEEH6U",
        "56ZxF3oMElW4",
        "S0dbv2Wm0wQN",
        "ZdS8k7HqEzJD",
        "kHFE4EjCEzhp",
        "6D4Nlh25Ez6E",
        "BTwjW7uOE0fs",
        "yU_WS6C1Ikyl",
        "LktRgPZjE0_P",
        "1fY_w5i_E2Mj",
        "m1ujRIA1E2xG",
        "Efygc7DRXNks",
        "1y3y3najVc7X",
        "2TNnHPHgVnUR",
        "cd1RHj9hXh2s",
        "9h0SlXzdXuoI",
        "5mpEdRBbX1ts",
        "VwAXPQe-YLF2",
        "wafLzS-JYt9e",
        "hobZcQznY4AW",
        "cL0ZicICNcuC",
        "c9pb1adeUk_f",
        "PqPTPb0AsMP3"
      ],
      "provenance": []
    },
    "gpuClass": "standard",
    "kernelspec": {
      "display_name": "Python 3",
      "name": "python3"
    },
    "language_info": {
      "codemirror_mode": {
        "name": "ipython",
        "version": 3
      },
      "file_extension": ".py",
      "mimetype": "text/x-python",
      "name": "python",
      "nbconvert_exporter": "python",
      "pygments_lexer": "ipython3",
      "version": "3.9.13"
    }
  },
  "nbformat": 4,
  "nbformat_minor": 0
}
