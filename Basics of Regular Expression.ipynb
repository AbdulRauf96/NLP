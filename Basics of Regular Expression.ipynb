{
  "nbformat": 4,
  "nbformat_minor": 0,
  "metadata": {
    "colab": {
      "provenance": [],
      "include_colab_link": true
    },
    "kernelspec": {
      "display_name": "Python 3",
      "language": "python",
      "name": "python3"
    },
    "language_info": {
      "codemirror_mode": {
        "name": "ipython",
        "version": 3
      },
      "file_extension": ".py",
      "mimetype": "text/x-python",
      "name": "python",
      "nbconvert_exporter": "python",
      "pygments_lexer": "ipython3",
      "version": "3.8.5"
    }
  },
  "cells": [
    {
      "cell_type": "markdown",
      "metadata": {
        "id": "view-in-github",
        "colab_type": "text"
      },
      "source": [
        "<a href=\"https://colab.research.google.com/github/AbdulRauf96/NLP/blob/main/regular_expression_basics.ipynb\" target=\"_parent\"><img src=\"https://colab.research.google.com/assets/colab-badge.svg\" alt=\"Open In Colab\"/></a>"
      ]
    },
    {
      "cell_type": "markdown",
      "metadata": {
        "id": "YtUf2Cd31J_8"
      },
      "source": [
        "# <font color = 'pickle' > **Regular Expressions in Python**\n",
        "\n",
        "- A regular expression, or regex for short, is a pattern that describes a set of strings. \n",
        "- It is a powerful tool for text processing, and is widely used in many programming languages for tasks such as validating input, searching for patterns in strings, and manipulating text. \n",
        "- Regular expressions use a special syntax to define the pattern, which typically includes a combination of characters, special characters and metacharacters, and quantifiers. \n",
        "\n",
        "\n"
      ]
    },
    {
      "cell_type": "markdown",
      "source": [
        "# <font color = 'pickle' >**re module**\n",
        "The re module in Python is a module for working with regular expressions. \n",
        "\n",
        "The re module includes functions for searching for and manipulating text that matches a specified regular expression. \n",
        "\n",
        "Some of the most commonly used functions in the re module include:\n",
        "\n",
        "- re.match(): Attempts to match a regular expression pattern to the beginning of a string and returns a match object if the pattern is found.\n",
        "- re.search(): Searches for a specified regular expression pattern in a string and returns a match object if the pattern is found.\n",
        "- re.finditer(): Returns an iterator yielding match objects for every non-overlapping match in the string.\n",
        "- re.findall(): Returns all non-overlapping matches of a regular expression pattern in a string, as a list of strings.\n",
        "- re.sub(): Replaces all occurrences of a regular expression pattern in a string with a specified replacement string.\n",
        "- re.split(): Splits a string by a specified regular expression pattern.\n",
        "\n",
        "Overall, the re module provides a wide range of capabilities for working with regular expressions in Python and makes it easy to search for and manipulate text that matches a specified pattern.\n",
        "\n",
        "We will discuss these functions with examples in this notebook."
      ],
      "metadata": {
        "id": "7sNah8G6939U"
      }
    },
    {
      "cell_type": "markdown",
      "source": [
        "# <font color = 'pickle' >import re module"
      ],
      "metadata": {
        "id": "KHtQ2lo9t8Gl"
      }
    },
    {
      "cell_type": "code",
      "metadata": {
        "id": "w65YcZrUA1tT"
      },
      "source": [
        "import re"
      ],
      "execution_count": null,
      "outputs": []
    },
    {
      "cell_type": "markdown",
      "source": [
        "# <font color = 'pickle' > Sample Text"
      ],
      "metadata": {
        "id": "OY3jhFmfuF5s"
      }
    },
    {
      "cell_type": "code",
      "metadata": {
        "id": "f2pRVVOjO4dz"
      },
      "source": [
        "# Sample text for finding regex patterns\n",
        "full_text = \"\"\"This is a random file a-z and a_z\n",
        "Random text mixed with numbers\n",
        "Writing programs (or programming) is a very creative and rewarding activity.  computers are fun You can write and eat programs for 3036 reasons. Let us add some random numbers 2234 678 9 67 456. Do you like computers. art mat fat  Computer with capital case. Molly and mollies. Cat and dog\n",
        "organisation or organization\n",
        "\n",
        "List of Holidays - Republic Day, National Science Day, Independence day\n",
        "List of numbers and hyphens: 98166-94916 98794-41515\n",
        "List of telephone numbers: 562-489-1132 795-456-2615 951-964-4930\n",
        "List of URLs mixed with random text \n",
        "https://www.youtube.com some ransom text https://www.facebook.com  just having some fun http://www.baidu.com bla blah blah https://www.yahoo.com  more urls to have more fun https://www.amazon.com https://www.wikipedia.org\n",
        "https://docs.python.org/3/library/re.html\n",
        "List of tweet mentions : @jnardino @pilot @cairdin @Leora13\n",
        "List of Twitter Hashtags : #influencer #fridayfeelings #mondayblues #tbt\n",
        "\n",
        "List of Dates : 16-12-2006  xysb  26-09-2012  abcd 1-2-1995  ttt 1-12-2019 12-2-2024\n",
        "List of amounts: $10000 you never pay Rs 159,974 rat bat cat  is good Rs 300000 $300,000,000 more amount examples $200 only $200,00\n",
        "List of Names : Mr.Wade and  Mr.Seth are brothers. Mr Wade is married to Mrs.Deborah  and has daughter Miss.Sarah. Mr. Seth ismarried to  Mrs.Ashley\n",
        "\n",
        "Lits of countries and states \n",
        "USA-Texas US-Washington D.C. USA-California USA-Utah USA-Wyoming US-Washington\n",
        "\n",
        "List of emails : abc@xyz.com xwe_123_faf@fal.com asd.fgh@jklm.com dfgh.ajfb.2008@gmail.com\n",
        "List of executives mixed with random text: CEO Sundar random text CEO Jeff  12345 CEO Vikram  blah blah blah CFO Ram CTO Sam\n",
        "Small math Problem 45 + 55 =100\"\"\""
      ],
      "execution_count": null,
      "outputs": []
    },
    {
      "cell_type": "markdown",
      "source": [
        "# <font color = 'pickle'>**Functions of re module**"
      ],
      "metadata": {
        "id": "xcF8GtcUuXbm"
      }
    },
    {
      "cell_type": "markdown",
      "metadata": {
        "id": "mTo7BrfvA1th"
      },
      "source": [
        "## <font color = 'pickle' > **re.match()**\n",
        "re.match() is a function in the re module in Python that is used to search for a specific pattern in a string. It attempts to match the pattern to the beginning of the string, and returns a match object if it finds a match. The match object contains information about the match, such as the position of the match in the string and the group of characters that matched the pattern.\n",
        "\n",
        "The basic syntax for the re.match() function is:\n",
        "\n",
        "```re.match(pattern, string)```\n",
        "\n",
        "- pattern is the regular expression pattern that you want to search for\n",
        "- string is the string in which you want to search for the pattern\n",
        "\n",
        "If the match is successful, the function returns a match object. **If the match is not successful, the function returns None.**\n",
        "\n",
        "**It's worth noting that the match() function only matches the pattern at the beginning of the string** and if the match is not found it returns None. "
      ]
    },
    {
      "cell_type": "code",
      "metadata": {
        "_cell_guid": "b1076dfc-b9ad-4769-8c92-a6c4dae69d19",
        "_uuid": "8f2839f25d086af736a60e9eeb907d3b93b6e0e5",
        "colab": {
          "base_uri": "https://localhost:8080/"
        },
        "id": "x51ZeL5YA1tm",
        "scrolled": true,
        "outputId": "8d670150-fc2b-4639-f2c6-46786760d2bc"
      },
      "source": [
        "# Define the pattern we want to search for\n",
        "search_pattern = r\"This \"\n",
        "\n",
        "# Use the match() function to search for the pattern in the text\n",
        "# match() function attempts to match the pattern to the beginning of the string\n",
        "# and returns a match object if it finds a match\n",
        "# If no match is found, it will return None\n",
        "result = re.match(search_pattern, full_text)\n",
        "\n",
        "# Print the match object\n",
        "print(result)"
      ],
      "execution_count": null,
      "outputs": [
        {
          "output_type": "stream",
          "name": "stdout",
          "text": [
            "<re.Match object; span=(0, 5), match='This '>\n"
          ]
        }
      ]
    },
    {
      "cell_type": "markdown",
      "source": [
        "### <font color = 'pickle' > **group() method**\n",
        "\n",
        "The group() method, which is a function of the match object returned by the match() function in the re module, returns the matched string.\n",
        "\n",
        "**It's worth noting that if the match object was None, calling group() on it will raise an exception.** To check if the match was successful, you should check if the match object is None before calling the group() method."
      ],
      "metadata": {
        "id": "qk0hTiiN-Cgs"
      }
    },
    {
      "cell_type": "code",
      "metadata": {
        "colab": {
          "base_uri": "https://localhost:8080/"
        },
        "id": "2Cus5ariGmg6",
        "outputId": "67292834-016b-4e2e-ca36-b63cd4f329e7"
      },
      "source": [
        "print(result.group())"
      ],
      "execution_count": null,
      "outputs": [
        {
          "output_type": "stream",
          "name": "stdout",
          "text": [
            "This \n"
          ]
        }
      ]
    },
    {
      "cell_type": "markdown",
      "source": [
        "### <font color = 'pickle' > **start() and end() methods**"
      ],
      "metadata": {
        "id": "SerDKKjOrXOP"
      }
    },
    {
      "cell_type": "code",
      "source": [
        "# The code will return the start, end position of the matched string\n",
        "print(result.start())\n",
        "print(result.end())"
      ],
      "metadata": {
        "colab": {
          "base_uri": "https://localhost:8080/"
        },
        "id": "oGqvN3n_rgri",
        "outputId": "bce09cd5-0f9e-42e7-9bb0-cd75249428e1"
      },
      "execution_count": null,
      "outputs": [
        {
          "output_type": "stream",
          "name": "stdout",
          "text": [
            "0\n",
            "5\n"
          ]
        }
      ]
    },
    {
      "cell_type": "markdown",
      "source": [
        "### <font color = 'pickle' > **group(n) method**\n",
        "\n",
        "The group() method takes an optional parameter, n, that specifies the group to return. If n is not specified, group() returns the entire match. If the match has multiple groups, group(n) returns the nth group, where group 0 is the entire match, group 1 is the first group in the match, group 2 is the second group, and so on"
      ],
      "metadata": {
        "id": "U3w4BQC9DYYk"
      }
    },
    {
      "cell_type": "code",
      "metadata": {
        "id": "1hvbChN1A1tx"
      },
      "source": [
        "# pattern to search\n",
        "search_pattern = r\"([A-Z])(\\w+)\""
      ],
      "execution_count": null,
      "outputs": []
    },
    {
      "cell_type": "markdown",
      "source": [
        "The regular expression is composed of two parts:\n",
        "\n",
        "- ([A-Z]) is the first part of the regular expression. This part uses square brackets [] to define a character set, which matches any single character that is within the set. In this case, the set is defined as [A-Z], which matches any single capital letter. This part is also enclosed in parentheses () which creates a group.\n",
        "- (\\w+) is the second part of the regular expression. This part uses the special character \\w to match any word character (letters, digits, or underscores). The plus sign + following the \\w means that one or more word characters should be matched. This part is also enclosed in parentheses () which creates a group.\n",
        "\n",
        "When this regular expression is used to match a string, it looks for one capital letter, followed by one or more word characters."
      ],
      "metadata": {
        "id": "TSGbjZGYMWHr"
      }
    },
    {
      "cell_type": "code",
      "source": [
        "# The group(0) function returns the entire match, including all groups\n",
        "result = re.match(search_pattern, full_text).group(0)\n",
        "\n",
        "# Use the group(1) function to return the match of the first group\n",
        "result_2 = re.match(search_pattern,full_text).group(1)\n",
        "\n",
        "# Use the group(2) function to return the match of the second group\n",
        "result_3 = re.match(search_pattern,full_text).group(2)\n",
        "\n",
        "# print the results\n",
        "print('All matches: ',result,'\\nGroup 1: ',result_2,'\\nGroup 2: ',result_3)"
      ],
      "metadata": {
        "id": "x_tMkMY3H_5m",
        "colab": {
          "base_uri": "https://localhost:8080/"
        },
        "outputId": "6c53ae28-f8bc-4a8c-a76d-a26bfea7656c"
      },
      "execution_count": null,
      "outputs": [
        {
          "output_type": "stream",
          "name": "stdout",
          "text": [
            "All matches:  This \n",
            "Group 1:  T \n",
            "Group 2:  his\n"
          ]
        }
      ]
    },
    {
      "cell_type": "markdown",
      "source": [
        "### <font color = 'pickle' > **No match case**\n",
        "\n",
        "If the re.match() function is unable to find a match for the specified pattern in the given text, it returns None. In this case, if you try to call the group() method on the returned None value, it will raise an AttributeError, because None doesn't have a group() method."
      ],
      "metadata": {
        "id": "iTHJxKOlOvFf"
      }
    },
    {
      "cell_type": "code",
      "metadata": {
        "colab": {
          "base_uri": "https://localhost:8080/",
          "height": 217
        },
        "id": "E7jP27xLA1t6",
        "scrolled": true,
        "outputId": "ca7ba0d0-546a-492f-84f9-8fea930a5b10"
      },
      "source": [
        "# if there is no match then the output will be a None Type Object\n",
        "\n",
        "# pattern - this pattern will not match as it is not the same as the beginning of the sentence in text\n",
        "search_pattern = r\" This is\" # Contains whitespace in the beginning\n",
        "\n",
        "# Checking for match\n",
        "result = re.match(search_pattern, full_text)\n",
        "print(result)\n",
        "print(result.group())"
      ],
      "execution_count": null,
      "outputs": [
        {
          "output_type": "stream",
          "name": "stdout",
          "text": [
            "None\n"
          ]
        },
        {
          "output_type": "error",
          "ename": "AttributeError",
          "evalue": "ignored",
          "traceback": [
            "\u001b[0;31m---------------------------------------------------------------------------\u001b[0m",
            "\u001b[0;31mAttributeError\u001b[0m                            Traceback (most recent call last)",
            "\u001b[0;32m<ipython-input-8-8742565eb0c8>\u001b[0m in \u001b[0;36m<module>\u001b[0;34m\u001b[0m\n\u001b[1;32m      7\u001b[0m \u001b[0mresult\u001b[0m \u001b[0;34m=\u001b[0m \u001b[0mre\u001b[0m\u001b[0;34m.\u001b[0m\u001b[0mmatch\u001b[0m\u001b[0;34m(\u001b[0m\u001b[0msearch_pattern\u001b[0m\u001b[0;34m,\u001b[0m \u001b[0mfull_text\u001b[0m\u001b[0;34m)\u001b[0m\u001b[0;34m\u001b[0m\u001b[0;34m\u001b[0m\u001b[0m\n\u001b[1;32m      8\u001b[0m \u001b[0mprint\u001b[0m\u001b[0;34m(\u001b[0m\u001b[0mresult\u001b[0m\u001b[0;34m)\u001b[0m\u001b[0;34m\u001b[0m\u001b[0;34m\u001b[0m\u001b[0m\n\u001b[0;32m----> 9\u001b[0;31m \u001b[0mprint\u001b[0m\u001b[0;34m(\u001b[0m\u001b[0mresult\u001b[0m\u001b[0;34m.\u001b[0m\u001b[0mgroup\u001b[0m\u001b[0;34m(\u001b[0m\u001b[0;34m)\u001b[0m\u001b[0;34m)\u001b[0m\u001b[0;34m\u001b[0m\u001b[0;34m\u001b[0m\u001b[0m\n\u001b[0m",
            "\u001b[0;31mAttributeError\u001b[0m: 'NoneType' object has no attribute 'group'"
          ]
        }
      ]
    },
    {
      "cell_type": "markdown",
      "source": [
        "### <font color = 'pickle' > **use try-except block to handle attribute error**"
      ],
      "metadata": {
        "id": "QAh_GPVrPDpX"
      }
    },
    {
      "cell_type": "code",
      "source": [
        "# Define the search pattern to look for at the beginning of the text\n",
        "search_pattern = r\" This is\" # this pattern will not match as it is not in the beginning of a sentence\n",
        "\n",
        "try:\n",
        "    # Use the match() function to check if the search pattern is found at the beginning of the full text\n",
        "    result = re.match(search_pattern, full_text)\n",
        "    \n",
        "    # Extracting the matched substring using group()\n",
        "    matched_substring = result.group()\n",
        "    print(matched_substring)\n",
        "\n",
        "# If the match() function returns None, an AttributeError is raised when trying to call the group() method\n",
        "except AttributeError:\n",
        "    # Print an error message if the substring is not found at the beginning of the sentence\n",
        "    print(\"substring not found at the beginning of sentence\")"
      ],
      "metadata": {
        "id": "YRraawYDubU3",
        "colab": {
          "base_uri": "https://localhost:8080/"
        },
        "outputId": "8133b168-abd9-4800-a335-795a7aae8618"
      },
      "execution_count": null,
      "outputs": [
        {
          "output_type": "stream",
          "name": "stdout",
          "text": [
            "substring not found at the beginning of sentence\n"
          ]
        }
      ]
    },
    {
      "cell_type": "markdown",
      "source": [
        "Explanation of the above code:\n",
        "\n",
        "- The try block of the code calls the re.match() function and assigns the result to the variable result. If the re.match() function returns None, an AttributeError is raised when trying to call the group() method on the result variable.\n",
        "\n",
        "- The except block of the code catches the AttributeError and prints an error message \"substring not found at the beginning of sentence\" if the re.match() function returns None.\n",
        "\n",
        "- The matched_substring variable is defined as the group() method of the result variable, which returns the matched substring. If the re.match() function returns None, the matched_substring variable is not defined and an AttributeError will be raised.\n",
        "\n",
        "- Since the search_pattern doesn't match in the full_text, the re.match() function will return None and the code will print \"substring not found at the beginning of sentence\"."
      ],
      "metadata": {
        "id": "M5a3v-bBQd1n"
      }
    },
    {
      "cell_type": "markdown",
      "metadata": {
        "id": "6Yn2DE-EA1uE"
      },
      "source": [
        "## <font color = 'pickle' >**re.search()**\n",
        "- re.match() function only searches for a pattern at the beginning of a string. If the pattern is found, it returns a match object, otherwise it returns None.\n",
        "\n",
        "- re.search(), on the other hand, searches for a pattern anywhere in the string. It returns the first occurrence of the pattern in the string as a match object, or None if the pattern is not found."
      ]
    },
    {
      "cell_type": "code",
      "metadata": {
        "_cell_guid": "79c7e3d0-c299-4dcb-8224-4455121ee9b0",
        "_uuid": "d629ff2d2480ee46fbb7e2d37f6b5fab8052498a",
        "colab": {
          "base_uri": "https://localhost:8080/"
        },
        "id": "XKpgamKVA1uF",
        "outputId": "399e63e8-471d-4640-812b-cb86c95a5e18"
      },
      "source": [
        "# Define the search pattern to look for in the text\n",
        "search_pattern = r\"random\"\n",
        "\n",
        "# Use the search() function to find the first occurrence of the substring\n",
        "result = re.search(search_pattern, full_text)\n",
        "\n",
        "# Print the match object\n",
        "print(result)"
      ],
      "execution_count": null,
      "outputs": [
        {
          "output_type": "stream",
          "name": "stdout",
          "text": [
            "<re.Match object; span=(10, 16), match='random'>\n"
          ]
        }
      ]
    },
    {
      "cell_type": "markdown",
      "source": [
        "### <font color = 'pickle' > **group method**"
      ],
      "metadata": {
        "id": "7Jj-ATaNSMGS"
      }
    },
    {
      "cell_type": "code",
      "metadata": {
        "id": "ldnqMaHVA1uN",
        "colab": {
          "base_uri": "https://localhost:8080/"
        },
        "outputId": "56439c0a-2d3c-4efe-83d9-a11f2116cbe9"
      },
      "source": [
        "# We will need to use .group() to extract text\n",
        "# Works exactly the same as the .group() method for .match() method.\n",
        "# This also returns None if no match is found\n",
        "\n",
        "# Define the search pattern to look for in the text\n",
        "search_pattern = r\"random\"\n",
        "\n",
        "try:\n",
        "    # Use the search() function to find the first occurrence of the substring\n",
        "    result = re.search(search_pattern, full_text)\n",
        "    \n",
        "    # Extracting the matched substring using group()\n",
        "    matched_substring = result.group()\n",
        "    print(matched_substring)\n",
        "\n",
        "# If the search() function returns None, an AttributeError is raised when trying to call the group() method\n",
        "except AttributeError:\n",
        "    # Print an error message if the substring is not found anywhere in the text\n",
        "    print(\"substring not found anywhere in the text\")"
      ],
      "execution_count": null,
      "outputs": [
        {
          "output_type": "stream",
          "name": "stdout",
          "text": [
            "random\n"
          ]
        }
      ]
    },
    {
      "cell_type": "markdown",
      "metadata": {
        "id": "5938aTk1A1uV"
      },
      "source": [
        "## <font color = 'pickle' >**re.findall()**</font>\n",
        "re.findall() is a function in Python's re module that is used to find all non-overlapping occurrences of a pattern in a string. It returns a list of strings that contain all matches of the pattern.\n",
        "\n",
        "The re.findall() function takes two arguments:\n",
        "\n",
        "1. pattern: This is the regular expression pattern to search for. It can be a string or a compiled regular expression object.\n",
        "\n",
        "2. string: This is the string to search in. It should be a string type."
      ]
    },
    {
      "cell_type": "markdown",
      "source": [
        "### <font color = 'pickle' > Example 1 - find all occurences  of a word"
      ],
      "metadata": {
        "id": "DdAmhCgxToOU"
      }
    },
    {
      "cell_type": "code",
      "metadata": {
        "_uuid": "d855bf8d6fe5b798eb03bb768b6ebc5b897a8d8d",
        "id": "7DZgJFyuA1uX",
        "scrolled": true,
        "colab": {
          "base_uri": "https://localhost:8080/"
        },
        "outputId": "0a1a4bf3-2368-4b8e-cf6a-e8cbe501ae0a"
      },
      "source": [
        "# Define the search pattern to look for in the text\n",
        "search_pattern = r\"random\"\n",
        "\n",
        "# Use the findall() function to find all non-overlapping occurrences of the substring\n",
        "result = re.findall(search_pattern, full_text)\n",
        "\n",
        "# Print the list of all matches\n",
        "print(result)"
      ],
      "execution_count": null,
      "outputs": [
        {
          "output_type": "stream",
          "name": "stdout",
          "text": [
            "['random', 'random', 'random', 'random', 'random']\n"
          ]
        }
      ]
    },
    {
      "cell_type": "markdown",
      "source": [
        "### <font color = 'pickle' > Example 2 - find all dates"
      ],
      "metadata": {
        "id": "SPiQSWTpT19C"
      }
    },
    {
      "cell_type": "code",
      "metadata": {
        "_uuid": "0174d065ea3d943f1e07ce2a8bb3054de73f246e",
        "id": "OpMfeQRPA1ud",
        "colab": {
          "base_uri": "https://localhost:8080/"
        },
        "outputId": "af9f684f-7636-451a-f74a-3f074a2df90e"
      },
      "source": [
        "# Define the search pattern to look for in the text\n",
        "search_pattern = r'\\d{1,2}-\\d{1,2}-\\d{4}'\n",
        "\n",
        "# Use the findall() function to find all non-overlapping occurrences of the substring\n",
        "result = re.findall(search_pattern, full_text)\n",
        "\n",
        "# Print the list of all matches\n",
        "print(result)"
      ],
      "execution_count": null,
      "outputs": [
        {
          "output_type": "stream",
          "name": "stdout",
          "text": [
            "['16-12-2006', '26-09-2012', '1-2-1995', '1-12-2019', '12-2-2024']\n"
          ]
        }
      ]
    },
    {
      "cell_type": "markdown",
      "source": [
        "- This code uses the re module in Python to search for a specific pattern in a given text, full_text. The re.findall() function is used to search for all non-overlapping occurrences of the pattern in the full_text string.\n",
        "\n",
        "- The search_pattern variable is defined as the regular expression ```r'\\d{1,2}-\\d{1,2}-\\d{4}'``` which will match all occurrences of the pattern of 1 or 2 digits, followed by a hyphen, followed by 1 or 2 digits, followed by a hyphen, followed by 4 digits.\n",
        "\n",
        "- This pattern is used to search for dates in the format of dd-mm-yyyy or d-m-yyyy.\n",
        "\n",
        "- The result variable is set to the value of re.findall(search_pattern, full_text) which finds all non-overlapping occurrences of the substring in the text and returns a list of strings containing the matched substrings. If the substring is not found, it returns an empty list.\n",
        "\n",
        "In summary, this code uses the re.findall() function to search for all non-overlapping occurrences of a pattern of dates in the format of dd-mm-yyyy or d-m-yyyy in a string and returns a list of all matched substrings."
      ],
      "metadata": {
        "id": "JVpEl2lQUrQs"
      }
    },
    {
      "cell_type": "markdown",
      "metadata": {
        "id": "UbIaQpWmA1uk"
      },
      "source": [
        "## <font color = 'pickle' >**re.finditer()** \n",
        "re.finditer() is a function in the python re (regular expression) module. It returns an iterator yielding match objects for all non-overlapping matches of the given pattern in the string.\n",
        "\n",
        "The function takes two arguments:\n",
        "\n",
        "- The first argument is the regular expression pattern that you want to search for.\n",
        "- The second argument is the string in which you want to search for the pattern.\n",
        "\n",
        "The returned iterator object can be used in a for loop to iterate over all the matches, with each iteration returning a match object that contains information about the match, such as the start and end position of the match within the string.\n",
        "\n",
        "One of the key benefits of using finditer() over the findall() function is that it returns match objects instead of just strings. These match objects contain additional information about the match, such as the start and end positions of the match within the string, which can be useful in certain scenarios."
      ]
    },
    {
      "cell_type": "code",
      "metadata": {
        "colab": {
          "base_uri": "https://localhost:8080/"
        },
        "id": "Ml0mr66_A1um",
        "outputId": "e6b1030b-b804-4fdc-dfce-72e3ad1f7399"
      },
      "source": [
        "text = 'Computer Science is the study of computers and computational systems. Computer engineers design and build computer systems.'\n",
        "\n",
        "search_pattern = r\"computer\"\n",
        "\n",
        "# Using finditer to get the matches\n",
        "matches = re.finditer(search_pattern, text, re.IGNORECASE)\n",
        "\n",
        "# Iterating over the matches\n",
        "for match in matches:\n",
        "    print(f\"Matched word: {match.group()}\")\n",
        "    print(f\"Start index: {match.start()}\")\n",
        "    print(f\"End index: {match.end()}\")\n",
        "    print()"
      ],
      "execution_count": null,
      "outputs": [
        {
          "output_type": "stream",
          "name": "stdout",
          "text": [
            "Matched word: Computer\n",
            "Start index: 0\n",
            "End index: 8\n",
            "\n",
            "Matched word: computer\n",
            "Start index: 33\n",
            "End index: 41\n",
            "\n",
            "Matched word: Computer\n",
            "Start index: 70\n",
            "End index: 78\n",
            "\n",
            "Matched word: computer\n",
            "Start index: 106\n",
            "End index: 114\n",
            "\n"
          ]
        }
      ]
    },
    {
      "cell_type": "markdown",
      "source": [
        "Code Explanation:\n",
        "- In this example, finditer() is used to search for the word \"computer\" (ignoring the case of the word) in the text variable. \n",
        "- The group() method is used to extract the matched word, start() returns the start index and end() returns the end index of the matched word.\n",
        "\n",
        "As you can see, finditer() allows you to access additional information about the matches such as the start and end position of the matched string in the text which can be useful in different situations where you need to extract information from a text and process them."
      ],
      "metadata": {
        "id": "IKLploo1dpgO"
      }
    },
    {
      "cell_type": "markdown",
      "metadata": {
        "id": "l4ZatWPxA1us"
      },
      "source": [
        "## <font color = 'pickle' >**re.sub()** \n",
        "re.sub() is a function in the python re (regular expression) module that replaces all occurrences of a regular expression pattern in a string with a specified replacement string.\n",
        "\n",
        "The function takes three arguments:\n",
        "\n",
        "- The first argument is the regular expression pattern that you want to search for.\n",
        "- The second argument is the replacement string.\n",
        "- The third argument is the string in which you want to search for the pattern.\n"
      ]
    },
    {
      "cell_type": "code",
      "metadata": {
        "_uuid": "33fbc134ce0f031a1edad8ceb7cb1f59b5054c63",
        "colab": {
          "base_uri": "https://localhost:8080/"
        },
        "id": "TUyGHQMOA1ut",
        "outputId": "78033864-282a-4dae-b7ec-c2c0e29ec99b"
      },
      "source": [
        "text = \"hello world, hello everyone\"\n",
        "search_pattern = \"hello\"\n",
        "new_text = re.sub(search_pattern, \"hi\", text)\n",
        "print(new_text)"
      ],
      "execution_count": null,
      "outputs": [
        {
          "output_type": "stream",
          "name": "stdout",
          "text": [
            "hi world, hi everyone\n"
          ]
        }
      ]
    },
    {
      "cell_type": "markdown",
      "source": [
        "In this example, the function is searching for the pattern \"hello\" in the string \"hello world, hello everyone\" and replaces all occurrences of the pattern with the string \"hi\" and returns the modified string \"hi world, hi everyone\"."
      ],
      "metadata": {
        "id": "CRW2rBlse1zV"
      }
    },
    {
      "cell_type": "markdown",
      "source": [
        "re.sub() is useful when you want to replace all occurrences of a pattern in a string with a specified replacement string, and <font color = 'red'>**you can also use it to remove certain parts of the string**.</font> For example, you might use re.sub() to remove all the numbers from a string by replacing them with an empty string."
      ],
      "metadata": {
        "id": "Q_AB9TlSfFPt"
      }
    },
    {
      "cell_type": "code",
      "source": [
        "text = \"hello 1234 world 5678\"\n",
        "search_pattern = \"[0-9]+\"\n",
        "new_text = re.sub(search_pattern, \"\", text)\n",
        "print(new_text)"
      ],
      "metadata": {
        "colab": {
          "base_uri": "https://localhost:8080/"
        },
        "id": "TTxWf2OvfXCZ",
        "outputId": "20afc2d1-0bc3-44de-8636-eb5b7544b007"
      },
      "execution_count": null,
      "outputs": [
        {
          "output_type": "stream",
          "name": "stdout",
          "text": [
            "hello  world \n"
          ]
        }
      ]
    },
    {
      "cell_type": "markdown",
      "source": [
        "In this example, the regular expression pattern [0-9]+ searches for one or more consecutive digits and replaces them with an empty string, effectively removing all the numbers from the text.\n",
        "\n"
      ],
      "metadata": {
        "id": "YWeRApuEfci3"
      }
    },
    {
      "cell_type": "markdown",
      "metadata": {
        "id": "_bWP1kRFA1uz"
      },
      "source": [
        "## <font color = 'pickle' >**re.split()**\n",
        "\n",
        "re.split() is a function in the python re (regular expression) module that splits a string into a list of substrings by using a specified regular expression pattern as the delimiter.\n",
        "\n",
        "The function takes two arguments:\n",
        "\n",
        "- The first argument is the regular expression pattern that you want to use as the delimiter.\n",
        "- The second argument is the string that you want to split.\n",
        "\n",
        "re.split() can be useful when you want to quickly split a string into a list of substrings based on a specified delimiter, and it's an alternative to string method str.split() which only splits on a specified string, not regular expression."
      ]
    },
    {
      "cell_type": "markdown",
      "source": [
        "### <font color = 'pickle' >Example 1 : Split using comma as delimiter"
      ],
      "metadata": {
        "id": "sL40PkBYgTOA"
      }
    },
    {
      "cell_type": "code",
      "source": [
        "text = \"hello,world,how,are,you\"\n",
        "search_pattern = \",\"\n",
        "result = re.split(search_pattern, text)\n",
        "print(result)"
      ],
      "metadata": {
        "colab": {
          "base_uri": "https://localhost:8080/"
        },
        "id": "1VbW3zO0f0fg",
        "outputId": "474c6b87-4af4-4405-af5b-f8a0af0ccad2"
      },
      "execution_count": null,
      "outputs": [
        {
          "output_type": "stream",
          "name": "stdout",
          "text": [
            "['hello', 'world', 'how', 'are', 'you']\n"
          ]
        }
      ]
    },
    {
      "cell_type": "markdown",
      "source": [
        "In this example, the function is using the regular expression pattern \",\" as the delimiter to split the string \"hello,world,how,are,you\" into a list of substrings ['hello', 'world', 'how', 'are', 'you']."
      ],
      "metadata": {
        "id": "NJCtWXrjf5Uq"
      }
    },
    {
      "cell_type": "markdown",
      "source": [
        "### <font color = 'pickle' >Example 1 : Create tokens which have only alpha numeric characters"
      ],
      "metadata": {
        "id": "Qhvr6lVKg1Ua"
      }
    },
    {
      "cell_type": "code",
      "metadata": {
        "_uuid": "3c9c19a5a0c97d11d81c5eb0f27f19966f92c263",
        "id": "frzMC9RSA1u0",
        "colab": {
          "base_uri": "https://localhost:8080/"
        },
        "outputId": "48c02317-404d-4c45-ad35-d358f4e2e86c"
      },
      "source": [
        "text = 'This is a random file a-z and a_z. Can you help?'\n",
        "re.split(r'[^\\w]+',text)\n",
        "\n"
      ],
      "execution_count": null,
      "outputs": [
        {
          "output_type": "execute_result",
          "data": {
            "text/plain": [
              "['This',\n",
              " 'is',\n",
              " 'a',\n",
              " 'random',\n",
              " 'file',\n",
              " 'a',\n",
              " 'z',\n",
              " 'and',\n",
              " 'a_z',\n",
              " 'Can',\n",
              " 'you',\n",
              " 'help',\n",
              " '']"
            ]
          },
          "metadata": {},
          "execution_count": 18
        }
      ]
    },
    {
      "cell_type": "markdown",
      "source": [
        "In the code, ```re.split(r'[^\\w]+', text)``` is used to create a list of tokens (substrings) from the text variable by splitting it at every occurrence of one or more non-word characters (anything that is not a letter, digit, or underscore).\n",
        "\n",
        "Here's what happens :\n",
        "- The regular expression pattern r'[^\\w]+' is used as the delimiter for the split function\n",
        "- regular expression matches one or more non-word characters (anything that is not a letter, digit, or underscore). Thus, in this example any non-alpha numeric character is delimiter.\n",
        "- re.split() function is used to split the text variable at each occurrence of the delimiter\n",
        "- The resulting list of substrings is then assigned to the variable result.\n",
        "- Note that delimiters are not part of the list of substrings and are thus removed.\n",
        "\n",
        "Summary: The resulting list of substrings contains only tokens that are composed of alphanumeric characters because the regular expression pattern r'[^\\w]+' is used to split the text at every occurrence of non-word characters, thus removing any non-alphanumeric characters from the resulting list of tokens.\n",
        "\n",
        "<font color = 'red'>Note:In the above example, the hyphen (-) in 'a-z' is considered a non-word character and is used as a delimiter. As a result, 'a-z' is split into two separate tokens: 'a' and 'z'. On the other hand, the underscore (_) in 'a_z' is considered a word character and is not used as a delimiter. Therefore, 'a_z' appears as a single token.\n",
        "\n"
      ],
      "metadata": {
        "id": "tBJw1jfphXDb"
      }
    }
  ]
}